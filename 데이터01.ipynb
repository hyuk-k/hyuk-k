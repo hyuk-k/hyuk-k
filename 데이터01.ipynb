{
  "nbformat": 4,
  "nbformat_minor": 0,
  "metadata": {
    "colab": {
      "name": "데이터01.ipynb",
      "provenance": [],
      "collapsed_sections": [],
      "authorship_tag": "ABX9TyPORo+MXgWxyV7tgoZRNyCS",
      "include_colab_link": true
    },
    "kernelspec": {
      "name": "python3",
      "display_name": "Python 3"
    },
    "language_info": {
      "name": "python"
    }
  },
  "cells": [
    {
      "cell_type": "markdown",
      "metadata": {
        "id": "view-in-github",
        "colab_type": "text"
      },
      "source": [
        "<a href=\"https://colab.research.google.com/github/hyuk-k/hyuk-k/blob/main/%EB%8D%B0%EC%9D%B4%ED%84%B001.ipynb\" target=\"_parent\"><img src=\"https://colab.research.google.com/assets/colab-badge.svg\" alt=\"Open In Colab\"/></a>"
      ]
    },
    {
      "cell_type": "code",
      "metadata": {
        "id": "hPnLCOzLkohB"
      },
      "source": [
        ""
      ],
      "execution_count": null,
      "outputs": []
    },
    {
      "cell_type": "markdown",
      "metadata": {
        "id": "Ww0Rp8wGkrwV"
      },
      "source": [
        "# 데이터\n",
        "## 데이터\n",
        "- 데이터 분석 (구조, 타입, null, nun)\n",
        "\n",
        "- 표 데이터 처리에 특화된 통계분석 라이브러리 pandas"
      ]
    },
    {
      "cell_type": "code",
      "metadata": {
        "id": "1Cqp-XUzmDla"
      },
      "source": [
        "import pandas as pd # pandas를 pd라는 이름으로 임포트"
      ],
      "execution_count": null,
      "outputs": []
    },
    {
      "cell_type": "markdown",
      "metadata": {
        "id": "_KYS9BBbme5z"
      },
      "source": [
        "- read_csv 함수 사용\n",
        "- 체력 테스트 결과를 담은 csv파일을 읽어드림"
      ]
    },
    {
      "cell_type": "code",
      "metadata": {
        "colab": {
          "base_uri": "https://localhost:8080/",
          "height": 390
        },
        "id": "6o3Vw4RTmLp8",
        "outputId": "4f7ea850-a753-47e6-8bf4-bc4b06d95446"
      },
      "source": [
        "# 학생번호를 인덱스로 csv 파일을 읽어들여, 변수 df에 저장\n",
        "df = pd.read_csv('sport_test.csv',\n",
        "                 index_col='학생번호')\n",
        "\n",
        "# 변수 df를 표시\n",
        "df"
      ],
      "execution_count": null,
      "outputs": [
        {
          "output_type": "execute_result",
          "data": {
            "text/html": [
              "<div>\n",
              "<style scoped>\n",
              "    .dataframe tbody tr th:only-of-type {\n",
              "        vertical-align: middle;\n",
              "    }\n",
              "\n",
              "    .dataframe tbody tr th {\n",
              "        vertical-align: top;\n",
              "    }\n",
              "\n",
              "    .dataframe thead th {\n",
              "        text-align: right;\n",
              "    }\n",
              "</style>\n",
              "<table border=\"1\" class=\"dataframe\">\n",
              "  <thead>\n",
              "    <tr style=\"text-align: right;\">\n",
              "      <th></th>\n",
              "      <th>학년</th>\n",
              "      <th>악력</th>\n",
              "      <th>윗몸일으키기</th>\n",
              "      <th>점수</th>\n",
              "      <th>순위</th>\n",
              "    </tr>\n",
              "    <tr>\n",
              "      <th>학생번호</th>\n",
              "      <th></th>\n",
              "      <th></th>\n",
              "      <th></th>\n",
              "      <th></th>\n",
              "      <th></th>\n",
              "    </tr>\n",
              "  </thead>\n",
              "  <tbody>\n",
              "    <tr>\n",
              "      <th>1</th>\n",
              "      <td>1</td>\n",
              "      <td>40.2</td>\n",
              "      <td>34</td>\n",
              "      <td>15</td>\n",
              "      <td>4</td>\n",
              "    </tr>\n",
              "    <tr>\n",
              "      <th>2</th>\n",
              "      <td>1</td>\n",
              "      <td>34.2</td>\n",
              "      <td>14</td>\n",
              "      <td>7</td>\n",
              "      <td>10</td>\n",
              "    </tr>\n",
              "    <tr>\n",
              "      <th>3</th>\n",
              "      <td>1</td>\n",
              "      <td>28.8</td>\n",
              "      <td>27</td>\n",
              "      <td>11</td>\n",
              "      <td>7</td>\n",
              "    </tr>\n",
              "    <tr>\n",
              "      <th>4</th>\n",
              "      <td>2</td>\n",
              "      <td>39.0</td>\n",
              "      <td>27</td>\n",
              "      <td>14</td>\n",
              "      <td>5</td>\n",
              "    </tr>\n",
              "    <tr>\n",
              "      <th>5</th>\n",
              "      <td>2</td>\n",
              "      <td>50.9</td>\n",
              "      <td>32</td>\n",
              "      <td>17</td>\n",
              "      <td>2</td>\n",
              "    </tr>\n",
              "    <tr>\n",
              "      <th>6</th>\n",
              "      <td>2</td>\n",
              "      <td>36.5</td>\n",
              "      <td>20</td>\n",
              "      <td>9</td>\n",
              "      <td>9</td>\n",
              "    </tr>\n",
              "    <tr>\n",
              "      <th>7</th>\n",
              "      <td>3</td>\n",
              "      <td>36.6</td>\n",
              "      <td>31</td>\n",
              "      <td>13</td>\n",
              "      <td>6</td>\n",
              "    </tr>\n",
              "    <tr>\n",
              "      <th>8</th>\n",
              "      <td>3</td>\n",
              "      <td>49.2</td>\n",
              "      <td>37</td>\n",
              "      <td>18</td>\n",
              "      <td>1</td>\n",
              "    </tr>\n",
              "    <tr>\n",
              "      <th>9</th>\n",
              "      <td>3</td>\n",
              "      <td>26.0</td>\n",
              "      <td>28</td>\n",
              "      <td>10</td>\n",
              "      <td>8</td>\n",
              "    </tr>\n",
              "    <tr>\n",
              "      <th>10</th>\n",
              "      <td>3</td>\n",
              "      <td>47.4</td>\n",
              "      <td>32</td>\n",
              "      <td>16</td>\n",
              "      <td>3</td>\n",
              "    </tr>\n",
              "  </tbody>\n",
              "</table>\n",
              "</div>"
            ],
            "text/plain": [
              "      학년    악력  윗몸일으키기  점수  순위\n",
              "학생번호                          \n",
              "1      1  40.2      34  15   4\n",
              "2      1  34.2      14   7  10\n",
              "3      1  28.8      27  11   7\n",
              "4      2  39.0      27  14   5\n",
              "5      2  50.9      32  17   2\n",
              "6      2  36.5      20   9   9\n",
              "7      3  36.6      31  13   6\n",
              "8      3  49.2      37  18   1\n",
              "9      3  26.0      28  10   8\n",
              "10     3  47.4      32  16   3"
            ]
          },
          "metadata": {
            "tags": []
          },
          "execution_count": 2
        }
      ]
    },
    {
      "cell_type": "markdown",
      "metadata": {
        "id": "2hia6J53oTmK"
      },
      "source": [
        "- DataFrame에서 악력에 대한 열을 추출하면 1차원 데이터 구조인 Series \n",
        "반환"
      ]
    },
    {
      "cell_type": "code",
      "metadata": {
        "colab": {
          "base_uri": "https://localhost:8080/"
        },
        "id": "36Srmixhmz9v",
        "outputId": "acc93329-1d82-45df-d6c3-1cab61b2c2ea"
      },
      "source": [
        "df['악력']"
      ],
      "execution_count": null,
      "outputs": [
        {
          "output_type": "execute_result",
          "data": {
            "text/plain": [
              "학생번호\n",
              "1     40.2\n",
              "2     34.2\n",
              "3     28.8\n",
              "4     39.0\n",
              "5     50.9\n",
              "6     36.5\n",
              "7     36.6\n",
              "8     49.2\n",
              "9     26.0\n",
              "10    47.4\n",
              "Name: 악력, dtype: float64"
            ]
          },
          "metadata": {
            "tags": []
          },
          "execution_count": 3
        }
      ]
    },
    {
      "cell_type": "markdown",
      "metadata": {
        "id": "apwpeaIEolrp"
      },
      "source": [
        "## 데이터 크기\n",
        "- DataFrame의 크기는 shape라는 인스턴스 변수 참조"
      ]
    },
    {
      "cell_type": "code",
      "metadata": {
        "colab": {
          "base_uri": "https://localhost:8080/"
        },
        "id": "h-jkEwkfoasM",
        "outputId": "f9237380-6fda-4c18-d47b-eafce11228e9"
      },
      "source": [
        "df.shape"
      ],
      "execution_count": null,
      "outputs": [
        {
          "output_type": "execute_result",
          "data": {
            "text/plain": [
              "(10, 5)"
            ]
          },
          "metadata": {
            "tags": []
          },
          "execution_count": 4
        }
      ]
    },
    {
      "cell_type": "markdown",
      "metadata": {
        "id": "g0QBEVEOovkE"
      },
      "source": [
        "- 데이터 개수 10 (인덱스(레코드) 수), 변수 개수 5 (컬럼 수)\n",
        "\n",
        "\n",
        "# 변수의 종류\n",
        "## 질적 변수와 양적 변수\n",
        "- 질적 변수 : 선택이 필요한 변수, 종류를 구별하기 위한 변수 \n",
        "              ex_ 좋음정도, 혈액형, 성별, 흥행여부\n",
        "- 양적 변수 : 양을 표현하기 위한 변수\n",
        "              ex_ 신장, 시험\n",
        "\n",
        "## 척도 수준\n",
        "- 질적 변수는 명의 척도와 순서 척도\n",
        "- 양적 변수는 간격 척도와 비례 척도로 더 세분화\n",
        "- 명의 척도, 순서척도, 간격척도, 비례척도 이 네가지가 척도 수준\n",
        "\n",
        "- 명의 척도\n",
        "  - 명의 척도는 단순히 분류하기 위한 변수로, 학생번호나 전화번호, 성별 등\n",
        "  - 명의 척도의 목적은 구별하는 것이므로 변수의 동일성 여부에만 의미\n",
        "    - 학생번호 4와 학생번호 8의 대소 관계는 의미가 없음\n",
        "    - 합과 차를 계산하더라도 의미 있는 결과를 얻을 수 없음\n",
        "\n",
        "- 순서 척도\n",
        "  - 순서 척도는 순서 관계나 대소 관계에 의미가 있는 변수로, 성적 순위, 설문조사의 만족도 등\n",
        "  - 성적 순위에서 8등은 4등보다 순위가 낮으므로 대소 관계 의미\n",
        "    - 4등과 8등의 차이가 8등과 12등의 차이와 동일하다고 비교할 수는 없음\n",
        "    - 4등은 8등의 2배라고 주장할 수도 없음\n",
        "\n",
        "- 간격 척도\n",
        "  - 간격 척도는 대소 관계와 함께 그 차이에도 의미를 두는 변수\n",
        "  - 연도나 온도를 들 수 있음\n",
        "  - 60˚C는 30˚C 보다 높은 온도이므로 대소관계에 의미가 있고\n",
        "  - 그 차이에 해당하는 수치도 의미가 있음\n",
        "  - 그러나 60˚C는 30˚C보다 2배 높은 온도라고 할 수는 없음\n",
        "\n",
        "- 비례 척도\n",
        "  - 비례 척도는 대소 관계, 차이, 비 모두에 의미가 있는 변수로, 길이나 무게 등\n",
        "  - 길이에서 50cm와 100cm의 차이가 50cm라는 것도, 100cm는 50cm의 2배라는 것도 의미가 있음\n",
        "\n",
        "  - 간격 척도와 비례 척도는 비슷하므로 구별하기 어려울 때가 있음\n",
        "  - 척도를 구별하는 요령이 있음\n",
        "  - 0이 '없음'을 나타내는지 여부를 판단하면 됨\n",
        "  - 길이에서 0cm는 길이가 없음을 나타내지만, 온도에서 0˚C는 온도가 없다는 뜻이 아님 \n",
        "\n",
        "- 척도 수준\n",
        "\n",
        "![척도수준.PNG](data:image/png;base64,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)"
      ]
    },
    {
      "cell_type": "markdown",
      "metadata": {
        "id": "Qno6a0szr8FX"
      },
      "source": [
        "## 이산형 변수와 연속성 변수\n",
        "- 이산형 변수\n",
        "  - 하나하나의 값을 취하는 변수\n",
        "  - 서로 인접한 숫자 사이에 값이 존재하지 않음\n",
        "  - 주사위의 눈, 결석 횟수, 결석 학생 수\n",
        "\n",
        "- 연속형 변수\n",
        "  - 연속적인 값을 취할 수 있는 변수\n",
        "  - 어떤 두 숫자 사이에도 반드시 숫자가 존재\n",
        "  - 길이, 무게, 시간"
      ]
    },
    {
      "cell_type": "code",
      "metadata": {
        "id": "6KghdSU7otXa"
      },
      "source": [
        ""
      ],
      "execution_count": null,
      "outputs": []
    }
  ]
}