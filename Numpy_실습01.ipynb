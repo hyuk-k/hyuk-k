{
  "nbformat": 4,
  "nbformat_minor": 0,
  "metadata": {
    "colab": {
      "name": "Numpy_실습01.ipynb",
      "provenance": [],
      "collapsed_sections": [],
      "authorship_tag": "ABX9TyNnwN3vRjMGSjTCMKUKp6XC",
      "include_colab_link": true
    },
    "kernelspec": {
      "name": "python3",
      "display_name": "Python 3"
    },
    "language_info": {
      "name": "python"
    }
  },
  "cells": [
    {
      "cell_type": "markdown",
      "metadata": {
        "id": "view-in-github",
        "colab_type": "text"
      },
      "source": [
        "<a href=\"https://colab.research.google.com/github/hyuk-k/hyuk-k/blob/main/Numpy_%EC%8B%A4%EC%8A%B501.ipynb\" target=\"_parent\"><img src=\"https://colab.research.google.com/assets/colab-badge.svg\" alt=\"Open In Colab\"/></a>"
      ]
    },
    {
      "cell_type": "markdown",
      "metadata": {
        "id": "FCxTvyLPNrCC"
      },
      "source": [
        "- numpy는 np라는 이름으로 임포트하는 것"
      ]
    },
    {
      "cell_type": "code",
      "metadata": {
        "id": "jlkuUiVINntu"
      },
      "source": [
        "import numpy as np"
      ],
      "execution_count": 2,
      "outputs": []
    },
    {
      "cell_type": "markdown",
      "metadata": {
        "id": "478Ou4UpPApr"
      },
      "source": [
        "- numpy에서는 array라는 배열로 계산을 수행 여기에서는 [1,2,3,4,5]라는 요소를 가진 numpy의 배열 array를 준비"
      ]
    },
    {
      "cell_type": "code",
      "metadata": {
        "id": "XEC6UVaPPIQD"
      },
      "source": [
        "arr = np.array([1,2,3,4,5])"
      ],
      "execution_count": 3,
      "outputs": []
    },
    {
      "cell_type": "markdown",
      "metadata": {
        "id": "hhDIHaVjPMuC"
      },
      "source": [
        "- 크기는 shape로 알 수 있음"
      ]
    },
    {
      "cell_type": "code",
      "metadata": {
        "colab": {
          "base_uri": "https://localhost:8080/"
        },
        "id": "mteiOWq0PPoS",
        "outputId": "0a85617e-5b03-452e-b00b-c6b1c93f5014"
      },
      "source": [
        "arr.shape"
      ],
      "execution_count": 4,
      "outputs": [
        {
          "output_type": "execute_result",
          "data": {
            "text/plain": [
              "(5,)"
            ]
          },
          "metadata": {
            "tags": []
          },
          "execution_count": 4
        }
      ]
    },
    {
      "cell_type": "markdown",
      "metadata": {
        "id": "bww2QeqgPR_b"
      },
      "source": [
        "- array에 대한 덧셈 연"
      ]
    },
    {
      "cell_type": "code",
      "metadata": {
        "colab": {
          "base_uri": "https://localhost:8080/"
        },
        "id": "1S3qhmE1PVDy",
        "outputId": "6bec33b9-e4fd-4c0a-ffc3-b1a979e104a9"
      },
      "source": [
        "arr + 2"
      ],
      "execution_count": 5,
      "outputs": [
        {
          "output_type": "execute_result",
          "data": {
            "text/plain": [
              "array([3, 4, 5, 6, 7])"
            ]
          },
          "metadata": {
            "tags": []
          },
          "execution_count": 5
        }
      ]
    },
    {
      "cell_type": "markdown",
      "metadata": {
        "id": "1FckAiHcPYhC"
      },
      "source": [
        "- 모든 요소에 2를 더했음\n",
        "- 덧셈 연산만이 아닌, 다른 연산자도 동일하게 방식으로 수행\n",
        "\n",
        "- 제곱근"
      ]
    },
    {
      "cell_type": "code",
      "metadata": {
        "colab": {
          "base_uri": "https://localhost:8080/"
        },
        "id": "Hm5fInb-Pebk",
        "outputId": "becd45ce-d08e-4a48-8ffe-43e0baf759f6"
      },
      "source": [
        "np.sqrt(arr)"
      ],
      "execution_count": 6,
      "outputs": [
        {
          "output_type": "execute_result",
          "data": {
            "text/plain": [
              "array([1.        , 1.41421356, 1.73205081, 2.        , 2.23606798])"
            ]
          },
          "metadata": {
            "tags": []
          },
          "execution_count": 6
        }
      ]
    },
    {
      "cell_type": "markdown",
      "metadata": {
        "id": "Jo9Fb0P1P2Yu"
      },
      "source": [
        "- 리스트와 마찬가지로 슬라이스로 요소를 추출할 수 있음"
      ]
    },
    {
      "cell_type": "code",
      "metadata": {
        "colab": {
          "base_uri": "https://localhost:8080/"
        },
        "id": "TXI4IJKMP6E2",
        "outputId": "db852c89-b683-49af-899e-e1b894790c85"
      },
      "source": [
        "arr[:2]"
      ],
      "execution_count": 7,
      "outputs": [
        {
          "output_type": "execute_result",
          "data": {
            "text/plain": [
              "array([1, 2])"
            ]
          },
          "metadata": {
            "tags": []
          },
          "execution_count": 7
        }
      ]
    },
    {
      "cell_type": "code",
      "metadata": {
        "colab": {
          "base_uri": "https://localhost:8080/"
        },
        "id": "6l0UkxflHZ2U",
        "outputId": "36367abe-c445-4f82-e16a-557f6942f4c0"
      },
      "source": [
        "arr[3:5]"
      ],
      "execution_count": 8,
      "outputs": [
        {
          "output_type": "execute_result",
          "data": {
            "text/plain": [
              "array([4, 5])"
            ]
          },
          "metadata": {
            "tags": []
          },
          "execution_count": 8
        }
      ]
    },
    {
      "cell_type": "markdown",
      "metadata": {
        "id": "DoFODT-2HdSl"
      },
      "source": [
        "- numpy의 arange 함수가 자주 사용\n",
        "- arange 함수를 사용하여 [0,1,2,3,4]라는 요소를 가진 array를 간단히 작성할 수 있음"
      ]
    },
    {
      "cell_type": "code",
      "metadata": {
        "colab": {
          "base_uri": "https://localhost:8080/"
        },
        "id": "bG-PKN_pHb0F",
        "outputId": "1a356434-8a17-4864-e0d6-709b169ad8ae"
      },
      "source": [
        "np.arange(5)"
      ],
      "execution_count": 9,
      "outputs": [
        {
          "output_type": "execute_result",
          "data": {
            "text/plain": [
              "array([0, 1, 2, 3, 4])"
            ]
          },
          "metadata": {
            "tags": []
          },
          "execution_count": 9
        }
      ]
    },
    {
      "cell_type": "markdown",
      "metadata": {
        "id": "bxoLIsRNHtjh"
      },
      "source": [
        "- arange 함수에는 start, end, step을 지정할 수 있음\n",
        "- [2,4,6,8] 이라고 2씩 숫자가 증가하는 array는 다음과 같이 작성"
      ]
    },
    {
      "cell_type": "code",
      "metadata": {
        "colab": {
          "base_uri": "https://localhost:8080/"
        },
        "id": "jkVtGAZDHsNo",
        "outputId": "bc2f5fac-9a81-459f-e723-1b6ff85db865"
      },
      "source": [
        "np.arange(2,10,2)"
      ],
      "execution_count": 10,
      "outputs": [
        {
          "output_type": "execute_result",
          "data": {
            "text/plain": [
              "array([2, 4, 6, 8])"
            ]
          },
          "metadata": {
            "tags": []
          },
          "execution_count": 10
        }
      ]
    },
    {
      "cell_type": "markdown",
      "metadata": {
        "id": "DSsRJ3rqH8XU"
      },
      "source": [
        "- linspace 함수도 자주 사용\n",
        "- linspace 함수도 start 부터 end까지의 array를 생성하는 함수이지만, step이 아닌 요소의 수를 지정 여기에서는 0부터 3까지 11분할한 array를 작성"
      ]
    },
    {
      "cell_type": "code",
      "metadata": {
        "colab": {
          "base_uri": "https://localhost:8080/"
        },
        "id": "5MLtR7yGH62H",
        "outputId": "b8093410-b44b-4a0c-8cef-ced900f6cc5b"
      },
      "source": [
        "np.linspace(0,3,11)"
      ],
      "execution_count": 11,
      "outputs": [
        {
          "output_type": "execute_result",
          "data": {
            "text/plain": [
              "array([0. , 0.3, 0.6, 0.9, 1.2, 1.5, 1.8, 2.1, 2.4, 2.7, 3. ])"
            ]
          },
          "metadata": {
            "tags": []
          },
          "execution_count": 11
        }
      ]
    },
    {
      "cell_type": "markdown",
      "metadata": {
        "id": "7vUGEZ0tIWRk"
      },
      "source": [
        "- 2차원 array도 간단히 생성"
      ]
    },
    {
      "cell_type": "code",
      "metadata": {
        "colab": {
          "base_uri": "https://localhost:8080/"
        },
        "id": "TJY880ihIUQG",
        "outputId": "9e22c4f7-34da-451b-c61c-98417d945bcc"
      },
      "source": [
        "arr2 = np.array([[1,3],\n",
        "                 [5,7]])\n",
        "arr2"
      ],
      "execution_count": 13,
      "outputs": [
        {
          "output_type": "execute_result",
          "data": {
            "text/plain": [
              "array([[1, 3],\n",
              "       [5, 7]])"
            ]
          },
          "metadata": {
            "tags": []
          },
          "execution_count": 13
        }
      ]
    },
    {
      "cell_type": "code",
      "metadata": {
        "colab": {
          "base_uri": "https://localhost:8080/"
        },
        "id": "Rm4eZVttIlpO",
        "outputId": "e93a8b33-8f74-43be-dcb8-e4c384c594d5"
      },
      "source": [
        "arr2.shape"
      ],
      "execution_count": 14,
      "outputs": [
        {
          "output_type": "execute_result",
          "data": {
            "text/plain": [
              "(2, 2)"
            ]
          },
          "metadata": {
            "tags": []
          },
          "execution_count": 14
        }
      ]
    },
    {
      "cell_type": "markdown",
      "metadata": {
        "id": "IB2x_5K6Iqvo"
      },
      "source": [
        "- save 함수로 array를 저장할 수 있음\n",
        "- 첫번쨰 인수는 저장되는 이름이고, 두번쨰 인수가 저장되는 array"
      ]
    },
    {
      "cell_type": "code",
      "metadata": {
        "id": "PmIecHsiIxVn"
      },
      "source": [
        "np.save('test.npy',arr2)"
      ],
      "execution_count": 16,
      "outputs": []
    },
    {
      "cell_type": "markdown",
      "metadata": {
        "id": "rw_WgIa8I6HQ"
      },
      "source": [
        "- 읽어들이는 것은 load 함수로 가능"
      ]
    },
    {
      "cell_type": "code",
      "metadata": {
        "colab": {
          "base_uri": "https://localhost:8080/"
        },
        "id": "mW5AxYNgI4wp",
        "outputId": "05ec73e1-52e4-4096-fb29-abb5bb201679"
      },
      "source": [
        "np.load('test.npy')"
      ],
      "execution_count": 17,
      "outputs": [
        {
          "output_type": "execute_result",
          "data": {
            "text/plain": [
              "array([[1, 3],\n",
              "       [5, 7]])"
            ]
          },
          "metadata": {
            "tags": []
          },
          "execution_count": 17
        }
      ]
    }
  ]
}