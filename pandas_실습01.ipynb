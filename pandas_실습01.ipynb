{
  "nbformat": 4,
  "nbformat_minor": 0,
  "metadata": {
    "colab": {
      "name": "pandas_실습01.ipynb",
      "provenance": [],
      "collapsed_sections": [],
      "authorship_tag": "ABX9TyNcmbFRYXDztDMln0F9pqNr",
      "include_colab_link": true
    },
    "kernelspec": {
      "name": "python3",
      "display_name": "Python 3"
    },
    "language_info": {
      "name": "python"
    }
  },
  "cells": [
    {
      "cell_type": "markdown",
      "metadata": {
        "id": "view-in-github",
        "colab_type": "text"
      },
      "source": [
        "<a href=\"https://colab.research.google.com/github/hyuk-k/hyuk-k/blob/main/pandas_%EC%8B%A4%EC%8A%B501.ipynb\" target=\"_parent\"><img src=\"https://colab.research.google.com/assets/colab-badge.svg\" alt=\"Open In Colab\"/></a>"
      ]
    },
    {
      "cell_type": "markdown",
      "metadata": {
        "id": "lOyeX3iafa3f"
      },
      "source": [
        "# pandas\n",
        "- pandas는 pd라는 이름으로 임포트 하는 것"
      ]
    },
    {
      "cell_type": "code",
      "metadata": {
        "id": "97m59HREc-kQ"
      },
      "source": [
        "import pandas as pd"
      ],
      "execution_count": 5,
      "outputs": []
    },
    {
      "cell_type": "markdown",
      "metadata": {
        "id": "zc3bRLjXfp9j"
      },
      "source": [
        "- read_csv 함수를 사용하여 csv를 pandas의 DataFrame이라는 형식으로 읽어들일 수 잇음"
      ]
    },
    {
      "cell_type": "code",
      "metadata": {
        "colab": {
          "base_uri": "https://localhost:8080/",
          "height": 357
        },
        "id": "ztBQKthpfpT6",
        "outputId": "052abbfd-c797-422e-c9fb-e19a78c5da09"
      },
      "source": [
        "df = pd.read_csv('sport_test.csv')\n",
        "df"
      ],
      "execution_count": 6,
      "outputs": [
        {
          "output_type": "execute_result",
          "data": {
            "text/html": [
              "<div>\n",
              "<style scoped>\n",
              "    .dataframe tbody tr th:only-of-type {\n",
              "        vertical-align: middle;\n",
              "    }\n",
              "\n",
              "    .dataframe tbody tr th {\n",
              "        vertical-align: top;\n",
              "    }\n",
              "\n",
              "    .dataframe thead th {\n",
              "        text-align: right;\n",
              "    }\n",
              "</style>\n",
              "<table border=\"1\" class=\"dataframe\">\n",
              "  <thead>\n",
              "    <tr style=\"text-align: right;\">\n",
              "      <th></th>\n",
              "      <th>학생번호</th>\n",
              "      <th>학년</th>\n",
              "      <th>악력</th>\n",
              "      <th>윗몸일으키기</th>\n",
              "      <th>점수</th>\n",
              "      <th>순위</th>\n",
              "    </tr>\n",
              "  </thead>\n",
              "  <tbody>\n",
              "    <tr>\n",
              "      <th>0</th>\n",
              "      <td>1</td>\n",
              "      <td>1</td>\n",
              "      <td>40.2</td>\n",
              "      <td>34</td>\n",
              "      <td>15</td>\n",
              "      <td>4</td>\n",
              "    </tr>\n",
              "    <tr>\n",
              "      <th>1</th>\n",
              "      <td>2</td>\n",
              "      <td>1</td>\n",
              "      <td>34.2</td>\n",
              "      <td>14</td>\n",
              "      <td>7</td>\n",
              "      <td>10</td>\n",
              "    </tr>\n",
              "    <tr>\n",
              "      <th>2</th>\n",
              "      <td>3</td>\n",
              "      <td>1</td>\n",
              "      <td>28.8</td>\n",
              "      <td>27</td>\n",
              "      <td>11</td>\n",
              "      <td>7</td>\n",
              "    </tr>\n",
              "    <tr>\n",
              "      <th>3</th>\n",
              "      <td>4</td>\n",
              "      <td>2</td>\n",
              "      <td>39.0</td>\n",
              "      <td>27</td>\n",
              "      <td>14</td>\n",
              "      <td>5</td>\n",
              "    </tr>\n",
              "    <tr>\n",
              "      <th>4</th>\n",
              "      <td>5</td>\n",
              "      <td>2</td>\n",
              "      <td>50.9</td>\n",
              "      <td>32</td>\n",
              "      <td>17</td>\n",
              "      <td>2</td>\n",
              "    </tr>\n",
              "    <tr>\n",
              "      <th>5</th>\n",
              "      <td>6</td>\n",
              "      <td>2</td>\n",
              "      <td>36.5</td>\n",
              "      <td>20</td>\n",
              "      <td>9</td>\n",
              "      <td>9</td>\n",
              "    </tr>\n",
              "    <tr>\n",
              "      <th>6</th>\n",
              "      <td>7</td>\n",
              "      <td>3</td>\n",
              "      <td>36.6</td>\n",
              "      <td>31</td>\n",
              "      <td>13</td>\n",
              "      <td>6</td>\n",
              "    </tr>\n",
              "    <tr>\n",
              "      <th>7</th>\n",
              "      <td>8</td>\n",
              "      <td>3</td>\n",
              "      <td>49.2</td>\n",
              "      <td>37</td>\n",
              "      <td>18</td>\n",
              "      <td>1</td>\n",
              "    </tr>\n",
              "    <tr>\n",
              "      <th>8</th>\n",
              "      <td>9</td>\n",
              "      <td>3</td>\n",
              "      <td>26.0</td>\n",
              "      <td>28</td>\n",
              "      <td>10</td>\n",
              "      <td>8</td>\n",
              "    </tr>\n",
              "    <tr>\n",
              "      <th>9</th>\n",
              "      <td>10</td>\n",
              "      <td>3</td>\n",
              "      <td>47.4</td>\n",
              "      <td>32</td>\n",
              "      <td>16</td>\n",
              "      <td>3</td>\n",
              "    </tr>\n",
              "  </tbody>\n",
              "</table>\n",
              "</div>"
            ],
            "text/plain": [
              "   학생번호  학년    악력  윗몸일으키기  점수  순위\n",
              "0     1   1  40.2      34  15   4\n",
              "1     2   1  34.2      14   7  10\n",
              "2     3   1  28.8      27  11   7\n",
              "3     4   2  39.0      27  14   5\n",
              "4     5   2  50.9      32  17   2\n",
              "5     6   2  36.5      20   9   9\n",
              "6     7   3  36.6      31  13   6\n",
              "7     8   3  49.2      37  18   1\n",
              "8     9   3  26.0      28  10   8\n",
              "9    10   3  47.4      32  16   3"
            ]
          },
          "metadata": {
            "tags": []
          },
          "execution_count": 6
        }
      ]
    },
    {
      "cell_type": "markdown",
      "metadata": {
        "id": "tIXwjsnsldEy"
      },
      "source": [
        "# 추출\n",
        "- DataFrame이 10행으로 비교적 소규모이지만, 수백행・수천행의 DataFrame을 다루는 경우\n",
        "DataFrame의 구조를 알기 위해서는 DataFrame의head 메서드가 자주 사용\n",
        "- head 메서드는 DataFrame의 앞 부분의 행을 추출하는 메서드 여기에서는 3행을 추출"
      ]
    },
    {
      "cell_type": "code",
      "metadata": {
        "colab": {
          "base_uri": "https://localhost:8080/",
          "height": 142
        },
        "id": "ALcTDs1zltBU",
        "outputId": "dddfe2b2-4122-408e-e016-26009eeec968"
      },
      "source": [
        "df.head(3)"
      ],
      "execution_count": 7,
      "outputs": [
        {
          "output_type": "execute_result",
          "data": {
            "text/html": [
              "<div>\n",
              "<style scoped>\n",
              "    .dataframe tbody tr th:only-of-type {\n",
              "        vertical-align: middle;\n",
              "    }\n",
              "\n",
              "    .dataframe tbody tr th {\n",
              "        vertical-align: top;\n",
              "    }\n",
              "\n",
              "    .dataframe thead th {\n",
              "        text-align: right;\n",
              "    }\n",
              "</style>\n",
              "<table border=\"1\" class=\"dataframe\">\n",
              "  <thead>\n",
              "    <tr style=\"text-align: right;\">\n",
              "      <th></th>\n",
              "      <th>학생번호</th>\n",
              "      <th>학년</th>\n",
              "      <th>악력</th>\n",
              "      <th>윗몸일으키기</th>\n",
              "      <th>점수</th>\n",
              "      <th>순위</th>\n",
              "    </tr>\n",
              "  </thead>\n",
              "  <tbody>\n",
              "    <tr>\n",
              "      <th>0</th>\n",
              "      <td>1</td>\n",
              "      <td>1</td>\n",
              "      <td>40.2</td>\n",
              "      <td>34</td>\n",
              "      <td>15</td>\n",
              "      <td>4</td>\n",
              "    </tr>\n",
              "    <tr>\n",
              "      <th>1</th>\n",
              "      <td>2</td>\n",
              "      <td>1</td>\n",
              "      <td>34.2</td>\n",
              "      <td>14</td>\n",
              "      <td>7</td>\n",
              "      <td>10</td>\n",
              "    </tr>\n",
              "    <tr>\n",
              "      <th>2</th>\n",
              "      <td>3</td>\n",
              "      <td>1</td>\n",
              "      <td>28.8</td>\n",
              "      <td>27</td>\n",
              "      <td>11</td>\n",
              "      <td>7</td>\n",
              "    </tr>\n",
              "  </tbody>\n",
              "</table>\n",
              "</div>"
            ],
            "text/plain": [
              "   학생번호  학년    악력  윗몸일으키기  점수  순위\n",
              "0     1   1  40.2      34  15   4\n",
              "1     2   1  34.2      14   7  10\n",
              "2     3   1  28.8      27  11   7"
            ]
          },
          "metadata": {
            "tags": []
          },
          "execution_count": 7
        }
      ]
    },
    {
      "cell_type": "markdown",
      "metadata": {
        "id": "Ypb8kiRylvRf"
      },
      "source": [
        "- 아무것도 지정하지 않으면 5행이 추출"
      ]
    },
    {
      "cell_type": "code",
      "metadata": {
        "colab": {
          "base_uri": "https://localhost:8080/",
          "height": 203
        },
        "id": "pSfJrpe8lur0",
        "outputId": "6e9bf210-1b9f-4ef3-8045-3c76ba390b00"
      },
      "source": [
        "df.head()"
      ],
      "execution_count": 8,
      "outputs": [
        {
          "output_type": "execute_result",
          "data": {
            "text/html": [
              "<div>\n",
              "<style scoped>\n",
              "    .dataframe tbody tr th:only-of-type {\n",
              "        vertical-align: middle;\n",
              "    }\n",
              "\n",
              "    .dataframe tbody tr th {\n",
              "        vertical-align: top;\n",
              "    }\n",
              "\n",
              "    .dataframe thead th {\n",
              "        text-align: right;\n",
              "    }\n",
              "</style>\n",
              "<table border=\"1\" class=\"dataframe\">\n",
              "  <thead>\n",
              "    <tr style=\"text-align: right;\">\n",
              "      <th></th>\n",
              "      <th>학생번호</th>\n",
              "      <th>학년</th>\n",
              "      <th>악력</th>\n",
              "      <th>윗몸일으키기</th>\n",
              "      <th>점수</th>\n",
              "      <th>순위</th>\n",
              "    </tr>\n",
              "  </thead>\n",
              "  <tbody>\n",
              "    <tr>\n",
              "      <th>0</th>\n",
              "      <td>1</td>\n",
              "      <td>1</td>\n",
              "      <td>40.2</td>\n",
              "      <td>34</td>\n",
              "      <td>15</td>\n",
              "      <td>4</td>\n",
              "    </tr>\n",
              "    <tr>\n",
              "      <th>1</th>\n",
              "      <td>2</td>\n",
              "      <td>1</td>\n",
              "      <td>34.2</td>\n",
              "      <td>14</td>\n",
              "      <td>7</td>\n",
              "      <td>10</td>\n",
              "    </tr>\n",
              "    <tr>\n",
              "      <th>2</th>\n",
              "      <td>3</td>\n",
              "      <td>1</td>\n",
              "      <td>28.8</td>\n",
              "      <td>27</td>\n",
              "      <td>11</td>\n",
              "      <td>7</td>\n",
              "    </tr>\n",
              "    <tr>\n",
              "      <th>3</th>\n",
              "      <td>4</td>\n",
              "      <td>2</td>\n",
              "      <td>39.0</td>\n",
              "      <td>27</td>\n",
              "      <td>14</td>\n",
              "      <td>5</td>\n",
              "    </tr>\n",
              "    <tr>\n",
              "      <th>4</th>\n",
              "      <td>5</td>\n",
              "      <td>2</td>\n",
              "      <td>50.9</td>\n",
              "      <td>32</td>\n",
              "      <td>17</td>\n",
              "      <td>2</td>\n",
              "    </tr>\n",
              "  </tbody>\n",
              "</table>\n",
              "</div>"
            ],
            "text/plain": [
              "   학생번호  학년    악력  윗몸일으키기  점수  순위\n",
              "0     1   1  40.2      34  15   4\n",
              "1     2   1  34.2      14   7  10\n",
              "2     3   1  28.8      27  11   7\n",
              "3     4   2  39.0      27  14   5\n",
              "4     5   2  50.9      32  17   2"
            ]
          },
          "metadata": {
            "tags": []
          },
          "execution_count": 8
        }
      ]
    },
    {
      "cell_type": "markdown",
      "metadata": {
        "id": "achLFA_vl1Fr"
      },
      "source": [
        "- 마찬가지로 tail 매서드는 DataFrame의 뒷부분을 추출"
      ]
    },
    {
      "cell_type": "code",
      "metadata": {
        "colab": {
          "base_uri": "https://localhost:8080/",
          "height": 203
        },
        "id": "GssKVZTplzQ6",
        "outputId": "20bf0830-facd-4344-9be2-bc76bc218e5d"
      },
      "source": [
        "df.tail()"
      ],
      "execution_count": 9,
      "outputs": [
        {
          "output_type": "execute_result",
          "data": {
            "text/html": [
              "<div>\n",
              "<style scoped>\n",
              "    .dataframe tbody tr th:only-of-type {\n",
              "        vertical-align: middle;\n",
              "    }\n",
              "\n",
              "    .dataframe tbody tr th {\n",
              "        vertical-align: top;\n",
              "    }\n",
              "\n",
              "    .dataframe thead th {\n",
              "        text-align: right;\n",
              "    }\n",
              "</style>\n",
              "<table border=\"1\" class=\"dataframe\">\n",
              "  <thead>\n",
              "    <tr style=\"text-align: right;\">\n",
              "      <th></th>\n",
              "      <th>학생번호</th>\n",
              "      <th>학년</th>\n",
              "      <th>악력</th>\n",
              "      <th>윗몸일으키기</th>\n",
              "      <th>점수</th>\n",
              "      <th>순위</th>\n",
              "    </tr>\n",
              "  </thead>\n",
              "  <tbody>\n",
              "    <tr>\n",
              "      <th>5</th>\n",
              "      <td>6</td>\n",
              "      <td>2</td>\n",
              "      <td>36.5</td>\n",
              "      <td>20</td>\n",
              "      <td>9</td>\n",
              "      <td>9</td>\n",
              "    </tr>\n",
              "    <tr>\n",
              "      <th>6</th>\n",
              "      <td>7</td>\n",
              "      <td>3</td>\n",
              "      <td>36.6</td>\n",
              "      <td>31</td>\n",
              "      <td>13</td>\n",
              "      <td>6</td>\n",
              "    </tr>\n",
              "    <tr>\n",
              "      <th>7</th>\n",
              "      <td>8</td>\n",
              "      <td>3</td>\n",
              "      <td>49.2</td>\n",
              "      <td>37</td>\n",
              "      <td>18</td>\n",
              "      <td>1</td>\n",
              "    </tr>\n",
              "    <tr>\n",
              "      <th>8</th>\n",
              "      <td>9</td>\n",
              "      <td>3</td>\n",
              "      <td>26.0</td>\n",
              "      <td>28</td>\n",
              "      <td>10</td>\n",
              "      <td>8</td>\n",
              "    </tr>\n",
              "    <tr>\n",
              "      <th>9</th>\n",
              "      <td>10</td>\n",
              "      <td>3</td>\n",
              "      <td>47.4</td>\n",
              "      <td>32</td>\n",
              "      <td>16</td>\n",
              "      <td>3</td>\n",
              "    </tr>\n",
              "  </tbody>\n",
              "</table>\n",
              "</div>"
            ],
            "text/plain": [
              "   학생번호  학년    악력  윗몸일으키기  점수  순위\n",
              "5     6   2  36.5      20   9   9\n",
              "6     7   3  36.6      31  13   6\n",
              "7     8   3  49.2      37  18   1\n",
              "8     9   3  26.0      28  10   8\n",
              "9    10   3  47.4      32  16   3"
            ]
          },
          "metadata": {
            "tags": []
          },
          "execution_count": 9
        }
      ]
    },
    {
      "cell_type": "markdown",
      "metadata": {
        "id": "YUgpSiajmBKZ"
      },
      "source": [
        "- 슬라이스로 추출할 수도 있음"
      ]
    },
    {
      "cell_type": "code",
      "metadata": {
        "colab": {
          "base_uri": "https://localhost:8080/",
          "height": 142
        },
        "id": "5XCuOqPal7bj",
        "outputId": "db282e4c-58c4-4505-99f5-8537976c9496"
      },
      "source": [
        "df[2:5]"
      ],
      "execution_count": 10,
      "outputs": [
        {
          "output_type": "execute_result",
          "data": {
            "text/html": [
              "<div>\n",
              "<style scoped>\n",
              "    .dataframe tbody tr th:only-of-type {\n",
              "        vertical-align: middle;\n",
              "    }\n",
              "\n",
              "    .dataframe tbody tr th {\n",
              "        vertical-align: top;\n",
              "    }\n",
              "\n",
              "    .dataframe thead th {\n",
              "        text-align: right;\n",
              "    }\n",
              "</style>\n",
              "<table border=\"1\" class=\"dataframe\">\n",
              "  <thead>\n",
              "    <tr style=\"text-align: right;\">\n",
              "      <th></th>\n",
              "      <th>학생번호</th>\n",
              "      <th>학년</th>\n",
              "      <th>악력</th>\n",
              "      <th>윗몸일으키기</th>\n",
              "      <th>점수</th>\n",
              "      <th>순위</th>\n",
              "    </tr>\n",
              "  </thead>\n",
              "  <tbody>\n",
              "    <tr>\n",
              "      <th>2</th>\n",
              "      <td>3</td>\n",
              "      <td>1</td>\n",
              "      <td>28.8</td>\n",
              "      <td>27</td>\n",
              "      <td>11</td>\n",
              "      <td>7</td>\n",
              "    </tr>\n",
              "    <tr>\n",
              "      <th>3</th>\n",
              "      <td>4</td>\n",
              "      <td>2</td>\n",
              "      <td>39.0</td>\n",
              "      <td>27</td>\n",
              "      <td>14</td>\n",
              "      <td>5</td>\n",
              "    </tr>\n",
              "    <tr>\n",
              "      <th>4</th>\n",
              "      <td>5</td>\n",
              "      <td>2</td>\n",
              "      <td>50.9</td>\n",
              "      <td>32</td>\n",
              "      <td>17</td>\n",
              "      <td>2</td>\n",
              "    </tr>\n",
              "  </tbody>\n",
              "</table>\n",
              "</div>"
            ],
            "text/plain": [
              "   학생번호  학년    악력  윗몸일으키기  점수  순위\n",
              "2     3   1  28.8      27  11   7\n",
              "3     4   2  39.0      27  14   5\n",
              "4     5   2  50.9      32  17   2"
            ]
          },
          "metadata": {
            "tags": []
          },
          "execution_count": 10
        }
      ]
    },
    {
      "cell_type": "markdown",
      "metadata": {
        "id": "sK5PlA5pmFN5"
      },
      "source": [
        "- 열은 열 이름으로 추출할 수 있음"
      ]
    },
    {
      "cell_type": "code",
      "metadata": {
        "colab": {
          "base_uri": "https://localhost:8080/"
        },
        "id": "_J32pnRkmEjt",
        "outputId": "46e145c4-8287-4050-98f8-c92f8412c956"
      },
      "source": [
        "df['악력']"
      ],
      "execution_count": 11,
      "outputs": [
        {
          "output_type": "execute_result",
          "data": {
            "text/plain": [
              "0    40.2\n",
              "1    34.2\n",
              "2    28.8\n",
              "3    39.0\n",
              "4    50.9\n",
              "5    36.5\n",
              "6    36.6\n",
              "7    49.2\n",
              "8    26.0\n",
              "9    47.4\n",
              "Name: 악력, dtype: float64"
            ]
          },
          "metadata": {
            "tags": []
          },
          "execution_count": 11
        }
      ]
    },
    {
      "cell_type": "markdown",
      "metadata": {
        "id": "SftsiGzOnGtj"
      },
      "source": [
        "- 복수열을 동시에 지정할 수도 있음"
      ]
    },
    {
      "cell_type": "code",
      "metadata": {
        "colab": {
          "base_uri": "https://localhost:8080/",
          "height": 357
        },
        "id": "j0emWNXfmLL7",
        "outputId": "f3480ad6-2311-48ac-9d21-bcaa785aec96"
      },
      "source": [
        "df[['학년','점수']]"
      ],
      "execution_count": 12,
      "outputs": [
        {
          "output_type": "execute_result",
          "data": {
            "text/html": [
              "<div>\n",
              "<style scoped>\n",
              "    .dataframe tbody tr th:only-of-type {\n",
              "        vertical-align: middle;\n",
              "    }\n",
              "\n",
              "    .dataframe tbody tr th {\n",
              "        vertical-align: top;\n",
              "    }\n",
              "\n",
              "    .dataframe thead th {\n",
              "        text-align: right;\n",
              "    }\n",
              "</style>\n",
              "<table border=\"1\" class=\"dataframe\">\n",
              "  <thead>\n",
              "    <tr style=\"text-align: right;\">\n",
              "      <th></th>\n",
              "      <th>학년</th>\n",
              "      <th>점수</th>\n",
              "    </tr>\n",
              "  </thead>\n",
              "  <tbody>\n",
              "    <tr>\n",
              "      <th>0</th>\n",
              "      <td>1</td>\n",
              "      <td>15</td>\n",
              "    </tr>\n",
              "    <tr>\n",
              "      <th>1</th>\n",
              "      <td>1</td>\n",
              "      <td>7</td>\n",
              "    </tr>\n",
              "    <tr>\n",
              "      <th>2</th>\n",
              "      <td>1</td>\n",
              "      <td>11</td>\n",
              "    </tr>\n",
              "    <tr>\n",
              "      <th>3</th>\n",
              "      <td>2</td>\n",
              "      <td>14</td>\n",
              "    </tr>\n",
              "    <tr>\n",
              "      <th>4</th>\n",
              "      <td>2</td>\n",
              "      <td>17</td>\n",
              "    </tr>\n",
              "    <tr>\n",
              "      <th>5</th>\n",
              "      <td>2</td>\n",
              "      <td>9</td>\n",
              "    </tr>\n",
              "    <tr>\n",
              "      <th>6</th>\n",
              "      <td>3</td>\n",
              "      <td>13</td>\n",
              "    </tr>\n",
              "    <tr>\n",
              "      <th>7</th>\n",
              "      <td>3</td>\n",
              "      <td>18</td>\n",
              "    </tr>\n",
              "    <tr>\n",
              "      <th>8</th>\n",
              "      <td>3</td>\n",
              "      <td>10</td>\n",
              "    </tr>\n",
              "    <tr>\n",
              "      <th>9</th>\n",
              "      <td>3</td>\n",
              "      <td>16</td>\n",
              "    </tr>\n",
              "  </tbody>\n",
              "</table>\n",
              "</div>"
            ],
            "text/plain": [
              "   학년  점수\n",
              "0   1  15\n",
              "1   1   7\n",
              "2   1  11\n",
              "3   2  14\n",
              "4   2  17\n",
              "5   2   9\n",
              "6   3  13\n",
              "7   3  18\n",
              "8   3  10\n",
              "9   3  16"
            ]
          },
          "metadata": {
            "tags": []
          },
          "execution_count": 12
        }
      ]
    },
    {
      "cell_type": "markdown",
      "metadata": {
        "id": "rS9B2w5KBSwF"
      },
      "source": [
        "- 행과 열을 동시에 지정하여 추출하고 싶을 때에는 loc 매서드가 편리\n",
        "- 예를 들어 첫 번째 행의 학년은 다음과 같이 추출할 수 있음"
      ]
    },
    {
      "cell_type": "code",
      "metadata": {
        "colab": {
          "base_uri": "https://localhost:8080/"
        },
        "id": "SHba0G0jnK2N",
        "outputId": "ad9ac927-0c54-4707-c63a-0bb740c1d9da"
      },
      "source": [
        "df.loc[1, '학년']"
      ],
      "execution_count": 13,
      "outputs": [
        {
          "output_type": "execute_result",
          "data": {
            "text/plain": [
              "1"
            ]
          },
          "metadata": {
            "tags": []
          },
          "execution_count": 13
        }
      ]
    },
    {
      "cell_type": "markdown",
      "metadata": {
        "id": "5VagXy31BpFC"
      },
      "source": [
        "- 슬라이스에 의한 지정도 가능"
      ]
    },
    {
      "cell_type": "code",
      "metadata": {
        "colab": {
          "base_uri": "https://localhost:8080/"
        },
        "id": "yQVt7qjPBcG_",
        "outputId": "c3bb52d2-7620-44f4-f1c5-bb8773489c7c"
      },
      "source": [
        "df.loc[1:3, '악력']"
      ],
      "execution_count": 14,
      "outputs": [
        {
          "output_type": "execute_result",
          "data": {
            "text/plain": [
              "1    34.2\n",
              "2    28.8\n",
              "3    39.0\n",
              "Name: 악력, dtype: float64"
            ]
          },
          "metadata": {
            "tags": []
          },
          "execution_count": 14
        }
      ]
    },
    {
      "cell_type": "markdown",
      "metadata": {
        "id": "9DChpaNuBtS9"
      },
      "source": [
        "- 조건에 일치하는 행을 추출하고 싶은 경우는 다음과 같이 작성 여기에서는 악력이 30보다 작은 행을 추출"
      ]
    },
    {
      "cell_type": "code",
      "metadata": {
        "colab": {
          "base_uri": "https://localhost:8080/",
          "height": 110
        },
        "id": "BO_aPzjBmJGj",
        "outputId": "b9f0081b-18c0-457b-9ce6-fffb13ef74f5"
      },
      "source": [
        "df[df['악력'] < 30]"
      ],
      "execution_count": 15,
      "outputs": [
        {
          "output_type": "execute_result",
          "data": {
            "text/html": [
              "<div>\n",
              "<style scoped>\n",
              "    .dataframe tbody tr th:only-of-type {\n",
              "        vertical-align: middle;\n",
              "    }\n",
              "\n",
              "    .dataframe tbody tr th {\n",
              "        vertical-align: top;\n",
              "    }\n",
              "\n",
              "    .dataframe thead th {\n",
              "        text-align: right;\n",
              "    }\n",
              "</style>\n",
              "<table border=\"1\" class=\"dataframe\">\n",
              "  <thead>\n",
              "    <tr style=\"text-align: right;\">\n",
              "      <th></th>\n",
              "      <th>학생번호</th>\n",
              "      <th>학년</th>\n",
              "      <th>악력</th>\n",
              "      <th>윗몸일으키기</th>\n",
              "      <th>점수</th>\n",
              "      <th>순위</th>\n",
              "    </tr>\n",
              "  </thead>\n",
              "  <tbody>\n",
              "    <tr>\n",
              "      <th>2</th>\n",
              "      <td>3</td>\n",
              "      <td>1</td>\n",
              "      <td>28.8</td>\n",
              "      <td>27</td>\n",
              "      <td>11</td>\n",
              "      <td>7</td>\n",
              "    </tr>\n",
              "    <tr>\n",
              "      <th>8</th>\n",
              "      <td>9</td>\n",
              "      <td>3</td>\n",
              "      <td>26.0</td>\n",
              "      <td>28</td>\n",
              "      <td>10</td>\n",
              "      <td>8</td>\n",
              "    </tr>\n",
              "  </tbody>\n",
              "</table>\n",
              "</div>"
            ],
            "text/plain": [
              "   학생번호  학년    악력  윗몸일으키기  점수  순위\n",
              "2     3   1  28.8      27  11   7\n",
              "8     9   3  26.0      28  10   8"
            ]
          },
          "metadata": {
            "tags": []
          },
          "execution_count": 15
        }
      ]
    },
    {
      "cell_type": "markdown",
      "metadata": {
        "id": "NeImYWG7Bwy4"
      },
      "source": [
        "# 데이터의 개요\n",
        "- 데이터의 크기는 shape로 알 수 있"
      ]
    },
    {
      "cell_type": "code",
      "metadata": {
        "colab": {
          "base_uri": "https://localhost:8080/"
        },
        "id": "APQuZKRSB1CH",
        "outputId": "d8f8c1d7-1da5-409e-9db8-8049799a0bba"
      },
      "source": [
        "df.shape"
      ],
      "execution_count": 16,
      "outputs": [
        {
          "output_type": "execute_result",
          "data": {
            "text/plain": [
              "(10, 6)"
            ]
          },
          "metadata": {
            "tags": []
          },
          "execution_count": 16
        }
      ]
    },
    {
      "cell_type": "markdown",
      "metadata": {
        "id": "4yjM69WoB3a3"
      },
      "source": [
        "- 열 이름은 columns임"
      ]
    },
    {
      "cell_type": "code",
      "metadata": {
        "colab": {
          "base_uri": "https://localhost:8080/"
        },
        "id": "4eiSRs7XB2jd",
        "outputId": "5c6fd322-0a92-4e07-f827-c5a2aaec117e"
      },
      "source": [
        "df.columns"
      ],
      "execution_count": 17,
      "outputs": [
        {
          "output_type": "execute_result",
          "data": {
            "text/plain": [
              "Index(['학생번호', '학년', '악력', '윗몸일으키기', '점수', '순위'], dtype='object')"
            ]
          },
          "metadata": {
            "tags": []
          },
          "execution_count": 17
        }
      ]
    },
    {
      "cell_type": "code",
      "metadata": {
        "colab": {
          "base_uri": "https://localhost:8080/"
        },
        "id": "kGZZCRasC31W",
        "outputId": "018c5014-0151-457c-c52a-e138f0e3f9e6"
      },
      "source": [
        "df.index"
      ],
      "execution_count": 18,
      "outputs": [
        {
          "output_type": "execute_result",
          "data": {
            "text/plain": [
              "RangeIndex(start=0, stop=10, step=1)"
            ]
          },
          "metadata": {
            "tags": []
          },
          "execution_count": 18
        }
      ]
    },
    {
      "cell_type": "code",
      "metadata": {
        "colab": {
          "base_uri": "https://localhost:8080/",
          "height": 295
        },
        "id": "86rhXE6mC4y-",
        "outputId": "0ee6c7fb-f5b9-45e3-9b15-5272ad1b1331"
      },
      "source": [
        "df.describe()"
      ],
      "execution_count": 19,
      "outputs": [
        {
          "output_type": "execute_result",
          "data": {
            "text/html": [
              "<div>\n",
              "<style scoped>\n",
              "    .dataframe tbody tr th:only-of-type {\n",
              "        vertical-align: middle;\n",
              "    }\n",
              "\n",
              "    .dataframe tbody tr th {\n",
              "        vertical-align: top;\n",
              "    }\n",
              "\n",
              "    .dataframe thead th {\n",
              "        text-align: right;\n",
              "    }\n",
              "</style>\n",
              "<table border=\"1\" class=\"dataframe\">\n",
              "  <thead>\n",
              "    <tr style=\"text-align: right;\">\n",
              "      <th></th>\n",
              "      <th>학생번호</th>\n",
              "      <th>학년</th>\n",
              "      <th>악력</th>\n",
              "      <th>윗몸일으키기</th>\n",
              "      <th>점수</th>\n",
              "      <th>순위</th>\n",
              "    </tr>\n",
              "  </thead>\n",
              "  <tbody>\n",
              "    <tr>\n",
              "      <th>count</th>\n",
              "      <td>10.00000</td>\n",
              "      <td>10.000000</td>\n",
              "      <td>10.000000</td>\n",
              "      <td>10.000000</td>\n",
              "      <td>10.000000</td>\n",
              "      <td>10.00000</td>\n",
              "    </tr>\n",
              "    <tr>\n",
              "      <th>mean</th>\n",
              "      <td>5.50000</td>\n",
              "      <td>2.100000</td>\n",
              "      <td>38.880000</td>\n",
              "      <td>28.200000</td>\n",
              "      <td>13.000000</td>\n",
              "      <td>5.50000</td>\n",
              "    </tr>\n",
              "    <tr>\n",
              "      <th>std</th>\n",
              "      <td>3.02765</td>\n",
              "      <td>0.875595</td>\n",
              "      <td>8.337306</td>\n",
              "      <td>6.828047</td>\n",
              "      <td>3.651484</td>\n",
              "      <td>3.02765</td>\n",
              "    </tr>\n",
              "    <tr>\n",
              "      <th>min</th>\n",
              "      <td>1.00000</td>\n",
              "      <td>1.000000</td>\n",
              "      <td>26.000000</td>\n",
              "      <td>14.000000</td>\n",
              "      <td>7.000000</td>\n",
              "      <td>1.00000</td>\n",
              "    </tr>\n",
              "    <tr>\n",
              "      <th>25%</th>\n",
              "      <td>3.25000</td>\n",
              "      <td>1.250000</td>\n",
              "      <td>34.775000</td>\n",
              "      <td>27.000000</td>\n",
              "      <td>10.250000</td>\n",
              "      <td>3.25000</td>\n",
              "    </tr>\n",
              "    <tr>\n",
              "      <th>50%</th>\n",
              "      <td>5.50000</td>\n",
              "      <td>2.000000</td>\n",
              "      <td>37.800000</td>\n",
              "      <td>29.500000</td>\n",
              "      <td>13.500000</td>\n",
              "      <td>5.50000</td>\n",
              "    </tr>\n",
              "    <tr>\n",
              "      <th>75%</th>\n",
              "      <td>7.75000</td>\n",
              "      <td>3.000000</td>\n",
              "      <td>45.600000</td>\n",
              "      <td>32.000000</td>\n",
              "      <td>15.750000</td>\n",
              "      <td>7.75000</td>\n",
              "    </tr>\n",
              "    <tr>\n",
              "      <th>max</th>\n",
              "      <td>10.00000</td>\n",
              "      <td>3.000000</td>\n",
              "      <td>50.900000</td>\n",
              "      <td>37.000000</td>\n",
              "      <td>18.000000</td>\n",
              "      <td>10.00000</td>\n",
              "    </tr>\n",
              "  </tbody>\n",
              "</table>\n",
              "</div>"
            ],
            "text/plain": [
              "           학생번호         학년         악력     윗몸일으키기         점수        순위\n",
              "count  10.00000  10.000000  10.000000  10.000000  10.000000  10.00000\n",
              "mean    5.50000   2.100000  38.880000  28.200000  13.000000   5.50000\n",
              "std     3.02765   0.875595   8.337306   6.828047   3.651484   3.02765\n",
              "min     1.00000   1.000000  26.000000  14.000000   7.000000   1.00000\n",
              "25%     3.25000   1.250000  34.775000  27.000000  10.250000   3.25000\n",
              "50%     5.50000   2.000000  37.800000  29.500000  13.500000   5.50000\n",
              "75%     7.75000   3.000000  45.600000  32.000000  15.750000   7.75000\n",
              "max    10.00000   3.000000  50.900000  37.000000  18.000000  10.00000"
            ]
          },
          "metadata": {
            "tags": []
          },
          "execution_count": 19
        }
      ]
    },
    {
      "cell_type": "markdown",
      "metadata": {
        "id": "eb9Ixk8xC8iA"
      },
      "source": [
        "# 데이터의 추가\n",
        "\n",
        "- df에 데이터를 추가 우선은 열의 추가"
      ]
    },
    {
      "cell_type": "code",
      "metadata": {
        "colab": {
          "base_uri": "https://localhost:8080/",
          "height": 357
        },
        "id": "cjAkTUQ-C6bu",
        "outputId": "a5c7b7e7-8829-4992-fcb5-ca1805677a75"
      },
      "source": [
        "df['팔 굽혀 펴기'] = [15,12,10,4,20,24,9,11,11,17]\n",
        "df"
      ],
      "execution_count": 20,
      "outputs": [
        {
          "output_type": "execute_result",
          "data": {
            "text/html": [
              "<div>\n",
              "<style scoped>\n",
              "    .dataframe tbody tr th:only-of-type {\n",
              "        vertical-align: middle;\n",
              "    }\n",
              "\n",
              "    .dataframe tbody tr th {\n",
              "        vertical-align: top;\n",
              "    }\n",
              "\n",
              "    .dataframe thead th {\n",
              "        text-align: right;\n",
              "    }\n",
              "</style>\n",
              "<table border=\"1\" class=\"dataframe\">\n",
              "  <thead>\n",
              "    <tr style=\"text-align: right;\">\n",
              "      <th></th>\n",
              "      <th>학생번호</th>\n",
              "      <th>학년</th>\n",
              "      <th>악력</th>\n",
              "      <th>윗몸일으키기</th>\n",
              "      <th>점수</th>\n",
              "      <th>순위</th>\n",
              "      <th>팔 굽혀 펴기</th>\n",
              "    </tr>\n",
              "  </thead>\n",
              "  <tbody>\n",
              "    <tr>\n",
              "      <th>0</th>\n",
              "      <td>1</td>\n",
              "      <td>1</td>\n",
              "      <td>40.2</td>\n",
              "      <td>34</td>\n",
              "      <td>15</td>\n",
              "      <td>4</td>\n",
              "      <td>15</td>\n",
              "    </tr>\n",
              "    <tr>\n",
              "      <th>1</th>\n",
              "      <td>2</td>\n",
              "      <td>1</td>\n",
              "      <td>34.2</td>\n",
              "      <td>14</td>\n",
              "      <td>7</td>\n",
              "      <td>10</td>\n",
              "      <td>12</td>\n",
              "    </tr>\n",
              "    <tr>\n",
              "      <th>2</th>\n",
              "      <td>3</td>\n",
              "      <td>1</td>\n",
              "      <td>28.8</td>\n",
              "      <td>27</td>\n",
              "      <td>11</td>\n",
              "      <td>7</td>\n",
              "      <td>10</td>\n",
              "    </tr>\n",
              "    <tr>\n",
              "      <th>3</th>\n",
              "      <td>4</td>\n",
              "      <td>2</td>\n",
              "      <td>39.0</td>\n",
              "      <td>27</td>\n",
              "      <td>14</td>\n",
              "      <td>5</td>\n",
              "      <td>4</td>\n",
              "    </tr>\n",
              "    <tr>\n",
              "      <th>4</th>\n",
              "      <td>5</td>\n",
              "      <td>2</td>\n",
              "      <td>50.9</td>\n",
              "      <td>32</td>\n",
              "      <td>17</td>\n",
              "      <td>2</td>\n",
              "      <td>20</td>\n",
              "    </tr>\n",
              "    <tr>\n",
              "      <th>5</th>\n",
              "      <td>6</td>\n",
              "      <td>2</td>\n",
              "      <td>36.5</td>\n",
              "      <td>20</td>\n",
              "      <td>9</td>\n",
              "      <td>9</td>\n",
              "      <td>24</td>\n",
              "    </tr>\n",
              "    <tr>\n",
              "      <th>6</th>\n",
              "      <td>7</td>\n",
              "      <td>3</td>\n",
              "      <td>36.6</td>\n",
              "      <td>31</td>\n",
              "      <td>13</td>\n",
              "      <td>6</td>\n",
              "      <td>9</td>\n",
              "    </tr>\n",
              "    <tr>\n",
              "      <th>7</th>\n",
              "      <td>8</td>\n",
              "      <td>3</td>\n",
              "      <td>49.2</td>\n",
              "      <td>37</td>\n",
              "      <td>18</td>\n",
              "      <td>1</td>\n",
              "      <td>11</td>\n",
              "    </tr>\n",
              "    <tr>\n",
              "      <th>8</th>\n",
              "      <td>9</td>\n",
              "      <td>3</td>\n",
              "      <td>26.0</td>\n",
              "      <td>28</td>\n",
              "      <td>10</td>\n",
              "      <td>8</td>\n",
              "      <td>11</td>\n",
              "    </tr>\n",
              "    <tr>\n",
              "      <th>9</th>\n",
              "      <td>10</td>\n",
              "      <td>3</td>\n",
              "      <td>47.4</td>\n",
              "      <td>32</td>\n",
              "      <td>16</td>\n",
              "      <td>3</td>\n",
              "      <td>17</td>\n",
              "    </tr>\n",
              "  </tbody>\n",
              "</table>\n",
              "</div>"
            ],
            "text/plain": [
              "   학생번호  학년    악력  윗몸일으키기  점수  순위  팔 굽혀 펴기\n",
              "0     1   1  40.2      34  15   4       15\n",
              "1     2   1  34.2      14   7  10       12\n",
              "2     3   1  28.8      27  11   7       10\n",
              "3     4   2  39.0      27  14   5        4\n",
              "4     5   2  50.9      32  17   2       20\n",
              "5     6   2  36.5      20   9   9       24\n",
              "6     7   3  36.6      31  13   6        9\n",
              "7     8   3  49.2      37  18   1       11\n",
              "8     9   3  26.0      28  10   8       11\n",
              "9    10   3  47.4      32  16   3       17"
            ]
          },
          "metadata": {
            "tags": []
          },
          "execution_count": 20
        }
      ]
    },
    {
      "cell_type": "markdown",
      "metadata": {
        "id": "GbVho-i5DPkR"
      },
      "source": [
        "- 다음은 행을 추가"
      ]
    },
    {
      "cell_type": "code",
      "metadata": {
        "colab": {
          "base_uri": "https://localhost:8080/"
        },
        "id": "kroVp5ZbDM6W",
        "outputId": "688031ae-3f98-4c3c-a694-1e63e9ce522d"
      },
      "source": [
        "new_row = pd.Series([11, 3, 42.4, 30, 15, 11, 12], index=df.columns, name=10)\n",
        "new_row"
      ],
      "execution_count": 21,
      "outputs": [
        {
          "output_type": "execute_result",
          "data": {
            "text/plain": [
              "학생번호       11.0\n",
              "학년          3.0\n",
              "악력         42.4\n",
              "윗몸일으키기     30.0\n",
              "점수         15.0\n",
              "순위         11.0\n",
              "팔 굽혀 펴기    12.0\n",
              "Name: 10, dtype: float64"
            ]
          },
          "metadata": {
            "tags": []
          },
          "execution_count": 21
        }
      ]
    },
    {
      "cell_type": "code",
      "metadata": {
        "colab": {
          "base_uri": "https://localhost:8080/",
          "height": 388
        },
        "id": "UaPwuE85DYqM",
        "outputId": "9b021b0e-8c19-4478-ea83-b759f19b9c45"
      },
      "source": [
        "df.append(new_row)"
      ],
      "execution_count": 22,
      "outputs": [
        {
          "output_type": "execute_result",
          "data": {
            "text/html": [
              "<div>\n",
              "<style scoped>\n",
              "    .dataframe tbody tr th:only-of-type {\n",
              "        vertical-align: middle;\n",
              "    }\n",
              "\n",
              "    .dataframe tbody tr th {\n",
              "        vertical-align: top;\n",
              "    }\n",
              "\n",
              "    .dataframe thead th {\n",
              "        text-align: right;\n",
              "    }\n",
              "</style>\n",
              "<table border=\"1\" class=\"dataframe\">\n",
              "  <thead>\n",
              "    <tr style=\"text-align: right;\">\n",
              "      <th></th>\n",
              "      <th>학생번호</th>\n",
              "      <th>학년</th>\n",
              "      <th>악력</th>\n",
              "      <th>윗몸일으키기</th>\n",
              "      <th>점수</th>\n",
              "      <th>순위</th>\n",
              "      <th>팔 굽혀 펴기</th>\n",
              "    </tr>\n",
              "  </thead>\n",
              "  <tbody>\n",
              "    <tr>\n",
              "      <th>0</th>\n",
              "      <td>1.0</td>\n",
              "      <td>1.0</td>\n",
              "      <td>40.2</td>\n",
              "      <td>34.0</td>\n",
              "      <td>15.0</td>\n",
              "      <td>4.0</td>\n",
              "      <td>15.0</td>\n",
              "    </tr>\n",
              "    <tr>\n",
              "      <th>1</th>\n",
              "      <td>2.0</td>\n",
              "      <td>1.0</td>\n",
              "      <td>34.2</td>\n",
              "      <td>14.0</td>\n",
              "      <td>7.0</td>\n",
              "      <td>10.0</td>\n",
              "      <td>12.0</td>\n",
              "    </tr>\n",
              "    <tr>\n",
              "      <th>2</th>\n",
              "      <td>3.0</td>\n",
              "      <td>1.0</td>\n",
              "      <td>28.8</td>\n",
              "      <td>27.0</td>\n",
              "      <td>11.0</td>\n",
              "      <td>7.0</td>\n",
              "      <td>10.0</td>\n",
              "    </tr>\n",
              "    <tr>\n",
              "      <th>3</th>\n",
              "      <td>4.0</td>\n",
              "      <td>2.0</td>\n",
              "      <td>39.0</td>\n",
              "      <td>27.0</td>\n",
              "      <td>14.0</td>\n",
              "      <td>5.0</td>\n",
              "      <td>4.0</td>\n",
              "    </tr>\n",
              "    <tr>\n",
              "      <th>4</th>\n",
              "      <td>5.0</td>\n",
              "      <td>2.0</td>\n",
              "      <td>50.9</td>\n",
              "      <td>32.0</td>\n",
              "      <td>17.0</td>\n",
              "      <td>2.0</td>\n",
              "      <td>20.0</td>\n",
              "    </tr>\n",
              "    <tr>\n",
              "      <th>5</th>\n",
              "      <td>6.0</td>\n",
              "      <td>2.0</td>\n",
              "      <td>36.5</td>\n",
              "      <td>20.0</td>\n",
              "      <td>9.0</td>\n",
              "      <td>9.0</td>\n",
              "      <td>24.0</td>\n",
              "    </tr>\n",
              "    <tr>\n",
              "      <th>6</th>\n",
              "      <td>7.0</td>\n",
              "      <td>3.0</td>\n",
              "      <td>36.6</td>\n",
              "      <td>31.0</td>\n",
              "      <td>13.0</td>\n",
              "      <td>6.0</td>\n",
              "      <td>9.0</td>\n",
              "    </tr>\n",
              "    <tr>\n",
              "      <th>7</th>\n",
              "      <td>8.0</td>\n",
              "      <td>3.0</td>\n",
              "      <td>49.2</td>\n",
              "      <td>37.0</td>\n",
              "      <td>18.0</td>\n",
              "      <td>1.0</td>\n",
              "      <td>11.0</td>\n",
              "    </tr>\n",
              "    <tr>\n",
              "      <th>8</th>\n",
              "      <td>9.0</td>\n",
              "      <td>3.0</td>\n",
              "      <td>26.0</td>\n",
              "      <td>28.0</td>\n",
              "      <td>10.0</td>\n",
              "      <td>8.0</td>\n",
              "      <td>11.0</td>\n",
              "    </tr>\n",
              "    <tr>\n",
              "      <th>9</th>\n",
              "      <td>10.0</td>\n",
              "      <td>3.0</td>\n",
              "      <td>47.4</td>\n",
              "      <td>32.0</td>\n",
              "      <td>16.0</td>\n",
              "      <td>3.0</td>\n",
              "      <td>17.0</td>\n",
              "    </tr>\n",
              "    <tr>\n",
              "      <th>10</th>\n",
              "      <td>11.0</td>\n",
              "      <td>3.0</td>\n",
              "      <td>42.4</td>\n",
              "      <td>30.0</td>\n",
              "      <td>15.0</td>\n",
              "      <td>11.0</td>\n",
              "      <td>12.0</td>\n",
              "    </tr>\n",
              "  </tbody>\n",
              "</table>\n",
              "</div>"
            ],
            "text/plain": [
              "    학생번호   학년    악력  윗몸일으키기    점수    순위  팔 굽혀 펴기\n",
              "0    1.0  1.0  40.2    34.0  15.0   4.0     15.0\n",
              "1    2.0  1.0  34.2    14.0   7.0  10.0     12.0\n",
              "2    3.0  1.0  28.8    27.0  11.0   7.0     10.0\n",
              "3    4.0  2.0  39.0    27.0  14.0   5.0      4.0\n",
              "4    5.0  2.0  50.9    32.0  17.0   2.0     20.0\n",
              "5    6.0  2.0  36.5    20.0   9.0   9.0     24.0\n",
              "6    7.0  3.0  36.6    31.0  13.0   6.0      9.0\n",
              "7    8.0  3.0  49.2    37.0  18.0   1.0     11.0\n",
              "8    9.0  3.0  26.0    28.0  10.0   8.0     11.0\n",
              "9   10.0  3.0  47.4    32.0  16.0   3.0     17.0\n",
              "10  11.0  3.0  42.4    30.0  15.0  11.0     12.0"
            ]
          },
          "metadata": {
            "tags": []
          },
          "execution_count": 22
        }
      ]
    }
  ]
}