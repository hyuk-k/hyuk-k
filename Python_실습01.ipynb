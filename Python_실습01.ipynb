{
  "nbformat": 4,
  "nbformat_minor": 0,
  "metadata": {
    "colab": {
      "name": "Python_실습01.ipynb",
      "provenance": [],
      "collapsed_sections": [],
      "authorship_tag": "ABX9TyOKokeajAinVbvhVRcKWNJL",
      "include_colab_link": true
    },
    "kernelspec": {
      "name": "python3",
      "display_name": "Python 3"
    },
    "language_info": {
      "name": "python"
    }
  },
  "cells": [
    {
      "cell_type": "markdown",
      "metadata": {
        "id": "view-in-github",
        "colab_type": "text"
      },
      "source": [
        "<a href=\"https://colab.research.google.com/github/hyuk-k/hyuk-k/blob/main/Python_%EC%8B%A4%EC%8A%B501.ipynb\" target=\"_parent\"><img src=\"https://colab.research.google.com/assets/colab-badge.svg\" alt=\"Open In Colab\"/></a>"
      ]
    },
    {
      "cell_type": "markdown",
      "metadata": {
        "id": "bqj2CH_1JepH"
      },
      "source": [
        "# 수치\n",
        "## 연산\n",
        "- 덧셈\n"
      ]
    },
    {
      "cell_type": "code",
      "metadata": {
        "colab": {
          "base_uri": "https://localhost:8080/"
        },
        "id": "R1lJc1SrJNrC",
        "outputId": "bc728be9-6b77-4ef8-e7bb-cfc1a92ff108"
      },
      "source": [
        "1+1"
      ],
      "execution_count": 2,
      "outputs": [
        {
          "output_type": "execute_result",
          "data": {
            "text/plain": [
              "2"
            ]
          },
          "metadata": {
            "tags": []
          },
          "execution_count": 2
        }
      ]
    },
    {
      "cell_type": "markdown",
      "metadata": {
        "id": "9g7Wg3KIJlGk"
      },
      "source": [
        "- 곱셈"
      ]
    },
    {
      "cell_type": "code",
      "metadata": {
        "colab": {
          "base_uri": "https://localhost:8080/"
        },
        "id": "7uIUh-N5Jj1R",
        "outputId": "f9c34e02-1e61-4765-8838-14fca85c9121"
      },
      "source": [
        "2*-3"
      ],
      "execution_count": 3,
      "outputs": [
        {
          "output_type": "execute_result",
          "data": {
            "text/plain": [
              "-6"
            ]
          },
          "metadata": {
            "tags": []
          },
          "execution_count": 3
        }
      ]
    },
    {
      "cell_type": "markdown",
      "metadata": {
        "id": "MpFbm3ZZJpGj"
      },
      "source": [
        "- 나눗셈"
      ]
    },
    {
      "cell_type": "code",
      "metadata": {
        "colab": {
          "base_uri": "https://localhost:8080/"
        },
        "id": "ZPuSaolyJirZ",
        "outputId": "76a8543b-9495-470a-ff14-cbcbdd109d58"
      },
      "source": [
        "4/3"
      ],
      "execution_count": 4,
      "outputs": [
        {
          "output_type": "execute_result",
          "data": {
            "text/plain": [
              "1.3333333333333333"
            ]
          },
          "metadata": {
            "tags": []
          },
          "execution_count": 4
        }
      ]
    },
    {
      "cell_type": "markdown",
      "metadata": {
        "id": "fQ0tAT7YJtRE"
      },
      "source": [
        "- 몫"
      ]
    },
    {
      "cell_type": "code",
      "metadata": {
        "colab": {
          "base_uri": "https://localhost:8080/"
        },
        "id": "E8os2EQdJsdg",
        "outputId": "662214ef-7bdc-4707-8760-7006f7cf7bdd"
      },
      "source": [
        "4//3"
      ],
      "execution_count": 5,
      "outputs": [
        {
          "output_type": "execute_result",
          "data": {
            "text/plain": [
              "1"
            ]
          },
          "metadata": {
            "tags": []
          },
          "execution_count": 5
        }
      ]
    },
    {
      "cell_type": "markdown",
      "metadata": {
        "id": "3loNEBYhJvZk"
      },
      "source": [
        "- 나머지"
      ]
    },
    {
      "cell_type": "code",
      "metadata": {
        "colab": {
          "base_uri": "https://localhost:8080/"
        },
        "id": "idBhbBp1JutP",
        "outputId": "9612284c-82ef-41a6-b3c6-3dbe738f0eb0"
      },
      "source": [
        "4%3"
      ],
      "execution_count": 7,
      "outputs": [
        {
          "output_type": "execute_result",
          "data": {
            "text/plain": [
              "1"
            ]
          },
          "metadata": {
            "tags": []
          },
          "execution_count": 7
        }
      ]
    },
    {
      "cell_type": "markdown",
      "metadata": {
        "id": "EE3MJ_eeJyKi"
      },
      "source": [
        "- 제곱"
      ]
    },
    {
      "cell_type": "code",
      "metadata": {
        "colab": {
          "base_uri": "https://localhost:8080/"
        },
        "id": "Q4wyjeTuJ1XY",
        "outputId": "ac6399ad-71f9-4c20-a4be-28c0e9b9f471"
      },
      "source": [
        "3**2"
      ],
      "execution_count": 8,
      "outputs": [
        {
          "output_type": "execute_result",
          "data": {
            "text/plain": [
              "9"
            ]
          },
          "metadata": {
            "tags": []
          },
          "execution_count": 8
        }
      ]
    },
    {
      "cell_type": "markdown",
      "metadata": {
        "id": "DlJJUJzWJ3iI"
      },
      "source": [
        "- 비교 연산자"
      ]
    },
    {
      "cell_type": "code",
      "metadata": {
        "colab": {
          "base_uri": "https://localhost:8080/"
        },
        "id": "nBWYTQG0J3Lh",
        "outputId": "c8282836-9481-48c8-83f4-bbbe082213e7"
      },
      "source": [
        "2<3"
      ],
      "execution_count": 9,
      "outputs": [
        {
          "output_type": "execute_result",
          "data": {
            "text/plain": [
              "True"
            ]
          },
          "metadata": {
            "tags": []
          },
          "execution_count": 9
        }
      ]
    },
    {
      "cell_type": "markdown",
      "metadata": {
        "id": "yx3b52dEJ7DS"
      },
      "source": [
        "## 변수"
      ]
    },
    {
      "cell_type": "code",
      "metadata": {
        "colab": {
          "base_uri": "https://localhost:8080/"
        },
        "id": "9C8Ws7B3J6LX",
        "outputId": "ba6c49a7-eb40-42a4-e117-6e64c1ccb955"
      },
      "source": [
        "a=2\n",
        "a"
      ],
      "execution_count": 10,
      "outputs": [
        {
          "output_type": "execute_result",
          "data": {
            "text/plain": [
              "2"
            ]
          },
          "metadata": {
            "tags": []
          },
          "execution_count": 10
        }
      ]
    },
    {
      "cell_type": "code",
      "metadata": {
        "colab": {
          "base_uri": "https://localhost:8080/"
        },
        "id": "LXvF1dmbKqOg",
        "outputId": "2ee7ee89-fb2e-4bfc-81a9-88e04c7f756a"
      },
      "source": [
        "a=a+3\n",
        "a"
      ],
      "execution_count": 11,
      "outputs": [
        {
          "output_type": "execute_result",
          "data": {
            "text/plain": [
              "5"
            ]
          },
          "metadata": {
            "tags": []
          },
          "execution_count": 11
        }
      ]
    },
    {
      "cell_type": "markdown",
      "metadata": {
        "id": "RyyNEdAHKtIy"
      },
      "source": [
        "# 문자열\n",
        "## 문자열의 기본\n",
        "- 문자열은 작은 따옴표로 둘러쌈"
      ]
    },
    {
      "cell_type": "code",
      "metadata": {
        "colab": {
          "base_uri": "https://localhost:8080/",
          "height": 35
        },
        "id": "AxxIkLzKKr4J",
        "outputId": "1aaf41d0-72ab-4989-a27c-2609d47a2f1d"
      },
      "source": [
        "'Hello World'"
      ],
      "execution_count": 12,
      "outputs": [
        {
          "output_type": "execute_result",
          "data": {
            "application/vnd.google.colaboratory.intrinsic+json": {
              "type": "string"
            },
            "text/plain": [
              "'Hello World'"
            ]
          },
          "metadata": {
            "tags": []
          },
          "execution_count": 12
        }
      ]
    },
    {
      "cell_type": "markdown",
      "metadata": {
        "id": "uJoBe1MbLDOl"
      },
      "source": [
        "- 큰 따옴표도 동일"
      ]
    },
    {
      "cell_type": "code",
      "metadata": {
        "colab": {
          "base_uri": "https://localhost:8080/",
          "height": 35
        },
        "id": "G-E-zSlsLHDP",
        "outputId": "a26dbc3b-df7a-48d4-ac55-9adb6efec880"
      },
      "source": [
        "\"Hello World\""
      ],
      "execution_count": 13,
      "outputs": [
        {
          "output_type": "execute_result",
          "data": {
            "application/vnd.google.colaboratory.intrinsic+json": {
              "type": "string"
            },
            "text/plain": [
              "'Hello World'"
            ]
          },
          "metadata": {
            "tags": []
          },
          "execution_count": 13
        }
      ]
    },
    {
      "cell_type": "markdown",
      "metadata": {
        "id": "qOeX1sGjLKOH"
      },
      "source": [
        "- 한글도 동일하게 다룰수 있"
      ]
    },
    {
      "cell_type": "code",
      "metadata": {
        "colab": {
          "base_uri": "https://localhost:8080/",
          "height": 35
        },
        "id": "XfyxOWtzOLKY",
        "outputId": "0c9f68e6-c15b-4089-9a1f-6e5a68190a3f"
      },
      "source": [
        "'박혜자 안녕!'"
      ],
      "execution_count": 14,
      "outputs": [
        {
          "output_type": "execute_result",
          "data": {
            "application/vnd.google.colaboratory.intrinsic+json": {
              "type": "string"
            },
            "text/plain": [
              "'박혜자 안녕!'"
            ]
          },
          "metadata": {
            "tags": []
          },
          "execution_count": 14
        }
      ]
    },
    {
      "cell_type": "markdown",
      "metadata": {
        "id": "AE4cHndHONIb"
      },
      "source": [
        "- print 문으로도 표시할 수 있음"
      ]
    },
    {
      "cell_type": "code",
      "metadata": {
        "colab": {
          "base_uri": "https://localhost:8080/"
        },
        "id": "ScvFnbo5OMqx",
        "outputId": "d5f4def4-75e2-4f92-caff-e29996959126"
      },
      "source": [
        "print('hello', 'world')"
      ],
      "execution_count": 16,
      "outputs": [
        {
          "output_type": "stream",
          "text": [
            "hello world\n"
          ],
          "name": "stdout"
        }
      ]
    },
    {
      "cell_type": "markdown",
      "metadata": {
        "id": "YODqvfxzSDhj"
      },
      "source": [
        "## 문자열의 연산"
      ]
    },
    {
      "cell_type": "code",
      "metadata": {
        "id": "qdAv1FlJSAki"
      },
      "source": [
        "a = 'hello'\n",
        "b = 'world'"
      ],
      "execution_count": 17,
      "outputs": []
    },
    {
      "cell_type": "markdown",
      "metadata": {
        "id": "V9W7po0TSKaQ"
      },
      "source": [
        "문자열은 +로 결합할 수 있음"
      ]
    },
    {
      "cell_type": "code",
      "metadata": {
        "colab": {
          "base_uri": "https://localhost:8080/",
          "height": 35
        },
        "id": "GTEyelS-LJFI",
        "outputId": "00b729fc-3c67-4efb-b671-4fdfa1227ee4"
      },
      "source": [
        "a+b"
      ],
      "execution_count": 18,
      "outputs": [
        {
          "output_type": "execute_result",
          "data": {
            "application/vnd.google.colaboratory.intrinsic+json": {
              "type": "string"
            },
            "text/plain": [
              "'helloworld'"
            ]
          },
          "metadata": {
            "tags": []
          },
          "execution_count": 18
        }
      ]
    },
    {
      "cell_type": "markdown",
      "metadata": {
        "id": "MDZ7b3RjSRo7"
      },
      "source": [
        "- 슬라이스로 문자열의 일부분을 추출할 수 잇음\n",
        "- 2문자열까지 추출"
      ]
    },
    {
      "cell_type": "code",
      "metadata": {
        "colab": {
          "base_uri": "https://localhost:8080/",
          "height": 35
        },
        "id": "_ivxPYZfShUA",
        "outputId": "3dfff916-8ce9-41b1-e7c4-2a0a7d1d7d75"
      },
      "source": [
        "a[:2]"
      ],
      "execution_count": 20,
      "outputs": [
        {
          "output_type": "execute_result",
          "data": {
            "application/vnd.google.colaboratory.intrinsic+json": {
              "type": "string"
            },
            "text/plain": [
              "'he'"
            ]
          },
          "metadata": {
            "tags": []
          },
          "execution_count": 20
        }
      ]
    },
    {
      "cell_type": "markdown",
      "metadata": {
        "id": "nKdDJ2WJSkPF"
      },
      "source": [
        "- 3문자열부터 4문자열까지"
      ]
    },
    {
      "cell_type": "code",
      "metadata": {
        "colab": {
          "base_uri": "https://localhost:8080/",
          "height": 35
        },
        "id": "oY_0lzo1SP2x",
        "outputId": "9c9747fd-d651-4498-a28f-1f2b97d47b97"
      },
      "source": [
        "a[2:4]"
      ],
      "execution_count": 19,
      "outputs": [
        {
          "output_type": "execute_result",
          "data": {
            "application/vnd.google.colaboratory.intrinsic+json": {
              "type": "string"
            },
            "text/plain": [
              "'ll'"
            ]
          },
          "metadata": {
            "tags": []
          },
          "execution_count": 19
        }
      ]
    },
    {
      "cell_type": "markdown",
      "metadata": {
        "id": "P2YbNTukSo0j"
      },
      "source": [
        "## f-strings"
      ]
    },
    {
      "cell_type": "code",
      "metadata": {
        "id": "XckfsZkESd0D"
      },
      "source": [
        "a= 'test'\n",
        "b=3"
      ],
      "execution_count": 21,
      "outputs": []
    },
    {
      "cell_type": "markdown",
      "metadata": {
        "id": "DzG8Y6XTSuIN"
      },
      "source": [
        "f-strings을 사용하여, 문자열 내의 변수를 그대로 출력할 수 잇음"
      ]
    },
    {
      "cell_type": "code",
      "metadata": {
        "colab": {
          "base_uri": "https://localhost:8080/",
          "height": 35
        },
        "id": "qcfPDOxoLCop",
        "outputId": "184752b9-72b7-4914-fa79-12684f1025da"
      },
      "source": [
        "f'{a} is {b}'"
      ],
      "execution_count": 22,
      "outputs": [
        {
          "output_type": "execute_result",
          "data": {
            "application/vnd.google.colaboratory.intrinsic+json": {
              "type": "string"
            },
            "text/plain": [
              "'test is 3'"
            ]
          },
          "metadata": {
            "tags": []
          },
          "execution_count": 22
        }
      ]
    },
    {
      "cell_type": "code",
      "metadata": {
        "colab": {
          "base_uri": "https://localhost:8080/"
        },
        "id": "8VSQtFGITDgc",
        "outputId": "9598c72c-6289-434d-dbf8-10dab0895bab"
      },
      "source": [
        "o = 100/7\n",
        "o"
      ],
      "execution_count": 24,
      "outputs": [
        {
          "output_type": "execute_result",
          "data": {
            "text/plain": [
              "14.285714285714286"
            ]
          },
          "metadata": {
            "tags": []
          },
          "execution_count": 24
        }
      ]
    },
    {
      "cell_type": "markdown",
      "metadata": {
        "id": "MdSiZh-PS-cD"
      },
      "source": [
        "- 다음과 같이 자리수 조정을 할 수 있음"
      ]
    },
    {
      "cell_type": "code",
      "metadata": {
        "colab": {
          "base_uri": "https://localhost:8080/",
          "height": 35
        },
        "id": "UgLG7XfkS1Cz",
        "outputId": "43c539aa-efa8-405a-b070-85cc53500d90"
      },
      "source": [
        "f'{o:.2f}'"
      ],
      "execution_count": 25,
      "outputs": [
        {
          "output_type": "execute_result",
          "data": {
            "application/vnd.google.colaboratory.intrinsic+json": {
              "type": "string"
            },
            "text/plain": [
              "'14.29'"
            ]
          },
          "metadata": {
            "tags": []
          },
          "execution_count": 25
        }
      ]
    },
    {
      "cell_type": "markdown",
      "metadata": {
        "id": "Q5XsI6AUVL-8"
      },
      "source": [
        "## 주석\n",
        "- # 이후의 문자는 주석으로 취급"
      ]
    },
    {
      "cell_type": "code",
      "metadata": {
        "colab": {
          "base_uri": "https://localhost:8080/"
        },
        "id": "l58y9RB_TLnd",
        "outputId": "cfe5523a-a62e-460b-b4d8-57107c2a5962"
      },
      "source": [
        "a = 3+4\n",
        "# 이행은 주석으로 영향이 없습니다.\n",
        "a"
      ],
      "execution_count": 26,
      "outputs": [
        {
          "output_type": "execute_result",
          "data": {
            "text/plain": [
              "7"
            ]
          },
          "metadata": {
            "tags": []
          },
          "execution_count": 26
        }
      ]
    },
    {
      "cell_type": "code",
      "metadata": {
        "colab": {
          "base_uri": "https://localhost:8080/"
        },
        "id": "yYmxodcvVuLN",
        "outputId": "8dbd6bbb-b40b-4440-d8a5-6c48f9dffc32"
      },
      "source": [
        "b= 2*4 # 여기에 작성해도 무방합니다.\n",
        "b"
      ],
      "execution_count": 27,
      "outputs": [
        {
          "output_type": "execute_result",
          "data": {
            "text/plain": [
              "8"
            ]
          },
          "metadata": {
            "tags": []
          },
          "execution_count": 27
        }
      ]
    },
    {
      "cell_type": "markdown",
      "metadata": {
        "id": "G9NTjW62WuL8"
      },
      "source": [
        "# 리스트\n",
        "## 리스트의 기본\n",
        "- python의 리스트는 []로 둘러쌉니다."
      ]
    },
    {
      "cell_type": "code",
      "metadata": {
        "colab": {
          "base_uri": "https://localhost:8080/"
        },
        "id": "J852_ycFWtqI",
        "outputId": "c19457d2-5458-4afc-c332-9d48bf9a4e13"
      },
      "source": [
        "[2,3,4]"
      ],
      "execution_count": 28,
      "outputs": [
        {
          "output_type": "execute_result",
          "data": {
            "text/plain": [
              "[2, 3, 4]"
            ]
          },
          "metadata": {
            "tags": []
          },
          "execution_count": 28
        }
      ]
    },
    {
      "cell_type": "markdown",
      "metadata": {
        "id": "QcDspU-kX09E"
      },
      "source": [
        "- 리스트의 요소는 동일한 종류가 아니어도 문제가 없"
      ]
    },
    {
      "cell_type": "code",
      "metadata": {
        "colab": {
          "base_uri": "https://localhost:8080/"
        },
        "id": "P_F6klYBX4j1",
        "outputId": "be560fcb-99b5-43a2-ef6a-dfa48dbaee9e"
      },
      "source": [
        "[2, '문자열',[2,3]]"
      ],
      "execution_count": 29,
      "outputs": [
        {
          "output_type": "execute_result",
          "data": {
            "text/plain": [
              "[2, '문자열', [2, 3]]"
            ]
          },
          "metadata": {
            "tags": []
          },
          "execution_count": 29
        }
      ]
    },
    {
      "cell_type": "markdown",
      "metadata": {
        "id": "wRlVe27zYP9f"
      },
      "source": [
        "- 리스트를 끼워 넣음으로써 다차원 배열을 만듬"
      ]
    },
    {
      "cell_type": "code",
      "metadata": {
        "colab": {
          "base_uri": "https://localhost:8080/"
        },
        "id": "6GmpR_y8X7Vm",
        "outputId": "8e60f60c-0d11-42d0-b53a-1cbf3e8ab9d0"
      },
      "source": [
        "[[1,2],[2,3]]"
      ],
      "execution_count": 30,
      "outputs": [
        {
          "output_type": "execute_result",
          "data": {
            "text/plain": [
              "[[1, 2], [2, 3]]"
            ]
          },
          "metadata": {
            "tags": []
          },
          "execution_count": 30
        }
      ]
    },
    {
      "cell_type": "markdown",
      "metadata": {
        "id": "2UCN00smYVcK"
      },
      "source": [
        "## 리스트의 연산"
      ]
    },
    {
      "cell_type": "code",
      "metadata": {
        "id": "M936zTNEYUvl"
      },
      "source": [
        "a=[1,2,3]\n",
        "b=[3,4,5,6]"
      ],
      "execution_count": 31,
      "outputs": []
    },
    {
      "cell_type": "markdown",
      "metadata": {
        "id": "qs5D2SNUY9yU"
      },
      "source": [
        "- 리스트 연결"
      ]
    },
    {
      "cell_type": "code",
      "metadata": {
        "colab": {
          "base_uri": "https://localhost:8080/"
        },
        "id": "MMm03yHWYYxO",
        "outputId": "c664eb6c-5cdb-4c0d-80ba-d8e2efee71fd"
      },
      "source": [
        "a+b"
      ],
      "execution_count": 32,
      "outputs": [
        {
          "output_type": "execute_result",
          "data": {
            "text/plain": [
              "[1, 2, 3, 3, 4, 5, 6]"
            ]
          },
          "metadata": {
            "tags": []
          },
          "execution_count": 32
        }
      ]
    },
    {
      "cell_type": "markdown",
      "metadata": {
        "id": "TIKRqMoXZA9e"
      },
      "source": [
        "- 리스트 추가"
      ]
    },
    {
      "cell_type": "code",
      "metadata": {
        "colab": {
          "base_uri": "https://localhost:8080/"
        },
        "id": "utlk6KehZAah",
        "outputId": "c1cb1a3a-4f56-4c70-8897-1902d6082b66"
      },
      "source": [
        "a.append(3)\n",
        "a"
      ],
      "execution_count": 33,
      "outputs": [
        {
          "output_type": "execute_result",
          "data": {
            "text/plain": [
              "[1, 2, 3, 3]"
            ]
          },
          "metadata": {
            "tags": []
          },
          "execution_count": 33
        }
      ]
    },
    {
      "cell_type": "markdown",
      "metadata": {
        "id": "2x2UhAg0ZWYv"
      },
      "source": [
        "- 슬라이스"
      ]
    },
    {
      "cell_type": "code",
      "metadata": {
        "colab": {
          "base_uri": "https://localhost:8080/"
        },
        "id": "va98Ysw_ZE-u",
        "outputId": "baab6888-f218-4c4a-ec89-4e505ca81ba9"
      },
      "source": [
        "b[:3]"
      ],
      "execution_count": 34,
      "outputs": [
        {
          "output_type": "execute_result",
          "data": {
            "text/plain": [
              "[3, 4, 5]"
            ]
          },
          "metadata": {
            "tags": []
          },
          "execution_count": 34
        }
      ]
    },
    {
      "cell_type": "code",
      "metadata": {
        "colab": {
          "base_uri": "https://localhost:8080/"
        },
        "id": "U45wKQQ-ZZGP",
        "outputId": "6cec0ba9-15fc-4a5b-c947-28d6075dc977"
      },
      "source": [
        "b[1:3]"
      ],
      "execution_count": 35,
      "outputs": [
        {
          "output_type": "execute_result",
          "data": {
            "text/plain": [
              "[4, 5]"
            ]
          },
          "metadata": {
            "tags": []
          },
          "execution_count": 35
        }
      ]
    },
    {
      "cell_type": "markdown",
      "metadata": {
        "id": "kUMClD2lZbVd"
      },
      "source": [
        "## 딕셔너리"
      ]
    },
    {
      "cell_type": "code",
      "metadata": {
        "colab": {
          "base_uri": "https://localhost:8080/"
        },
        "id": "s-bc2Bj2ZaAH",
        "outputId": "d1aacd04-736c-4868-a52d-22f61af9cf46"
      },
      "source": [
        "d= {'python':2,'통계':3}\n",
        "d"
      ],
      "execution_count": 36,
      "outputs": [
        {
          "output_type": "execute_result",
          "data": {
            "text/plain": [
              "{'python': 2, '통계': 3}"
            ]
          },
          "metadata": {
            "tags": []
          },
          "execution_count": 36
        }
      ]
    },
    {
      "cell_type": "code",
      "metadata": {
        "colab": {
          "base_uri": "https://localhost:8080/"
        },
        "id": "nc_Ljr8AaE64",
        "outputId": "5764d606-7cb3-4657-efdd-a9dfcb94e3c0"
      },
      "source": [
        "d['python']"
      ],
      "execution_count": 37,
      "outputs": [
        {
          "output_type": "execute_result",
          "data": {
            "text/plain": [
              "2"
            ]
          },
          "metadata": {
            "tags": []
          },
          "execution_count": 37
        }
      ]
    },
    {
      "cell_type": "code",
      "metadata": {
        "colab": {
          "base_uri": "https://localhost:8080/"
        },
        "id": "DrWIWez9aHFA",
        "outputId": "46b44423-d4bb-4fca-a99f-69e37c55b976"
      },
      "source": [
        "d.keys()"
      ],
      "execution_count": 38,
      "outputs": [
        {
          "output_type": "execute_result",
          "data": {
            "text/plain": [
              "dict_keys(['python', '통계'])"
            ]
          },
          "metadata": {
            "tags": []
          },
          "execution_count": 38
        }
      ]
    },
    {
      "cell_type": "code",
      "metadata": {
        "colab": {
          "base_uri": "https://localhost:8080/"
        },
        "id": "bOg1A1IIaIlf",
        "outputId": "a2a18687-6957-42f6-e8ad-f1c22470748f"
      },
      "source": [
        "d.values()"
      ],
      "execution_count": 39,
      "outputs": [
        {
          "output_type": "execute_result",
          "data": {
            "text/plain": [
              "dict_values([2, 3])"
            ]
          },
          "metadata": {
            "tags": []
          },
          "execution_count": 39
        }
      ]
    },
    {
      "cell_type": "markdown",
      "metadata": {
        "id": "Q8SOFmITa0fp"
      },
      "source": [
        "# if 문"
      ]
    },
    {
      "cell_type": "code",
      "metadata": {
        "colab": {
          "base_uri": "https://localhost:8080/"
        },
        "id": "cLIms58SaJs2",
        "outputId": "bc63ca40-745d-4f4c-af24-cb3f88e27769"
      },
      "source": [
        "x=2\n",
        "if x<3:\n",
        "  print(f'{x}는 3보다 작다')\n",
        "else:\n",
        "  print(f'{x}는 3이상')"
      ],
      "execution_count": 40,
      "outputs": [
        {
          "output_type": "stream",
          "text": [
            "2는 3보다 작다\n"
          ],
          "name": "stdout"
        }
      ]
    },
    {
      "cell_type": "markdown",
      "metadata": {
        "id": "XgD5qh2kbENv"
      },
      "source": [
        "# for문"
      ]
    },
    {
      "cell_type": "code",
      "metadata": {
        "colab": {
          "base_uri": "https://localhost:8080/"
        },
        "id": "xSGYPM5sbBR_",
        "outputId": "e2157f47-022e-4ab1-acb1-a72b1e7ab0fb"
      },
      "source": [
        "for i in range(5):\n",
        "  print(i)"
      ],
      "execution_count": 41,
      "outputs": [
        {
          "output_type": "stream",
          "text": [
            "0\n",
            "1\n",
            "2\n",
            "3\n",
            "4\n"
          ],
          "name": "stdout"
        }
      ]
    },
    {
      "cell_type": "markdown",
      "metadata": {
        "id": "DLwQ_Z-rbJbf"
      },
      "source": [
        "## 리스트 내부 표기\n",
        "- 예를 들면, 0부터 8까지의 짝수 리스트를 만들고 싶을때"
      ]
    },
    {
      "cell_type": "code",
      "metadata": {
        "colab": {
          "base_uri": "https://localhost:8080/"
        },
        "id": "YlMQGIsIX0T9",
        "outputId": "f488c06f-0c3a-4193-8a1a-59a1521f1d81"
      },
      "source": [
        "a = []\n",
        "for i in range(5):\n",
        "  a.append(2*i)\n",
        "\n",
        "a"
      ],
      "execution_count": 43,
      "outputs": [
        {
          "output_type": "execute_result",
          "data": {
            "text/plain": [
              "[0, 2, 4, 6, 8]"
            ]
          },
          "metadata": {
            "tags": []
          },
          "execution_count": 43
        }
      ]
    },
    {
      "cell_type": "code",
      "metadata": {
        "colab": {
          "base_uri": "https://localhost:8080/"
        },
        "id": "XQs9xK68bknQ",
        "outputId": "20701c81-58bd-4539-f5cf-8fa5394e9073"
      },
      "source": [
        "[2*i for i in range(5)]"
      ],
      "execution_count": 44,
      "outputs": [
        {
          "output_type": "execute_result",
          "data": {
            "text/plain": [
              "[0, 2, 4, 6, 8]"
            ]
          },
          "metadata": {
            "tags": []
          },
          "execution_count": 44
        }
      ]
    },
    {
      "cell_type": "code",
      "metadata": {
        "colab": {
          "base_uri": "https://localhost:8080/"
        },
        "id": "7RJ5ZikubpY_",
        "outputId": "bd95f77e-85eb-4ac8-dc27-6e907130a1e2"
      },
      "source": [
        "[i for i in range(10) if i %2 ==0]"
      ],
      "execution_count": 46,
      "outputs": [
        {
          "output_type": "execute_result",
          "data": {
            "text/plain": [
              "[0, 2, 4, 6, 8]"
            ]
          },
          "metadata": {
            "tags": []
          },
          "execution_count": 46
        }
      ]
    },
    {
      "cell_type": "code",
      "metadata": {
        "colab": {
          "base_uri": "https://localhost:8080/"
        },
        "id": "h7oVJzhKbyHP",
        "outputId": "9bd491ee-b8ec-404c-c7db-8d00a183eca9"
      },
      "source": [
        "[i if i%2 ==0 else 1 for i in range(10)]"
      ],
      "execution_count": 47,
      "outputs": [
        {
          "output_type": "execute_result",
          "data": {
            "text/plain": [
              "[0, 1, 2, 1, 4, 1, 6, 1, 8, 1]"
            ]
          },
          "metadata": {
            "tags": []
          },
          "execution_count": 47
        }
      ]
    },
    {
      "cell_type": "markdown",
      "metadata": {
        "id": "iRy1UIvfb6IG"
      },
      "source": [
        "# 함수"
      ]
    },
    {
      "cell_type": "code",
      "metadata": {
        "id": "Ex-JgBKlb5i_"
      },
      "source": [
        "def test(a,b):\n",
        "  return a+b"
      ],
      "execution_count": 48,
      "outputs": []
    },
    {
      "cell_type": "code",
      "metadata": {
        "colab": {
          "base_uri": "https://localhost:8080/"
        },
        "id": "D8F0uoRzb-u3",
        "outputId": "f2305d73-1cb4-4582-ccb0-b7a2097a1ef8"
      },
      "source": [
        "test(2,3)"
      ],
      "execution_count": 49,
      "outputs": [
        {
          "output_type": "execute_result",
          "data": {
            "text/plain": [
              "5"
            ]
          },
          "metadata": {
            "tags": []
          },
          "execution_count": 49
        }
      ]
    }
  ]
}