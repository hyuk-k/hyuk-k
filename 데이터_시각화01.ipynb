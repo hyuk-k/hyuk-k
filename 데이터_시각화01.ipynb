{
  "nbformat": 4,
  "nbformat_minor": 0,
  "metadata": {
    "colab": {
      "name": "데이터 시각화01.ipynb",
      "provenance": [],
      "collapsed_sections": [],
      "authorship_tag": "ABX9TyPJIVC98DoRD/VW5SNi7kNV",
      "include_colab_link": true
    },
    "kernelspec": {
      "name": "python3",
      "display_name": "Python 3"
    },
    "language_info": {
      "name": "python"
    }
  },
  "cells": [
    {
      "cell_type": "markdown",
      "metadata": {
        "id": "view-in-github",
        "colab_type": "text"
      },
      "source": [
        "<a href=\"https://colab.research.google.com/github/hyuk-k/hyuk-k/blob/main/%EB%8D%B0%EC%9D%B4%ED%84%B0_%EC%8B%9C%EA%B0%81%ED%99%9401.ipynb\" target=\"_parent\"><img src=\"https://colab.research.google.com/assets/colab-badge.svg\" alt=\"Open In Colab\"/></a>"
      ]
    },
    {
      "cell_type": "markdown",
      "metadata": {
        "id": "aHa54qI-m-cj"
      },
      "source": [
        "# 데이터 시각화\n",
        "- 설치 후 '런타임 다시 시작'"
      ]
    },
    {
      "cell_type": "code",
      "metadata": {
        "colab": {
          "base_uri": "https://localhost:8080/"
        },
        "id": "kcNVdCX5iIBL",
        "outputId": "fdd9c338-7a8d-4222-ed6b-f780665f9c7c"
      },
      "source": [
        "!apt-get update\n",
        "!apt-get install -y fonts-nanum\n",
        "!fo-cache -fv\n",
        "!rm ~/.cache/matplotlib -rf"
      ],
      "execution_count": 1,
      "outputs": [
        {
          "output_type": "stream",
          "text": [
            "Get:1 http://security.ubuntu.com/ubuntu bionic-security InRelease [88.7 kB]\n",
            "Get:2 https://cloud.r-project.org/bin/linux/ubuntu bionic-cran40/ InRelease [3,626 B]\n",
            "Ign:3 https://developer.download.nvidia.com/compute/cuda/repos/ubuntu1804/x86_64  InRelease\n",
            "Get:4 http://ppa.launchpad.net/c2d4u.team/c2d4u4.0+/ubuntu bionic InRelease [15.9 kB]\n",
            "Hit:5 http://archive.ubuntu.com/ubuntu bionic InRelease\n",
            "Ign:6 https://developer.download.nvidia.com/compute/machine-learning/repos/ubuntu1804/x86_64  InRelease\n",
            "Get:7 https://developer.download.nvidia.com/compute/cuda/repos/ubuntu1804/x86_64  Release [697 B]\n",
            "Hit:8 https://developer.download.nvidia.com/compute/machine-learning/repos/ubuntu1804/x86_64  Release\n",
            "Get:9 https://developer.download.nvidia.com/compute/cuda/repos/ubuntu1804/x86_64  Release.gpg [836 B]\n",
            "Get:10 http://archive.ubuntu.com/ubuntu bionic-updates InRelease [88.7 kB]\n",
            "Get:11 http://security.ubuntu.com/ubuntu bionic-security/restricted amd64 Packages [510 kB]\n",
            "Hit:12 http://ppa.launchpad.net/cran/libgit2/ubuntu bionic InRelease\n",
            "Get:13 http://security.ubuntu.com/ubuntu bionic-security/main amd64 Packages [2,263 kB]\n",
            "Get:14 http://archive.ubuntu.com/ubuntu bionic-backports InRelease [74.6 kB]\n",
            "Get:15 http://security.ubuntu.com/ubuntu bionic-security/universe amd64 Packages [1,420 kB]\n",
            "Get:16 http://ppa.launchpad.net/deadsnakes/ppa/ubuntu bionic InRelease [15.9 kB]\n",
            "Get:17 http://security.ubuntu.com/ubuntu bionic-security/multiverse amd64 Packages [26.7 kB]\n",
            "Get:18 https://cloud.r-project.org/bin/linux/ubuntu bionic-cran40/ Packages [62.9 kB]\n",
            "Get:19 http://ppa.launchpad.net/graphics-drivers/ppa/ubuntu bionic InRelease [21.3 kB]\n",
            "Ign:21 https://developer.download.nvidia.com/compute/cuda/repos/ubuntu1804/x86_64  Packages\n",
            "Get:21 https://developer.download.nvidia.com/compute/cuda/repos/ubuntu1804/x86_64  Packages [695 kB]\n",
            "Get:22 http://ppa.launchpad.net/c2d4u.team/c2d4u4.0+/ubuntu bionic/main Sources [1,786 kB]\n",
            "Get:23 http://archive.ubuntu.com/ubuntu bionic-updates/restricted amd64 Packages [544 kB]\n",
            "Get:24 http://archive.ubuntu.com/ubuntu bionic-updates/main amd64 Packages [2,698 kB]\n",
            "Get:25 http://ppa.launchpad.net/c2d4u.team/c2d4u4.0+/ubuntu bionic/main amd64 Packages [914 kB]\n",
            "Get:26 http://archive.ubuntu.com/ubuntu bionic-updates/multiverse amd64 Packages [39.4 kB]\n",
            "Get:27 http://archive.ubuntu.com/ubuntu bionic-updates/universe amd64 Packages [2,195 kB]\n",
            "Get:28 http://ppa.launchpad.net/deadsnakes/ppa/ubuntu bionic/main amd64 Packages [40.9 kB]\n",
            "Get:29 http://ppa.launchpad.net/graphics-drivers/ppa/ubuntu bionic/main amd64 Packages [44.1 kB]\n",
            "Fetched 13.5 MB in 4s (3,177 kB/s)\n",
            "Reading package lists... Done\n",
            "Reading package lists... Done\n",
            "Building dependency tree       \n",
            "Reading state information... Done\n",
            "The following NEW packages will be installed:\n",
            "  fonts-nanum\n",
            "0 upgraded, 1 newly installed, 0 to remove and 98 not upgraded.\n",
            "Need to get 9,604 kB of archives.\n",
            "After this operation, 29.5 MB of additional disk space will be used.\n",
            "Get:1 http://archive.ubuntu.com/ubuntu bionic/universe amd64 fonts-nanum all 20170925-1 [9,604 kB]\n",
            "Fetched 9,604 kB in 1s (7,935 kB/s)\n",
            "Selecting previously unselected package fonts-nanum.\n",
            "(Reading database ... 160837 files and directories currently installed.)\n",
            "Preparing to unpack .../fonts-nanum_20170925-1_all.deb ...\n",
            "Unpacking fonts-nanum (20170925-1) ...\n",
            "Setting up fonts-nanum (20170925-1) ...\n",
            "Processing triggers for fontconfig (2.12.6-0ubuntu2) ...\n",
            "/bin/bash: fo-cache: command not found\n"
          ],
          "name": "stdout"
        }
      ]
    },
    {
      "cell_type": "markdown",
      "metadata": {
        "id": "GNDKW-yqO7uq"
      },
      "source": [
        "- 숫자 데이터를 그래프로 시각화하면 한눈에 데이터를 파악할 수 잇어서 편리\n",
        "- 시각화 라이브러리인 matplotlib을 이용해 파이썬에서 숫자로 이뤄진 데이터를 다양한 그래프로 보기 좋게 표현하는 시각화 방법\n",
        "\n",
        "# matplotlib로 그래프 그리기\n",
        "- matplotlib는 파이썬에서 데이터를 효과적으로 시각화하기 위해 만든 라이브러리\n",
        "- matplotlib는 matlab(과학 및 공학 연산을 위한 소프트웨어)의 시각화 기능을 모델링\n",
        "- matplotlib#을 이용하면 몇 줄의 코드로 간단하게 2차원 선 그래프(plot),산점도(scatter plot), 막대 그래프(bar chart), 히스토그램(histogram), 파이 그래프(pie chart) 등을 그릴 수 있음\n",
        "\n",
        "- matplotlib 홈페이지 (https://matplotlib.org/)\n",
        "\n",
        "- matplotlib의 그래프 기능을 이용하려면 matplotlib의 서브모듈(submodule)을 불러와야 함\n",
        "- matplotlib의 서브모듈도 numpy나 pandas처럼 다음과 같이 import ~ as 형식으로 불러옴"
      ]
    },
    {
      "cell_type": "code",
      "metadata": {
        "id": "0_HITrkonYZ5"
      },
      "source": [
        "import matplotlib.pyplot as plt"
      ],
      "execution_count": 1,
      "outputs": []
    },
    {
      "cell_type": "markdown",
      "metadata": {
        "id": "a6h-rcFt3tCR"
      },
      "source": [
        "- matplotlib의 서브모듈을 불러오면 matplotlib.pyplot 대신 pit를 이용\n",
        "- matplotlib에서 제공하는 그래프 기능을 'pit.그래프_함수()' 형식으로 사용\n",
        "\n",
        "- 별도의 팝업창에 그래프를 출력하려면 '그래프_함수()'를 실행하기 전에 다음을 실행\n",
        "- %matplotlib qt\n",
        "\n",
        "- 그래프를 다시 코드 결과 출력 부분에 출력하려면 '그래프_함수()'를 실행하기 전에 다음을 실행\n",
        "- %matplotlib inline\n",
        "\n",
        "# 선 그래프\n",
        "## 기본적인 선 그래프 그리기\n",
        "\n",
        "- 선 그래프는 그래프 중 가장 기본이 되는 그래프\n",
        "- 순서가 있는 숫자 데이터를 시각화하거나 시간에 따라 변하는 숫자 데이터를 시각화하는데 많이 사용\n",
        "\n",
        "- matplotlib에서는 다음과 같은 형식으로 2차원 선 그래프를 그림\n",
        "\n",
        "- plt.plot([x],y,[fmt])\n",
        "\n",
        "- plt.plot(y)\n",
        "- plt.plot(y,fmt)\n",
        "- plt.plot(x,y)\n",
        "- plt.plot(x,y,fmt)\n",
        "\n",
        "- 선 그래프를 그리기 위해 먼저 다음과 같이 숫자로 이뤄진 리스트 데이터를 생성\n"
      ]
    },
    {
      "cell_type": "code",
      "metadata": {
        "id": "q8bsUS9l6gyy"
      },
      "source": [
        "data1 = [10, 14, 19, 20, 25]"
      ],
      "execution_count": 2,
      "outputs": []
    },
    {
      "cell_type": "markdown",
      "metadata": {
        "id": "vBOW3nMF6jvP"
      },
      "source": [
        "- 데이터 data1을 이용해 선 그래프를 생성"
      ]
    },
    {
      "cell_type": "code",
      "metadata": {
        "colab": {
          "base_uri": "https://localhost:8080/",
          "height": 283
        },
        "id": "_YsTeFhR6jR_",
        "outputId": "971e6464-3005-4fbe-c3c0-fb55d7962a23"
      },
      "source": [
        "plt.plot(data1)"
      ],
      "execution_count": 3,
      "outputs": [
        {
          "output_type": "execute_result",
          "data": {
            "text/plain": [
              "[<matplotlib.lines.Line2D at 0x7fbff31f6850>]"
            ]
          },
          "metadata": {
            "tags": []
          },
          "execution_count": 3
        },
        {
          "output_type": "display_data",
          "data": {
            "image/png": "[encoded data removed]",
            "text/plain": [
              "<Figure size 432x288 with 1 Axes>"
            ]
          },
          "metadata": {
            "tags": [],
            "needs_background": "light"
          }
        }
      ]
    },
    {
      "cell_type": "markdown",
      "metadata": {
        "id": "DzyjCcc06sWw"
      },
      "source": [
        "- 그래프 객체의 정보 없이 그래프만 출력하려면\n",
        "- '그래프_함수()'를 실행한 이후에 show()를 실행"
      ]
    },
    {
      "cell_type": "code",
      "metadata": {
        "colab": {
          "base_uri": "https://localhost:8080/",
          "height": 265
        },
        "id": "2GsSEoEw3sJz",
        "outputId": "b9d3dfb1-defa-4dd9-c2a5-046e46bc0f0c"
      },
      "source": [
        "plt.plot(data1)\n",
        "plt.show()"
      ],
      "execution_count": 4,
      "outputs": [
        {
          "output_type": "display_data",
          "data": {
            "image/png": "[encoded data removed]",
            "text/plain": [
              "<Figure size 432x288 with 1 Axes>"
            ]
          },
          "metadata": {
            "tags": [],
            "needs_background": "light"
          }
        }
      ]
    },
    {
      "cell_type": "markdown",
      "metadata": {
        "id": "x7BWg-Xa69XE"
      },
      "source": [
        "- 그래프가 출력되지 않는다면 '%natplotlib inline’을 실행한 후에 위의 코드를 다시 실행"
      ]
    },
    {
      "cell_type": "code",
      "metadata": {
        "colab": {
          "base_uri": "https://localhost:8080/",
          "height": 283
        },
        "id": "mnEEfmYx61_a",
        "outputId": "fafbd706-254b-4595-f9b5-e60265c01c4b"
      },
      "source": [
        "plt.plot(data1)"
      ],
      "execution_count": 6,
      "outputs": [
        {
          "output_type": "execute_result",
          "data": {
            "text/plain": [
              "[<matplotlib.lines.Line2D at 0x7fbff288e490>]"
            ]
          },
          "metadata": {
            "tags": []
          },
          "execution_count": 6
        },
        {
          "output_type": "display_data",
          "data": {
            "image/png": "[encoded data removed]",
            "text/plain": [
              "<Figure size 432x288 with 1 Axes>"
            ]
          },
          "metadata": {
            "tags": [],
            "needs_background": "light"
          }
        }
      ]
    },
    {
      "cell_type": "markdown",
      "metadata": {
        "id": "M5Mh1-WM7B7V"
      },
      "source": [
        "- 다시 결과 창에 그래프를 출력하게 하려면 다음과 같이 실"
      ]
    },
    {
      "cell_type": "code",
      "metadata": {
        "id": "3PnjItWU7MbE"
      },
      "source": [
        "%matplotlib inline"
      ],
      "execution_count": 7,
      "outputs": []
    },
    {
      "cell_type": "markdown",
      "metadata": {
        "id": "AV4iTx6l7PTU"
      },
      "source": [
        "- x값과 y값이 모두 있는 데이터를 2차원 선 그래프로 그리기"
      ]
    },
    {
      "cell_type": "code",
      "metadata": {
        "colab": {
          "base_uri": "https://localhost:8080/"
        },
        "id": "0L12_Zxs7Ou3",
        "outputId": "8ef1dcaa-f522-4ede-b547-5c9eed16084a"
      },
      "source": [
        "import numpy as np\n",
        "\n",
        "x = np.arange(-4.5, 5, 0.5)  # 배열 x 생성, 범위: (-4.5, 5) 0.5씩 증가\n",
        "y = 2*x**2  # 수식을 이용해 배열 x에 해당하는 배열 y 생성\n",
        "\n",
        "[x,y]"
      ],
      "execution_count": 8,
      "outputs": [
        {
          "output_type": "execute_result",
          "data": {
            "text/plain": [
              "[array([-4.5, -4. , -3.5, -3. , -2.5, -2. , -1.5, -1. , -0.5,  0. ,  0.5,\n",
              "         1. ,  1.5,  2. ,  2.5,  3. ,  3.5,  4. ,  4.5]),\n",
              " array([40.5, 32. , 24.5, 18. , 12.5,  8. ,  4.5,  2. ,  0.5,  0. ,  0.5,\n",
              "         2. ,  4.5,  8. , 12.5, 18. , 24.5, 32. , 40.5])]"
            ]
          },
          "metadata": {
            "tags": []
          },
          "execution_count": 8
        }
      ]
    },
    {
      "cell_type": "markdown",
      "metadata": {
        "id": "c852smEc7l4C"
      },
      "source": [
        "- 생성된 x값과 y값으로 plot()을 이용해 그래프 그리기"
      ]
    },
    {
      "cell_type": "code",
      "metadata": {
        "colab": {
          "base_uri": "https://localhost:8080/",
          "height": 265
        },
        "id": "VgUw8hLb7jth",
        "outputId": "25912e3b-df4e-43f3-dc00-9fcad38e2e12"
      },
      "source": [
        "plt.plot(x,y)\n",
        "plt.show()"
      ],
      "execution_count": 9,
      "outputs": [
        {
          "output_type": "display_data",
          "data": {
            "image/png": "[encoded data removed]",
            "text/plain": [
              "<Figure size 432x288 with 1 Axes>"
            ]
          },
          "metadata": {
            "tags": [],
            "needs_background": "light"
          }
        }
      ]
    },
    {
      "cell_type": "markdown",
      "metadata": {
        "id": "kPfI-KSI7wON"
      },
      "source": [
        "## 여러 그래프 그리기\n",
        "- "
      ]
    },
    {
      "cell_type": "code",
      "metadata": {
        "id": "1-jP83Vr7u76"
      },
      "source": [
        ""
      ],
      "execution_count": null,
      "outputs": []
    }
  ]
}