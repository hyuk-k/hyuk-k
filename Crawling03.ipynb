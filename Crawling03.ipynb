{
 "cells": [
  {
   "cell_type": "markdown",
   "id": "c1877887",
   "metadata": {},
   "source": [
    "# 크롤링과 스크래이핑\n",
    "## 웹브라우저로 웹 사이트 접속하기\n",
    "### 하나의 웹 사이트에 접속하기\n",
    "- 이"
   ]
  }
 ],
 "metadata": {
  "kernelspec": {
   "display_name": "Python 3",
   "language": "python",
   "name": "python3"
  },
  "language_info": {
   "codemirror_mode": {
    "name": "ipython",
    "version": 3
   },
   "file_extension": ".py",
   "mimetype": "text/x-python",
   "name": "python",
   "nbconvert_exporter": "python",
   "pygments_lexer": "ipython3",
   "version": "3.8.8"
  }
 },
 "nbformat": 4,
 "nbformat_minor": 5
}
