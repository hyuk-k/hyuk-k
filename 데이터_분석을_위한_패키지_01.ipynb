{
  "nbformat": 4,
  "nbformat_minor": 0,
  "metadata": {
    "colab": {
      "name": "데이터 분석을 위한 패키지 01.ipynb",
      "provenance": [],
      "collapsed_sections": [],
      "authorship_tag": "ABX9TyPwrJZveDb7p14Sjrt5e5tX",
      "include_colab_link": true
    },
    "kernelspec": {
      "name": "python3",
      "display_name": "Python 3"
    },
    "language_info": {
      "name": "python"
    }
  },
  "cells": [
    {
      "cell_type": "markdown",
      "metadata": {
        "id": "view-in-github",
        "colab_type": "text"
      },
      "source": [
        "<a href=\"https://colab.research.google.com/github/hyuk-k/hyuk-k/blob/main/%EB%8D%B0%EC%9D%B4%ED%84%B0_%EB%B6%84%EC%84%9D%EC%9D%84_%EC%9C%84%ED%95%9C_%ED%8C%A8%ED%82%A4%EC%A7%80_01.ipynb\" target=\"_parent\"><img src=\"https://colab.research.google.com/assets/colab-badge.svg\" alt=\"Open In Colab\"/></a>"
      ]
    },
    {
      "cell_type": "markdown",
      "metadata": {
        "id": "CGO_mFL6Bzft"
      },
      "source": [
        "# 데이터 분석을 위한 패키지\n",
        "## 배열 데이터를 효과적으로 다루는 NumPy\n",
        "- NumPy는 파이썬으로 과학 연산을 쉽고 빠르게 할 수 있게 만든 패키지\n",
        "- NumPy를 이용하면 파이썬의 기본 데이터 형식과 내장 함수를 이용하는 것보다 다차원 배열 데이터를 효과적으로 처리\n",
        "- NumPy 홈페이지 (http://www.NumPy.org)\n",
        "\n",
        "## 배열 생성하기\n",
        "- 설치된 NumPy를 이용하려면 먼저 NumPy 패키지를 불러와야 함\n",
        "- NumPy 패키지를 불러올 때 'import NumPy'라고 작성해도 되지만 'import ~as ~' 형식을 이용해 NumPy를 불러옴"
      ]
    },
    {
      "cell_type": "code",
      "metadata": {
        "id": "wsM5BivKAInA"
      },
      "source": [
        "import numpy as np"
      ],
      "execution_count": null,
      "outputs": []
    },
    {
      "cell_type": "markdown",
      "metadata": {
        "id": "pGepobhJhqzm"
      },
      "source": [
        "- 배열(array)이란 순서가 있는 같은 종류의 데이터가 저장된 집합을 말함\n",
        "- numpy를 이용해 배열을 처리하기 위해서는 우선 numpy 로 배열을 생성\n",
        "\n",
        "## 시퀀스 데이터로부터 배열 생성\n",
        "- 시퀀스 데이터(seqdata)로 numpy의 배열을 생성하는 방법\n",
        "- arr_obj = np.array(seq_data)\n",
        "- 시퀀스 데이터(seq_data)를 인자로 받아 numpy의 배열 객체(array object)를 생성\\\n",
        "- 시퀀스 데이터(seq_data)로 리스트와 튜플 타입이 데이터를 모두 사용할 수 있지만 주로 리스트 데이터를 이용\n",
        "- 리스트로부터 numpy의 1차원 배일을 생"
      ]
    },
    {
      "cell_type": "code",
      "metadata": {
        "colab": {
          "base_uri": "https://localhost:8080/"
        },
        "id": "pfp9ptExi5Lt",
        "outputId": "d2cba5f1-5ce7-4699-feeb-ae452056855a"
      },
      "source": [
        "import numpy as np\n",
        "\n",
        "data1 = [0,1,2,3,4,5]\n",
        "a1 = np.array(data1)\n",
        "a1"
      ],
      "execution_count": null,
      "outputs": [
        {
          "output_type": "execute_result",
          "data": {
            "text/plain": [
              "array([0, 1, 2, 3, 4, 5])"
            ]
          },
          "metadata": {
            "tags": []
          },
          "execution_count": 3
        }
      ]
    },
    {
      "cell_type": "markdown",
      "metadata": {
        "id": "r_3tl6AyjCvI"
      },
      "source": [
        "- 리스트 데이터(data1)를 numpy의 array() 인자로 넣어서 numpy 배열을 만들었음\n",
        "- 정수와 실수가 혼합된 리스트 데이터로 numpy 배열"
      ]
    },
    {
      "cell_type": "code",
      "metadata": {
        "colab": {
          "base_uri": "https://localhost:8080/"
        },
        "id": "4wlM94Opi_7e",
        "outputId": "7c111fcf-f024-4095-8153-cf00c229c6b1"
      },
      "source": [
        "data2 = [0,1,5,4,12,0.5]\n",
        "a2 = np.array(data2)\n",
        "a2"
      ],
      "execution_count": null,
      "outputs": [
        {
          "output_type": "execute_result",
          "data": {
            "text/plain": [
              "array([ 0. ,  1. ,  5. ,  4. , 12. ,  0.5])"
            ]
          },
          "metadata": {
            "tags": []
          },
          "execution_count": 4
        }
      ]
    },
    {
      "cell_type": "markdown",
      "metadata": {
        "id": "EMEN797jneTO"
      },
      "source": [
        "- numpy에서 인자로 정수와 실수가 혼합돼 있을 때 모두 실수로 변환\n",
        "- numpy 배열의 속성을 표현하려면 'ndarray.속성' 같이 작성\n",
        "- ndarray는 numpy의 배열 객체\n",
        "- 배열 객체의 타입을 확인"
      ]
    },
    {
      "cell_type": "code",
      "metadata": {
        "colab": {
          "base_uri": "https://localhost:8080/"
        },
        "id": "QLldpPp7nbh6",
        "outputId": "7128e5b2-91ae-422b-b078-e39649f705da"
      },
      "source": [
        "a1.dtype"
      ],
      "execution_count": null,
      "outputs": [
        {
          "output_type": "execute_result",
          "data": {
            "text/plain": [
              "dtype('int64')"
            ]
          },
          "metadata": {
            "tags": []
          },
          "execution_count": 5
        }
      ]
    },
    {
      "cell_type": "code",
      "metadata": {
        "colab": {
          "base_uri": "https://localhost:8080/"
        },
        "id": "V_PClpeLnxlK",
        "outputId": "e95218d5-de7d-4785-dafd-3d7525ff6eda"
      },
      "source": [
        "a2.dtype"
      ],
      "execution_count": null,
      "outputs": [
        {
          "output_type": "execute_result",
          "data": {
            "text/plain": [
              "dtype('float64')"
            ]
          },
          "metadata": {
            "tags": []
          },
          "execution_count": 7
        }
      ]
    },
    {
      "cell_type": "markdown",
      "metadata": {
        "id": "RV51BUsqn2v0"
      },
      "source": [
        "- a1는 64비트 정수 타입(int64)이고, a2는 64비트 실수 타입(float64)\n",
        "- 리스트 data1과 data2를 numpy array()의 인자로 넣어서 numpy의 배열\n",
        "- numpy()에 리스트 데이터를 직접 넣어서 배열 객체를 생성"
      ]
    },
    {
      "cell_type": "code",
      "metadata": {
        "colab": {
          "base_uri": "https://localhost:8080/"
        },
        "id": "VmNo2PmgoMsV",
        "outputId": "f6824a17-8e56-4425-ae3c-64ccfa6983d4"
      },
      "source": [
        "np.array([0.5, 2, 0.01, 8])"
      ],
      "execution_count": null,
      "outputs": [
        {
          "output_type": "execute_result",
          "data": {
            "text/plain": [
              "array([0.5 , 2.  , 0.01, 8.  ])"
            ]
          },
          "metadata": {
            "tags": []
          },
          "execution_count": 7
        }
      ]
    },
    {
      "cell_type": "markdown",
      "metadata": {
        "id": "Yu97llxpoWh_"
      },
      "source": [
        "- 1차원 배열을 생성했는데 numpy는 다차원 배열도 생성"
      ]
    },
    {
      "cell_type": "code",
      "metadata": {
        "colab": {
          "base_uri": "https://localhost:8080/"
        },
        "id": "8X2xVVamoRac",
        "outputId": "c1fe4b60-3b7f-4d41-e67f-b65e0cac1ae3"
      },
      "source": [
        "np.array([[1,2,3],[4,5,6],[7,8,9]])"
      ],
      "execution_count": null,
      "outputs": [
        {
          "output_type": "execute_result",
          "data": {
            "text/plain": [
              "array([[1, 2, 3],\n",
              "       [4, 5, 6],\n",
              "       [7, 8, 9]])"
            ]
          },
          "metadata": {
            "tags": []
          },
          "execution_count": 10
        }
      ]
    },
    {
      "cell_type": "markdown",
      "metadata": {
        "id": "MEs5z_QGozDl"
      },
      "source": [
        "- 2차차원 배열을 표시\n",
        "- numpy에서는 1차원뿐만 아니라 다차원 배열도 생성\n",
        "\n",
        "## 범위를 지정해 배열 생성\n",
        "- 범위를 지정해 numpy 배열을 생성하는 방법\n",
        "- numpy의 arange()를 이용해 numpy 배열을 생성하는 방법\n",
        "- arr_obj = np.arange([start],stop,[step])\n",
        "- start부터 시작해서 stop전까지 step 만큼 계속 더해 numpy의 배열을 생성\n",
        "- step이 1인 경우에는 생략할 수 있어서 'numpy.arrange(start, stop)'처럼\n",
        "- start가 0인 경우에는 start도 생략하고 'numpy.arange(stop)' 처럼 사용"
      ]
    },
    {
      "cell_type": "code",
      "metadata": {
        "colab": {
          "base_uri": "https://localhost:8080/"
        },
        "id": "WQuT_wBhoxga",
        "outputId": "83be4594-a3e1-42c4-c417-08c5a6e6cb1a"
      },
      "source": [
        "np.arange(0,10,2)"
      ],
      "execution_count": null,
      "outputs": [
        {
          "output_type": "execute_result",
          "data": {
            "text/plain": [
              "array([0, 2, 4, 6, 8])"
            ]
          },
          "metadata": {
            "tags": []
          },
          "execution_count": 11
        }
      ]
    },
    {
      "cell_type": "code",
      "metadata": {
        "colab": {
          "base_uri": "https://localhost:8080/"
        },
        "id": "QxAb5hbnqasV",
        "outputId": "0fb7046b-3491-49d0-f3af-774f45ee00e2"
      },
      "source": [
        "np.arange(1,10)"
      ],
      "execution_count": null,
      "outputs": [
        {
          "output_type": "execute_result",
          "data": {
            "text/plain": [
              "array([1, 2, 3, 4, 5, 6, 7, 8, 9])"
            ]
          },
          "metadata": {
            "tags": []
          },
          "execution_count": 12
        }
      ]
    },
    {
      "cell_type": "code",
      "metadata": {
        "colab": {
          "base_uri": "https://localhost:8080/"
        },
        "id": "XV0qyiMIqcLR",
        "outputId": "cc3a1a70-eead-4f44-ed01-b9aa860e9fbf"
      },
      "source": [
        "np.arange(5)"
      ],
      "execution_count": null,
      "outputs": [
        {
          "output_type": "execute_result",
          "data": {
            "text/plain": [
              "array([0, 1, 2, 3, 4])"
            ]
          },
          "metadata": {
            "tags": []
          },
          "execution_count": 13
        }
      ]
    },
    {
      "cell_type": "markdown",
      "metadata": {
        "id": "4Ipnn5Gcqgjn"
      },
      "source": [
        "- numpy 배열의 arange()를 이용해 생성한 1차원 배열에 '.reshape(m,n)'을 추가하면 m*n 형태의 2차원 배열(행렬)로 변경\n",
        "- m*n 행렬의 구조\n",
        "- numpy 배열에서 행과 열의 위치는 각각 0부터 시작"
      ]
    },
    {
      "cell_type": "code",
      "metadata": {
        "colab": {
          "base_uri": "https://localhost:8080/"
        },
        "id": "bwFYHvOkq8bo",
        "outputId": "6e90bb19-1101-42f8-b550-07899df64484"
      },
      "source": [
        "np.arange(12).reshape(4,3)"
      ],
      "execution_count": null,
      "outputs": [
        {
          "output_type": "execute_result",
          "data": {
            "text/plain": [
              "array([[ 0,  1,  2],\n",
              "       [ 3,  4,  5],\n",
              "       [ 6,  7,  8],\n",
              "       [ 9, 10, 11]])"
            ]
          },
          "metadata": {
            "tags": []
          },
          "execution_count": 18
        }
      ]
    },
    {
      "cell_type": "markdown",
      "metadata": {
        "id": "XT4O1MGOrVZN"
      },
      "source": [
        "- arange(12)로 12개의 숫자를 생성한 후 reshaped(4,3)으로 4*3 행렬\n",
        "- arange()로 생성되는 배열의 원소 개수와 reshape(m,n)의 m*n 개수는 같아야 함\n",
        "- numpy 배열의 형태를 알기 위해서는 'ndarray.shape'를 실행"
      ]
    },
    {
      "cell_type": "code",
      "metadata": {
        "colab": {
          "base_uri": "https://localhost:8080/"
        },
        "id": "wLrJbBlDrnhS",
        "outputId": "d9dd060b-ecd8-4a67-b2c8-e1c9f8c53b20"
      },
      "source": [
        "b1 = np.arange(12).reshape(4,3)\n",
        "b1.shape"
      ],
      "execution_count": null,
      "outputs": [
        {
          "output_type": "execute_result",
          "data": {
            "text/plain": [
              "(4, 3)"
            ]
          },
          "metadata": {
            "tags": []
          },
          "execution_count": 8
        }
      ]
    },
    {
      "cell_type": "markdown",
      "metadata": {
        "id": "JxSAi_LrNyNX"
      },
      "source": [
        "- b1에는 'reshape(4,3)'을 통해 만들어진 4*3 행렬이 할당\n",
        "- m*n 행렬(2차원 배열)의 경우에는 'ndarray.shape'를 수행하면 (m,n)이 출력\n",
        "- 4*3 행렬인 b1의 경우 'b1.shape'를 수행하면 (4,3)이 출력\n",
        "- n개의 요소를 갖는 1차원 배열의 경우에는 'ndarray.shape'를 수행하면 '(n,)'처럼 표시"
      ]
    },
    {
      "cell_type": "code",
      "metadata": {
        "colab": {
          "base_uri": "https://localhost:8080/"
        },
        "id": "RZ1kJgy3NkoX",
        "outputId": "9975cc40-c95a-4dda-8266-4aa51100f94d"
      },
      "source": [
        "b2 = np.arange(5)\n",
        "b2.shape"
      ],
      "execution_count": null,
      "outputs": [
        {
          "output_type": "execute_result",
          "data": {
            "text/plain": [
              "(5,)"
            ]
          },
          "metadata": {
            "tags": []
          },
          "execution_count": 9
        }
      ]
    },
    {
      "cell_type": "markdown",
      "metadata": {
        "id": "RV9M320DOVwR"
      },
      "source": [
        "- 생성한 변수 b1에는 5개의 요소를 갖는 1차원 배열이 할당돼 있으므로\n",
        "- 'b2.shape'을 수행하면 결과로 (5,)가 나옴\n",
        "- 범위의 시작과 끝을 지정하고 데이터의 개수를 지정해 NumPy 배열을 생성하는 linspace()\n",
        "- arr_obj = np.linspace(start,stop[,num])\n",
        "- linspace()는 start부터 stop까지 num개의 numpy 배열을 생성\n",
        "- num을 지정하지 않으면 50으로 간주\n",
        "- 1부터 10까지 10개의 데이터를 생성"
      ]
    },
    {
      "cell_type": "code",
      "metadata": {
        "colab": {
          "base_uri": "https://localhost:8080/"
        },
        "id": "c6e4t-04NZ3F",
        "outputId": "23e13a3e-e5d5-427c-91a3-c8e2342e6218"
      },
      "source": [
        "np.linspace(1,10,10)"
      ],
      "execution_count": null,
      "outputs": [
        {
          "output_type": "execute_result",
          "data": {
            "text/plain": [
              "array([ 1.,  2.,  3.,  4.,  5.,  6.,  7.,  8.,  9., 10.])"
            ]
          },
          "metadata": {
            "tags": []
          },
          "execution_count": 10
        }
      ]
    },
    {
      "cell_type": "markdown",
      "metadata": {
        "id": "ksDVx1h_Oz5L"
      },
      "source": [
        "- 지정된 범위(1~10)에 해당하는 10개의 데이터가 잘 생성\n",
        "- 0부터 파이까지 동일한 간격으로 나눈 20개의 데이터를 생"
      ]
    },
    {
      "cell_type": "code",
      "metadata": {
        "colab": {
          "base_uri": "https://localhost:8080/"
        },
        "id": "tP4nh0JrO62R",
        "outputId": "07418d9e-ce31-473e-81c4-61f36387c3b5"
      },
      "source": [
        "np.linspace(0, np.pi, 20)"
      ],
      "execution_count": null,
      "outputs": [
        {
          "output_type": "execute_result",
          "data": {
            "text/plain": [
              "array([0.        , 0.16534698, 0.33069396, 0.49604095, 0.66138793,\n",
              "       0.82673491, 0.99208189, 1.15742887, 1.32277585, 1.48812284,\n",
              "       1.65346982, 1.8188168 , 1.98416378, 2.14951076, 2.31485774,\n",
              "       2.48020473, 2.64555171, 2.81089869, 2.97624567, 3.14159265])"
            ]
          },
          "metadata": {
            "tags": []
          },
          "execution_count": 12
        }
      ]
    },
    {
      "cell_type": "markdown",
      "metadata": {
        "id": "pRlDVmkjPCHO"
      },
      "source": [
        "- 사용한 'np.pi'는 numpy에서 파이를 입력할 때 이용\n",
        "\n",
        "## 특별한 형태의 배열 생성\n",
        "- 특별한 형태의 배열을 생성하는 방법\n",
        "- 모든 원소가 0 혹은 1인 다차원 배열을 만들기 위해서는 zeros()와 ones()를 이용\n",
        "\n",
        "- arr_zero_n = np.zeros(n)\n",
        "- arr_zero_mxn = np.zeros((m,n))\n",
        "- arr_one_n = np.ones(n)\n",
        "- arr_one_mxn = np.ones((m/n))\n",
        "\n",
        "- zeros()는 모든 원소가 0, ones()는 모든 원소가 1인 다차원 배열을 생성\n",
        "\n",
        "- n개의 원소가 모두 0을 갖는 1차원 배열을 만들려면 np.zeros(n)\n",
        "- 모든 원소가 0인 m * n 형태의 2차원 배열(행렬)을 생성하려면 np.zeros((m,n))을 이용\n",
        "\n",
        "- nes()도 마찬가지로, np.ones(n)과 np.ones((m,n))을 이용\n",
        "- zero() 함수로 원소 개수가 10개(n=10)인 1차원 배열을 생성\n"
      ]
    },
    {
      "cell_type": "code",
      "metadata": {
        "colab": {
          "base_uri": "https://localhost:8080/"
        },
        "id": "h4vDZk8HPBYi",
        "outputId": "8de5dab7-ba47-4c45-c865-470546b6cf5e"
      },
      "source": [
        "np.zeros(10)"
      ],
      "execution_count": null,
      "outputs": [
        {
          "output_type": "execute_result",
          "data": {
            "text/plain": [
              "array([0., 0., 0., 0., 0., 0., 0., 0., 0., 0.])"
            ]
          },
          "metadata": {
            "tags": []
          },
          "execution_count": 13
        }
      ]
    },
    {
      "cell_type": "markdown",
      "metadata": {
        "id": "40uukoSPQEi6"
      },
      "source": [
        "- zero()를 이용해 3 *4 의 2차원 배열을 생성"
      ]
    },
    {
      "cell_type": "code",
      "metadata": {
        "colab": {
          "base_uri": "https://localhost:8080/"
        },
        "id": "ScSbpZkrQD1U",
        "outputId": "7b5e2f35-29b4-45e8-90a3-2a71593f3f51"
      },
      "source": [
        "np.zeros((3,4))"
      ],
      "execution_count": null,
      "outputs": [
        {
          "output_type": "execute_result",
          "data": {
            "text/plain": [
              "array([[0., 0., 0., 0.],\n",
              "       [0., 0., 0., 0.],\n",
              "       [0., 0., 0., 0.]])"
            ]
          },
          "metadata": {
            "tags": []
          },
          "execution_count": 14
        }
      ]
    },
    {
      "cell_type": "markdown",
      "metadata": {
        "id": "Vr3f5W_4QQsQ"
      },
      "source": [
        "- ones()으로 1차원 배열과 2차원 배열을 생성"
      ]
    },
    {
      "cell_type": "code",
      "metadata": {
        "colab": {
          "base_uri": "https://localhost:8080/"
        },
        "id": "x26PD_8ZQLqQ",
        "outputId": "88899df2-f57b-4a12-a2b7-26c969f1063a"
      },
      "source": [
        "np.ones(5)"
      ],
      "execution_count": null,
      "outputs": [
        {
          "output_type": "execute_result",
          "data": {
            "text/plain": [
              "array([1., 1., 1., 1., 1.])"
            ]
          },
          "metadata": {
            "tags": []
          },
          "execution_count": 15
        }
      ]
    },
    {
      "cell_type": "code",
      "metadata": {
        "colab": {
          "base_uri": "https://localhost:8080/"
        },
        "id": "QM7cgQrsO_UJ",
        "outputId": "b485f1a5-be28-41ca-a598-a313c05dd794"
      },
      "source": [
        "np.ones((3,5))"
      ],
      "execution_count": null,
      "outputs": [
        {
          "output_type": "execute_result",
          "data": {
            "text/plain": [
              "array([[1., 1., 1., 1., 1.],\n",
              "       [1., 1., 1., 1., 1.],\n",
              "       [1., 1., 1., 1., 1.]])"
            ]
          },
          "metadata": {
            "tags": []
          },
          "execution_count": 16
        }
      ]
    },
    {
      "cell_type": "markdown",
      "metadata": {
        "id": "jcB4KE85QYJE"
      },
      "source": [
        "- 단위행렬(identitiy matrix)을 생성하는 방법\n",
        "- 단위행렬은 n * n 인 정사각형 행렬에서 주 대각선이 모두 1이고 나머지는 0인 행렬을 의미\n",
        "- arr_I = np.eye(n)\n",
        "- n * n의 단위행렬을 갖는 2차원 배열 객체를 생성\n",
        "\n",
        "- 3 * 3 단위 행렬 생성"
      ]
    },
    {
      "cell_type": "code",
      "metadata": {
        "colab": {
          "base_uri": "https://localhost:8080/"
        },
        "id": "7eHkMu3mkw85",
        "outputId": "493610a0-552a-407a-d5d2-698ed92fd85b"
      },
      "source": [
        "np.eye(3)"
      ],
      "execution_count": null,
      "outputs": [
        {
          "output_type": "execute_result",
          "data": {
            "text/plain": [
              "array([[1., 0., 0.],\n",
              "       [0., 1., 0.],\n",
              "       [0., 0., 1.]])"
            ]
          },
          "metadata": {
            "tags": []
          },
          "execution_count": 4
        }
      ]
    },
    {
      "cell_type": "markdown",
      "metadata": {
        "id": "mM_BgM3Uk9AI"
      },
      "source": [
        "## 배열의 데이터 타입 변환\n",
        "- numpy의 배열은 숫자뿐만 아니라 문자여도 원소로 가질 수 잇음\n",
        "- 문자열인 원소는 numpy배열을 생성"
      ]
    },
    {
      "cell_type": "code",
      "metadata": {
        "colab": {
          "base_uri": "https://localhost:8080/"
        },
        "id": "6KcejvRUlF4A",
        "outputId": "8ff67b78-9979-46d1-ceff-c3a8a3c202a9"
      },
      "source": [
        "np.array(['1.5','0.62','2','3.14','3.141592'])"
      ],
      "execution_count": null,
      "outputs": [
        {
          "output_type": "execute_result",
          "data": {
            "text/plain": [
              "array(['1.5', '0.62', '2', '3.14', '3.141592'], dtype='<U8')"
            ]
          },
          "metadata": {
            "tags": []
          },
          "execution_count": 6
        }
      ]
    },
    {
      "cell_type": "markdown",
      "metadata": {
        "id": "X5C8PDA3mw7_"
      },
      "source": [
        "- dtype은 numpy 데이터의 형식(타입)을 표시\n",
        "- 'rdtype =<U8'의 의미는 numpy 데이터의 형식이 유니코드이며 문자의 수는 최대 8개 라는 것\n",
        "- numpy 배열이 문자여(숫자 표시)로 돼 있다면 연산을 위해서는 문자열을 숫자(정수나 실수)로 변환\n",
        "- numpy 배열의 형 변환은 astype()으로 할 수 있음\n",
        "- num_arr = str_arr.astype(dtype)\n",
        "- numpy 배열의 모든 요소를 지정한 데이터 타입(dtype)으로 변환\n",
        "\n",
        "- 문자열로 구성된 numpy 배열의 모든 원소를 정수나 실수로 변환하거나, 정수를 실수로 혹은 실수를 정수로 변환\n",
        "- 정수나 실수를 문자열로 변환할 수도 있음\n",
        "- 정수로 바꾸려면 dtype()에 int를 입력하고, 실수로 바꾸려면 float를 입력하며, 문자열로 바꾸려면 str을 입력\n",
        "- 실수가 입력된 문자열을 원소로 갖는 numpy 배열을 실수 타입으로 변"
      ]
    },
    {
      "cell_type": "code",
      "metadata": {
        "colab": {
          "base_uri": "https://localhost:8080/"
        },
        "id": "giHWMMuuwo3e",
        "outputId": "29f3cb8c-7dcf-4c43-d948-2b36c2291ddf"
      },
      "source": [
        "str_a1 = np.array(['1.567', '0.123','5.123','9','8'])\n",
        "num_a1 = str_a1.astype(float)\n",
        "num_a1"
      ],
      "execution_count": null,
      "outputs": [
        {
          "output_type": "execute_result",
          "data": {
            "text/plain": [
              "array([1.567, 0.123, 5.123, 9.   , 8.   ])"
            ]
          },
          "metadata": {
            "tags": []
          },
          "execution_count": 7
        }
      ]
    },
    {
      "cell_type": "markdown",
      "metadata": {
        "id": "kbVRhPFXw6qt"
      },
      "source": [
        "- 'nanray.dtype'을 이용해 numpy의 데이터 타입을 확인\n",
        "- 변환 전후의 numpy 배열의 데이터 타입을 확인"
      ]
    },
    {
      "cell_type": "code",
      "metadata": {
        "colab": {
          "base_uri": "https://localhost:8080/"
        },
        "id": "ssVYySABw4n2",
        "outputId": "487ec259-beb5-4dde-da54-2daaa7addc3a"
      },
      "source": [
        "str_a1.dtype"
      ],
      "execution_count": null,
      "outputs": [
        {
          "output_type": "execute_result",
          "data": {
            "text/plain": [
              "dtype('<U5')"
            ]
          },
          "metadata": {
            "tags": []
          },
          "execution_count": 8
        }
      ]
    },
    {
      "cell_type": "code",
      "metadata": {
        "colab": {
          "base_uri": "https://localhost:8080/"
        },
        "id": "mrdooKgsxKN_",
        "outputId": "be7063d0-e3d2-41c6-f877-b9ada6474f07"
      },
      "source": [
        "num_a1.dtype"
      ],
      "execution_count": null,
      "outputs": [
        {
          "output_type": "execute_result",
          "data": {
            "text/plain": [
              "dtype('float64')"
            ]
          },
          "metadata": {
            "tags": []
          },
          "execution_count": 9
        }
      ]
    },
    {
      "cell_type": "markdown",
      "metadata": {
        "id": "hJQL2qg80ZqV"
      },
      "source": [
        "- 변수 str_a1은 dtype이 유니코드(U)였는데 변수 num_a1은 dtype이 실수(float)로 변경된 것\n",
        "- 정수를 문자열 원소로 갖는 numpy 배열을 정수로 변환"
      ]
    },
    {
      "cell_type": "code",
      "metadata": {
        "colab": {
          "base_uri": "https://localhost:8080/"
        },
        "id": "DBdnZgPcxLoF",
        "outputId": "00900b55-bc2f-48fe-db0e-26446bdba103"
      },
      "source": [
        "str_a2 = np.array(['1','3','3','5','7','9'])\n",
        "num_a2 = str_a2.astype(int)\n",
        "num_a2"
      ],
      "execution_count": null,
      "outputs": [
        {
          "output_type": "execute_result",
          "data": {
            "text/plain": [
              "array([1, 3, 3, 5, 7, 9])"
            ]
          },
          "metadata": {
            "tags": []
          },
          "execution_count": 11
        }
      ]
    },
    {
      "cell_type": "markdown",
      "metadata": {
        "id": "6gbISlAQ0zwH"
      },
      "source": [
        "- 'ndarray.dtype'으로 numpy 배열의 데이터 타입을 확인"
      ]
    },
    {
      "cell_type": "code",
      "metadata": {
        "colab": {
          "base_uri": "https://localhost:8080/"
        },
        "id": "csuU0uOi05Ji",
        "outputId": "79627522-bfbb-4e59-991d-21c322cb1f3b"
      },
      "source": [
        "str_a2.dtype"
      ],
      "execution_count": null,
      "outputs": [
        {
          "output_type": "execute_result",
          "data": {
            "text/plain": [
              "dtype('<U1')"
            ]
          },
          "metadata": {
            "tags": []
          },
          "execution_count": 12
        }
      ]
    },
    {
      "cell_type": "code",
      "metadata": {
        "colab": {
          "base_uri": "https://localhost:8080/"
        },
        "id": "GRIKBGPP06b7",
        "outputId": "fcc33bc7-fce6-409f-a1aa-a0972b48105d"
      },
      "source": [
        "num_a2.dtype"
      ],
      "execution_count": null,
      "outputs": [
        {
          "output_type": "execute_result",
          "data": {
            "text/plain": [
              "dtype('int64')"
            ]
          },
          "metadata": {
            "tags": []
          },
          "execution_count": 13
        }
      ]
    },
    {
      "cell_type": "markdown",
      "metadata": {
        "id": "wuiuBujW09Ur"
      },
      "source": [
        "- 배열의 데이터 타입이 유니코드(U)에서 정수 타입(int)로 변경된 것을 알 수 있음\n",
        "\n",
        "- 실수를 원소로 갖는 numpy 배열을 정수로 변환"
      ]
    },
    {
      "cell_type": "code",
      "metadata": {
        "colab": {
          "base_uri": "https://localhost:8080/"
        },
        "id": "jiZLji3u077j",
        "outputId": "1e60a9f4-6251-4eb1-c4c0-8b7dd5ae164b"
      },
      "source": [
        "num_f1 = np.array([10, 21, 0.549, 4.75, 5.98])\n",
        "num_i1 = num_f1.astype(int)\n",
        "num_i1"
      ],
      "execution_count": null,
      "outputs": [
        {
          "output_type": "execute_result",
          "data": {
            "text/plain": [
              "array([10, 21,  0,  4,  5])"
            ]
          },
          "metadata": {
            "tags": []
          },
          "execution_count": 14
        }
      ]
    },
    {
      "cell_type": "markdown",
      "metadata": {
        "id": "D7uC18U41WWx"
      },
      "source": [
        "- 변환 전후의 numpy 배열의 데이터 타입을 확인"
      ]
    },
    {
      "cell_type": "code",
      "metadata": {
        "colab": {
          "base_uri": "https://localhost:8080/"
        },
        "id": "M0o_O9zo1V7r",
        "outputId": "1dc4421f-cdf0-4baf-9714-cb3d4ad76d44"
      },
      "source": [
        "num_f1.dtype"
      ],
      "execution_count": null,
      "outputs": [
        {
          "output_type": "execute_result",
          "data": {
            "text/plain": [
              "dtype('float64')"
            ]
          },
          "metadata": {
            "tags": []
          },
          "execution_count": 15
        }
      ]
    },
    {
      "cell_type": "code",
      "metadata": {
        "colab": {
          "base_uri": "https://localhost:8080/"
        },
        "id": "VR3_8mTa1bfr",
        "outputId": "3097ca14-0ec8-493f-f397-fe8aba2c5c2f"
      },
      "source": [
        "num_i1.dtype"
      ],
      "execution_count": null,
      "outputs": [
        {
          "output_type": "execute_result",
          "data": {
            "text/plain": [
              "dtype('int64')"
            ]
          },
          "metadata": {
            "tags": []
          },
          "execution_count": 16
        }
      ]
    },
    {
      "cell_type": "markdown",
      "metadata": {
        "id": "agOB9uln1iC7"
      },
      "source": [
        "- numpy 배열의 데이터 타입이 실수에서 정수타입으로 바뀐것을 볼 수 있음\n",
        "\n",
        "## 난수 배열의 생성\n",
        "- random 모듈을 이용해 임의의 숫자인 난수(random number)를 생성\n",
        "- numpy에서도 난수를 발생시킬 수 있는 다양한 함수\n",
        "\n",
        "- 그 중 rand() 함수를 이용하면 실수 난수를 요소로 갖는 numpy 배열을 생성할 수 있으며,\n",
        "- randint() 함수를 이용하면 정수 난수를 요소로 갖는 numpy 배열을 생성\n",
        "\n",
        "- rand_num = np.random.rand([do, d1,....,dn])\n",
        "- rand_num = np.random.randint([low,]high[,size]\n",
        "\n",
        "- rand() 함수는 [0,1) A}이의 실수 난수를 갖는 numpy 배열을 생성\n",
        "- [a,b]의 표현은 값의 범위가 a 이상이고 b 미만이라는 의미\n",
        "- a는 범위에 포함되고 b는 포함되지 않음\n",
        "\n",
        "- randint() 함수는 [low,high] 사이의 정수 난수를 갖는 배열을 생성\n",
        "- size는 배열의 형태를 지정하는 것으로 (do,d1....dn) 형식으로 입력\n",
        "- low가 입력되지 않으면 0으로 간주하고, size가 입력되지 않으면 1로 간주함\n",
        "\n",
        "- numpy 에서 난수를 생성\n",
        "- [0/0] 사이의 실수로 난수 배열을 생성하는 rand()\n"
      ]
    },
    {
      "cell_type": "code",
      "metadata": {
        "colab": {
          "base_uri": "https://localhost:8080/"
        },
        "id": "xfHLB9gSZVDJ",
        "outputId": "8831cf81-2d9e-4e42-bf04-f7fc808c5194"
      },
      "source": [
        "np.random.rand(2,3)"
      ],
      "execution_count": null,
      "outputs": [
        {
          "output_type": "execute_result",
          "data": {
            "text/plain": [
              "array([[0.03569049, 0.55766294, 0.52021188],\n",
              "       [0.203117  , 0.15273739, 0.33633297]])"
            ]
          },
          "metadata": {
            "tags": []
          },
          "execution_count": 4
        }
      ]
    },
    {
      "cell_type": "code",
      "metadata": {
        "colab": {
          "base_uri": "https://localhost:8080/"
        },
        "id": "a6K6NrkYaQMk",
        "outputId": "d0fd2728-be8a-418f-dcd9-f4513296051f"
      },
      "source": [
        "np.random.rand()"
      ],
      "execution_count": null,
      "outputs": [
        {
          "output_type": "execute_result",
          "data": {
            "text/plain": [
              "0.6492032574834158"
            ]
          },
          "metadata": {
            "tags": []
          },
          "execution_count": 5
        }
      ]
    },
    {
      "cell_type": "code",
      "metadata": {
        "colab": {
          "base_uri": "https://localhost:8080/"
        },
        "id": "uYnJ30OsaZDY",
        "outputId": "9f6e5449-45fc-4c43-f6de-3397853a0da2"
      },
      "source": [
        "np.random.rand(2,3,4)"
      ],
      "execution_count": null,
      "outputs": [
        {
          "output_type": "execute_result",
          "data": {
            "text/plain": [
              "array([[[0.83680514, 0.81948079, 0.2071688 , 0.45003221],\n",
              "        [0.41574225, 0.31667972, 0.73596782, 0.27265548],\n",
              "        [0.00346778, 0.62930434, 0.07666885, 0.77284176]],\n",
              "\n",
              "       [[0.75240979, 0.04466501, 0.02584422, 0.44014955],\n",
              "        [0.6939151 , 0.16978624, 0.22632393, 0.08067305],\n",
              "        [0.75870518, 0.45245237, 0.14042033, 0.39391586]]])"
            ]
          },
          "metadata": {
            "tags": []
          },
          "execution_count": 6
        }
      ]
    },
    {
      "cell_type": "markdown",
      "metadata": {
        "id": "4LbXH3robmyU"
      },
      "source": [
        "- 지정한 범위에 해당하는 정수로 난수 배열을 생성하는 randint()"
      ]
    },
    {
      "cell_type": "code",
      "metadata": {
        "colab": {
          "base_uri": "https://localhost:8080/"
        },
        "id": "VXZas4rmb2vP",
        "outputId": "116d3668-d4e4-41fc-97f4-20382df0bdcf"
      },
      "source": [
        "np.random.randint(10, size=(3,4))"
      ],
      "execution_count": null,
      "outputs": [
        {
          "output_type": "execute_result",
          "data": {
            "text/plain": [
              "array([[6, 5, 2, 8],\n",
              "       [0, 5, 0, 1],\n",
              "       [5, 8, 1, 7]])"
            ]
          },
          "metadata": {
            "tags": []
          },
          "execution_count": 7
        }
      ]
    },
    {
      "cell_type": "code",
      "metadata": {
        "colab": {
          "base_uri": "https://localhost:8080/"
        },
        "id": "0SXIGVYIb8Gs",
        "outputId": "da2ff538-b951-4bfa-8b84-3f75c2104248"
      },
      "source": [
        "np.random.randint(1,30)"
      ],
      "execution_count": null,
      "outputs": [
        {
          "output_type": "execute_result",
          "data": {
            "text/plain": [
              "21"
            ]
          },
          "metadata": {
            "tags": []
          },
          "execution_count": 8
        }
      ]
    },
    {
      "cell_type": "markdown",
      "metadata": {
        "id": "u5eHZB0Mcuk_"
      },
      "source": [
        "# 배열의 연산\n",
        "## 기본 연산\n",
        "- numpy 배열은 다양하게 연산 할 수 있음\n",
        "- 배열의 형태(shape)가 같다면 덧셈과 뺄셈, 곱셈과 나눗셈 연산을 할 수 있음"
      ]
    },
    {
      "cell_type": "code",
      "metadata": {
        "id": "2JIDyQVKc6z6"
      },
      "source": [
        "arr1 = np.array([10,20,30,40])\n",
        "arr2 = np.array([1,2,3,4])"
      ],
      "execution_count": null,
      "outputs": []
    },
    {
      "cell_type": "markdown",
      "metadata": {
        "id": "NuDqqTTfeHfF"
      },
      "source": [
        "- 배열의 형태가 같은 두 개의 1차원 배열을 생성\n",
        "- 구 배열의 형태가 같다는 의미는 두 배열의 'ndarray.shape' 의 결과가 같다는 의미\n",
        "\\n\n",
        "\n",
        "\n",
        "- 1차원 배열의 경우에는 두 배열의 원소 개수가 같다면 형태가 같다는 의미\n",
        "- 2차원 배열이라면 m * n 행렬에서 두 행렬의 m 과 n이 각각 같은 경우\n",
        "\n",
        "- 두 배열의 합은 각 배열의 같은 위치의 원소끼리 더함\n",
        "\n",
        "- 두 numpy 배열의 합을 구하는 예"
      ]
    },
    {
      "cell_type": "code",
      "metadata": {
        "colab": {
          "base_uri": "https://localhost:8080/"
        },
        "id": "EcpiBV6pfb92",
        "outputId": "a0370bee-79b8-44e7-83d7-24f2a3a052a7"
      },
      "source": [
        "arr1 + arr2"
      ],
      "execution_count": null,
      "outputs": [
        {
          "output_type": "execute_result",
          "data": {
            "text/plain": [
              "array([11, 22, 33, 44])"
            ]
          },
          "metadata": {
            "tags": []
          },
          "execution_count": 10
        }
      ]
    },
    {
      "cell_type": "markdown",
      "metadata": {
        "id": "wJzIhvw4jhFh"
      },
      "source": [
        "- 두 배열의 합과 마찬가지로 두 배열의 차는 같은 위치의 원소끼리 뺌"
      ]
    },
    {
      "cell_type": "code",
      "metadata": {
        "colab": {
          "base_uri": "https://localhost:8080/"
        },
        "id": "YHokOb6ujgt_",
        "outputId": "49f9adfc-17a7-4cf3-8517-b9ecc7b8a67d"
      },
      "source": [
        "arr1-arr2"
      ],
      "execution_count": null,
      "outputs": [
        {
          "output_type": "execute_result",
          "data": {
            "text/plain": [
              "array([ 9, 18, 27, 36])"
            ]
          },
          "metadata": {
            "tags": []
          },
          "execution_count": 11
        }
      ]
    },
    {
      "cell_type": "markdown",
      "metadata": {
        "id": "KpjAb9ssjo2J"
      },
      "source": [
        "- 배열에 상수를 곱할 수도 있음\n",
        "- 배열에 상수를 곱하면 각 원소에 상수를 곱함"
      ]
    },
    {
      "cell_type": "code",
      "metadata": {
        "colab": {
          "base_uri": "https://localhost:8080/"
        },
        "id": "enlkxu41joXE",
        "outputId": "e2db3449-0986-41b6-b296-d6e902b43a20"
      },
      "source": [
        "arr2 * 2"
      ],
      "execution_count": null,
      "outputs": [
        {
          "output_type": "execute_result",
          "data": {
            "text/plain": [
              "array([2, 4, 6, 8])"
            ]
          },
          "metadata": {
            "tags": []
          },
          "execution_count": 12
        }
      ]
    },
    {
      "cell_type": "markdown",
      "metadata": {
        "id": "Q81aPv1gjvpc"
      },
      "source": [
        "- 배열의 거듭제곱도 할 수 있음\n",
        "- 배열의 거듭제곱은 배열의 각 원소에 거듭제곱을 함"
      ]
    },
    {
      "cell_type": "code",
      "metadata": {
        "colab": {
          "base_uri": "https://localhost:8080/"
        },
        "id": "nOcMlFWhjvH-",
        "outputId": "680234c4-0f58-4fd0-e899-d109a1dbe236"
      },
      "source": [
        "arr2 **2"
      ],
      "execution_count": null,
      "outputs": [
        {
          "output_type": "execute_result",
          "data": {
            "text/plain": [
              "array([ 1,  4,  9, 16])"
            ]
          },
          "metadata": {
            "tags": []
          },
          "execution_count": 13
        }
      ]
    },
    {
      "cell_type": "markdown",
      "metadata": {
        "id": "W9-LZzTkj2-M"
      },
      "source": [
        "- 두 배열끼리의 곱셈은 각 원소끼리 곱함"
      ]
    },
    {
      "cell_type": "code",
      "metadata": {
        "colab": {
          "base_uri": "https://localhost:8080/"
        },
        "id": "keF5qr4bj2h0",
        "outputId": "f9b8c220-1666-40e3-d8b0-dbb0d7e9e85e"
      },
      "source": [
        "arr1*arr2"
      ],
      "execution_count": null,
      "outputs": [
        {
          "output_type": "execute_result",
          "data": {
            "text/plain": [
              "array([ 10,  40,  90, 160])"
            ]
          },
          "metadata": {
            "tags": []
          },
          "execution_count": 14
        }
      ]
    },
    {
      "cell_type": "markdown",
      "metadata": {
        "id": "fGskb2mmj99o"
      },
      "source": [
        "- 두 배열의 나눗셈은 각 원소끼리 나눔"
      ]
    },
    {
      "cell_type": "code",
      "metadata": {
        "colab": {
          "base_uri": "https://localhost:8080/"
        },
        "id": "HViqjN0Pj7Vn",
        "outputId": "be9e9e74-fce8-4f04-c645-866be840047b"
      },
      "source": [
        "arr1/arr2"
      ],
      "execution_count": null,
      "outputs": [
        {
          "output_type": "execute_result",
          "data": {
            "text/plain": [
              "array([10., 10., 10., 10.])"
            ]
          },
          "metadata": {
            "tags": []
          },
          "execution_count": 15
        }
      ]
    },
    {
      "cell_type": "markdown",
      "metadata": {
        "id": "mAqHaYRLkErs"
      },
      "source": [
        "- 배열의 복합 연산도 할 수 있음"
      ]
    },
    {
      "cell_type": "code",
      "metadata": {
        "colab": {
          "base_uri": "https://localhost:8080/"
        },
        "id": "Lr9L3DL6kD-n",
        "outputId": "c1f2855b-ad6f-4e2e-d1e6-76fa4b1d86cc"
      },
      "source": [
        "arr1 / (arr2**2)"
      ],
      "execution_count": null,
      "outputs": [
        {
          "output_type": "execute_result",
          "data": {
            "text/plain": [
              "array([10.        ,  5.        ,  3.33333333,  2.5       ])"
            ]
          },
          "metadata": {
            "tags": []
          },
          "execution_count": 16
        }
      ]
    },
    {
      "cell_type": "markdown",
      "metadata": {
        "id": "aoZZ3Ad2kJ8q"
      },
      "source": [
        "- 배열은 비교 연산도 할 수 있음\n",
        "- 원소별로 조건과 일치하는지 검사한 후 일치하면 true를, \n",
        "- 그렇지 않으면 false를 반환"
      ]
    },
    {
      "cell_type": "code",
      "metadata": {
        "colab": {
          "base_uri": "https://localhost:8080/"
        },
        "id": "aFXdn3fCkJBq",
        "outputId": "bd57fcf0-ed35-4412-ab31-1b06d679ec32"
      },
      "source": [
        "arr1>20"
      ],
      "execution_count": null,
      "outputs": [
        {
          "output_type": "execute_result",
          "data": {
            "text/plain": [
              "array([False, False,  True,  True])"
            ]
          },
          "metadata": {
            "tags": []
          },
          "execution_count": 17
        }
      ]
    },
    {
      "cell_type": "markdown",
      "metadata": {
        "id": "8AN-H1LekTlj"
      },
      "source": [
        "## 통계를 위한 연산\n",
        "- numpy에는 배열의 합, 평균, 표준 편차, 분산, 최소값과 최대값, 누적합과 누적곱 등 주로 통계에서 많이 이용하는 매서드\n",
        "- 이 매서드는 각각 sum(), mean(), std(), var(), min(), max(), cumsum(), cumprod()\n",
        "- 배열을 생"
      ]
    },
    {
      "cell_type": "code",
      "metadata": {
        "colab": {
          "base_uri": "https://localhost:8080/"
        },
        "id": "njG98Y1hlcHQ",
        "outputId": "e624c45e-54f3-4854-a5c0-a1ced6ef7790"
      },
      "source": [
        "arr3 = np.arange(5)\n",
        "arr3"
      ],
      "execution_count": null,
      "outputs": [
        {
          "output_type": "execute_result",
          "data": {
            "text/plain": [
              "array([0, 1, 2, 3, 4])"
            ]
          },
          "metadata": {
            "tags": []
          },
          "execution_count": 20
        }
      ]
    },
    {
      "cell_type": "markdown",
      "metadata": {
        "id": "1qeMipNOlgFu"
      },
      "source": [
        "- 배열의 합(sum())과 평균(mean())을 구해보기로 함"
      ]
    },
    {
      "cell_type": "code",
      "metadata": {
        "colab": {
          "base_uri": "https://localhost:8080/"
        },
        "id": "VPIXq-9RleEo",
        "outputId": "fc6293cf-2bc4-4a88-ab36-847f483e84e2"
      },
      "source": [
        "arr3.sum(), arr3.mean()"
      ],
      "execution_count": null,
      "outputs": [
        {
          "output_type": "execute_result",
          "data": {
            "text/plain": [
              "(10, 2.0)"
            ]
          },
          "metadata": {
            "tags": []
          },
          "execution_count": 21
        }
      ]
    },
    {
      "cell_type": "markdown",
      "metadata": {
        "id": "Q9GdgcfHlqv6"
      },
      "source": [
        "- 배열의 표준 편차(std())와 분산(var())을 구함"
      ]
    },
    {
      "cell_type": "code",
      "metadata": {
        "colab": {
          "base_uri": "https://localhost:8080/"
        },
        "id": "pXyLRjOcloHl",
        "outputId": "e687637b-ad4e-4008-c163-0b98bb09b2aa"
      },
      "source": [
        "arr3.std(), arr3.var()"
      ],
      "execution_count": null,
      "outputs": [
        {
          "output_type": "execute_result",
          "data": {
            "text/plain": [
              "(1.4142135623730951, 2.0)"
            ]
          },
          "metadata": {
            "tags": []
          },
          "execution_count": 22
        }
      ]
    },
    {
      "cell_type": "markdown",
      "metadata": {
        "id": "T4oadKbel1G5"
      },
      "source": [
        "- 배열의 최소값(min())과 최대값(max())을 구함"
      ]
    },
    {
      "cell_type": "code",
      "metadata": {
        "colab": {
          "base_uri": "https://localhost:8080/"
        },
        "id": "s4J56wqTl0NK",
        "outputId": "ec454c29-62a5-498e-d0a5-2c32de383a85"
      },
      "source": [
        "arr3.min(), arr3.max()"
      ],
      "execution_count": null,
      "outputs": [
        {
          "output_type": "execute_result",
          "data": {
            "text/plain": [
              "(0, 4)"
            ]
          },
          "metadata": {
            "tags": []
          },
          "execution_count": 23
        }
      ]
    },
    {
      "cell_type": "markdown",
      "metadata": {
        "id": "eXFlZGKil736"
      },
      "source": [
        "- 누적합(cumsum())과 누적곱(cumprod())의 예\n",
        "- arr3의 경우에는 배열의 원소에 0이 있어서 누적곱이 모두 0이 되므로 새로운 배열을 생성해서 적 "
      ]
    },
    {
      "cell_type": "code",
      "metadata": {
        "colab": {
          "base_uri": "https://localhost:8080/"
        },
        "id": "DQdIghfVmw6Y",
        "outputId": "87dcfd0c-4f87-4ed9-ebd2-3b58419c04ad"
      },
      "source": [
        "arr4 = np.arange(1,5)\n",
        "arr4"
      ],
      "execution_count": null,
      "outputs": [
        {
          "output_type": "execute_result",
          "data": {
            "text/plain": [
              "array([1, 2, 3, 4])"
            ]
          },
          "metadata": {
            "tags": []
          },
          "execution_count": 24
        }
      ]
    },
    {
      "cell_type": "markdown",
      "metadata": {
        "id": "RBCGWSWym2AE"
      },
      "source": [
        "- arr4를 이용해 누적 합(cumsum())과 누적곱(cumprod())을 구함"
      ]
    },
    {
      "cell_type": "code",
      "metadata": {
        "colab": {
          "base_uri": "https://localhost:8080/"
        },
        "id": "vK2sBj1Om1Ux",
        "outputId": "1dfd6dfe-f25d-440b-ff54-394ebc3211f4"
      },
      "source": [
        "arr4.cumsum()"
      ],
      "execution_count": null,
      "outputs": [
        {
          "output_type": "execute_result",
          "data": {
            "text/plain": [
              "array([ 1,  3,  6, 10])"
            ]
          },
          "metadata": {
            "tags": []
          },
          "execution_count": 25
        }
      ]
    },
    {
      "cell_type": "code",
      "metadata": {
        "colab": {
          "base_uri": "https://localhost:8080/"
        },
        "id": "NhgOvBVpm7k2",
        "outputId": "e7b8b2c2-e212-405a-ae37-e6f977c2ba10"
      },
      "source": [
        "arr4.cumprod()"
      ],
      "execution_count": null,
      "outputs": [
        {
          "output_type": "execute_result",
          "data": {
            "text/plain": [
              "array([ 1,  2,  6, 24])"
            ]
          },
          "metadata": {
            "tags": []
          },
          "execution_count": 26
        }
      ]
    },
    {
      "cell_type": "markdown",
      "metadata": {
        "id": "U0pGrelrm-he"
      },
      "source": [
        "## 행렬 연산\n",
        "- numpy는 배열의 단순 연산뿐만 아니라 선형 대수(Linear algebra)를 위한 행렬(2차원 배열) 연산도 지원\n",
        "- 다양한 기능 중 행렬 곱, 전치 행렬, 역행렬, 행렬식을 구하는 방법\n",
        "\n",
        "- 행렬 연산을 하기 위해 2*2 행렬 A와 B를 만들겠음\n",
        "\n"
      ]
    },
    {
      "cell_type": "code",
      "metadata": {
        "colab": {
          "base_uri": "https://localhost:8080/"
        },
        "id": "ri4mVrzInU6g",
        "outputId": "f975059f-6805-4611-b557-3837d6f14216"
      },
      "source": [
        "A = np.array([0,1,2,3]).reshape(2,2)\n",
        "A"
      ],
      "execution_count": null,
      "outputs": [
        {
          "output_type": "execute_result",
          "data": {
            "text/plain": [
              "array([[0, 1],\n",
              "       [2, 3]])"
            ]
          },
          "metadata": {
            "tags": []
          },
          "execution_count": 27
        }
      ]
    },
    {
      "cell_type": "code",
      "metadata": {
        "colab": {
          "base_uri": "https://localhost:8080/"
        },
        "id": "wpUrQlNVq4pu",
        "outputId": "4c9eea95-9d23-4182-8f35-96f63abb04d2"
      },
      "source": [
        "B = np.array([3,2,0,1]).reshape(2,2)\n",
        "B"
      ],
      "execution_count": null,
      "outputs": [
        {
          "output_type": "execute_result",
          "data": {
            "text/plain": [
              "array([[3, 2],\n",
              "       [0, 1]])"
            ]
          },
          "metadata": {
            "tags": []
          },
          "execution_count": 28
        }
      ]
    },
    {
      "cell_type": "markdown",
      "metadata": {
        "id": "U0Ec5H_-rHxj"
      },
      "source": [
        "- 행렬 A와 B를 이용한 행렬 곱의 예"
      ]
    },
    {
      "cell_type": "code",
      "metadata": {
        "colab": {
          "base_uri": "https://localhost:8080/"
        },
        "id": "cMxNnO9BrGuv",
        "outputId": "50e3b180-77a0-4394-c6b8-765c42a3310a"
      },
      "source": [
        "A.dot(B)"
      ],
      "execution_count": null,
      "outputs": [
        {
          "output_type": "execute_result",
          "data": {
            "text/plain": [
              "array([[0, 1],\n",
              "       [6, 7]])"
            ]
          },
          "metadata": {
            "tags": []
          },
          "execution_count": 29
        }
      ]
    },
    {
      "cell_type": "code",
      "metadata": {
        "colab": {
          "base_uri": "https://localhost:8080/"
        },
        "id": "5u0UBEwjrM_x",
        "outputId": "39680065-d03c-4e9a-8fb2-710447744b25"
      },
      "source": [
        "np.dot(A,B)"
      ],
      "execution_count": null,
      "outputs": [
        {
          "output_type": "execute_result",
          "data": {
            "text/plain": [
              "array([[0, 1],\n",
              "       [6, 7]])"
            ]
          },
          "metadata": {
            "tags": []
          },
          "execution_count": 30
        }
      ]
    },
    {
      "cell_type": "markdown",
      "metadata": {
        "id": "6mYMGno2rUTM"
      },
      "source": [
        "- 행렬 A의 전치 행렬을 구하는 예"
      ]
    },
    {
      "cell_type": "code",
      "metadata": {
        "colab": {
          "base_uri": "https://localhost:8080/"
        },
        "id": "R3YwQW5OrPEv",
        "outputId": "88de3872-55ea-4b21-c3c2-38feb3bd4b76"
      },
      "source": [
        "np.transpose(A)"
      ],
      "execution_count": null,
      "outputs": [
        {
          "output_type": "execute_result",
          "data": {
            "text/plain": [
              "array([[0, 2],\n",
              "       [1, 3]])"
            ]
          },
          "metadata": {
            "tags": []
          },
          "execution_count": 31
        }
      ]
    },
    {
      "cell_type": "code",
      "metadata": {
        "colab": {
          "base_uri": "https://localhost:8080/"
        },
        "id": "sGIvqcItrY--",
        "outputId": "70f1565e-2529-422f-a09e-2580fb7e9b96"
      },
      "source": [
        "A.transpose()"
      ],
      "execution_count": null,
      "outputs": [
        {
          "output_type": "execute_result",
          "data": {
            "text/plain": [
              "array([[0, 2],\n",
              "       [1, 3]])"
            ]
          },
          "metadata": {
            "tags": []
          },
          "execution_count": 32
        }
      ]
    },
    {
      "cell_type": "markdown",
      "metadata": {
        "id": "FoDdR3X4rbkp"
      },
      "source": [
        "- 행렬 A의 역행렬 구하기"
      ]
    },
    {
      "cell_type": "code",
      "metadata": {
        "colab": {
          "base_uri": "https://localhost:8080/"
        },
        "id": "mZzILxhQra30",
        "outputId": "287c8867-ad40-49b5-d332-9545dc41af53"
      },
      "source": [
        "np.linalg.inv(A)"
      ],
      "execution_count": null,
      "outputs": [
        {
          "output_type": "execute_result",
          "data": {
            "text/plain": [
              "array([[-1.5,  0.5],\n",
              "       [ 1. ,  0. ]])"
            ]
          },
          "metadata": {
            "tags": []
          },
          "execution_count": 34
        }
      ]
    },
    {
      "cell_type": "markdown",
      "metadata": {
        "id": "vCtTMWO6rqbw"
      },
      "source": [
        "- 행렬 A의 행렬식 구하기"
      ]
    },
    {
      "cell_type": "code",
      "metadata": {
        "colab": {
          "base_uri": "https://localhost:8080/"
        },
        "id": "EW-meBBWl7G6",
        "outputId": "f76ec31f-443b-4bce-f676-f6a629bb0ff0"
      },
      "source": [
        "np.linalg.det(A)"
      ],
      "execution_count": null,
      "outputs": [
        {
          "output_type": "execute_result",
          "data": {
            "text/plain": [
              "-2.0"
            ]
          },
          "metadata": {
            "tags": []
          },
          "execution_count": 35
        }
      ]
    },
    {
      "cell_type": "markdown",
      "metadata": {
        "id": "M-zTEmGortpV"
      },
      "source": [
        "# 배열의 인덱싱과 슬라이싱\n",
        "- numpy에서는 배열의 위치, 조건, 범위를 지정해 배열에서 필요한 원소를 서낵\n",
        "- 배열에서 선택된 원소는 값을 가져오거나 변경\n",
        "\n",
        "- 배열의 위치나 조건을 지정해 배열의 원소를 선택하는 것을 인덱싱(indexing)\n",
        "- 범위를 지정해 배원의 원소를 선택하는 것을 슬라이싱(slicing)\n",
        "\n",
        "## 배열의 인덱싱\n",
        "- 1차원 배열에서 특정 위치의 원소를 선택하려면 원소의 위치를 지정\n",
        "- 배열명[위치]\n",
        "- 배열 원소의 위치는 0부터 시작\n",
        "\n",
        "- 배열의 인덱싱 예를 살펴보기 위해 1차원 배열을 생성\n"
      ]
    },
    {
      "cell_type": "code",
      "metadata": {
        "colab": {
          "base_uri": "https://localhost:8080/"
        },
        "id": "yAMY4ojGwly3",
        "outputId": "f243b4a9-a75b-42b9-e8cf-46b858f0cf90"
      },
      "source": [
        "a1 = np.array([0,10,20,30,40,50])\n",
        "a1"
      ],
      "execution_count": null,
      "outputs": [
        {
          "output_type": "execute_result",
          "data": {
            "text/plain": [
              "array([ 0, 10, 20, 30, 40, 50])"
            ]
          },
          "metadata": {
            "tags": []
          },
          "execution_count": 36
        }
      ]
    },
    {
      "cell_type": "markdown",
      "metadata": {
        "id": "X0SzJ9UDwrtd"
      },
      "source": [
        "- 위의 배열(a1)에서 위치 0의 원소를 선택해서 가져오려면 a1[0]을 입력"
      ]
    },
    {
      "cell_type": "code",
      "metadata": {
        "colab": {
          "base_uri": "https://localhost:8080/"
        },
        "id": "VEQdhYY_wqys",
        "outputId": "0d690c3e-c45f-4d92-d8c0-b479ae688d6e"
      },
      "source": [
        "a1[0]"
      ],
      "execution_count": null,
      "outputs": [
        {
          "output_type": "execute_result",
          "data": {
            "text/plain": [
              "0"
            ]
          },
          "metadata": {
            "tags": []
          },
          "execution_count": 37
        }
      ]
    },
    {
      "cell_type": "markdown",
      "metadata": {
        "id": "Z6KlPPRjw0DB"
      },
      "source": [
        "- 배열(a1)에서 위치 4의 원소를 선택하려면 다음처럼 a[4]라고 입력"
      ]
    },
    {
      "cell_type": "code",
      "metadata": {
        "colab": {
          "base_uri": "https://localhost:8080/"
        },
        "id": "wO3eumCKwzin",
        "outputId": "98dee182-dc8e-455b-e446-50a8994e01d7"
      },
      "source": [
        "a1[4]"
      ],
      "execution_count": null,
      "outputs": [
        {
          "output_type": "execute_result",
          "data": {
            "text/plain": [
              "40"
            ]
          },
          "metadata": {
            "tags": []
          },
          "execution_count": 38
        }
      ]
    },
    {
      "cell_type": "markdown",
      "metadata": {
        "id": "jIUpKO0jw8dd"
      },
      "source": [
        "- 배열의 원소를 가져올 수 있을 뿐더러 변경할 수도 있음"
      ]
    },
    {
      "cell_type": "code",
      "metadata": {
        "colab": {
          "base_uri": "https://localhost:8080/"
        },
        "id": "jjnixR1-w70o",
        "outputId": "a74f00d5-d12e-41f7-b47a-0691cabad216"
      },
      "source": [
        "a1[5] = 70\n",
        "a1"
      ],
      "execution_count": null,
      "outputs": [
        {
          "output_type": "execute_result",
          "data": {
            "text/plain": [
              "array([ 0, 10, 20, 30, 40, 70])"
            ]
          },
          "metadata": {
            "tags": []
          },
          "execution_count": 39
        }
      ]
    },
    {
      "cell_type": "markdown",
      "metadata": {
        "id": "TdVlWx6NxEUk"
      },
      "source": [
        "- i 차원 배열에서 여러 개의 원소를 선택하려면 다음과 같이 지정\n",
        "- 배열명[[위치1, 위치2..., 위치n]]\n",
        "- 1차원 배열 a1에서 1,3,4의 위치에 있는 원소 10, 30, 40을 가져"
      ]
    },
    {
      "cell_type": "code",
      "metadata": {
        "colab": {
          "base_uri": "https://localhost:8080/"
        },
        "id": "29zoyQWXxP7T",
        "outputId": "1ebd1873-9831-4729-85ad-9e8ff3396fcb"
      },
      "source": [
        "a1[[1,3,4]]"
      ],
      "execution_count": null,
      "outputs": [
        {
          "output_type": "execute_result",
          "data": {
            "text/plain": [
              "array([10, 30, 40])"
            ]
          },
          "metadata": {
            "tags": []
          },
          "execution_count": 40
        }
      ]
    },
    {
      "cell_type": "markdown",
      "metadata": {
        "id": "7aE4qmHvxRq7"
      },
      "source": [
        "- 2차원 배열에서 특정 위치의 원소를 선택하려면 다음과 같이 행과 열의 위치를 지정\n",
        "- 배열명[행_위치, 열_위치]\n",
        "- '열_위치' 없이 '배열명[행_위치]'만 입력하면 지정한 행 전체가 선택\n",
        "\n",
        "- 2차원 배열에서 인덱싱으로 특정 원소를 선택해서 가져오는 예\n",
        "- 2차원 배열을 생성"
      ]
    },
    {
      "cell_type": "code",
      "metadata": {
        "colab": {
          "base_uri": "https://localhost:8080/"
        },
        "id": "0aYPBFn7xRCc",
        "outputId": "4692827b-67e1-410d-ee5b-3e17e34c969e"
      },
      "source": [
        "a2 = np.arange(10, 100, 10).reshape(3,3)\n",
        "a2"
      ],
      "execution_count": null,
      "outputs": [
        {
          "output_type": "execute_result",
          "data": {
            "text/plain": [
              "array([[10, 20, 30],\n",
              "       [40, 50, 60],\n",
              "       [70, 80, 90]])"
            ]
          },
          "metadata": {
            "tags": []
          },
          "execution_count": 41
        }
      ]
    },
    {
      "cell_type": "markdown",
      "metadata": {
        "id": "fWs7TZYIxor6"
      },
      "source": [
        "- 2차원 배열 a2에서 '행_위치'가 0이고 '열_위치'가 2인 원소를 선택해서 가져오기"
      ]
    },
    {
      "cell_type": "code",
      "metadata": {
        "colab": {
          "base_uri": "https://localhost:8080/"
        },
        "id": "sN6SCcl8xoO8",
        "outputId": "8e5b244e-3e54-4859-9161-a778140ade18"
      },
      "source": [
        "a2[0,2]"
      ],
      "execution_count": null,
      "outputs": [
        {
          "output_type": "execute_result",
          "data": {
            "text/plain": [
              "30"
            ]
          },
          "metadata": {
            "tags": []
          },
          "execution_count": 42
        }
      ]
    },
    {
      "cell_type": "markdown",
      "metadata": {
        "id": "girXDtYDxv-g"
      },
      "source": [
        "- 2차원 배열의 행과 열의 위치를 지정해서 원소를 선택한 후 값을 변경"
      ]
    },
    {
      "cell_type": "code",
      "metadata": {
        "colab": {
          "base_uri": "https://localhost:8080/"
        },
        "id": "YUdhr3CcxvXK",
        "outputId": "8605deac-644c-4fae-b32b-dae422a4df8f"
      },
      "source": [
        "a2[2,2] =95\n",
        "a2"
      ],
      "execution_count": null,
      "outputs": [
        {
          "output_type": "execute_result",
          "data": {
            "text/plain": [
              "array([[10, 20, 30],\n",
              "       [40, 50, 60],\n",
              "       [70, 80, 95]])"
            ]
          },
          "metadata": {
            "tags": []
          },
          "execution_count": 43
        }
      ]
    },
    {
      "cell_type": "markdown",
      "metadata": {
        "id": "hOGal_yEyCWF"
      },
      "source": [
        "- 2차원 배열에서 '행_위치'를 지정해 행 전체를 가져오기"
      ]
    },
    {
      "cell_type": "code",
      "metadata": {
        "colab": {
          "base_uri": "https://localhost:8080/"
        },
        "id": "j8uhz8V6yAZM",
        "outputId": "7dfe65f8-70dd-4705-c6c7-4c9aac1ee362"
      },
      "source": [
        "a2[1]"
      ],
      "execution_count": null,
      "outputs": [
        {
          "output_type": "execute_result",
          "data": {
            "text/plain": [
              "array([40, 50, 60])"
            ]
          },
          "metadata": {
            "tags": []
          },
          "execution_count": 44
        }
      ]
    },
    {
      "cell_type": "markdown",
      "metadata": {
        "id": "fuC-xUHCyOgu"
      },
      "source": [
        "- 2차원 배열의 특정 행을 지정해서 행 전체를 변경\n",
        "- 새로운 값을 입력할 때 'np.array(seq_data)'를 이용해도 되고 리스트를 이용해도 됨\n",
        "\n",
        "- 특정 행을 지정해 행 전체의 값을 변경하는 예"
      ]
    },
    {
      "cell_type": "code",
      "metadata": {
        "colab": {
          "base_uri": "https://localhost:8080/"
        },
        "id": "mdIqwY8kyHng",
        "outputId": "b9be1238-4ffa-4ea4-8b3a-ed2a7b4eb31d"
      },
      "source": [
        "a2[1] = np.array([45,55,65])\n",
        "a2"
      ],
      "execution_count": null,
      "outputs": [
        {
          "output_type": "execute_result",
          "data": {
            "text/plain": [
              "array([[10, 20, 30],\n",
              "       [45, 55, 65],\n",
              "       [70, 80, 95]])"
            ]
          },
          "metadata": {
            "tags": []
          },
          "execution_count": 45
        }
      ]
    },
    {
      "cell_type": "code",
      "metadata": {
        "colab": {
          "base_uri": "https://localhost:8080/"
        },
        "id": "jD33-EVByenI",
        "outputId": "13cd0c8d-00a2-4463-a440-3b5a7402ff9e"
      },
      "source": [
        "a2[1] = [47, 57, 67]\n",
        "a2"
      ],
      "execution_count": null,
      "outputs": [
        {
          "output_type": "execute_result",
          "data": {
            "text/plain": [
              "array([[10, 20, 30],\n",
              "       [47, 57, 67],\n",
              "       [70, 80, 95]])"
            ]
          },
          "metadata": {
            "tags": []
          },
          "execution_count": 47
        }
      ]
    },
    {
      "cell_type": "markdown",
      "metadata": {
        "id": "sYPurUy-yo3U"
      },
      "source": [
        "- 2차원 배열의 여러 원소를 선택하기 위해서는 다음과 같이 지정\n",
        "- 배열명[[행_위치1, 행_위치2,...행_위치n],[열_위치1, 열_위치2,....열_위치n]]\n",
        "- (행_위치1,열_위치1)의 원소.......(행_위치n, 열_위치n)의 원소를 가져옴\n",
        "\n",
        "- 2차원 배열에서 행과 열의 위치를 지정해 여러 원소를 선택해서 가져오기"
      ]
    },
    {
      "cell_type": "code",
      "metadata": {
        "colab": {
          "base_uri": "https://localhost:8080/"
        },
        "id": "Dy-bGZpAzBwk",
        "outputId": "48cb80d6-6bdd-4e39-d9b0-bafd56817b71"
      },
      "source": [
        "a2[[0,2],[0,1]]"
      ],
      "execution_count": null,
      "outputs": [
        {
          "output_type": "execute_result",
          "data": {
            "text/plain": [
              "array([10, 80])"
            ]
          },
          "metadata": {
            "tags": []
          },
          "execution_count": 48
        }
      ]
    },
    {
      "cell_type": "markdown",
      "metadata": {
        "id": "CqzV6gwBzHhP"
      },
      "source": [
        "- 2차원 배열 a2에서 (0,0) 위치의 원소 10과 (2,1) 위치의 원소 80을 선택해서 가져옴\n",
        "\n",
        "- 배열에 조건을 지정해 조건을 만족하는 배열을 선택 할 수도 있음\n",
        "- 배열명[조건]\n",
        "- 배열에서 조건을 만족하는 원소만 선택\n",
        "\n",
        "- 조건을 지정해 조건에 맞는 배열의 원소만 선택하는 예"
      ]
    },
    {
      "cell_type": "code",
      "metadata": {
        "colab": {
          "base_uri": "https://localhost:8080/"
        },
        "id": "9Ut2gJqdznrL",
        "outputId": "0eba67c7-53c9-4805-80cf-66a4380168f6"
      },
      "source": [
        "a = np.array([1,2,3,4,5,6])\n",
        "a[a>3]"
      ],
      "execution_count": null,
      "outputs": [
        {
          "output_type": "execute_result",
          "data": {
            "text/plain": [
              "array([4, 5, 6])"
            ]
          },
          "metadata": {
            "tags": []
          },
          "execution_count": 4
        }
      ]
    },
    {
      "cell_type": "markdown",
      "metadata": {
        "id": "QgtumpQI6vTb"
      },
      "source": [
        "- 배열 a에서 'a>3' 조건을 만족하는 원소만 가져옴\n",
        "- '(a%2) = 0' 조건을 이용해 배열 a에서 짝수인 원소만 선택하는 예"
      ]
    },
    {
      "cell_type": "code",
      "metadata": {
        "colab": {
          "base_uri": "https://localhost:8080/"
        },
        "id": "TV3HAaiz6n1f",
        "outputId": "3dc39cf5-76fd-47cf-fdda-3fa499925e27"
      },
      "source": [
        "a[(a%2) == 0]"
      ],
      "execution_count": null,
      "outputs": [
        {
          "output_type": "execute_result",
          "data": {
            "text/plain": [
              "array([2, 4, 6])"
            ]
          },
          "metadata": {
            "tags": []
          },
          "execution_count": 5
        }
      ]
    },
    {
      "cell_type": "markdown",
      "metadata": {
        "id": "IyZ_csZT77XE"
      },
      "source": [
        "## 배열의 슬라이싱\n",
        "- 범위를 지정해 배열의 일부분을 선택하는 슬라이싱\n",
        "- 1차원 배열의 경우 슬라이싱은 다음과 같이 배열의 시작과 끝 취리를 지정\n",
        "- 배열[시작_위치:끝_위치]\n",
        "- 반환되는 원소의 범위는 '시작_위치 ~ 끝_위치-1'가 됨\n",
        "- '시작_위치'를 지정하지 않으면 시작_위치는 0이 되어 범위는 ~ 끝_위치-1'이 됨\n",
        "- '끝_위치' 를 지정하지 않으면 '끝_위치'는 배열의 길이가 되어 범위는 '시작_위치 ~배열의 끝'이 됨\n",
        "- 1차원 배열에서 '시작_위치'와 '끝_위치'를 지정해서 슬라이싱하는 "
      ]
    },
    {
      "cell_type": "code",
      "metadata": {
        "colab": {
          "base_uri": "https://localhost:8080/"
        },
        "id": "cxuPHjXR8jC-",
        "outputId": "eb5fec7e-09ed-46f5-d046-7af31266b332"
      },
      "source": [
        "b1 = np.array([0, 10, 20, 30, 40, 50])\n",
        "b1[1:4]"
      ],
      "execution_count": null,
      "outputs": [
        {
          "output_type": "execute_result",
          "data": {
            "text/plain": [
              "array([10, 20, 30])"
            ]
          },
          "metadata": {
            "tags": []
          },
          "execution_count": 6
        }
      ]
    },
    {
      "cell_type": "markdown",
      "metadata": {
        "id": "IIsp5dL58oSH"
      },
      "source": [
        "- 배열 비에서 '시작_위치'는 1로 '끝_위치'는 4로 지정\n",
        "- '1~3(시작_위치 ~ 끝_위치-1)`의 배열 원소가 반환\n",
        "\n",
        "- 1차원 배열에서 '시작_위치'와 '끝_위치'를 지정하지 않고 슬라이싱하는 예"
      ]
    },
    {
      "cell_type": "code",
      "metadata": {
        "colab": {
          "base_uri": "https://localhost:8080/"
        },
        "id": "D7jlhBJj8njW",
        "outputId": "4894fc7f-2732-4cdd-cd6d-58985fef404f"
      },
      "source": [
        "b1[:3]"
      ],
      "execution_count": null,
      "outputs": [
        {
          "output_type": "execute_result",
          "data": {
            "text/plain": [
              "array([ 0, 10, 20])"
            ]
          },
          "metadata": {
            "tags": []
          },
          "execution_count": 8
        }
      ]
    },
    {
      "cell_type": "code",
      "metadata": {
        "colab": {
          "base_uri": "https://localhost:8080/"
        },
        "id": "up5hnvxg82_r",
        "outputId": "97752b1c-a8f1-473e-8319-4eeb6dd4b51d"
      },
      "source": [
        "b1[2:]"
      ],
      "execution_count": null,
      "outputs": [
        {
          "output_type": "execute_result",
          "data": {
            "text/plain": [
              "array([20, 30, 40, 50])"
            ]
          },
          "metadata": {
            "tags": []
          },
          "execution_count": 9
        }
      ]
    },
    {
      "cell_type": "markdown",
      "metadata": {
        "id": "i6k7M2ux87oi"
      },
      "source": [
        "- 슬라이싱을 이용해 원소를 가져올 수 있을 뿐만 아니라 워노를 변경도 가능"
      ]
    },
    {
      "cell_type": "code",
      "metadata": {
        "colab": {
          "base_uri": "https://localhost:8080/"
        },
        "id": "O8dSoSEB86fm",
        "outputId": "8a847507-f949-45db-86ee-999eee60b73e"
      },
      "source": [
        "b1[2:5] = np.array([25,35,45])\n",
        "b1"
      ],
      "execution_count": null,
      "outputs": [
        {
          "output_type": "execute_result",
          "data": {
            "text/plain": [
              "array([ 0, 10, 25, 35, 45, 50])"
            ]
          },
          "metadata": {
            "tags": []
          },
          "execution_count": 10
        }
      ]
    },
    {
      "cell_type": "markdown",
      "metadata": {
        "id": "5bUYJc-k9FH7"
      },
      "source": [
        "- b1[2:5]를 이용해 b1 배열의 '시작_위치(2)'부터 '끝_위치-1(4)'까지 3개의 원소를 새로운 값으로 변경\n",
        "- 여러 원소의 값을 같을 같은 값으로 변경하려면 하나의 값을 지정해 변경할 수 잇음"
      ]
    },
    {
      "cell_type": "code",
      "metadata": {
        "colab": {
          "base_uri": "https://localhost:8080/"
        },
        "id": "HlvrU1Pp9EYj",
        "outputId": "14e0ee91-7d67-4e27-c17c-8fd97eae4148"
      },
      "source": [
        "b1[3:6] = 60\n",
        "b1"
      ],
      "execution_count": null,
      "outputs": [
        {
          "output_type": "execute_result",
          "data": {
            "text/plain": [
              "array([ 0, 10, 25, 60, 60, 60])"
            ]
          },
          "metadata": {
            "tags": []
          },
          "execution_count": 11
        }
      ]
    },
    {
      "cell_type": "markdown",
      "metadata": {
        "id": "jgQz1Bjd9mq7"
      },
      "source": [
        "- 2차원 배열(행렬)의 경우 슬라이싱은 다음과 같이 행과 열의 시작과 끝 위치를 지정\n",
        "- 배열[행_시작_위치: 행_끝_위치, 열_시작_위치: 열_끝_위치]\n",
        "\n",
        "- 원소의 행 범위는 '행_시작_위치 ~ 행_끝_위치-1' 이 되고, 열 범위 는 '열_시작_위치 ~ 열_끝_위치-1'이 됨\n",
        "- '행_시작_위치'나 '열_시작_위치'를 생략하면 행과 열의 시작 위치는 0\n",
        "- 행_끝_위치를 생략하면 원소의 행 범위는 '행_시작_위치'부터 행의 끝까지 지정되고,\n",
        "- 열_끝_위치를 생략하면 원소의 열 범위는 '열_시작_위치'부터 열의 끝까지 지정\n",
        "\n",
        "- 특정 행을 선택한 후 열을 슬라이싱하려면 다음과 같이 행의 위치를 지정하고 열의 시작과 끝 위치를 지정\n",
        "- 배열[행_위치][열_시작)위치:열_끝_위치]\n",
        "\n",
        "- 2차원 배열의 슬라이싱을 위해 2차원 배열을 생성"
      ]
    },
    {
      "cell_type": "code",
      "metadata": {
        "colab": {
          "base_uri": "https://localhost:8080/"
        },
        "id": "fFuW-_FZ9h8r",
        "outputId": "05c944d3-d8e8-4e64-8708-35406485ba0e"
      },
      "source": [
        "b2 = np.arange(10, 100, 10).reshape(3,3)\n",
        "b2"
      ],
      "execution_count": null,
      "outputs": [
        {
          "output_type": "execute_result",
          "data": {
            "text/plain": [
              "array([[10, 20, 30],\n",
              "       [40, 50, 60],\n",
              "       [70, 80, 90]])"
            ]
          },
          "metadata": {
            "tags": []
          },
          "execution_count": 13
        }
      ]
    },
    {
      "cell_type": "markdown",
      "metadata": {
        "id": "7xxlPKOt-uCi"
      },
      "source": [
        "- 2차원 배열에서 '행_시작_위치:행_끝_위치, 열_시작_위치:열_끝_위치'를 지정해 슬라이싱하는 "
      ]
    },
    {
      "cell_type": "code",
      "metadata": {
        "colab": {
          "base_uri": "https://localhost:8080/"
        },
        "id": "X9tpU4sF_OCa",
        "outputId": "dbc0690e-0a6e-4a1d-99aa-796955cfdc96"
      },
      "source": [
        "b2[1:3, 1:3]"
      ],
      "execution_count": null,
      "outputs": [
        {
          "output_type": "execute_result",
          "data": {
            "text/plain": [
              "array([[50, 60],\n",
              "       [80, 90]])"
            ]
          },
          "metadata": {
            "tags": []
          },
          "execution_count": 14
        }
      ]
    },
    {
      "cell_type": "markdown",
      "metadata": {
        "id": "FnFCCpTM_Qp-"
      },
      "source": [
        "- 2차원 배열을 슬라이싱할 때 '행_시작-위치', '열_시작_위치', '열_끝_위치' 중 일부를 생략한 예"
      ]
    },
    {
      "cell_type": "code",
      "metadata": {
        "colab": {
          "base_uri": "https://localhost:8080/"
        },
        "id": "ClCrSspW_QJQ",
        "outputId": "a953687a-ade5-445e-c825-344426200d37"
      },
      "source": [
        "b2[:3, 1:]"
      ],
      "execution_count": null,
      "outputs": [
        {
          "output_type": "execute_result",
          "data": {
            "text/plain": [
              "array([[20, 30],\n",
              "       [50, 60],\n",
              "       [80, 90]])"
            ]
          },
          "metadata": {
            "tags": []
          },
          "execution_count": 15
        }
      ]
    },
    {
      "cell_type": "markdown",
      "metadata": {
        "id": "rC60W8GN_e5b"
      },
      "source": [
        "- 2차원 배열에서 행을 지정하고 열을 슬라이싱하는 예"
      ]
    },
    {
      "cell_type": "code",
      "metadata": {
        "colab": {
          "base_uri": "https://localhost:8080/"
        },
        "id": "PPb6CRas_eGj",
        "outputId": "2b1eee0f-bb5a-4877-fa7a-fb628b6802f0"
      },
      "source": [
        "b2[1][0:2]"
      ],
      "execution_count": null,
      "outputs": [
        {
          "output_type": "execute_result",
          "data": {
            "text/plain": [
              "array([40, 50])"
            ]
          },
          "metadata": {
            "tags": []
          },
          "execution_count": 16
        }
      ]
    },
    {
      "cell_type": "markdown",
      "metadata": {
        "id": "K55t1lqQ_sXj"
      },
      "source": [
        "- 1차원 배열에서와 마찬가지로 다음과 같이 2차원 배열에서도 슬라이싱된 배열에 값을 지정"
      ]
    },
    {
      "cell_type": "code",
      "metadata": {
        "colab": {
          "base_uri": "https://localhost:8080/"
        },
        "id": "wqqde9gm_yXa",
        "outputId": "2e507f8b-1015-4309-de80-cda37a91438e"
      },
      "source": [
        "b2[0:2, 1:3] = np.array([[25, 35],[55, 65]])\n",
        "b2"
      ],
      "execution_count": null,
      "outputs": [
        {
          "output_type": "execute_result",
          "data": {
            "text/plain": [
              "array([[10, 25, 35],\n",
              "       [40, 55, 65],\n",
              "       [70, 80, 90]])"
            ]
          },
          "metadata": {
            "tags": []
          },
          "execution_count": 17
        }
      ]
    },
    {
      "cell_type": "markdown",
      "metadata": {
        "id": "O2yn986R_9rm"
      },
      "source": [
        "# 11.2 구조적 데이터 표시와 처리에 강한 Pandas\n",
        "- 파이썬을 이용하면 다량의 데이터를 손쉽게 처리할 수 있음\n",
        "- 파이썬에서 데이터 분석과 처리를 쉽게 할 수 있게 도와주는 것이 바로 Pandas 라이브러리\n",
        "- Pandas는 numpy를 기반으로 만들어졌지만 좀 더 복잡한 데이터 분석에 특화\n",
        "- numpy가 같은 데이터 타입의 배열만 처리할 수 있는데 반해\n",
        "- Pandas는 데이터 타입이 다양하게 섞여 있을 때도 처리할 수 있음\n",
        "- Pandas 홈페이지 (https://pandas.pydata.org)\n",
        "\n",
        "## 구조적 데이터 생성하기\n",
        "## Series를 활용한 데이터 생성\n",
        "- numpy처럼 pandas도 보통 다음과 같이 'import ~ as ~' 형식으로 불러"
      ]
    },
    {
      "cell_type": "code",
      "metadata": {
        "colab": {
          "base_uri": "https://localhost:8080/",
          "height": 35
        },
        "id": "p9I_45dLuHqv",
        "outputId": "e6f865be-8424-4e88-9e63-9c02684724f7"
      },
      "source": [
        "import pandas\n",
        "pandas.__version__"
      ],
      "execution_count": null,
      "outputs": [
        {
          "output_type": "execute_result",
          "data": {
            "application/vnd.google.colaboratory.intrinsic+json": {
              "type": "string"
            },
            "text/plain": [
              "'1.1.5'"
            ]
          },
          "metadata": {
            "tags": []
          },
          "execution_count": 102
        }
      ]
    },
    {
      "cell_type": "code",
      "metadata": {
        "id": "7W86uPBsAmm1"
      },
      "source": [
        "import pandas as pd"
      ],
      "execution_count": null,
      "outputs": []
    },
    {
      "cell_type": "markdown",
      "metadata": {
        "id": "lV0ROWIXAp_S"
      },
      "source": [
        "- pandas를 불러오면 이제 pandas를 이용할 때 pandas 대신 pd를 이용할 수 잇음\n",
        "\n",
        "- pandas에서 데이터를 생성하는 가장 기본적인 방법은 SeriesO를 이용하는 것\n",
        "- Series()를 이용하면 Series 형식의 구조적 데이터(라벨을 갖는 1차원 데이터)를 생성\n",
        "\n",
        "- Series()를 이용해 Series 형식의 데이터를 생성하는 방법\n",
        "- s = pd.Series(seq_data)\n",
        "- SeriesO의 인자로는 시퀀스 데이터(seq_data)가 들어감\n",
        "- 시퀀스 데이터(seq_data)로는 리스트와 튜플 타입의 데이터를 모두 사용할 수 있지만 주로 리스트 데이터를 이용\n",
        "\n",
        "- 지정하면 인자로 넣은 시퀀스 데이터(seq_data)에 순서를 표시하는 라벨이 자동으로 부여\n",
        "- Series 데이터에서는 세로축 라벨을 index라고 하고, 입력한 시퀀스 데이터를 values라고 함\n",
        "\n",
        "- Series 데이터의 구조"
      ]
    },
    {
      "cell_type": "code",
      "metadata": {
        "colab": {
          "base_uri": "https://localhost:8080/"
        },
        "id": "5Tmy8iLxIvJY",
        "outputId": "b1ee1343-76fb-4d92-8cfe-bd4ce6f72b0e"
      },
      "source": [
        "s1 = pd.Series([10, 20, 30, 40, 50])\n",
        "s1"
      ],
      "execution_count": null,
      "outputs": [
        {
          "output_type": "execute_result",
          "data": {
            "text/plain": [
              "0    10\n",
              "1    20\n",
              "2    30\n",
              "3    40\n",
              "4    50\n",
              "dtype: int64"
            ]
          },
          "metadata": {
            "tags": []
          },
          "execution_count": 25
        }
      ]
    },
    {
      "cell_type": "markdown",
      "metadata": {
        "id": "JnxADKtnJjYV"
      },
      "source": [
        "- Series 데이터를 출력하면 데이터 앞에 index가 함께 표시\n",
        "- index는 Series 데이터 생성 시 자동으로 만들어진 것으로 데이터를 처리할 때 이용\n",
        "\n",
        "- Series 데이터는 index와 values를 분리해서 가져올 수 있음\n",
        "- Series 데이터를 s라고 할 때 index는 's.index'로 values는 's.values'로 가져올 수 있음\n",
        "\n",
        "- Series 데이터에서 index를 가져온 "
      ]
    },
    {
      "cell_type": "code",
      "metadata": {
        "colab": {
          "base_uri": "https://localhost:8080/"
        },
        "id": "gQ8lgVezJ9DV",
        "outputId": "f69e6289-71dd-427a-b1b3-b8ddbdcf2117"
      },
      "source": [
        "s1.index\n",
        "print(s1.index)"
      ],
      "execution_count": null,
      "outputs": [
        {
          "output_type": "stream",
          "text": [
            "RangeIndex(start=0, stop=5, step=1)\n"
          ],
          "name": "stdout"
        }
      ]
    },
    {
      "cell_type": "markdown",
      "metadata": {
        "id": "lT6Y9r09KBJ3"
      },
      "source": [
        "- Rangeindex는 index 범위로 표시했음을 의미\n",
        "- index의 범위는 'start ~ stop -1`이며 간격은 step 만큼씩 증가\n",
        "\n",
        "- series 데이터에서 values를 가져온 "
      ]
    },
    {
      "cell_type": "code",
      "metadata": {
        "colab": {
          "base_uri": "https://localhost:8080/"
        },
        "id": "yAZd6pB2KOZO",
        "outputId": "e40f0cd0-1da2-42db-d105-909624dcb1c9"
      },
      "source": [
        "s1.values"
      ],
      "execution_count": null,
      "outputs": [
        {
          "output_type": "execute_result",
          "data": {
            "text/plain": [
              "array([10, 20, 30, 40, 50])"
            ]
          },
          "metadata": {
            "tags": []
          },
          "execution_count": 27
        }
      ]
    },
    {
      "cell_type": "markdown",
      "metadata": {
        "id": "nb6LsnjgKQCc"
      },
      "source": [
        "- 결과가 numpy의 배열과 형식이 같음\n",
        "\n",
        "- numpy의 경우 배열의 모든 원소가 데이터 타입이 같아야 했지만 pandas의 경우에는 원소의 데이터 타입이 달라도 됨\n",
        "- Series()로 데이터를 생성할 때 문자와 숫자가 혼합된 리스트를 인자로 이용"
      ]
    },
    {
      "cell_type": "code",
      "metadata": {
        "colab": {
          "base_uri": "https://localhost:8080/"
        },
        "id": "Pddg3R0OKPa8",
        "outputId": "4a0c8e55-71d3-4f8c-f15b-43942df12259"
      },
      "source": [
        "s2 = pd.Series(['a','b','c','1','2','3'])\n",
        "s2"
      ],
      "execution_count": null,
      "outputs": [
        {
          "output_type": "execute_result",
          "data": {
            "text/plain": [
              "0    a\n",
              "1    b\n",
              "2    c\n",
              "3    1\n",
              "4    2\n",
              "5    3\n",
              "dtype: object"
            ]
          },
          "metadata": {
            "tags": []
          },
          "execution_count": 28
        }
      ]
    },
    {
      "cell_type": "markdown",
      "metadata": {
        "id": "YIUyAMBhKqhD"
      },
      "source": [
        "- 데이터가 없으면 numpy를 임포트한 후에 np.nan으로 데이터가 없다고 표시할 수도 있음\n",
        "- np.nan를 이용해서 Series 데이터에 특정 원소가 없음을 표시한 예"
      ]
    },
    {
      "cell_type": "code",
      "metadata": {
        "colab": {
          "base_uri": "https://localhost:8080/"
        },
        "id": "WYPQVt0IKmD3",
        "outputId": "0f4313d4-6064-461e-9b07-7708f6cbe68a"
      },
      "source": [
        "import numpy as np\n",
        "\n",
        "s3 = pd.Series([np.nan, 10, 30])\n",
        "s3"
      ],
      "execution_count": null,
      "outputs": [
        {
          "output_type": "execute_result",
          "data": {
            "text/plain": [
              "0     NaN\n",
              "1    10.0\n",
              "2    30.0\n",
              "dtype: float64"
            ]
          },
          "metadata": {
            "tags": []
          },
          "execution_count": 30
        }
      ]
    },
    {
      "cell_type": "markdown",
      "metadata": {
        "id": "ZKLXmdwMK_fy"
      },
      "source": [
        "- nan은 데이터가 없다는 것을 의미\n",
        "- 데이터를 위한 자리(index)는 있지만 실제 값은 없음\n",
        "\n",
        "- series 데이터를 생성할 때 다음과 같이 인자로 index를 추가할 수 있음\n",
        "- s = pd.Series(seq_data, index = index_seq)\n",
        "- 인자로 index를 명시적으로 입력하면 Series 변수(s)의 index에는 자동 생성되는 index 대신 index_seq가 들어가게 됨\n",
        "- index_seq도 리스와 튜플 타입의 데이터를 모두 사용할 수 있지만 주로 리스트 데이터를 이용\n",
        "- seq_data의 항목 개수와 index_seq의 항목 개수는 같아야 한다는 것\n",
        "\n",
        "- 어느 가게의 날짜별 판매량을 pandas의 Series 형식으로 입력\n",
        "- 하루는 판매량 데이터가 없어서 np.nan를 입력"
      ]
    },
    {
      "cell_type": "code",
      "metadata": {
        "colab": {
          "base_uri": "https://localhost:8080/"
        },
        "id": "JFzM-ktgJ_hP",
        "outputId": "3fa16489-d3dc-4153-f6a7-19408d0b07c5"
      },
      "source": [
        "index_date = ['2018-10-17', '2018-10-08', '2018-10-09', '2018-10-10']\n",
        "s4 = pd.Series([200, 195, np.nan, 205], index = index_date)\n",
        "s4"
      ],
      "execution_count": null,
      "outputs": [
        {
          "output_type": "execute_result",
          "data": {
            "text/plain": [
              "2018-10-17    200.0\n",
              "2018-10-08    195.0\n",
              "2018-10-09      NaN\n",
              "2018-10-10    205.0\n",
              "dtype: float64"
            ]
          },
          "metadata": {
            "tags": []
          },
          "execution_count": 31
        }
      ]
    },
    {
      "cell_type": "markdown",
      "metadata": {
        "id": "qMFrP85GO037"
      },
      "source": [
        "- index에는 입력 인자 index의 리스트 데이터가 지정됐음을 확인\n",
        "\n",
        "- 리스트 형식의 데이터와 index를 따로 입력했지만 파이썬의 딕셔너리를 이용하면 데이터와 index를 함께 입력할 수 있음\n",
        "- s = pd.Series(dict_data)\n",
        "- 입력 인자로 딕셔너리 데이터를 입력하면 딕셔너리 데이터의 키(keys)와 값(values)이 각각 Series 데이터의 index와 values로 들어감\n",
        "\n",
        "- Series 데이터의 index는 '국어','영어','수학'으로 지정됐고 values는 100, 90, 95로 지정된 것을 확인"
      ]
    },
    {
      "cell_type": "code",
      "metadata": {
        "colab": {
          "base_uri": "https://localhost:8080/"
        },
        "id": "Ci6auLOfOygI",
        "outputId": "aab6d881-a375-419d-dfa5-f2739a67e309"
      },
      "source": [
        "s5 = pd.Series({'국어': 100, '영어':95, '수학':90})\n",
        "s5"
      ],
      "execution_count": null,
      "outputs": [
        {
          "output_type": "execute_result",
          "data": {
            "text/plain": [
              "국어    100\n",
              "영어     95\n",
              "수학     90\n",
              "dtype: int64"
            ]
          },
          "metadata": {
            "tags": []
          },
          "execution_count": 32
        }
      ]
    },
    {
      "cell_type": "markdown",
      "metadata": {
        "id": "gapfXosOP63u"
      },
      "source": [
        "## 날짜 자동 생성: date_range\n",
        "- index에 날짜를 입력할 때 'index = ['2018-10-07','2018-10-08','2018-10-09','2018-10-10']처럼 문자열을 하나씩 입력\n",
        "- pandas에서 제공하는 date_range()\n",
        "- 원하는 날짜를 자동으로 생성하므로 날짜 데이터를 입력할 때 편리\n",
        "- pd.date_range(start=None, end=None, periods=Npnde,freq='D')\n",
        "- start는 시작 날짜, end는 끝 날짜, periods는 날짜 데이터 생성 기간, freq는 날짜 데이터 생성 주기를 나타냄\n",
        "- start는 반드시 있어야 하며, end는 periods는 둘 중 하나만 있어도 됨\n",
        "- freq를 입력하지 않으면 'D' 옵션이 설정돼 달력 날짜 기준으로 하루씩 증가\n",
        "\n",
        "- 시작 날짜와 끝 날짜를 지정해 날짜 데이터를 생성"
      ]
    },
    {
      "cell_type": "code",
      "metadata": {
        "colab": {
          "base_uri": "https://localhost:8080/"
        },
        "id": "KVqTCN2SQ7sd",
        "outputId": "d48ed79f-2673-4c28-ed8c-6b4f2864b26e"
      },
      "source": [
        "import pandas as pd\n",
        "pd.date_range(start='2019-01-01', end='2019-01-07')"
      ],
      "execution_count": null,
      "outputs": [
        {
          "output_type": "execute_result",
          "data": {
            "text/plain": [
              "DatetimeIndex(['2019-01-01', '2019-01-02', '2019-01-03', '2019-01-04',\n",
              "               '2019-01-05', '2019-01-06', '2019-01-07'],\n",
              "              dtype='datetime64[ns]', freq='D')"
            ]
          },
          "metadata": {
            "tags": []
          },
          "execution_count": 34
        }
      ]
    },
    {
      "cell_type": "markdown",
      "metadata": {
        "id": "S8v9l_1cRIJA"
      },
      "source": [
        "- 시작 날짜(start)에서 끝 날짜(end)까지 하루씩 증가한 날짜 데이터가 생성\n",
        "- 생성된 날짜 데이터의 형식은 모두 yyyy-mm-dd"
      ]
    },
    {
      "cell_type": "code",
      "metadata": {
        "colab": {
          "base_uri": "https://localhost:8080/"
        },
        "id": "E7fRLv2URYKz",
        "outputId": "fd8ae6ac-5a0a-4fac-a2f4-aae84e8173fc"
      },
      "source": [
        "pd.date_range(start='2019/01/01', end = '2019.01.07')"
      ],
      "execution_count": null,
      "outputs": [
        {
          "output_type": "execute_result",
          "data": {
            "text/plain": [
              "DatetimeIndex(['2019-01-01', '2019-01-02', '2019-01-03', '2019-01-04',\n",
              "               '2019-01-05', '2019-01-06', '2019-01-07'],\n",
              "              dtype='datetime64[ns]', freq='D')"
            ]
          },
          "metadata": {
            "tags": []
          },
          "execution_count": 36
        }
      ]
    },
    {
      "cell_type": "code",
      "metadata": {
        "colab": {
          "base_uri": "https://localhost:8080/"
        },
        "id": "F1LOPjq6Rh32",
        "outputId": "f5d157ca-4a7b-4682-a4d7-c85220a8da7e"
      },
      "source": [
        "pd.date_range(start='01-01-2019', end = '01/07/2019')"
      ],
      "execution_count": null,
      "outputs": [
        {
          "output_type": "execute_result",
          "data": {
            "text/plain": [
              "DatetimeIndex(['2019-01-01', '2019-01-02', '2019-01-03', '2019-01-04',\n",
              "               '2019-01-05', '2019-01-06', '2019-01-07'],\n",
              "              dtype='datetime64[ns]', freq='D')"
            ]
          },
          "metadata": {
            "tags": []
          },
          "execution_count": 37
        }
      ]
    },
    {
      "cell_type": "code",
      "metadata": {
        "colab": {
          "base_uri": "https://localhost:8080/"
        },
        "id": "ogLnHGdERp6a",
        "outputId": "9ebb67bd-0e61-4d47-a10b-027426d5c7db"
      },
      "source": [
        "pd.date_range(start='2019-01-01', end = '01.07.2019')"
      ],
      "execution_count": null,
      "outputs": [
        {
          "output_type": "execute_result",
          "data": {
            "text/plain": [
              "DatetimeIndex(['2019-01-01', '2019-01-02', '2019-01-03', '2019-01-04',\n",
              "               '2019-01-05', '2019-01-06', '2019-01-07'],\n",
              "              dtype='datetime64[ns]', freq='D')"
            ]
          },
          "metadata": {
            "tags": []
          },
          "execution_count": 38
        }
      ]
    },
    {
      "cell_type": "markdown",
      "metadata": {
        "id": "PWVNYDT5RviA"
      },
      "source": [
        "- 시작 날짜와 끝 날짜를 지정해 날짜 데이터를 생성했는데 끝 날짜를 지정하지 않고 periods를 입력해서 날짜를 생성\n",
        "- 시작 날짜로부터 7개의 날짜가 하루씩 증가해 생성\n",
        "- freq 옵션을 쓰지 않으면 기본적으로 'D'가 지정되어 하루씩 날짜가 증가"
      ]
    },
    {
      "cell_type": "code",
      "metadata": {
        "colab": {
          "base_uri": "https://localhost:8080/"
        },
        "id": "ufc68M7xSKVS",
        "outputId": "d6c81f41-33c6-4125-d890-3bfe6af72701"
      },
      "source": [
        "pd.date_range(start='2019-01-01', periods = 7)"
      ],
      "execution_count": null,
      "outputs": [
        {
          "output_type": "execute_result",
          "data": {
            "text/plain": [
              "DatetimeIndex(['2019-01-01', '2019-01-02', '2019-01-03', '2019-01-04',\n",
              "               '2019-01-05', '2019-01-06', '2019-01-07'],\n",
              "              dtype='datetime64[ns]', freq='D')"
            ]
          },
          "metadata": {
            "tags": []
          },
          "execution_count": 39
        }
      ]
    },
    {
      "cell_type": "markdown",
      "metadata": {
        "id": "oOnxJVESSQJs"
      },
      "source": [
        "- 2일씩 증가하는 날짜를 생성"
      ]
    },
    {
      "cell_type": "code",
      "metadata": {
        "colab": {
          "base_uri": "https://localhost:8080/"
        },
        "id": "t_KMGeYrSS8Z",
        "outputId": "991a76ae-9d63-4d83-9729-f0d883662045"
      },
      "source": [
        "pd.date_range(start='2019-01-01', periods = 4, freq = '2D')"
      ],
      "execution_count": null,
      "outputs": [
        {
          "output_type": "execute_result",
          "data": {
            "text/plain": [
              "DatetimeIndex(['2019-01-01', '2019-01-03', '2019-01-05', '2019-01-07'], dtype='datetime64[ns]', freq='2D')"
            ]
          },
          "metadata": {
            "tags": []
          },
          "execution_count": 40
        }
      ]
    },
    {
      "cell_type": "markdown",
      "metadata": {
        "id": "dn8ItaR6UkRX"
      },
      "source": [
        "- 달력의 요일을 기준으로 일주일씩 증가하는 날짜를 생"
      ]
    },
    {
      "cell_type": "code",
      "metadata": {
        "colab": {
          "base_uri": "https://localhost:8080/"
        },
        "id": "7uVULo_qc0CH",
        "outputId": "105d2dc4-d2a7-4c8e-8028-3e338a3acd3d"
      },
      "source": [
        "pd.date_range(start='2019-01-01',periods = 4, freq ='w')"
      ],
      "execution_count": null,
      "outputs": [
        {
          "output_type": "execute_result",
          "data": {
            "text/plain": [
              "DatetimeIndex(['2019-01-06', '2019-01-13', '2019-01-20', '2019-01-27'], dtype='datetime64[ns]', freq='W-SUN')"
            ]
          },
          "metadata": {
            "tags": []
          },
          "execution_count": 42
        }
      ]
    },
    {
      "cell_type": "markdown",
      "metadata": {
        "id": "-IIn1YHtdGMS"
      },
      "source": [
        "- 업무일 기준 2개월 월말 주기로 12개의 날짜를 생성한 예"
      ]
    },
    {
      "cell_type": "code",
      "metadata": {
        "colab": {
          "base_uri": "https://localhost:8080/"
        },
        "id": "faKnNkjQc_D4",
        "outputId": "598e52c8-c02f-4cc7-bbc7-e158311140cb"
      },
      "source": [
        "pd.date_range(start='2019-01-01',periods = 12, freq ='2BM')"
      ],
      "execution_count": null,
      "outputs": [
        {
          "output_type": "execute_result",
          "data": {
            "text/plain": [
              "DatetimeIndex(['2019-01-31', '2019-03-29', '2019-05-31', '2019-07-31',\n",
              "               '2019-09-30', '2019-11-29', '2020-01-31', '2020-03-31',\n",
              "               '2020-05-29', '2020-07-31', '2020-09-30', '2020-11-30'],\n",
              "              dtype='datetime64[ns]', freq='2BM')"
            ]
          },
          "metadata": {
            "tags": []
          },
          "execution_count": 43
        }
      ]
    },
    {
      "cell_type": "markdown",
      "metadata": {
        "id": "q9ShUanddRsb"
      },
      "source": [
        "- 분기 시작일을 기준으로 4개의 날짜를 생성한 예"
      ]
    },
    {
      "cell_type": "code",
      "metadata": {
        "colab": {
          "base_uri": "https://localhost:8080/"
        },
        "id": "l_vsHJQPdOmy",
        "outputId": "3c706547-c494-4844-91dd-2c3a3b994441"
      },
      "source": [
        "pd.date_range(start='2019-01-01',periods = 4, freq = 'QS')"
      ],
      "execution_count": null,
      "outputs": [
        {
          "output_type": "execute_result",
          "data": {
            "text/plain": [
              "DatetimeIndex(['2019-01-01', '2019-04-01', '2019-07-01', '2019-10-01'], dtype='datetime64[ns]', freq='QS-JAN')"
            ]
          },
          "metadata": {
            "tags": []
          },
          "execution_count": 45
        }
      ]
    },
    {
      "cell_type": "markdown",
      "metadata": {
        "id": "kXy833KMdcda"
      },
      "source": [
        "- 연도의 첫날을 기준으로 1년 주기로 3개의 날짜를 생성한 예"
      ]
    },
    {
      "cell_type": "code",
      "metadata": {
        "colab": {
          "base_uri": "https://localhost:8080/"
        },
        "id": "LnR-friJc84K",
        "outputId": "ce751099-d593-4fe4-a383-dd15460507f3"
      },
      "source": [
        "pd.date_range(start='2019-01-01',periods = 3, freq ='AS')"
      ],
      "execution_count": null,
      "outputs": [
        {
          "output_type": "execute_result",
          "data": {
            "text/plain": [
              "DatetimeIndex(['2019-01-01', '2020-01-01', '2021-01-01'], dtype='datetime64[ns]', freq='AS-JAN')"
            ]
          },
          "metadata": {
            "tags": []
          },
          "execution_count": 46
        }
      ]
    },
    {
      "cell_type": "markdown",
      "metadata": {
        "id": "2n5vMf5hdk3R"
      },
      "source": [
        "- date_range()를 이용해 날짜뿐만 아니라 시간을 생성하는 바업\n",
        "- 1시간 주기로 10개의 시간을 생성한 예"
      ]
    },
    {
      "cell_type": "code",
      "metadata": {
        "colab": {
          "base_uri": "https://localhost:8080/"
        },
        "id": "r00XMGPDUjBi",
        "outputId": "356a9c9d-9bed-4ed7-df29-e80b9442c316"
      },
      "source": [
        "pd.date_range(start='2019-01-01 08:00',periods = 10, freq ='H')"
      ],
      "execution_count": null,
      "outputs": [
        {
          "output_type": "execute_result",
          "data": {
            "text/plain": [
              "DatetimeIndex(['2019-01-01 08:00:00', '2019-01-01 09:00:00',\n",
              "               '2019-01-01 10:00:00', '2019-01-01 11:00:00',\n",
              "               '2019-01-01 12:00:00', '2019-01-01 13:00:00',\n",
              "               '2019-01-01 14:00:00', '2019-01-01 15:00:00',\n",
              "               '2019-01-01 16:00:00', '2019-01-01 17:00:00'],\n",
              "              dtype='datetime64[ns]', freq='H')"
            ]
          },
          "metadata": {
            "tags": []
          },
          "execution_count": 47
        }
      ]
    },
    {
      "cell_type": "markdown",
      "metadata": {
        "id": "UNn781ocdzIh"
      },
      "source": [
        "- 업무 시간을 기중으로 1시간 주기로 10개의 시간을 생성한 예"
      ]
    },
    {
      "cell_type": "code",
      "metadata": {
        "colab": {
          "base_uri": "https://localhost:8080/"
        },
        "id": "f_PP-mzod6LX",
        "outputId": "9303c488-f316-4f8d-8218-295e5bb22bd7"
      },
      "source": [
        "pd.date_range(start='2019-01-01 08:00',periods = 10, freq ='BH')"
      ],
      "execution_count": null,
      "outputs": [
        {
          "output_type": "execute_result",
          "data": {
            "text/plain": [
              "DatetimeIndex(['2019-01-01 09:00:00', '2019-01-01 10:00:00',\n",
              "               '2019-01-01 11:00:00', '2019-01-01 12:00:00',\n",
              "               '2019-01-01 13:00:00', '2019-01-01 14:00:00',\n",
              "               '2019-01-01 15:00:00', '2019-01-01 16:00:00',\n",
              "               '2019-01-02 09:00:00', '2019-01-02 10:00:00'],\n",
              "              dtype='datetime64[ns]', freq='BH')"
            ]
          },
          "metadata": {
            "tags": []
          },
          "execution_count": 48
        }
      ]
    },
    {
      "cell_type": "markdown",
      "metadata": {
        "id": "ASqK2N5Ld_lT"
      },
      "source": [
        "- 30분 단위로 4개의 시간을 생성한 "
      ]
    },
    {
      "cell_type": "code",
      "metadata": {
        "colab": {
          "base_uri": "https://localhost:8080/"
        },
        "id": "2WzjBC1beCnY",
        "outputId": "e990fede-ffb9-4fac-d961-6055fc3c942f"
      },
      "source": [
        "pd.date_range(start='2019-01-01 10:00',periods = 4, freq ='30min')"
      ],
      "execution_count": null,
      "outputs": [
        {
          "output_type": "execute_result",
          "data": {
            "text/plain": [
              "DatetimeIndex(['2019-01-01 10:00:00', '2019-01-01 10:30:00',\n",
              "               '2019-01-01 11:00:00', '2019-01-01 11:30:00'],\n",
              "              dtype='datetime64[ns]', freq='30T')"
            ]
          },
          "metadata": {
            "tags": []
          },
          "execution_count": 49
        }
      ]
    },
    {
      "cell_type": "markdown",
      "metadata": {
        "id": "4EPcS0l4eHr-"
      },
      "source": [
        "- 분 단위를 'T'로 입력해도 결과는 같"
      ]
    },
    {
      "cell_type": "code",
      "metadata": {
        "colab": {
          "base_uri": "https://localhost:8080/"
        },
        "id": "Sa9zQv9VeNgo",
        "outputId": "b16a5a39-a8cc-48c1-e4a5-d4a87b4dd840"
      },
      "source": [
        "pd.date_range(start='2019-01-01 10:00',periods = 4, freq ='30T')"
      ],
      "execution_count": null,
      "outputs": [
        {
          "output_type": "execute_result",
          "data": {
            "text/plain": [
              "DatetimeIndex(['2019-01-01 10:00:00', '2019-01-01 10:30:00',\n",
              "               '2019-01-01 11:00:00', '2019-01-01 11:30:00'],\n",
              "              dtype='datetime64[ns]', freq='30T')"
            ]
          },
          "metadata": {
            "tags": []
          },
          "execution_count": 50
        }
      ]
    },
    {
      "cell_type": "markdown",
      "metadata": {
        "id": "FyJVF56webSS"
      },
      "source": [
        "- 10초 단위로 증가하며서 4개의 시간을 생성"
      ]
    },
    {
      "cell_type": "code",
      "metadata": {
        "colab": {
          "base_uri": "https://localhost:8080/"
        },
        "id": "PU1iPWmveQKp",
        "outputId": "5bb9a5f7-241b-456e-e0fe-330f63fbcfef"
      },
      "source": [
        "pd.date_range(start='2019-01-01 10:00:00', periods = 4, freq= '10S')"
      ],
      "execution_count": null,
      "outputs": [
        {
          "output_type": "execute_result",
          "data": {
            "text/plain": [
              "DatetimeIndex(['2019-01-01 10:00:00', '2019-01-01 10:00:10',\n",
              "               '2019-01-01 10:00:20', '2019-01-01 10:00:30'],\n",
              "              dtype='datetime64[ns]', freq='10S')"
            ]
          },
          "metadata": {
            "tags": []
          },
          "execution_count": 52
        }
      ]
    },
    {
      "cell_type": "markdown",
      "metadata": {
        "id": "g4pD6mZceui4"
      },
      "source": [
        "- date_range()를 이용해 Series의 index를 지정한 예\n",
        "- 특정 날짜부터 5일간의 판매량을 표시하려면 다음과 같이 입력"
      ]
    },
    {
      "cell_type": "code",
      "metadata": {
        "colab": {
          "base_uri": "https://localhost:8080/"
        },
        "id": "Yfk0BhHDemIB",
        "outputId": "3cd96946-2105-4283-aeb4-3f78c2dcca89"
      },
      "source": [
        "index_date = pd.date_range(start = '2019-03-01', periods = 5, freq = 'D')\n",
        "pd.Series([51, 62, 55, 49, 58], index = index_date )"
      ],
      "execution_count": null,
      "outputs": [
        {
          "output_type": "execute_result",
          "data": {
            "text/plain": [
              "2019-03-01    51\n",
              "2019-03-02    62\n",
              "2019-03-03    55\n",
              "2019-03-04    49\n",
              "2019-03-05    58\n",
              "Freq: D, dtype: int64"
            ]
          },
          "metadata": {
            "tags": []
          },
          "execution_count": 55
        }
      ]
    },
    {
      "cell_type": "markdown",
      "metadata": {
        "id": "Cb1vxLTHfPI0"
      },
      "source": [
        "- pandas의 date_range()를 이용해 날짜와 시간을 자동으로 생성하는 방법"
      ]
    },
    {
      "cell_type": "markdown",
      "metadata": {
        "id": "btoViIOzfTIb"
      },
      "source": [
        "## DataFrame을 활용한 데이터 생성\n",
        "- Series를 이용해 1차원 데이터를 생성\n",
        "\n",
        "- pandas에서는 표(Table)와 같은 2차원 데이터 처리를 위해 DataFrame을 제공\n",
        "- DataFrame은 이름에서 알 수 있들이 자료(Data)를 담는 틀(Frame)임\n",
        "- DataFrame을 이용하면 라벨이 있는 2차원 데이터를 생성하고 처리할 수 있음\n",
        "\n",
        "- DataFrame을 이용해 데이터를 생성하는 방법\n",
        "- df = pd.DataFrame(data[index = index-data, columns = columns_data])\n",
        "- DataFrame()의 인자인 data에는 리스트와 형태가 유사한 데이터 타입은 모두 사용할 수 있음\n",
        "- 리스트와 딕셔너리 타입의 데이터, numpy의 배열 데이터, Series나 DataFrame 타입의 데이터를 입력할 수 있음\n",
        "\n",
        "- DataFrame의 세로축 라벨을 index라고 하고 가로축 라벨을 columns라고 함\n",
        "- index와 columns를 제외한 부분을 values라고 함\n",
        "\n",
        "- index와 columns에는 1차원 배열과 유사한 데이터 타입(리스트, Numpy의 배열 데이터, Series 데이터 등)의 데이터를 입력할 수 있음\n",
        "- DataFrame의 data의 행 개수와 index 요소의 개수, data 열의 개수와 columns 요소의 개수가 일치해야 한다는 것\n",
        "- index와 columns는 선택 사항이므로 입력하지 않을 수 있는데 그러면 index와 columns에는 자동으로 0부터 숫자가 생성되어 채워짐\n",
        "\n",
        "- 리스트를 이용해 DataFrame의 데이터를 생성하는 예"
      ]
    },
    {
      "cell_type": "code",
      "metadata": {
        "colab": {
          "base_uri": "https://localhost:8080/",
          "height": 142
        },
        "id": "RxdADrz6fOJq",
        "outputId": "b8865a5f-378e-4985-b649-853ce2c08545"
      },
      "source": [
        "import pandas as pd\n",
        "pd.DataFrame([[1,2,3],[4,5,6],[7,8,9]])"
      ],
      "execution_count": null,
      "outputs": [
        {
          "output_type": "execute_result",
          "data": {
            "text/html": [
              "<div>\n",
              "<style scoped>\n",
              "    .dataframe tbody tr th:only-of-type {\n",
              "        vertical-align: middle;\n",
              "    }\n",
              "\n",
              "    .dataframe tbody tr th {\n",
              "        vertical-align: top;\n",
              "    }\n",
              "\n",
              "    .dataframe thead th {\n",
              "        text-align: right;\n",
              "    }\n",
              "</style>\n",
              "<table border=\"1\" class=\"dataframe\">\n",
              "  <thead>\n",
              "    <tr style=\"text-align: right;\">\n",
              "      <th></th>\n",
              "      <th>0</th>\n",
              "      <th>1</th>\n",
              "      <th>2</th>\n",
              "    </tr>\n",
              "  </thead>\n",
              "  <tbody>\n",
              "    <tr>\n",
              "      <th>0</th>\n",
              "      <td>1</td>\n",
              "      <td>2</td>\n",
              "      <td>3</td>\n",
              "    </tr>\n",
              "    <tr>\n",
              "      <th>1</th>\n",
              "      <td>4</td>\n",
              "      <td>5</td>\n",
              "      <td>6</td>\n",
              "    </tr>\n",
              "    <tr>\n",
              "      <th>2</th>\n",
              "      <td>7</td>\n",
              "      <td>8</td>\n",
              "      <td>9</td>\n",
              "    </tr>\n",
              "  </tbody>\n",
              "</table>\n",
              "</div>"
            ],
            "text/plain": [
              "   0  1  2\n",
              "0  1  2  3\n",
              "1  4  5  6\n",
              "2  7  8  9"
            ]
          },
          "metadata": {
            "tags": []
          },
          "execution_count": 56
        }
      ]
    },
    {
      "cell_type": "markdown",
      "metadata": {
        "id": "vA5J-ytnhjF_"
      },
      "source": [
        "- values 부분에는 입력한 data가 순서대로 입력되 있고\n",
        "- 가장 좌측의 열과 가장 윗줄의 행에는 각각 숫자가 자동으로 생성되어 index와 columns를 구성\n",
        "- index와 columns를 입력하지 않더라도 자동으로 index와 columns가 생성됨\n",
        "\n",
        "- numpy의 배열 데이터를 입력해 생성한 DataFrame 데이터의 예"
      ]
    },
    {
      "cell_type": "code",
      "metadata": {
        "colab": {
          "base_uri": "https://localhost:8080/",
          "height": 142
        },
        "id": "ck5YkQQIfHQA",
        "outputId": "4d88e5f1-6121-454c-c112-7d342ec83be8"
      },
      "source": [
        "import numpy as np\n",
        "import pandas as pd\n",
        "\n",
        "data_list = np.array([[10,20,30], [40,50,60],[70,80,90]])\n",
        "pd.DataFrame(data_list)"
      ],
      "execution_count": null,
      "outputs": [
        {
          "output_type": "execute_result",
          "data": {
            "text/html": [
              "<div>\n",
              "<style scoped>\n",
              "    .dataframe tbody tr th:only-of-type {\n",
              "        vertical-align: middle;\n",
              "    }\n",
              "\n",
              "    .dataframe tbody tr th {\n",
              "        vertical-align: top;\n",
              "    }\n",
              "\n",
              "    .dataframe thead th {\n",
              "        text-align: right;\n",
              "    }\n",
              "</style>\n",
              "<table border=\"1\" class=\"dataframe\">\n",
              "  <thead>\n",
              "    <tr style=\"text-align: right;\">\n",
              "      <th></th>\n",
              "      <th>0</th>\n",
              "      <th>1</th>\n",
              "      <th>2</th>\n",
              "    </tr>\n",
              "  </thead>\n",
              "  <tbody>\n",
              "    <tr>\n",
              "      <th>0</th>\n",
              "      <td>10</td>\n",
              "      <td>20</td>\n",
              "      <td>30</td>\n",
              "    </tr>\n",
              "    <tr>\n",
              "      <th>1</th>\n",
              "      <td>40</td>\n",
              "      <td>50</td>\n",
              "      <td>60</td>\n",
              "    </tr>\n",
              "    <tr>\n",
              "      <th>2</th>\n",
              "      <td>70</td>\n",
              "      <td>80</td>\n",
              "      <td>90</td>\n",
              "    </tr>\n",
              "  </tbody>\n",
              "</table>\n",
              "</div>"
            ],
            "text/plain": [
              "    0   1   2\n",
              "0  10  20  30\n",
              "1  40  50  60\n",
              "2  70  80  90"
            ]
          },
          "metadata": {
            "tags": []
          },
          "execution_count": 57
        }
      ]
    },
    {
      "cell_type": "markdown",
      "metadata": {
        "id": "RrzbABVfiGbV"
      },
      "source": [
        "- data 뿐만 아니라 index와 columns도 지정"
      ]
    },
    {
      "cell_type": "code",
      "metadata": {
        "colab": {
          "base_uri": "https://localhost:8080/",
          "height": 173
        },
        "id": "TXEExj9GiB1o",
        "outputId": "11cd06b9-132d-4898-c139-25c28c85147f"
      },
      "source": [
        "import numpy as np\n",
        "import pandas as pd\n",
        "\n",
        "data = np.array([[1,2,3],[4,5,6],[7,8,9],[10,11,12]])\n",
        "index_date = pd.date_range('2019-09-01', periods=4)\n",
        "columns_list = ['A', 'B', 'C']\n",
        "pd.DataFrame(data, index=index_date, columns=columns_list)"
      ],
      "execution_count": null,
      "outputs": [
        {
          "output_type": "execute_result",
          "data": {
            "text/html": [
              "<div>\n",
              "<style scoped>\n",
              "    .dataframe tbody tr th:only-of-type {\n",
              "        vertical-align: middle;\n",
              "    }\n",
              "\n",
              "    .dataframe tbody tr th {\n",
              "        vertical-align: top;\n",
              "    }\n",
              "\n",
              "    .dataframe thead th {\n",
              "        text-align: right;\n",
              "    }\n",
              "</style>\n",
              "<table border=\"1\" class=\"dataframe\">\n",
              "  <thead>\n",
              "    <tr style=\"text-align: right;\">\n",
              "      <th></th>\n",
              "      <th>A</th>\n",
              "      <th>B</th>\n",
              "      <th>C</th>\n",
              "    </tr>\n",
              "  </thead>\n",
              "  <tbody>\n",
              "    <tr>\n",
              "      <th>2019-09-01</th>\n",
              "      <td>1</td>\n",
              "      <td>2</td>\n",
              "      <td>3</td>\n",
              "    </tr>\n",
              "    <tr>\n",
              "      <th>2019-09-02</th>\n",
              "      <td>4</td>\n",
              "      <td>5</td>\n",
              "      <td>6</td>\n",
              "    </tr>\n",
              "    <tr>\n",
              "      <th>2019-09-03</th>\n",
              "      <td>7</td>\n",
              "      <td>8</td>\n",
              "      <td>9</td>\n",
              "    </tr>\n",
              "    <tr>\n",
              "      <th>2019-09-04</th>\n",
              "      <td>10</td>\n",
              "      <td>11</td>\n",
              "      <td>12</td>\n",
              "    </tr>\n",
              "  </tbody>\n",
              "</table>\n",
              "</div>"
            ],
            "text/plain": [
              "             A   B   C\n",
              "2019-09-01   1   2   3\n",
              "2019-09-02   4   5   6\n",
              "2019-09-03   7   8   9\n",
              "2019-09-04  10  11  12"
            ]
          },
          "metadata": {
            "tags": []
          },
          "execution_count": 100
        }
      ]
    },
    {
      "cell_type": "markdown",
      "metadata": {
        "id": "F1lPAunpi11P"
      },
      "source": [
        "- index와 columns에 지정한 값이 들어간 것\n",
        "- index에는 date_range()로 생성한 날짜를,columns에는 리스트 데이터 A,B,C를 입력\n",
        "\n",
        "- 딕셔너리 타입으로 2차원 데이터를 입력한 에"
      ]
    },
    {
      "cell_type": "code",
      "metadata": {
        "colab": {
          "base_uri": "https://localhost:8080/"
        },
        "id": "NxK90jkwim9W",
        "outputId": "ed3fec4c-55ef-4999-9ca7-c787991151d3"
      },
      "source": [
        "table_data = {'연도': [2015,2016,2017,2018],\n",
        "              '지사': ['한국','한국','미국','한국','미국'],\n",
        "              '고객 수': [200,250,450,300,500]}\n",
        "table_data"
      ],
      "execution_count": null,
      "outputs": [
        {
          "output_type": "execute_result",
          "data": {
            "text/plain": [
              "{'고객 수': [200, 250, 450, 300, 500],\n",
              " '연도': [2015, 2016, 2017, 2018],\n",
              " '지사': ['한국', '한국', '미국', '한국', '미국']}"
            ]
          },
          "metadata": {
            "tags": []
          },
          "execution_count": 68
        }
      ]
    },
    {
      "cell_type": "markdown",
      "metadata": {
        "id": "xvuPKhYAkyIC"
      },
      "source": [
        "- 구글 드라이브와 연동하는 방법 입니다. \n",
        "- Google File Drive Stream 접근을 허용해야 합니다.\n",
        "\n",
        "from google.colab import auth\n",
        "\n",
        "auth.authenticate_user()\n",
        "\n",
        "\n",
        "- 구글 드라이브 mount \n",
        "\n",
        "from google.colab import drive\n",
        "\n",
        "drive.mount('/content/gdrive')"
      ]
    },
    {
      "cell_type": "code",
      "metadata": {
        "id": "5okdqqY7k73a"
      },
      "source": [
        "from google.colab import auth\n",
        "auth.authenticate_user()"
      ],
      "execution_count": null,
      "outputs": []
    },
    {
      "cell_type": "code",
      "metadata": {
        "colab": {
          "base_uri": "https://localhost:8080/"
        },
        "id": "3gdr2dUDkyjq",
        "outputId": "69ee659d-1733-4b17-b448-0fb876db1d10"
      },
      "source": [
        "from google.colab import drive\n",
        "drive.mount('/content/gdrive')"
      ],
      "execution_count": null,
      "outputs": [
        {
          "output_type": "stream",
          "text": [
            "Mounted at /content/gdrive\n"
          ],
          "name": "stdout"
        }
      ]
    },
    {
      "cell_type": "markdown",
      "metadata": {
        "id": "HTAOGQV9jX7u"
      },
      "source": [
        "- 만든 딕셔너리 데이터를 이용해 DataFrame 형식의 데이터를 생성"
      ]
    },
    {
      "cell_type": "code",
      "metadata": {
        "colab": {
          "base_uri": "https://localhost:8080/",
          "height": 322
        },
        "id": "1SdmyIm8jXPl",
        "outputId": "aede1fac-abe6-463d-c236-b14cf19794ae"
      },
      "source": [
        "pd.DataFrame(table_data)"
      ],
      "execution_count": null,
      "outputs": [
        {
          "output_type": "error",
          "ename": "ValueError",
          "evalue": "ignored",
          "traceback": [
            "\u001b[0;31m---------------------------------------------------------------------------\u001b[0m",
            "\u001b[0;31mValueError\u001b[0m                                Traceback (most recent call last)",
            "\u001b[0;32m<ipython-input-81-fd7f5d7340e1>\u001b[0m in \u001b[0;36m<module>\u001b[0;34m()\u001b[0m\n\u001b[0;32m----> 1\u001b[0;31m \u001b[0mpd\u001b[0m\u001b[0;34m.\u001b[0m\u001b[0mDataFrame\u001b[0m\u001b[0;34m(\u001b[0m\u001b[0mtable_data\u001b[0m\u001b[0;34m)\u001b[0m\u001b[0;34m\u001b[0m\u001b[0;34m\u001b[0m\u001b[0m\n\u001b[0m",
            "\u001b[0;32m/usr/local/lib/python3.7/dist-packages/pandas/core/frame.py\u001b[0m in \u001b[0;36m__init__\u001b[0;34m(self, data, index, columns, dtype, copy)\u001b[0m\n\u001b[1;32m    466\u001b[0m \u001b[0;34m\u001b[0m\u001b[0m\n\u001b[1;32m    467\u001b[0m         \u001b[0;32melif\u001b[0m \u001b[0misinstance\u001b[0m\u001b[0;34m(\u001b[0m\u001b[0mdata\u001b[0m\u001b[0;34m,\u001b[0m \u001b[0mdict\u001b[0m\u001b[0;34m)\u001b[0m\u001b[0;34m:\u001b[0m\u001b[0;34m\u001b[0m\u001b[0;34m\u001b[0m\u001b[0m\n\u001b[0;32m--> 468\u001b[0;31m             \u001b[0mmgr\u001b[0m \u001b[0;34m=\u001b[0m \u001b[0minit_dict\u001b[0m\u001b[0;34m(\u001b[0m\u001b[0mdata\u001b[0m\u001b[0;34m,\u001b[0m \u001b[0mindex\u001b[0m\u001b[0;34m,\u001b[0m \u001b[0mcolumns\u001b[0m\u001b[0;34m,\u001b[0m \u001b[0mdtype\u001b[0m\u001b[0;34m=\u001b[0m\u001b[0mdtype\u001b[0m\u001b[0;34m)\u001b[0m\u001b[0;34m\u001b[0m\u001b[0;34m\u001b[0m\u001b[0m\n\u001b[0m\u001b[1;32m    469\u001b[0m         \u001b[0;32melif\u001b[0m \u001b[0misinstance\u001b[0m\u001b[0;34m(\u001b[0m\u001b[0mdata\u001b[0m\u001b[0;34m,\u001b[0m \u001b[0mma\u001b[0m\u001b[0;34m.\u001b[0m\u001b[0mMaskedArray\u001b[0m\u001b[0;34m)\u001b[0m\u001b[0;34m:\u001b[0m\u001b[0;34m\u001b[0m\u001b[0;34m\u001b[0m\u001b[0m\n\u001b[1;32m    470\u001b[0m             \u001b[0;32mimport\u001b[0m \u001b[0mnumpy\u001b[0m\u001b[0;34m.\u001b[0m\u001b[0mma\u001b[0m\u001b[0;34m.\u001b[0m\u001b[0mmrecords\u001b[0m \u001b[0;32mas\u001b[0m \u001b[0mmrecords\u001b[0m\u001b[0;34m\u001b[0m\u001b[0;34m\u001b[0m\u001b[0m\n",
            "\u001b[0;32m/usr/local/lib/python3.7/dist-packages/pandas/core/internals/construction.py\u001b[0m in \u001b[0;36minit_dict\u001b[0;34m(data, index, columns, dtype)\u001b[0m\n\u001b[1;32m    281\u001b[0m             \u001b[0marr\u001b[0m \u001b[0;32mif\u001b[0m \u001b[0;32mnot\u001b[0m \u001b[0mis_datetime64tz_dtype\u001b[0m\u001b[0;34m(\u001b[0m\u001b[0marr\u001b[0m\u001b[0;34m)\u001b[0m \u001b[0;32melse\u001b[0m \u001b[0marr\u001b[0m\u001b[0;34m.\u001b[0m\u001b[0mcopy\u001b[0m\u001b[0;34m(\u001b[0m\u001b[0;34m)\u001b[0m \u001b[0;32mfor\u001b[0m \u001b[0marr\u001b[0m \u001b[0;32min\u001b[0m \u001b[0marrays\u001b[0m\u001b[0;34m\u001b[0m\u001b[0;34m\u001b[0m\u001b[0m\n\u001b[1;32m    282\u001b[0m         ]\n\u001b[0;32m--> 283\u001b[0;31m     \u001b[0;32mreturn\u001b[0m \u001b[0marrays_to_mgr\u001b[0m\u001b[0;34m(\u001b[0m\u001b[0marrays\u001b[0m\u001b[0;34m,\u001b[0m \u001b[0mdata_names\u001b[0m\u001b[0;34m,\u001b[0m \u001b[0mindex\u001b[0m\u001b[0;34m,\u001b[0m \u001b[0mcolumns\u001b[0m\u001b[0;34m,\u001b[0m \u001b[0mdtype\u001b[0m\u001b[0;34m=\u001b[0m\u001b[0mdtype\u001b[0m\u001b[0;34m)\u001b[0m\u001b[0;34m\u001b[0m\u001b[0;34m\u001b[0m\u001b[0m\n\u001b[0m\u001b[1;32m    284\u001b[0m \u001b[0;34m\u001b[0m\u001b[0m\n\u001b[1;32m    285\u001b[0m \u001b[0;34m\u001b[0m\u001b[0m\n",
            "\u001b[0;32m/usr/local/lib/python3.7/dist-packages/pandas/core/internals/construction.py\u001b[0m in \u001b[0;36marrays_to_mgr\u001b[0;34m(arrays, arr_names, index, columns, dtype, verify_integrity)\u001b[0m\n\u001b[1;32m     76\u001b[0m         \u001b[0;31m# figure out the index, if necessary\u001b[0m\u001b[0;34m\u001b[0m\u001b[0;34m\u001b[0m\u001b[0;34m\u001b[0m\u001b[0m\n\u001b[1;32m     77\u001b[0m         \u001b[0;32mif\u001b[0m \u001b[0mindex\u001b[0m \u001b[0;32mis\u001b[0m \u001b[0;32mNone\u001b[0m\u001b[0;34m:\u001b[0m\u001b[0;34m\u001b[0m\u001b[0;34m\u001b[0m\u001b[0m\n\u001b[0;32m---> 78\u001b[0;31m             \u001b[0mindex\u001b[0m \u001b[0;34m=\u001b[0m \u001b[0mextract_index\u001b[0m\u001b[0;34m(\u001b[0m\u001b[0marrays\u001b[0m\u001b[0;34m)\u001b[0m\u001b[0;34m\u001b[0m\u001b[0;34m\u001b[0m\u001b[0m\n\u001b[0m\u001b[1;32m     79\u001b[0m         \u001b[0;32melse\u001b[0m\u001b[0;34m:\u001b[0m\u001b[0;34m\u001b[0m\u001b[0;34m\u001b[0m\u001b[0m\n\u001b[1;32m     80\u001b[0m             \u001b[0mindex\u001b[0m \u001b[0;34m=\u001b[0m \u001b[0mensure_index\u001b[0m\u001b[0;34m(\u001b[0m\u001b[0mindex\u001b[0m\u001b[0;34m)\u001b[0m\u001b[0;34m\u001b[0m\u001b[0;34m\u001b[0m\u001b[0m\n",
            "\u001b[0;32m/usr/local/lib/python3.7/dist-packages/pandas/core/internals/construction.py\u001b[0m in \u001b[0;36mextract_index\u001b[0;34m(data)\u001b[0m\n\u001b[1;32m    395\u001b[0m             \u001b[0mlengths\u001b[0m \u001b[0;34m=\u001b[0m \u001b[0mlist\u001b[0m\u001b[0;34m(\u001b[0m\u001b[0mset\u001b[0m\u001b[0;34m(\u001b[0m\u001b[0mraw_lengths\u001b[0m\u001b[0;34m)\u001b[0m\u001b[0;34m)\u001b[0m\u001b[0;34m\u001b[0m\u001b[0;34m\u001b[0m\u001b[0m\n\u001b[1;32m    396\u001b[0m             \u001b[0;32mif\u001b[0m \u001b[0mlen\u001b[0m\u001b[0;34m(\u001b[0m\u001b[0mlengths\u001b[0m\u001b[0;34m)\u001b[0m \u001b[0;34m>\u001b[0m \u001b[0;36m1\u001b[0m\u001b[0;34m:\u001b[0m\u001b[0;34m\u001b[0m\u001b[0;34m\u001b[0m\u001b[0m\n\u001b[0;32m--> 397\u001b[0;31m                 \u001b[0;32mraise\u001b[0m \u001b[0mValueError\u001b[0m\u001b[0;34m(\u001b[0m\u001b[0;34m\"arrays must all be same length\"\u001b[0m\u001b[0;34m)\u001b[0m\u001b[0;34m\u001b[0m\u001b[0;34m\u001b[0m\u001b[0m\n\u001b[0m\u001b[1;32m    398\u001b[0m \u001b[0;34m\u001b[0m\u001b[0m\n\u001b[1;32m    399\u001b[0m             \u001b[0;32mif\u001b[0m \u001b[0mhave_dicts\u001b[0m\u001b[0;34m:\u001b[0m\u001b[0;34m\u001b[0m\u001b[0;34m\u001b[0m\u001b[0m\n",
            "\u001b[0;31mValueError\u001b[0m: arrays must all be same length"
          ]
        }
      ]
    },
    {
      "cell_type": "markdown",
      "metadata": {
        "id": "LYuxvk3ej8uR"
      },
      "source": [
        "- index는 자동으로 생성됐고 딕셔너리 데이터의 키(keys)는 DataFrame에서 columns로 지정됌\n",
        "- 표에서 각 열의 제목 {고객 수, 연도, 지사) 처럼 들어간 것\n",
        "- DataFrame 데이터의 열은 입력한 데이터의 순서대로 생성되지 않았음\n",
        "- 딕셔너리 데이터가 키(keys)에 따라서 자동으로 정렬됐기 때문\n",
        "- 한글은 가나다순으로 영어는 알파벳순으로 정렬\n",
        "\n",
        "- 데이터의 정렬 순서는 다음과 같이 'columns = columns_list'를 이용해 키의 순서를 지정할 수 있음"
      ]
    },
    {
      "cell_type": "code",
      "metadata": {
        "colab": {
          "base_uri": "https://localhost:8080/",
          "height": 340
        },
        "id": "Fnyi1_XvkebP",
        "outputId": "ccc9a08c-d98b-44a1-97c8-0f3835ca5cd9"
      },
      "source": [
        "df = pd.DataFrame(table_data, columns=['연도', '지사', '고객 수'])\n",
        "df"
      ],
      "execution_count": null,
      "outputs": [
        {
          "output_type": "error",
          "ename": "ValueError",
          "evalue": "ignored",
          "traceback": [
            "\u001b[0;31m---------------------------------------------------------------------------\u001b[0m",
            "\u001b[0;31mValueError\u001b[0m                                Traceback (most recent call last)",
            "\u001b[0;32m<ipython-input-105-fa80cdd33c2c>\u001b[0m in \u001b[0;36m<module>\u001b[0;34m()\u001b[0m\n\u001b[0;32m----> 1\u001b[0;31m \u001b[0mdf\u001b[0m \u001b[0;34m=\u001b[0m \u001b[0mpd\u001b[0m\u001b[0;34m.\u001b[0m\u001b[0mDataFrame\u001b[0m\u001b[0;34m(\u001b[0m\u001b[0mtable_data\u001b[0m\u001b[0;34m,\u001b[0m \u001b[0mcolumns\u001b[0m\u001b[0;34m=\u001b[0m\u001b[0;34m[\u001b[0m\u001b[0;34m'연도'\u001b[0m\u001b[0;34m,\u001b[0m \u001b[0;34m'지사'\u001b[0m\u001b[0;34m,\u001b[0m \u001b[0;34m'고객 수'\u001b[0m\u001b[0;34m]\u001b[0m\u001b[0;34m)\u001b[0m\u001b[0;34m\u001b[0m\u001b[0;34m\u001b[0m\u001b[0m\n\u001b[0m\u001b[1;32m      2\u001b[0m \u001b[0mdf\u001b[0m\u001b[0;34m\u001b[0m\u001b[0;34m\u001b[0m\u001b[0m\n",
            "\u001b[0;32m/usr/local/lib/python3.7/dist-packages/pandas/core/frame.py\u001b[0m in \u001b[0;36m__init__\u001b[0;34m(self, data, index, columns, dtype, copy)\u001b[0m\n\u001b[1;32m    466\u001b[0m \u001b[0;34m\u001b[0m\u001b[0m\n\u001b[1;32m    467\u001b[0m         \u001b[0;32melif\u001b[0m \u001b[0misinstance\u001b[0m\u001b[0;34m(\u001b[0m\u001b[0mdata\u001b[0m\u001b[0;34m,\u001b[0m \u001b[0mdict\u001b[0m\u001b[0;34m)\u001b[0m\u001b[0;34m:\u001b[0m\u001b[0;34m\u001b[0m\u001b[0;34m\u001b[0m\u001b[0m\n\u001b[0;32m--> 468\u001b[0;31m             \u001b[0mmgr\u001b[0m \u001b[0;34m=\u001b[0m \u001b[0minit_dict\u001b[0m\u001b[0;34m(\u001b[0m\u001b[0mdata\u001b[0m\u001b[0;34m,\u001b[0m \u001b[0mindex\u001b[0m\u001b[0;34m,\u001b[0m \u001b[0mcolumns\u001b[0m\u001b[0;34m,\u001b[0m \u001b[0mdtype\u001b[0m\u001b[0;34m=\u001b[0m\u001b[0mdtype\u001b[0m\u001b[0;34m)\u001b[0m\u001b[0;34m\u001b[0m\u001b[0;34m\u001b[0m\u001b[0m\n\u001b[0m\u001b[1;32m    469\u001b[0m         \u001b[0;32melif\u001b[0m \u001b[0misinstance\u001b[0m\u001b[0;34m(\u001b[0m\u001b[0mdata\u001b[0m\u001b[0;34m,\u001b[0m \u001b[0mma\u001b[0m\u001b[0;34m.\u001b[0m\u001b[0mMaskedArray\u001b[0m\u001b[0;34m)\u001b[0m\u001b[0;34m:\u001b[0m\u001b[0;34m\u001b[0m\u001b[0;34m\u001b[0m\u001b[0m\n\u001b[1;32m    470\u001b[0m             \u001b[0;32mimport\u001b[0m \u001b[0mnumpy\u001b[0m\u001b[0;34m.\u001b[0m\u001b[0mma\u001b[0m\u001b[0;34m.\u001b[0m\u001b[0mmrecords\u001b[0m \u001b[0;32mas\u001b[0m \u001b[0mmrecords\u001b[0m\u001b[0;34m\u001b[0m\u001b[0;34m\u001b[0m\u001b[0m\n",
            "\u001b[0;32m/usr/local/lib/python3.7/dist-packages/pandas/core/internals/construction.py\u001b[0m in \u001b[0;36minit_dict\u001b[0;34m(data, index, columns, dtype)\u001b[0m\n\u001b[1;32m    252\u001b[0m             \u001b[0;31m# GH10856\u001b[0m\u001b[0;34m\u001b[0m\u001b[0;34m\u001b[0m\u001b[0;34m\u001b[0m\u001b[0m\n\u001b[1;32m    253\u001b[0m             \u001b[0;31m# raise ValueError if only scalars in dict\u001b[0m\u001b[0;34m\u001b[0m\u001b[0;34m\u001b[0m\u001b[0;34m\u001b[0m\u001b[0m\n\u001b[0;32m--> 254\u001b[0;31m             \u001b[0mindex\u001b[0m \u001b[0;34m=\u001b[0m \u001b[0mextract_index\u001b[0m\u001b[0;34m(\u001b[0m\u001b[0marrays\u001b[0m\u001b[0;34m[\u001b[0m\u001b[0;34m~\u001b[0m\u001b[0mmissing\u001b[0m\u001b[0;34m]\u001b[0m\u001b[0;34m)\u001b[0m\u001b[0;34m\u001b[0m\u001b[0;34m\u001b[0m\u001b[0m\n\u001b[0m\u001b[1;32m    255\u001b[0m         \u001b[0;32melse\u001b[0m\u001b[0;34m:\u001b[0m\u001b[0;34m\u001b[0m\u001b[0;34m\u001b[0m\u001b[0m\n\u001b[1;32m    256\u001b[0m             \u001b[0mindex\u001b[0m \u001b[0;34m=\u001b[0m \u001b[0mensure_index\u001b[0m\u001b[0;34m(\u001b[0m\u001b[0mindex\u001b[0m\u001b[0;34m)\u001b[0m\u001b[0;34m\u001b[0m\u001b[0;34m\u001b[0m\u001b[0m\n",
            "\u001b[0;32m/usr/local/lib/python3.7/dist-packages/pandas/core/internals/construction.py\u001b[0m in \u001b[0;36mextract_index\u001b[0;34m(data)\u001b[0m\n\u001b[1;32m    395\u001b[0m             \u001b[0mlengths\u001b[0m \u001b[0;34m=\u001b[0m \u001b[0mlist\u001b[0m\u001b[0;34m(\u001b[0m\u001b[0mset\u001b[0m\u001b[0;34m(\u001b[0m\u001b[0mraw_lengths\u001b[0m\u001b[0;34m)\u001b[0m\u001b[0;34m)\u001b[0m\u001b[0;34m\u001b[0m\u001b[0;34m\u001b[0m\u001b[0m\n\u001b[1;32m    396\u001b[0m             \u001b[0;32mif\u001b[0m \u001b[0mlen\u001b[0m\u001b[0;34m(\u001b[0m\u001b[0mlengths\u001b[0m\u001b[0;34m)\u001b[0m \u001b[0;34m>\u001b[0m \u001b[0;36m1\u001b[0m\u001b[0;34m:\u001b[0m\u001b[0;34m\u001b[0m\u001b[0;34m\u001b[0m\u001b[0m\n\u001b[0;32m--> 397\u001b[0;31m                 \u001b[0;32mraise\u001b[0m \u001b[0mValueError\u001b[0m\u001b[0;34m(\u001b[0m\u001b[0;34m\"arrays must all be same length\"\u001b[0m\u001b[0;34m)\u001b[0m\u001b[0;34m\u001b[0m\u001b[0;34m\u001b[0m\u001b[0m\n\u001b[0m\u001b[1;32m    398\u001b[0m \u001b[0;34m\u001b[0m\u001b[0m\n\u001b[1;32m    399\u001b[0m             \u001b[0;32mif\u001b[0m \u001b[0mhave_dicts\u001b[0m\u001b[0;34m:\u001b[0m\u001b[0;34m\u001b[0m\u001b[0;34m\u001b[0m\u001b[0m\n",
            "\u001b[0;31mValueError\u001b[0m: arrays must all be same length"
          ]
        }
      ]
    },
    {
      "cell_type": "markdown",
      "metadata": {
        "id": "500SIYjSmDNi"
      },
      "source": [
        "- DataFrame 데이터에서 index, columns, values는 \n",
        "- 각각 DataFrame_data.index, DataFrame_data.columns, DataFrame_data.values로 확인할 수 있음\n",
        "\n",
        "- DataFrame 데이터에서 index, columns, values를 각각 구한 예"
      ]
    },
    {
      "cell_type": "code",
      "metadata": {
        "colab": {
          "base_uri": "https://localhost:8080/",
          "height": 172
        },
        "id": "-otcnSULkmA1",
        "outputId": "d30fc3fc-150c-4253-bfa7-09bb7339f9d2"
      },
      "source": [
        "df.index"
      ],
      "execution_count": null,
      "outputs": [
        {
          "output_type": "error",
          "ename": "NameError",
          "evalue": "ignored",
          "traceback": [
            "\u001b[0;31m---------------------------------------------------------------------------\u001b[0m",
            "\u001b[0;31mNameError\u001b[0m                                 Traceback (most recent call last)",
            "\u001b[0;32m<ipython-input-82-08c554537916>\u001b[0m in \u001b[0;36m<module>\u001b[0;34m()\u001b[0m\n\u001b[0;32m----> 1\u001b[0;31m \u001b[0mdf\u001b[0m\u001b[0;34m.\u001b[0m\u001b[0mindex\u001b[0m\u001b[0;34m\u001b[0m\u001b[0;34m\u001b[0m\u001b[0m\n\u001b[0m",
            "\u001b[0;31mNameError\u001b[0m: name 'df' is not defined"
          ]
        }
      ]
    },
    {
      "cell_type": "code",
      "metadata": {
        "colab": {
          "base_uri": "https://localhost:8080/",
          "height": 172
        },
        "id": "C4MNyjdFmXFZ",
        "outputId": "75640b6f-93ed-4043-ed69-587575a186a7"
      },
      "source": [
        "df.columns"
      ],
      "execution_count": null,
      "outputs": [
        {
          "output_type": "error",
          "ename": "NameError",
          "evalue": "ignored",
          "traceback": [
            "\u001b[0;31m---------------------------------------------------------------------------\u001b[0m",
            "\u001b[0;31mNameError\u001b[0m                                 Traceback (most recent call last)",
            "\u001b[0;32m<ipython-input-83-b666bf274d0a>\u001b[0m in \u001b[0;36m<module>\u001b[0;34m()\u001b[0m\n\u001b[0;32m----> 1\u001b[0;31m \u001b[0mdf\u001b[0m\u001b[0;34m.\u001b[0m\u001b[0mcolumns\u001b[0m\u001b[0;34m\u001b[0m\u001b[0;34m\u001b[0m\u001b[0m\n\u001b[0m",
            "\u001b[0;31mNameError\u001b[0m: name 'df' is not defined"
          ]
        }
      ]
    },
    {
      "cell_type": "code",
      "metadata": {
        "colab": {
          "base_uri": "https://localhost:8080/",
          "height": 172
        },
        "id": "hu2zgeaBmmVH",
        "outputId": "191fb006-eb92-4abd-bd9b-7162194cdb5d"
      },
      "source": [
        "df.values"
      ],
      "execution_count": null,
      "outputs": [
        {
          "output_type": "error",
          "ename": "NameError",
          "evalue": "ignored",
          "traceback": [
            "\u001b[0;31m---------------------------------------------------------------------------\u001b[0m",
            "\u001b[0;31mNameError\u001b[0m                                 Traceback (most recent call last)",
            "\u001b[0;32m<ipython-input-84-be0d78cbcf9f>\u001b[0m in \u001b[0;36m<module>\u001b[0;34m()\u001b[0m\n\u001b[0;32m----> 1\u001b[0;31m \u001b[0mdf\u001b[0m\u001b[0;34m.\u001b[0m\u001b[0mvalues\u001b[0m\u001b[0;34m\u001b[0m\u001b[0;34m\u001b[0m\u001b[0m\n\u001b[0m",
            "\u001b[0;31mNameError\u001b[0m: name 'df' is not defined"
          ]
        }
      ]
    },
    {
      "cell_type": "markdown",
      "metadata": {
        "id": "iB2Th8XRmn94"
      },
      "source": [
        "## 데이터 연산\n",
        "- pandas의 Series()와 DataFrame()으로 생성한 데이터끼리는 사칙 연산을 할 수 있음\n",
        "- Series()로 생성한 Series 데이터의 예"
      ]
    },
    {
      "cell_type": "code",
      "metadata": {
        "colab": {
          "base_uri": "https://localhost:8080/"
        },
        "id": "TZps-L2qmnUX",
        "outputId": "389f4d2a-d0a5-4a59-f74e-a0a813059e77"
      },
      "source": [
        "s1 = pd.Series([1,2,3,4,5])\n",
        "s2 = pd.Series([10,20,30,40,50])\n",
        "\n",
        "s1+s2"
      ],
      "execution_count": null,
      "outputs": [
        {
          "output_type": "execute_result",
          "data": {
            "text/plain": [
              "0    11\n",
              "1    22\n",
              "2    33\n",
              "3    44\n",
              "4    55\n",
              "dtype: int64"
            ]
          },
          "metadata": {
            "tags": []
          },
          "execution_count": 85
        }
      ]
    },
    {
      "cell_type": "code",
      "metadata": {
        "colab": {
          "base_uri": "https://localhost:8080/"
        },
        "id": "lfxEGeLhnJkt",
        "outputId": "4ff7d7d2-9685-4575-9fde-1c2d9ebaad61"
      },
      "source": [
        "s2-s1"
      ],
      "execution_count": null,
      "outputs": [
        {
          "output_type": "execute_result",
          "data": {
            "text/plain": [
              "0     9\n",
              "1    18\n",
              "2    27\n",
              "3    36\n",
              "4    45\n",
              "dtype: int64"
            ]
          },
          "metadata": {
            "tags": []
          },
          "execution_count": 86
        }
      ]
    },
    {
      "cell_type": "code",
      "metadata": {
        "colab": {
          "base_uri": "https://localhost:8080/"
        },
        "id": "WiVh5XPJnKjl",
        "outputId": "a82396f0-47e7-43f8-d1ad-3351ef0cc8a6"
      },
      "source": [
        "s1*s2"
      ],
      "execution_count": null,
      "outputs": [
        {
          "output_type": "execute_result",
          "data": {
            "text/plain": [
              "0     10\n",
              "1     40\n",
              "2     90\n",
              "3    160\n",
              "4    250\n",
              "dtype: int64"
            ]
          },
          "metadata": {
            "tags": []
          },
          "execution_count": 87
        }
      ]
    },
    {
      "cell_type": "code",
      "metadata": {
        "colab": {
          "base_uri": "https://localhost:8080/"
        },
        "id": "1XD4z-54nMvn",
        "outputId": "6903d283-37f3-4c53-8bf3-1d354967b5dd"
      },
      "source": [
        "s2/s1"
      ],
      "execution_count": null,
      "outputs": [
        {
          "output_type": "execute_result",
          "data": {
            "text/plain": [
              "0    10.0\n",
              "1    10.0\n",
              "2    10.0\n",
              "3    10.0\n",
              "4    10.0\n",
              "dtype: float64"
            ]
          },
          "metadata": {
            "tags": []
          },
          "execution_count": 88
        }
      ]
    },
    {
      "cell_type": "markdown",
      "metadata": {
        "id": "3tOkU8aYY6Uy"
      },
      "source": [
        "- 파이썬의 리스트와 numpy의 배열과 달리 pandas의 데이터끼리는 서로 크기가 달라도 연산할 수 잇음\n",
        "- 연산을 할 수 있는 항목만 연산을 수행"
      ]
    },
    {
      "cell_type": "code",
      "metadata": {
        "id": "yZOES6ii1hbz",
        "colab": {
          "base_uri": "https://localhost:8080/"
        },
        "outputId": "78726762-3edc-4959-f859-0f18f1ec6e36"
      },
      "source": [
        "s3 = pd.Series([1,2,3,4])\n",
        "s4 = pd.Series([10,20,30,40,50])\n",
        "s3+s4"
      ],
      "execution_count": null,
      "outputs": [
        {
          "output_type": "execute_result",
          "data": {
            "text/plain": [
              "0    11.0\n",
              "1    22.0\n",
              "2    33.0\n",
              "3    44.0\n",
              "4     NaN\n",
              "dtype: float64"
            ]
          },
          "metadata": {
            "tags": []
          },
          "execution_count": 89
        }
      ]
    },
    {
      "cell_type": "code",
      "metadata": {
        "colab": {
          "base_uri": "https://localhost:8080/"
        },
        "id": "yrhlnFJnn1mT",
        "outputId": "c6b87fc6-8f23-47d5-d030-43fa6c4f6577"
      },
      "source": [
        "s4-s3"
      ],
      "execution_count": null,
      "outputs": [
        {
          "output_type": "execute_result",
          "data": {
            "text/plain": [
              "0     9.0\n",
              "1    18.0\n",
              "2    27.0\n",
              "3    36.0\n",
              "4     NaN\n",
              "dtype: float64"
            ]
          },
          "metadata": {
            "tags": []
          },
          "execution_count": 90
        }
      ]
    },
    {
      "cell_type": "code",
      "metadata": {
        "colab": {
          "base_uri": "https://localhost:8080/"
        },
        "id": "KBodClXmn2Wr",
        "outputId": "fe27e323-50e1-46d0-baa7-b1a68db27636"
      },
      "source": [
        "s3*s4"
      ],
      "execution_count": null,
      "outputs": [
        {
          "output_type": "execute_result",
          "data": {
            "text/plain": [
              "0     10.0\n",
              "1     40.0\n",
              "2     90.0\n",
              "3    160.0\n",
              "4      NaN\n",
              "dtype: float64"
            ]
          },
          "metadata": {
            "tags": []
          },
          "execution_count": 91
        }
      ]
    },
    {
      "cell_type": "code",
      "metadata": {
        "colab": {
          "base_uri": "https://localhost:8080/"
        },
        "id": "-ChUcIvQn3_k",
        "outputId": "a04007f2-2d09-46a3-a389-933205af13bc"
      },
      "source": [
        "s4/s3"
      ],
      "execution_count": null,
      "outputs": [
        {
          "output_type": "execute_result",
          "data": {
            "text/plain": [
              "0    10.0\n",
              "1    10.0\n",
              "2    10.0\n",
              "3    10.0\n",
              "4     NaN\n",
              "dtype: float64"
            ]
          },
          "metadata": {
            "tags": []
          },
          "execution_count": 92
        }
      ]
    },
    {
      "cell_type": "markdown",
      "metadata": {
        "id": "o1zqtQ5Vn5rx"
      },
      "source": [
        "- s3와 s4의 데이터 크기는 다름\n",
        "- 이 경우 연산할 수 있는 부분만 연산해 결과를 보여주고 연산할 수 없는 부분은 nan으로 표시\n",
        "\n",
        "- DataFrame()으로 생성한 DataFrame 데이터끼리도 사칙연산을 할 수 있음"
      ]
    },
    {
      "cell_type": "code",
      "metadata": {
        "id": "ZKDDjTZTeCfZ",
        "colab": {
          "base_uri": "https://localhost:8080/",
          "height": 204
        },
        "outputId": "1af133a3-d34a-407d-8ed7-6ee2e8ce2e44"
      },
      "source": [
        "table_data1 = {'A': [1,2,3,4,5],\n",
        "               'B': [10,20,30,40,50],\n",
        "               'C': [100,200,300,400,500]}\n",
        "df1 = pd.DataFrame(table_data1)\n",
        "df1"
      ],
      "execution_count": null,
      "outputs": [
        {
          "output_type": "execute_result",
          "data": {
            "text/html": [
              "<div>\n",
              "<style scoped>\n",
              "    .dataframe tbody tr th:only-of-type {\n",
              "        vertical-align: middle;\n",
              "    }\n",
              "\n",
              "    .dataframe tbody tr th {\n",
              "        vertical-align: top;\n",
              "    }\n",
              "\n",
              "    .dataframe thead th {\n",
              "        text-align: right;\n",
              "    }\n",
              "</style>\n",
              "<table border=\"1\" class=\"dataframe\">\n",
              "  <thead>\n",
              "    <tr style=\"text-align: right;\">\n",
              "      <th></th>\n",
              "      <th>A</th>\n",
              "      <th>B</th>\n",
              "      <th>C</th>\n",
              "    </tr>\n",
              "  </thead>\n",
              "  <tbody>\n",
              "    <tr>\n",
              "      <th>0</th>\n",
              "      <td>1</td>\n",
              "      <td>10</td>\n",
              "      <td>100</td>\n",
              "    </tr>\n",
              "    <tr>\n",
              "      <th>1</th>\n",
              "      <td>2</td>\n",
              "      <td>20</td>\n",
              "      <td>200</td>\n",
              "    </tr>\n",
              "    <tr>\n",
              "      <th>2</th>\n",
              "      <td>3</td>\n",
              "      <td>30</td>\n",
              "      <td>300</td>\n",
              "    </tr>\n",
              "    <tr>\n",
              "      <th>3</th>\n",
              "      <td>4</td>\n",
              "      <td>40</td>\n",
              "      <td>400</td>\n",
              "    </tr>\n",
              "    <tr>\n",
              "      <th>4</th>\n",
              "      <td>5</td>\n",
              "      <td>50</td>\n",
              "      <td>500</td>\n",
              "    </tr>\n",
              "  </tbody>\n",
              "</table>\n",
              "</div>"
            ],
            "text/plain": [
              "   A   B    C\n",
              "0  1  10  100\n",
              "1  2  20  200\n",
              "2  3  30  300\n",
              "3  4  40  400\n",
              "4  5  50  500"
            ]
          },
          "metadata": {
            "tags": []
          },
          "execution_count": 93
        }
      ]
    },
    {
      "cell_type": "code",
      "metadata": {
        "colab": {
          "base_uri": "https://localhost:8080/",
          "height": 142
        },
        "id": "fAFzVD1vqIl0",
        "outputId": "09a9f8e9-2caf-4c82-bb2f-8775f439066d"
      },
      "source": [
        "table_data2 = {'A': [6,7,8],\n",
        "               'B': [6,70,80],\n",
        "               'C': [600,700,800]}\n",
        "df2 = pd.DataFrame(table_data2)\n",
        "df2"
      ],
      "execution_count": null,
      "outputs": [
        {
          "output_type": "execute_result",
          "data": {
            "text/html": [
              "<div>\n",
              "<style scoped>\n",
              "    .dataframe tbody tr th:only-of-type {\n",
              "        vertical-align: middle;\n",
              "    }\n",
              "\n",
              "    .dataframe tbody tr th {\n",
              "        vertical-align: top;\n",
              "    }\n",
              "\n",
              "    .dataframe thead th {\n",
              "        text-align: right;\n",
              "    }\n",
              "</style>\n",
              "<table border=\"1\" class=\"dataframe\">\n",
              "  <thead>\n",
              "    <tr style=\"text-align: right;\">\n",
              "      <th></th>\n",
              "      <th>A</th>\n",
              "      <th>B</th>\n",
              "      <th>C</th>\n",
              "    </tr>\n",
              "  </thead>\n",
              "  <tbody>\n",
              "    <tr>\n",
              "      <th>0</th>\n",
              "      <td>6</td>\n",
              "      <td>6</td>\n",
              "      <td>600</td>\n",
              "    </tr>\n",
              "    <tr>\n",
              "      <th>1</th>\n",
              "      <td>7</td>\n",
              "      <td>70</td>\n",
              "      <td>700</td>\n",
              "    </tr>\n",
              "    <tr>\n",
              "      <th>2</th>\n",
              "      <td>8</td>\n",
              "      <td>80</td>\n",
              "      <td>800</td>\n",
              "    </tr>\n",
              "  </tbody>\n",
              "</table>\n",
              "</div>"
            ],
            "text/plain": [
              "   A   B    C\n",
              "0  6   6  600\n",
              "1  7  70  700\n",
              "2  8  80  800"
            ]
          },
          "metadata": {
            "tags": []
          },
          "execution_count": 94
        }
      ]
    },
    {
      "cell_type": "markdown",
      "metadata": {
        "id": "-0nABZB8qZFP"
      },
      "source": [
        "- 2개의 DataFrame 데이터 df1과 df2는 길이가 같지 않음\n",
        "- 두 데이터의 길이가 같지 않더라도 앞의 Series 데이터처럼 연산할 수 있음"
      ]
    },
    {
      "cell_type": "code",
      "metadata": {
        "colab": {
          "base_uri": "https://localhost:8080/",
          "height": 204
        },
        "id": "bPBnkXx-qXKj",
        "outputId": "c55473ed-e474-4609-d2e3-95cd0eb892fd"
      },
      "source": [
        "df1+df2"
      ],
      "execution_count": null,
      "outputs": [
        {
          "output_type": "execute_result",
          "data": {
            "text/html": [
              "<div>\n",
              "<style scoped>\n",
              "    .dataframe tbody tr th:only-of-type {\n",
              "        vertical-align: middle;\n",
              "    }\n",
              "\n",
              "    .dataframe tbody tr th {\n",
              "        vertical-align: top;\n",
              "    }\n",
              "\n",
              "    .dataframe thead th {\n",
              "        text-align: right;\n",
              "    }\n",
              "</style>\n",
              "<table border=\"1\" class=\"dataframe\">\n",
              "  <thead>\n",
              "    <tr style=\"text-align: right;\">\n",
              "      <th></th>\n",
              "      <th>A</th>\n",
              "      <th>B</th>\n",
              "      <th>C</th>\n",
              "    </tr>\n",
              "  </thead>\n",
              "  <tbody>\n",
              "    <tr>\n",
              "      <th>0</th>\n",
              "      <td>7.0</td>\n",
              "      <td>16.0</td>\n",
              "      <td>700.0</td>\n",
              "    </tr>\n",
              "    <tr>\n",
              "      <th>1</th>\n",
              "      <td>9.0</td>\n",
              "      <td>90.0</td>\n",
              "      <td>900.0</td>\n",
              "    </tr>\n",
              "    <tr>\n",
              "      <th>2</th>\n",
              "      <td>11.0</td>\n",
              "      <td>110.0</td>\n",
              "      <td>1100.0</td>\n",
              "    </tr>\n",
              "    <tr>\n",
              "      <th>3</th>\n",
              "      <td>NaN</td>\n",
              "      <td>NaN</td>\n",
              "      <td>NaN</td>\n",
              "    </tr>\n",
              "    <tr>\n",
              "      <th>4</th>\n",
              "      <td>NaN</td>\n",
              "      <td>NaN</td>\n",
              "      <td>NaN</td>\n",
              "    </tr>\n",
              "  </tbody>\n",
              "</table>\n",
              "</div>"
            ],
            "text/plain": [
              "      A      B       C\n",
              "0   7.0   16.0   700.0\n",
              "1   9.0   90.0   900.0\n",
              "2  11.0  110.0  1100.0\n",
              "3   NaN    NaN     NaN\n",
              "4   NaN    NaN     NaN"
            ]
          },
          "metadata": {
            "tags": []
          },
          "execution_count": 95
        }
      ]
    },
    {
      "cell_type": "markdown",
      "metadata": {
        "id": "MeSGj_SarevB"
      },
      "source": [
        "- Series 데이터의 경우와 마찬가지로 DataFrame 데이터의 경우도\n",
        "- 연산할 수 있는 항목끼리만 연산하고 그렇지 못한 항목은 nan으로 표시\n",
        "\n",
        "- pandas에는 데이터의 통계 분석을 위한 다양한 매서드가 있어서\n",
        "- 데이터의 총합, 평균, 표준편차등을 쉽게 구할 수 잇음\n",
        "\n",
        "- pandas의 매서드로 통계 분석 하는 방법\n",
        "- 2012년 부터 2016년까지 우리나라의 계절별 강수령(단위mm)"
      ]
    },
    {
      "cell_type": "code",
      "metadata": {
        "colab": {
          "base_uri": "https://localhost:8080/"
        },
        "id": "bsl0k0eisUZi",
        "outputId": "e4fc89bb-3c6f-4e97-f65a-3468a0444e9f"
      },
      "source": [
        "table_data3 = {'봄': [256.5, 264.3, 215.9, 223.2, 312.8],\n",
        "               '여름' : [770.6, 567.5, 599.8, 387.1, 446.2],\n",
        "               '가을' : [363.5, 231.2, 293.1, 247.7, 381.6],\n",
        "               '겨울' : [139.3, 59.9, 76.9,109.1, 108.1]}\n",
        "\n",
        "columns_list = ['봄','여름','가을','겨울']\n",
        "index_list = ['2012','2013','2014','2015','2016']\n",
        "\n",
        "df3 = [pd.DataFrame(table_data3, columns = columns_list, index = index_list)]\n",
        "df3"
      ],
      "execution_count": null,
      "outputs": [
        {
          "output_type": "execute_result",
          "data": {
            "text/plain": [
              "[          봄     여름     가을     겨울\n",
              " 2012  256.5  770.6  363.5  139.3\n",
              " 2013  264.3  567.5  231.2   59.9\n",
              " 2014  215.9  599.8  293.1   76.9\n",
              " 2015  223.2  387.1  247.7  109.1\n",
              " 2016  312.8  446.2  381.6  108.1]"
            ]
          },
          "metadata": {
            "tags": []
          },
          "execution_count": 97
        }
      ]
    },
    {
      "cell_type": "markdown",
      "metadata": {
        "id": "BoWg8Cd-tBoF"
      },
      "source": [
        "- DataFrame 데이터(df3)를 이용해 통계\n",
        "- pandas에서 제공하는 통계 매서드는 원소의 합을 구하는 sum()\n",
        "- 평균을 구하는 mean(), 표준편차를 구하는 std()\n",
        "- 분산을 구하는 var(), 최소값을 구하는 min()\n",
        "- 최대값을 구하는 max(), 각 원소의 누적 합을 구하는 cumsum()\n",
        "- 각 원소의 누적 곱을 구하는 cumprod()등이 잇음"
      ]
    },
    {
      "cell_type": "code",
      "metadata": {
        "colab": {
          "base_uri": "https://localhost:8080/",
          "height": 172
        },
        "id": "qoR-yaYhtAkj",
        "outputId": "1095df21-7932-4f2d-f5b5-0e2ceda49f6a"
      },
      "source": [
        "df3.mean()"
      ],
      "execution_count": null,
      "outputs": [
        {
          "output_type": "error",
          "ename": "AttributeError",
          "evalue": "ignored",
          "traceback": [
            "\u001b[0;31m---------------------------------------------------------------------------\u001b[0m",
            "\u001b[0;31mAttributeError\u001b[0m                            Traceback (most recent call last)",
            "\u001b[0;32m<ipython-input-99-e585dc5367fc>\u001b[0m in \u001b[0;36m<module>\u001b[0;34m()\u001b[0m\n\u001b[0;32m----> 1\u001b[0;31m \u001b[0mdf3\u001b[0m\u001b[0;34m.\u001b[0m\u001b[0mmean\u001b[0m\u001b[0;34m(\u001b[0m\u001b[0;34m)\u001b[0m\u001b[0;34m\u001b[0m\u001b[0;34m\u001b[0m\u001b[0m\n\u001b[0m",
            "\u001b[0;31mAttributeError\u001b[0m: 'list' object has no attribute 'mean'"
          ]
        }
      ]
    },
    {
      "cell_type": "code",
      "metadata": {
        "colab": {
          "base_uri": "https://localhost:8080/",
          "height": 172
        },
        "id": "dlV4fGGGti4c",
        "outputId": "741e69b2-2d46-442c-b415-5e33e560eb97"
      },
      "source": [
        "df3.std()"
      ],
      "execution_count": null,
      "outputs": [
        {
          "output_type": "error",
          "ename": "AttributeError",
          "evalue": "ignored",
          "traceback": [
            "\u001b[0;31m---------------------------------------------------------------------------\u001b[0m",
            "\u001b[0;31mAttributeError\u001b[0m                            Traceback (most recent call last)",
            "\u001b[0;32m<ipython-input-101-6c264f7725e5>\u001b[0m in \u001b[0;36m<module>\u001b[0;34m()\u001b[0m\n\u001b[0;32m----> 1\u001b[0;31m \u001b[0mdf3\u001b[0m\u001b[0;34m.\u001b[0m\u001b[0mstd\u001b[0m\u001b[0;34m(\u001b[0m\u001b[0;34m)\u001b[0m\u001b[0;34m\u001b[0m\u001b[0;34m\u001b[0m\u001b[0m\n\u001b[0m",
            "\u001b[0;31mAttributeError\u001b[0m: 'list' object has no attribute 'std'"
          ]
        }
      ]
    },
    {
      "cell_type": "markdown",
      "metadata": {
        "id": "zBtCdLEwt0SV"
      },
      "source": [
        "- mean()과 std()는 연산의 방향 설정하기 위해 axis 인자를 추가할 수 있음\n",
        "\n",
        "- 인자 axis가 0 이면 DataFrame의 values에서 열별로 연산을 수행할 수 있고, 1이면 행별로 연산을 수행\n",
        "- axis 인자를 설정하지 않으면 기본값으로 0이 설정\n",
        "- 연산의 방향을 행 방향으로 설정"
      ]
    },
    {
      "cell_type": "code",
      "metadata": {
        "colab": {
          "base_uri": "https://localhost:8080/",
          "height": 172
        },
        "id": "_eCrTiuos-IN",
        "outputId": "61157e68-6cbd-425b-ced6-a2d16c319f34"
      },
      "source": [
        "df3.mean(axis=1)"
      ],
      "execution_count": null,
      "outputs": [
        {
          "output_type": "error",
          "ename": "AttributeError",
          "evalue": "ignored",
          "traceback": [
            "\u001b[0;31m---------------------------------------------------------------------------\u001b[0m",
            "\u001b[0;31mAttributeError\u001b[0m                            Traceback (most recent call last)",
            "\u001b[0;32m<ipython-input-106-5359606f9548>\u001b[0m in \u001b[0;36m<module>\u001b[0;34m()\u001b[0m\n\u001b[0;32m----> 1\u001b[0;31m \u001b[0mdf3\u001b[0m\u001b[0;34m.\u001b[0m\u001b[0mmean\u001b[0m\u001b[0;34m(\u001b[0m\u001b[0maxis\u001b[0m\u001b[0;34m=\u001b[0m\u001b[0;36m1\u001b[0m\u001b[0;34m)\u001b[0m\u001b[0;34m\u001b[0m\u001b[0;34m\u001b[0m\u001b[0m\n\u001b[0m",
            "\u001b[0;31mAttributeError\u001b[0m: 'list' object has no attribute 'mean'"
          ]
        }
      ]
    },
    {
      "cell_type": "code",
      "metadata": {
        "colab": {
          "base_uri": "https://localhost:8080/",
          "height": 172
        },
        "id": "SLlRgOuLvU8B",
        "outputId": "ed41be4c-8f3e-4815-9a7a-46f764a931ae"
      },
      "source": [
        "df3.std(axis=1)"
      ],
      "execution_count": null,
      "outputs": [
        {
          "output_type": "error",
          "ename": "AttributeError",
          "evalue": "ignored",
          "traceback": [
            "\u001b[0;31m---------------------------------------------------------------------------\u001b[0m",
            "\u001b[0;31mAttributeError\u001b[0m                            Traceback (most recent call last)",
            "\u001b[0;32m<ipython-input-107-6b6e485f0e8c>\u001b[0m in \u001b[0;36m<module>\u001b[0;34m()\u001b[0m\n\u001b[0;32m----> 1\u001b[0;31m \u001b[0mdf3\u001b[0m\u001b[0;34m.\u001b[0m\u001b[0mstd\u001b[0m\u001b[0;34m(\u001b[0m\u001b[0maxis\u001b[0m\u001b[0;34m=\u001b[0m\u001b[0;36m1\u001b[0m\u001b[0;34m)\u001b[0m\u001b[0;34m\u001b[0m\u001b[0;34m\u001b[0m\u001b[0m\n\u001b[0m",
            "\u001b[0;31mAttributeError\u001b[0m: 'list' object has no attribute 'std'"
          ]
        }
      ]
    },
    {
      "cell_type": "markdown",
      "metadata": {
        "id": "RD5N3eyRvX4p"
      },
      "source": [
        "- describe()를 이용하면 평균, 표준편차, 최소값, 최대값 등을 한번에 구할 수도 있음"
      ]
    },
    {
      "cell_type": "code",
      "metadata": {
        "colab": {
          "base_uri": "https://localhost:8080/",
          "height": 172
        },
        "id": "5xj-K9dzvXGB",
        "outputId": "7027b01a-bf31-4c90-d944-6073e3ab823f"
      },
      "source": [
        "df3.describe()"
      ],
      "execution_count": null,
      "outputs": [
        {
          "output_type": "error",
          "ename": "AttributeError",
          "evalue": "ignored",
          "traceback": [
            "\u001b[0;31m---------------------------------------------------------------------------\u001b[0m",
            "\u001b[0;31mAttributeError\u001b[0m                            Traceback (most recent call last)",
            "\u001b[0;32m<ipython-input-108-6ec4564985b9>\u001b[0m in \u001b[0;36m<module>\u001b[0;34m()\u001b[0m\n\u001b[0;32m----> 1\u001b[0;31m \u001b[0mdf3\u001b[0m\u001b[0;34m.\u001b[0m\u001b[0mdescribe\u001b[0m\u001b[0;34m(\u001b[0m\u001b[0;34m)\u001b[0m\u001b[0;34m\u001b[0m\u001b[0;34m\u001b[0m\u001b[0m\n\u001b[0m",
            "\u001b[0;31mAttributeError\u001b[0m: 'list' object has no attribute 'describe'"
          ]
        }
      ]
    },
    {
      "cell_type": "markdown",
      "metadata": {
        "id": "vGH5kMPCviWK"
      },
      "source": [
        "## 데이터를 원하는 대로 선택하기\n",
        "- pandas의 DataFrame 데이터를 원본 훼손 없이 원하는 부분만 선택하는 방법\n",
        "- 데이터를 이용해 다음과 같이 DataFrame 데이터를 생성"
      ]
    },
    {
      "cell_type": "code",
      "metadata": {
        "colab": {
          "base_uri": "https://localhost:8080/",
          "height": 266
        },
        "id": "TSYWHrzLreJU",
        "outputId": "c04f46dd-4d99-4365-974a-63ddb4b9bb81"
      },
      "source": [
        "import pandas as pd\n",
        "import numpy as np\n",
        "\n",
        "KTX_data = {'경부선 KTX': [39060,39896, 42005, 43621, 41702, 41266, 32427],\n",
        "            '호남선 KTX': [7313, 6967, 6873, 6626, 8675, 10622, 9228],\n",
        "            '경전선 KTX': [3627, 4168, 4088, 4424, 4606, 4984, 5570],\n",
        "            '전라선 KTX': [309, 1771, 1954, 2244, 3146, 3945, 5766],\n",
        "            '경부선 KTX': [np.nan, np.nan, np.nan, np.nan, 2395,3786, 6667],}\n",
        "\n",
        "col_list = ['경부선 KTX','호남선 KTX', '경전선 KTX', '전라선 KTX', '동해선 KTX']\n",
        "index_list = ['2011', '2012', '2013', '2014', '2015', '2016', '2017']\n",
        "\n",
        "df_KTX = pd.DataFrame(KTX_data, columns = col_list, index = index_list)\n",
        "df_KTX"
      ],
      "execution_count": 3,
      "outputs": [
        {
          "output_type": "execute_result",
          "data": {
            "text/html": [
              "<div>\n",
              "<style scoped>\n",
              "    .dataframe tbody tr th:only-of-type {\n",
              "        vertical-align: middle;\n",
              "    }\n",
              "\n",
              "    .dataframe tbody tr th {\n",
              "        vertical-align: top;\n",
              "    }\n",
              "\n",
              "    .dataframe thead th {\n",
              "        text-align: right;\n",
              "    }\n",
              "</style>\n",
              "<table border=\"1\" class=\"dataframe\">\n",
              "  <thead>\n",
              "    <tr style=\"text-align: right;\">\n",
              "      <th></th>\n",
              "      <th>경부선 KTX</th>\n",
              "      <th>호남선 KTX</th>\n",
              "      <th>경전선 KTX</th>\n",
              "      <th>전라선 KTX</th>\n",
              "      <th>동해선 KTX</th>\n",
              "    </tr>\n",
              "  </thead>\n",
              "  <tbody>\n",
              "    <tr>\n",
              "      <th>2011</th>\n",
              "      <td>NaN</td>\n",
              "      <td>7313</td>\n",
              "      <td>3627</td>\n",
              "      <td>309</td>\n",
              "      <td>NaN</td>\n",
              "    </tr>\n",
              "    <tr>\n",
              "      <th>2012</th>\n",
              "      <td>NaN</td>\n",
              "      <td>6967</td>\n",
              "      <td>4168</td>\n",
              "      <td>1771</td>\n",
              "      <td>NaN</td>\n",
              "    </tr>\n",
              "    <tr>\n",
              "      <th>2013</th>\n",
              "      <td>NaN</td>\n",
              "      <td>6873</td>\n",
              "      <td>4088</td>\n",
              "      <td>1954</td>\n",
              "      <td>NaN</td>\n",
              "    </tr>\n",
              "    <tr>\n",
              "      <th>2014</th>\n",
              "      <td>NaN</td>\n",
              "      <td>6626</td>\n",
              "      <td>4424</td>\n",
              "      <td>2244</td>\n",
              "      <td>NaN</td>\n",
              "    </tr>\n",
              "    <tr>\n",
              "      <th>2015</th>\n",
              "      <td>2395.0</td>\n",
              "      <td>8675</td>\n",
              "      <td>4606</td>\n",
              "      <td>3146</td>\n",
              "      <td>NaN</td>\n",
              "    </tr>\n",
              "    <tr>\n",
              "      <th>2016</th>\n",
              "      <td>3786.0</td>\n",
              "      <td>10622</td>\n",
              "      <td>4984</td>\n",
              "      <td>3945</td>\n",
              "      <td>NaN</td>\n",
              "    </tr>\n",
              "    <tr>\n",
              "      <th>2017</th>\n",
              "      <td>6667.0</td>\n",
              "      <td>9228</td>\n",
              "      <td>5570</td>\n",
              "      <td>5766</td>\n",
              "      <td>NaN</td>\n",
              "    </tr>\n",
              "  </tbody>\n",
              "</table>\n",
              "</div>"
            ],
            "text/plain": [
              "      경부선 KTX  호남선 KTX  경전선 KTX  전라선 KTX 동해선 KTX\n",
              "2011      NaN     7313     3627      309     NaN\n",
              "2012      NaN     6967     4168     1771     NaN\n",
              "2013      NaN     6873     4088     1954     NaN\n",
              "2014      NaN     6626     4424     2244     NaN\n",
              "2015   2395.0     8675     4606     3146     NaN\n",
              "2016   3786.0    10622     4984     3945     NaN\n",
              "2017   6667.0     9228     5570     5766     NaN"
            ]
          },
          "metadata": {
            "tags": []
          },
          "execution_count": 3
        }
      ]
    },
    {
      "cell_type": "markdown",
      "metadata": {
        "id": "8OK6-z38z0DX"
      },
      "source": [
        "- DataFrame 데이터의 index, columns, values를 확인하려면 다음과 같이 작성"
      ]
    },
    {
      "cell_type": "code",
      "metadata": {
        "colab": {
          "base_uri": "https://localhost:8080/"
        },
        "id": "t0LpnaR9zy_J",
        "outputId": "5f21f88a-00d0-4567-911a-4bd245f882e7"
      },
      "source": [
        "df_KTX.index"
      ],
      "execution_count": null,
      "outputs": [
        {
          "output_type": "execute_result",
          "data": {
            "text/plain": [
              "Index(['2011', '2012', '2013', '2014', '2015', '2016', '2017'], dtype='object')"
            ]
          },
          "metadata": {
            "tags": []
          },
          "execution_count": 110
        }
      ]
    },
    {
      "cell_type": "code",
      "metadata": {
        "colab": {
          "base_uri": "https://localhost:8080/"
        },
        "id": "pRYYZNmSz8dX",
        "outputId": "eac7c464-1663-421f-d896-ecee20507772"
      },
      "source": [
        "df_KTX.columns"
      ],
      "execution_count": null,
      "outputs": [
        {
          "output_type": "execute_result",
          "data": {
            "text/plain": [
              "Index(['경부선 KTX', '호남선 KTX', '경전선 KTX', '전라선 KTX', '동해선 KTX'], dtype='object')"
            ]
          },
          "metadata": {
            "tags": []
          },
          "execution_count": 111
        }
      ]
    },
    {
      "cell_type": "code",
      "metadata": {
        "colab": {
          "base_uri": "https://localhost:8080/"
        },
        "id": "1O7Of5bGz9z9",
        "outputId": "93022d2b-6768-4e80-8be4-df018cf5ffe3"
      },
      "source": [
        "df_KTX.values"
      ],
      "execution_count": null,
      "outputs": [
        {
          "output_type": "execute_result",
          "data": {
            "text/plain": [
              "array([[nan, 7313, 3627, 309, nan],\n",
              "       [nan, 6967, 4168, 1771, nan],\n",
              "       [nan, 6873, 4088, 1954, nan],\n",
              "       [nan, 6626, 4424, 2244, nan],\n",
              "       [2395.0, 8675, 4606, 3146, nan],\n",
              "       [3786.0, 10622, 4984, 3945, nan],\n",
              "       [6667.0, 9228, 5570, 5766, nan]], dtype=object)"
            ]
          },
          "metadata": {
            "tags": []
          },
          "execution_count": 112
        }
      ]
    },
    {
      "cell_type": "markdown",
      "metadata": {
        "id": "z1U1itSSz_b6"
      },
      "source": [
        "- pandas에서는 다음과 같이 head()와 tail()을 이용해 DataFrame의 전체 데이터 중 처음 일부분과 끝 일부분만 반환\n",
        "- DataFrame_data.head([n])\n",
        "- DataFrame_data.tail([n])\n",
        "- 인자 n을 지정하면 head(n)의 경우에는 처음 n개의 행의 데이터를 반환하고 \n",
        "- tail(n)의 경우에는 마지막 n 개의 행 데이터를 반환\n",
        "- 인자 n을 지정하지 않으면 기본값으로 5가 지정\n",
        "\n",
        "- 인자 n 없이 DataFrame_data.head()와 DataFrame_data.tail()을 수행"
      ]
    },
    {
      "cell_type": "code",
      "metadata": {
        "colab": {
          "base_uri": "https://localhost:8080/",
          "height": 204
        },
        "id": "DBzVVW0Qz-8v",
        "outputId": "79c8c144-629d-4bdf-f97a-d894e9a4f142"
      },
      "source": [
        "df_KTX.head()"
      ],
      "execution_count": null,
      "outputs": [
        {
          "output_type": "execute_result",
          "data": {
            "text/html": [
              "<div>\n",
              "<style scoped>\n",
              "    .dataframe tbody tr th:only-of-type {\n",
              "        vertical-align: middle;\n",
              "    }\n",
              "\n",
              "    .dataframe tbody tr th {\n",
              "        vertical-align: top;\n",
              "    }\n",
              "\n",
              "    .dataframe thead th {\n",
              "        text-align: right;\n",
              "    }\n",
              "</style>\n",
              "<table border=\"1\" class=\"dataframe\">\n",
              "  <thead>\n",
              "    <tr style=\"text-align: right;\">\n",
              "      <th></th>\n",
              "      <th>경부선 KTX</th>\n",
              "      <th>호남선 KTX</th>\n",
              "      <th>경전선 KTX</th>\n",
              "      <th>전라선 KTX</th>\n",
              "      <th>동해선 KTX</th>\n",
              "    </tr>\n",
              "  </thead>\n",
              "  <tbody>\n",
              "    <tr>\n",
              "      <th>2011</th>\n",
              "      <td>NaN</td>\n",
              "      <td>7313</td>\n",
              "      <td>3627</td>\n",
              "      <td>309</td>\n",
              "      <td>NaN</td>\n",
              "    </tr>\n",
              "    <tr>\n",
              "      <th>2012</th>\n",
              "      <td>NaN</td>\n",
              "      <td>6967</td>\n",
              "      <td>4168</td>\n",
              "      <td>1771</td>\n",
              "      <td>NaN</td>\n",
              "    </tr>\n",
              "    <tr>\n",
              "      <th>2013</th>\n",
              "      <td>NaN</td>\n",
              "      <td>6873</td>\n",
              "      <td>4088</td>\n",
              "      <td>1954</td>\n",
              "      <td>NaN</td>\n",
              "    </tr>\n",
              "    <tr>\n",
              "      <th>2014</th>\n",
              "      <td>NaN</td>\n",
              "      <td>6626</td>\n",
              "      <td>4424</td>\n",
              "      <td>2244</td>\n",
              "      <td>NaN</td>\n",
              "    </tr>\n",
              "    <tr>\n",
              "      <th>2015</th>\n",
              "      <td>2395.0</td>\n",
              "      <td>8675</td>\n",
              "      <td>4606</td>\n",
              "      <td>3146</td>\n",
              "      <td>NaN</td>\n",
              "    </tr>\n",
              "  </tbody>\n",
              "</table>\n",
              "</div>"
            ],
            "text/plain": [
              "      경부선 KTX  호남선 KTX  경전선 KTX  전라선 KTX 동해선 KTX\n",
              "2011      NaN     7313     3627      309     NaN\n",
              "2012      NaN     6967     4168     1771     NaN\n",
              "2013      NaN     6873     4088     1954     NaN\n",
              "2014      NaN     6626     4424     2244     NaN\n",
              "2015   2395.0     8675     4606     3146     NaN"
            ]
          },
          "metadata": {
            "tags": []
          },
          "execution_count": 114
        }
      ]
    },
    {
      "cell_type": "code",
      "metadata": {
        "colab": {
          "base_uri": "https://localhost:8080/",
          "height": 204
        },
        "id": "uiBGZhWh0h_f",
        "outputId": "b0dcf34f-f0e0-46d6-e1b3-6c326fb3877c"
      },
      "source": [
        "df_KTX.tail()"
      ],
      "execution_count": null,
      "outputs": [
        {
          "output_type": "execute_result",
          "data": {
            "text/html": [
              "<div>\n",
              "<style scoped>\n",
              "    .dataframe tbody tr th:only-of-type {\n",
              "        vertical-align: middle;\n",
              "    }\n",
              "\n",
              "    .dataframe tbody tr th {\n",
              "        vertical-align: top;\n",
              "    }\n",
              "\n",
              "    .dataframe thead th {\n",
              "        text-align: right;\n",
              "    }\n",
              "</style>\n",
              "<table border=\"1\" class=\"dataframe\">\n",
              "  <thead>\n",
              "    <tr style=\"text-align: right;\">\n",
              "      <th></th>\n",
              "      <th>경부선 KTX</th>\n",
              "      <th>호남선 KTX</th>\n",
              "      <th>경전선 KTX</th>\n",
              "      <th>전라선 KTX</th>\n",
              "      <th>동해선 KTX</th>\n",
              "    </tr>\n",
              "  </thead>\n",
              "  <tbody>\n",
              "    <tr>\n",
              "      <th>2013</th>\n",
              "      <td>NaN</td>\n",
              "      <td>6873</td>\n",
              "      <td>4088</td>\n",
              "      <td>1954</td>\n",
              "      <td>NaN</td>\n",
              "    </tr>\n",
              "    <tr>\n",
              "      <th>2014</th>\n",
              "      <td>NaN</td>\n",
              "      <td>6626</td>\n",
              "      <td>4424</td>\n",
              "      <td>2244</td>\n",
              "      <td>NaN</td>\n",
              "    </tr>\n",
              "    <tr>\n",
              "      <th>2015</th>\n",
              "      <td>2395.0</td>\n",
              "      <td>8675</td>\n",
              "      <td>4606</td>\n",
              "      <td>3146</td>\n",
              "      <td>NaN</td>\n",
              "    </tr>\n",
              "    <tr>\n",
              "      <th>2016</th>\n",
              "      <td>3786.0</td>\n",
              "      <td>10622</td>\n",
              "      <td>4984</td>\n",
              "      <td>3945</td>\n",
              "      <td>NaN</td>\n",
              "    </tr>\n",
              "    <tr>\n",
              "      <th>2017</th>\n",
              "      <td>6667.0</td>\n",
              "      <td>9228</td>\n",
              "      <td>5570</td>\n",
              "      <td>5766</td>\n",
              "      <td>NaN</td>\n",
              "    </tr>\n",
              "  </tbody>\n",
              "</table>\n",
              "</div>"
            ],
            "text/plain": [
              "      경부선 KTX  호남선 KTX  경전선 KTX  전라선 KTX 동해선 KTX\n",
              "2013      NaN     6873     4088     1954     NaN\n",
              "2014      NaN     6626     4424     2244     NaN\n",
              "2015   2395.0     8675     4606     3146     NaN\n",
              "2016   3786.0    10622     4984     3945     NaN\n",
              "2017   6667.0     9228     5570     5766     NaN"
            ]
          },
          "metadata": {
            "tags": []
          },
          "execution_count": 115
        }
      ]
    },
    {
      "cell_type": "markdown",
      "metadata": {
        "id": "zDHWZyYM0lHS"
      },
      "source": [
        "- n개의 처음과 마지막 행 데이터를 반환하려면 다음과 같이 인자 n을 지정해서 head(n)와 tail(n)을 실행"
      ]
    },
    {
      "cell_type": "code",
      "metadata": {
        "colab": {
          "base_uri": "https://localhost:8080/",
          "height": 142
        },
        "id": "WygxjYcS0g_K",
        "outputId": "11d28b03-2e0d-4794-d13d-1a5343cb19cd"
      },
      "source": [
        "df_KTX.head(3)"
      ],
      "execution_count": null,
      "outputs": [
        {
          "output_type": "execute_result",
          "data": {
            "text/html": [
              "<div>\n",
              "<style scoped>\n",
              "    .dataframe tbody tr th:only-of-type {\n",
              "        vertical-align: middle;\n",
              "    }\n",
              "\n",
              "    .dataframe tbody tr th {\n",
              "        vertical-align: top;\n",
              "    }\n",
              "\n",
              "    .dataframe thead th {\n",
              "        text-align: right;\n",
              "    }\n",
              "</style>\n",
              "<table border=\"1\" class=\"dataframe\">\n",
              "  <thead>\n",
              "    <tr style=\"text-align: right;\">\n",
              "      <th></th>\n",
              "      <th>경부선 KTX</th>\n",
              "      <th>호남선 KTX</th>\n",
              "      <th>경전선 KTX</th>\n",
              "      <th>전라선 KTX</th>\n",
              "      <th>동해선 KTX</th>\n",
              "    </tr>\n",
              "  </thead>\n",
              "  <tbody>\n",
              "    <tr>\n",
              "      <th>2011</th>\n",
              "      <td>NaN</td>\n",
              "      <td>7313</td>\n",
              "      <td>3627</td>\n",
              "      <td>309</td>\n",
              "      <td>NaN</td>\n",
              "    </tr>\n",
              "    <tr>\n",
              "      <th>2012</th>\n",
              "      <td>NaN</td>\n",
              "      <td>6967</td>\n",
              "      <td>4168</td>\n",
              "      <td>1771</td>\n",
              "      <td>NaN</td>\n",
              "    </tr>\n",
              "    <tr>\n",
              "      <th>2013</th>\n",
              "      <td>NaN</td>\n",
              "      <td>6873</td>\n",
              "      <td>4088</td>\n",
              "      <td>1954</td>\n",
              "      <td>NaN</td>\n",
              "    </tr>\n",
              "  </tbody>\n",
              "</table>\n",
              "</div>"
            ],
            "text/plain": [
              "      경부선 KTX  호남선 KTX  경전선 KTX  전라선 KTX 동해선 KTX\n",
              "2011      NaN     7313     3627      309     NaN\n",
              "2012      NaN     6967     4168     1771     NaN\n",
              "2013      NaN     6873     4088     1954     NaN"
            ]
          },
          "metadata": {
            "tags": []
          },
          "execution_count": 116
        }
      ]
    },
    {
      "cell_type": "code",
      "metadata": {
        "colab": {
          "base_uri": "https://localhost:8080/",
          "height": 111
        },
        "id": "0QfAAqT70yev",
        "outputId": "952c03c0-ce74-44bf-f10a-d83b2f0c7470"
      },
      "source": [
        "df_KTX.tail(2)"
      ],
      "execution_count": null,
      "outputs": [
        {
          "output_type": "execute_result",
          "data": {
            "text/html": [
              "<div>\n",
              "<style scoped>\n",
              "    .dataframe tbody tr th:only-of-type {\n",
              "        vertical-align: middle;\n",
              "    }\n",
              "\n",
              "    .dataframe tbody tr th {\n",
              "        vertical-align: top;\n",
              "    }\n",
              "\n",
              "    .dataframe thead th {\n",
              "        text-align: right;\n",
              "    }\n",
              "</style>\n",
              "<table border=\"1\" class=\"dataframe\">\n",
              "  <thead>\n",
              "    <tr style=\"text-align: right;\">\n",
              "      <th></th>\n",
              "      <th>경부선 KTX</th>\n",
              "      <th>호남선 KTX</th>\n",
              "      <th>경전선 KTX</th>\n",
              "      <th>전라선 KTX</th>\n",
              "      <th>동해선 KTX</th>\n",
              "    </tr>\n",
              "  </thead>\n",
              "  <tbody>\n",
              "    <tr>\n",
              "      <th>2016</th>\n",
              "      <td>3786.0</td>\n",
              "      <td>10622</td>\n",
              "      <td>4984</td>\n",
              "      <td>3945</td>\n",
              "      <td>NaN</td>\n",
              "    </tr>\n",
              "    <tr>\n",
              "      <th>2017</th>\n",
              "      <td>6667.0</td>\n",
              "      <td>9228</td>\n",
              "      <td>5570</td>\n",
              "      <td>5766</td>\n",
              "      <td>NaN</td>\n",
              "    </tr>\n",
              "  </tbody>\n",
              "</table>\n",
              "</div>"
            ],
            "text/plain": [
              "      경부선 KTX  호남선 KTX  경전선 KTX  전라선 KTX 동해선 KTX\n",
              "2016   3786.0    10622     4984     3945     NaN\n",
              "2017   6667.0     9228     5570     5766     NaN"
            ]
          },
          "metadata": {
            "tags": []
          },
          "execution_count": 117
        }
      ]
    },
    {
      "cell_type": "markdown",
      "metadata": {
        "id": "wkCMqT7200WG"
      },
      "source": [
        "- DataFrame 데이터에서 연속된 구간의 행 데이터를 선택하려면 다음과 같이 '행 시작 위치' 와 '끝 위치'를 지정\n",
        "- DataFrame_data [행_시작_위치: 행_끝_위치]\n",
        "- DataFrame 데이터 (DataFrame_data) 중에서 '행_시작_위치~ 행_끝_위치-1'까지의 행 데이터를 반환\n",
        "- 행의 위치는 0부터 시작\n",
        "\n",
        "- df_KTX에서 행 위치 1의 행 데이터 하나를 선택"
      ]
    },
    {
      "cell_type": "code",
      "metadata": {
        "colab": {
          "base_uri": "https://localhost:8080/",
          "height": 80
        },
        "id": "4fPuAdX31I9o",
        "outputId": "a8939702-3437-4457-d996-419600e3a948"
      },
      "source": [
        "df_KTX[1:2]"
      ],
      "execution_count": null,
      "outputs": [
        {
          "output_type": "execute_result",
          "data": {
            "text/html": [
              "<div>\n",
              "<style scoped>\n",
              "    .dataframe tbody tr th:only-of-type {\n",
              "        vertical-align: middle;\n",
              "    }\n",
              "\n",
              "    .dataframe tbody tr th {\n",
              "        vertical-align: top;\n",
              "    }\n",
              "\n",
              "    .dataframe thead th {\n",
              "        text-align: right;\n",
              "    }\n",
              "</style>\n",
              "<table border=\"1\" class=\"dataframe\">\n",
              "  <thead>\n",
              "    <tr style=\"text-align: right;\">\n",
              "      <th></th>\n",
              "      <th>경부선 KTX</th>\n",
              "      <th>호남선 KTX</th>\n",
              "      <th>경전선 KTX</th>\n",
              "      <th>전라선 KTX</th>\n",
              "      <th>동해선 KTX</th>\n",
              "    </tr>\n",
              "  </thead>\n",
              "  <tbody>\n",
              "    <tr>\n",
              "      <th>2012</th>\n",
              "      <td>NaN</td>\n",
              "      <td>6967</td>\n",
              "      <td>4168</td>\n",
              "      <td>1771</td>\n",
              "      <td>NaN</td>\n",
              "    </tr>\n",
              "  </tbody>\n",
              "</table>\n",
              "</div>"
            ],
            "text/plain": [
              "      경부선 KTX  호남선 KTX  경전선 KTX  전라선 KTX 동해선 KTX\n",
              "2012      NaN     6967     4168     1771     NaN"
            ]
          },
          "metadata": {
            "tags": []
          },
          "execution_count": 118
        }
      ]
    },
    {
      "cell_type": "markdown",
      "metadata": {
        "id": "rvN9i8jN1Lbj"
      },
      "source": [
        "- 변수 df_KTX에서 행 위치 2에서 4까지의 행 데이터를 선택"
      ]
    },
    {
      "cell_type": "code",
      "metadata": {
        "colab": {
          "base_uri": "https://localhost:8080/",
          "height": 142
        },
        "id": "f8A7RFr91KfS",
        "outputId": "b333de2d-4ce2-4455-b2e6-2531e83ba657"
      },
      "source": [
        "df_KTX[2:5]"
      ],
      "execution_count": null,
      "outputs": [
        {
          "output_type": "execute_result",
          "data": {
            "text/html": [
              "<div>\n",
              "<style scoped>\n",
              "    .dataframe tbody tr th:only-of-type {\n",
              "        vertical-align: middle;\n",
              "    }\n",
              "\n",
              "    .dataframe tbody tr th {\n",
              "        vertical-align: top;\n",
              "    }\n",
              "\n",
              "    .dataframe thead th {\n",
              "        text-align: right;\n",
              "    }\n",
              "</style>\n",
              "<table border=\"1\" class=\"dataframe\">\n",
              "  <thead>\n",
              "    <tr style=\"text-align: right;\">\n",
              "      <th></th>\n",
              "      <th>경부선 KTX</th>\n",
              "      <th>호남선 KTX</th>\n",
              "      <th>경전선 KTX</th>\n",
              "      <th>전라선 KTX</th>\n",
              "      <th>동해선 KTX</th>\n",
              "    </tr>\n",
              "  </thead>\n",
              "  <tbody>\n",
              "    <tr>\n",
              "      <th>2013</th>\n",
              "      <td>NaN</td>\n",
              "      <td>6873</td>\n",
              "      <td>4088</td>\n",
              "      <td>1954</td>\n",
              "      <td>NaN</td>\n",
              "    </tr>\n",
              "    <tr>\n",
              "      <th>2014</th>\n",
              "      <td>NaN</td>\n",
              "      <td>6626</td>\n",
              "      <td>4424</td>\n",
              "      <td>2244</td>\n",
              "      <td>NaN</td>\n",
              "    </tr>\n",
              "    <tr>\n",
              "      <th>2015</th>\n",
              "      <td>2395.0</td>\n",
              "      <td>8675</td>\n",
              "      <td>4606</td>\n",
              "      <td>3146</td>\n",
              "      <td>NaN</td>\n",
              "    </tr>\n",
              "  </tbody>\n",
              "</table>\n",
              "</div>"
            ],
            "text/plain": [
              "      경부선 KTX  호남선 KTX  경전선 KTX  전라선 KTX 동해선 KTX\n",
              "2013      NaN     6873     4088     1954     NaN\n",
              "2014      NaN     6626     4424     2244     NaN\n",
              "2015   2395.0     8675     4606     3146     NaN"
            ]
          },
          "metadata": {
            "tags": []
          },
          "execution_count": 119
        }
      ]
    },
    {
      "cell_type": "markdown",
      "metadata": {
        "id": "gIoD7I-f1RFY"
      },
      "source": [
        "- DataFrame 데이터를 생성할 때 index를 지정했다면 다음과 같이 index 항목 이름을 지정해 행을 선택할 수도 있음\n",
        "- DataFrame_data.loc[index_name]\n",
        "- DataFrame_data의 데이터에서 index가 index_name인 행 데이터를 반환\n",
        "\n",
        "- df_KTX에서 index로 지정한 항목 중 2011년 데이터만 선택한 예"
      ]
    },
    {
      "cell_type": "code",
      "metadata": {
        "colab": {
          "base_uri": "https://localhost:8080/"
        },
        "id": "izCYEDRb1ohR",
        "outputId": "35f8c3ed-5787-4c11-ea35-25faf897d5f8"
      },
      "source": [
        "df_KTX.loc['2011']"
      ],
      "execution_count": null,
      "outputs": [
        {
          "output_type": "execute_result",
          "data": {
            "text/plain": [
              "경부선 KTX     NaN\n",
              "호남선 KTX    7313\n",
              "경전선 KTX    3627\n",
              "전라선 KTX     309\n",
              "동해선 KTX     NaN\n",
              "Name: 2011, dtype: object"
            ]
          },
          "metadata": {
            "tags": []
          },
          "execution_count": 120
        }
      ]
    },
    {
      "cell_type": "markdown",
      "metadata": {
        "id": "L9CQ81yE1uE8"
      },
      "source": [
        "- DataFrame 데이터에서 다음과 같이 index 항목 이름으로 구간을 지정해서 연속된 구간의 행을 선택할 수도 있음\n",
        "- DataFrame_data.loc[start_index_name : end_index_name]\n",
        "- DataFrame_data의 데이터 중 index가 start_index_name에서 end_index_name 까지 구간의 행 데이터가 선택\n",
        "\n",
        "- df_KTX에서 index로 지정한 항목 중 2013년부터 2016년까지의 행 데이터를 선택한 예"
      ]
    },
    {
      "cell_type": "code",
      "metadata": {
        "colab": {
          "base_uri": "https://localhost:8080/"
        },
        "id": "wP0tjWvE1qdP",
        "outputId": "301a5ba0-258c-467f-bc0d-f7aad4d96fb7"
      },
      "source": [
        "df_KTX['경부선 KTX']"
      ],
      "execution_count": null,
      "outputs": [
        {
          "output_type": "execute_result",
          "data": {
            "text/plain": [
              "2011       NaN\n",
              "2012       NaN\n",
              "2013       NaN\n",
              "2014       NaN\n",
              "2015    2395.0\n",
              "2016    3786.0\n",
              "2017    6667.0\n",
              "Name: 경부선 KTX, dtype: float64"
            ]
          },
          "metadata": {
            "tags": []
          },
          "execution_count": 121
        }
      ]
    },
    {
      "cell_type": "markdown",
      "metadata": {
        "id": "ViDIsuJp4oCC"
      },
      "source": [
        "- DataFrame 데이터에서 하나의 열을 선택한 후 index의 범위를 지정해 원하는 데이터만 선택할 수도 있음\n",
        "- DataFrame_data[column_name][start_index_name : end_index_name]\n",
        "- DataFrame_data[column_name][start_index_pos : end_index_pos]\n",
        "- column_name 으로 하나의 열을 선택한 후 'start_indesx_name : end_index_name'으로\n",
        "- index의 이름을 지정해 index의 범위를 선택할 수 있고,\n",
        "- 'start_index_pos:end_index_pos'로 index의 위치를 지정해 index의 범위를 선택할 수도 있음\n",
        "- index의 위치는 0부터 시작\n",
        "\n",
        "\n",
        "- df_KTX에서 경부선 kTX로 열을 선택한 후 2012년에서 2014년까지 index의 범위를 index의 이름으로 지정한 "
      ]
    },
    {
      "cell_type": "code",
      "metadata": {
        "colab": {
          "base_uri": "https://localhost:8080/"
        },
        "id": "cLDaEXGe9Kx-",
        "outputId": "8ca68c38-b78b-4887-ac56-a0cfe6fca7ac"
      },
      "source": [
        "df_KTX['경부선 KTX']['2012':'2014']"
      ],
      "execution_count": null,
      "outputs": [
        {
          "output_type": "execute_result",
          "data": {
            "text/plain": [
              "2012   NaN\n",
              "2013   NaN\n",
              "2014   NaN\n",
              "Name: 경부선 KTX, dtype: float64"
            ]
          },
          "metadata": {
            "tags": []
          },
          "execution_count": 122
        }
      ]
    },
    {
      "cell_type": "markdown",
      "metadata": {
        "id": "kq9ukv0P9fG3"
      },
      "source": [
        "- index의 위치로 범위를 지정한 예"
      ]
    },
    {
      "cell_type": "code",
      "metadata": {
        "colab": {
          "base_uri": "https://localhost:8080/"
        },
        "id": "i2w9gUP89erN",
        "outputId": "8c5ef8eb-60f7-4814-ed89-3d9ffa7a47bf"
      },
      "source": [
        "df_KTX['경부선 KTX'][2:5]"
      ],
      "execution_count": null,
      "outputs": [
        {
          "output_type": "execute_result",
          "data": {
            "text/plain": [
              "2013       NaN\n",
              "2014       NaN\n",
              "2015    2395.0\n",
              "Name: 경부선 KTX, dtype: float64"
            ]
          },
          "metadata": {
            "tags": []
          },
          "execution_count": 123
        }
      ]
    },
    {
      "cell_type": "markdown",
      "metadata": {
        "id": "gkv9FBul_fnb"
      },
      "source": [
        "- DataFrame 데이터 중 하나으 원소만 선택하려면 다음 방법중 하나를 이용\n",
        "- DataFrame_data.loc[index_name][column_name]\n",
        "- DataFrame_data.loc[index_name, column_name]\n",
        "- DataFrame_data.loc[column_name][index_name]\n",
        "- DataFrame_data.loc[column_name][index_pos]\n",
        "- DataFrame_data.loc[column_name].loc[index_name]\n",
        "\n",
        "- df_KTX에서 20-16년의 '호남선 KTX'의 이용자 ㅅ를 선택하려면 다음과 같이 여러 방법으로 수행"
      ]
    },
    {
      "cell_type": "code",
      "metadata": {
        "colab": {
          "base_uri": "https://localhost:8080/"
        },
        "id": "q3LBhbBa-NE_",
        "outputId": "86b66b41-572e-42c6-bedb-061b7b06203a"
      },
      "source": [
        "df_KTX.loc['2016']['호남선 KTX']"
      ],
      "execution_count": null,
      "outputs": [
        {
          "output_type": "execute_result",
          "data": {
            "text/plain": [
              "10622"
            ]
          },
          "metadata": {
            "tags": []
          },
          "execution_count": 124
        }
      ]
    },
    {
      "cell_type": "code",
      "metadata": {
        "colab": {
          "base_uri": "https://localhost:8080/"
        },
        "id": "aMhIkTpIBgku",
        "outputId": "66028af1-19d3-4c6c-b2ef-d1b7c571dc7d"
      },
      "source": [
        "df_KTX.loc['2016','호남선 KTX']"
      ],
      "execution_count": null,
      "outputs": [
        {
          "output_type": "execute_result",
          "data": {
            "text/plain": [
              "10622"
            ]
          },
          "metadata": {
            "tags": []
          },
          "execution_count": 125
        }
      ]
    },
    {
      "cell_type": "code",
      "metadata": {
        "colab": {
          "base_uri": "https://localhost:8080/"
        },
        "id": "uTMearHcBiIV",
        "outputId": "ce422b77-1d2d-4160-862c-b12edb05da16"
      },
      "source": [
        "df_KTX['호남선 KTX']['2016']"
      ],
      "execution_count": null,
      "outputs": [
        {
          "output_type": "execute_result",
          "data": {
            "text/plain": [
              "10622"
            ]
          },
          "metadata": {
            "tags": []
          },
          "execution_count": 126
        }
      ]
    },
    {
      "cell_type": "code",
      "metadata": {
        "colab": {
          "base_uri": "https://localhost:8080/"
        },
        "id": "_mdQHka0BnPU",
        "outputId": "046c9417-be42-4adb-9a8e-9f1c69f18436"
      },
      "source": [
        "df_KTX['호남선 KTX'][5]"
      ],
      "execution_count": null,
      "outputs": [
        {
          "output_type": "execute_result",
          "data": {
            "text/plain": [
              "10622"
            ]
          },
          "metadata": {
            "tags": []
          },
          "execution_count": 127
        }
      ]
    },
    {
      "cell_type": "code",
      "metadata": {
        "colab": {
          "base_uri": "https://localhost:8080/"
        },
        "id": "yOEggn0SBpCb",
        "outputId": "aca17c09-2bd1-4967-ae96-82c978a37337"
      },
      "source": [
        "df_KTX['호남선 KTX'].loc['2016']"
      ],
      "execution_count": null,
      "outputs": [
        {
          "output_type": "execute_result",
          "data": {
            "text/plain": [
              "10622"
            ]
          },
          "metadata": {
            "tags": []
          },
          "execution_count": 128
        }
      ]
    },
    {
      "cell_type": "markdown",
      "metadata": {
        "id": "Dd6VMcsTBr5h"
      },
      "source": [
        "- DataFrame 데이터의 행과 열을 바꾸는 방법\n",
        "- 행렬에서 행과 열을 바꾸는 것을 전치(transpose)\n",
        "- pandas에서는 다음과 같은 방법으로 DataFrame 데이터의 전치를 구할 수 있음\n",
        "- DataFrame_data.T\n",
        "\n",
        "- df_KTX의 전치를 구하는 예"
      ]
    },
    {
      "cell_type": "code",
      "metadata": {
        "colab": {
          "base_uri": "https://localhost:8080/",
          "height": 204
        },
        "id": "4Smsc0iL4nfI",
        "outputId": "d414b5fe-2988-487e-e616-f4b93bb1323d"
      },
      "source": [
        "df_KTX.T"
      ],
      "execution_count": null,
      "outputs": [
        {
          "output_type": "execute_result",
          "data": {
            "text/html": [
              "<div>\n",
              "<style scoped>\n",
              "    .dataframe tbody tr th:only-of-type {\n",
              "        vertical-align: middle;\n",
              "    }\n",
              "\n",
              "    .dataframe tbody tr th {\n",
              "        vertical-align: top;\n",
              "    }\n",
              "\n",
              "    .dataframe thead th {\n",
              "        text-align: right;\n",
              "    }\n",
              "</style>\n",
              "<table border=\"1\" class=\"dataframe\">\n",
              "  <thead>\n",
              "    <tr style=\"text-align: right;\">\n",
              "      <th></th>\n",
              "      <th>2011</th>\n",
              "      <th>2012</th>\n",
              "      <th>2013</th>\n",
              "      <th>2014</th>\n",
              "      <th>2015</th>\n",
              "      <th>2016</th>\n",
              "      <th>2017</th>\n",
              "    </tr>\n",
              "  </thead>\n",
              "  <tbody>\n",
              "    <tr>\n",
              "      <th>경부선 KTX</th>\n",
              "      <td>NaN</td>\n",
              "      <td>NaN</td>\n",
              "      <td>NaN</td>\n",
              "      <td>NaN</td>\n",
              "      <td>2395</td>\n",
              "      <td>3786</td>\n",
              "      <td>6667</td>\n",
              "    </tr>\n",
              "    <tr>\n",
              "      <th>호남선 KTX</th>\n",
              "      <td>7313</td>\n",
              "      <td>6967</td>\n",
              "      <td>6873</td>\n",
              "      <td>6626</td>\n",
              "      <td>8675</td>\n",
              "      <td>10622</td>\n",
              "      <td>9228</td>\n",
              "    </tr>\n",
              "    <tr>\n",
              "      <th>경전선 KTX</th>\n",
              "      <td>3627</td>\n",
              "      <td>4168</td>\n",
              "      <td>4088</td>\n",
              "      <td>4424</td>\n",
              "      <td>4606</td>\n",
              "      <td>4984</td>\n",
              "      <td>5570</td>\n",
              "    </tr>\n",
              "    <tr>\n",
              "      <th>전라선 KTX</th>\n",
              "      <td>309</td>\n",
              "      <td>1771</td>\n",
              "      <td>1954</td>\n",
              "      <td>2244</td>\n",
              "      <td>3146</td>\n",
              "      <td>3945</td>\n",
              "      <td>5766</td>\n",
              "    </tr>\n",
              "    <tr>\n",
              "      <th>동해선 KTX</th>\n",
              "      <td>NaN</td>\n",
              "      <td>NaN</td>\n",
              "      <td>NaN</td>\n",
              "      <td>NaN</td>\n",
              "      <td>NaN</td>\n",
              "      <td>NaN</td>\n",
              "      <td>NaN</td>\n",
              "    </tr>\n",
              "  </tbody>\n",
              "</table>\n",
              "</div>"
            ],
            "text/plain": [
              "         2011  2012  2013  2014  2015   2016  2017\n",
              "경부선 KTX   NaN   NaN   NaN   NaN  2395   3786  6667\n",
              "호남선 KTX  7313  6967  6873  6626  8675  10622  9228\n",
              "경전선 KTX  3627  4168  4088  4424  4606   4984  5570\n",
              "전라선 KTX   309  1771  1954  2244  3146   3945  5766\n",
              "동해선 KTX   NaN   NaN   NaN   NaN   NaN    NaN   NaN"
            ]
          },
          "metadata": {
            "tags": []
          },
          "execution_count": 129
        }
      ]
    },
    {
      "cell_type": "markdown",
      "metadata": {
        "id": "4FeXPJeSCLRb"
      },
      "source": [
        "- DataFrame 데이터는 열의 항목 이름을 지정해 열의 순서를 지정할 수 있음"
      ]
    },
    {
      "cell_type": "code",
      "metadata": {
        "colab": {
          "base_uri": "https://localhost:8080/",
          "height": 266
        },
        "id": "AJCBxm1VCKLN",
        "outputId": "0400fe1b-95a3-4759-f4ee-84ef3db99eb3"
      },
      "source": [
        "df_KTX"
      ],
      "execution_count": null,
      "outputs": [
        {
          "output_type": "execute_result",
          "data": {
            "text/html": [
              "<div>\n",
              "<style scoped>\n",
              "    .dataframe tbody tr th:only-of-type {\n",
              "        vertical-align: middle;\n",
              "    }\n",
              "\n",
              "    .dataframe tbody tr th {\n",
              "        vertical-align: top;\n",
              "    }\n",
              "\n",
              "    .dataframe thead th {\n",
              "        text-align: right;\n",
              "    }\n",
              "</style>\n",
              "<table border=\"1\" class=\"dataframe\">\n",
              "  <thead>\n",
              "    <tr style=\"text-align: right;\">\n",
              "      <th></th>\n",
              "      <th>경부선 KTX</th>\n",
              "      <th>호남선 KTX</th>\n",
              "      <th>경전선 KTX</th>\n",
              "      <th>전라선 KTX</th>\n",
              "      <th>동해선 KTX</th>\n",
              "    </tr>\n",
              "  </thead>\n",
              "  <tbody>\n",
              "    <tr>\n",
              "      <th>2011</th>\n",
              "      <td>NaN</td>\n",
              "      <td>7313</td>\n",
              "      <td>3627</td>\n",
              "      <td>309</td>\n",
              "      <td>NaN</td>\n",
              "    </tr>\n",
              "    <tr>\n",
              "      <th>2012</th>\n",
              "      <td>NaN</td>\n",
              "      <td>6967</td>\n",
              "      <td>4168</td>\n",
              "      <td>1771</td>\n",
              "      <td>NaN</td>\n",
              "    </tr>\n",
              "    <tr>\n",
              "      <th>2013</th>\n",
              "      <td>NaN</td>\n",
              "      <td>6873</td>\n",
              "      <td>4088</td>\n",
              "      <td>1954</td>\n",
              "      <td>NaN</td>\n",
              "    </tr>\n",
              "    <tr>\n",
              "      <th>2014</th>\n",
              "      <td>NaN</td>\n",
              "      <td>6626</td>\n",
              "      <td>4424</td>\n",
              "      <td>2244</td>\n",
              "      <td>NaN</td>\n",
              "    </tr>\n",
              "    <tr>\n",
              "      <th>2015</th>\n",
              "      <td>2395.0</td>\n",
              "      <td>8675</td>\n",
              "      <td>4606</td>\n",
              "      <td>3146</td>\n",
              "      <td>NaN</td>\n",
              "    </tr>\n",
              "    <tr>\n",
              "      <th>2016</th>\n",
              "      <td>3786.0</td>\n",
              "      <td>10622</td>\n",
              "      <td>4984</td>\n",
              "      <td>3945</td>\n",
              "      <td>NaN</td>\n",
              "    </tr>\n",
              "    <tr>\n",
              "      <th>2017</th>\n",
              "      <td>6667.0</td>\n",
              "      <td>9228</td>\n",
              "      <td>5570</td>\n",
              "      <td>5766</td>\n",
              "      <td>NaN</td>\n",
              "    </tr>\n",
              "  </tbody>\n",
              "</table>\n",
              "</div>"
            ],
            "text/plain": [
              "      경부선 KTX  호남선 KTX  경전선 KTX  전라선 KTX 동해선 KTX\n",
              "2011      NaN     7313     3627      309     NaN\n",
              "2012      NaN     6967     4168     1771     NaN\n",
              "2013      NaN     6873     4088     1954     NaN\n",
              "2014      NaN     6626     4424     2244     NaN\n",
              "2015   2395.0     8675     4606     3146     NaN\n",
              "2016   3786.0    10622     4984     3945     NaN\n",
              "2017   6667.0     9228     5570     5766     NaN"
            ]
          },
          "metadata": {
            "tags": []
          },
          "execution_count": 130
        }
      ]
    },
    {
      "cell_type": "markdown",
      "metadata": {
        "id": "hQ6OywMvCXEg"
      },
      "source": [
        "- DataFrame 데이터 변수 df_KTX에 열의 항목을 지정해 열으 순서를 다음과 같이 변경"
      ]
    },
    {
      "cell_type": "code",
      "metadata": {
        "colab": {
          "base_uri": "https://localhost:8080/",
          "height": 266
        },
        "id": "sQCHiwsyCWjr",
        "outputId": "e42c19e8-fbe9-46ba-cfdc-f22a2518b004"
      },
      "source": [
        "df_KTX[['동해선 KTX', '전라선 KTX', '경전선 KTX', '호남선 KTX', '경부선 KTX']]"
      ],
      "execution_count": null,
      "outputs": [
        {
          "output_type": "execute_result",
          "data": {
            "text/html": [
              "<div>\n",
              "<style scoped>\n",
              "    .dataframe tbody tr th:only-of-type {\n",
              "        vertical-align: middle;\n",
              "    }\n",
              "\n",
              "    .dataframe tbody tr th {\n",
              "        vertical-align: top;\n",
              "    }\n",
              "\n",
              "    .dataframe thead th {\n",
              "        text-align: right;\n",
              "    }\n",
              "</style>\n",
              "<table border=\"1\" class=\"dataframe\">\n",
              "  <thead>\n",
              "    <tr style=\"text-align: right;\">\n",
              "      <th></th>\n",
              "      <th>동해선 KTX</th>\n",
              "      <th>전라선 KTX</th>\n",
              "      <th>경전선 KTX</th>\n",
              "      <th>호남선 KTX</th>\n",
              "      <th>경부선 KTX</th>\n",
              "    </tr>\n",
              "  </thead>\n",
              "  <tbody>\n",
              "    <tr>\n",
              "      <th>2011</th>\n",
              "      <td>NaN</td>\n",
              "      <td>309</td>\n",
              "      <td>3627</td>\n",
              "      <td>7313</td>\n",
              "      <td>NaN</td>\n",
              "    </tr>\n",
              "    <tr>\n",
              "      <th>2012</th>\n",
              "      <td>NaN</td>\n",
              "      <td>1771</td>\n",
              "      <td>4168</td>\n",
              "      <td>6967</td>\n",
              "      <td>NaN</td>\n",
              "    </tr>\n",
              "    <tr>\n",
              "      <th>2013</th>\n",
              "      <td>NaN</td>\n",
              "      <td>1954</td>\n",
              "      <td>4088</td>\n",
              "      <td>6873</td>\n",
              "      <td>NaN</td>\n",
              "    </tr>\n",
              "    <tr>\n",
              "      <th>2014</th>\n",
              "      <td>NaN</td>\n",
              "      <td>2244</td>\n",
              "      <td>4424</td>\n",
              "      <td>6626</td>\n",
              "      <td>NaN</td>\n",
              "    </tr>\n",
              "    <tr>\n",
              "      <th>2015</th>\n",
              "      <td>NaN</td>\n",
              "      <td>3146</td>\n",
              "      <td>4606</td>\n",
              "      <td>8675</td>\n",
              "      <td>2395.0</td>\n",
              "    </tr>\n",
              "    <tr>\n",
              "      <th>2016</th>\n",
              "      <td>NaN</td>\n",
              "      <td>3945</td>\n",
              "      <td>4984</td>\n",
              "      <td>10622</td>\n",
              "      <td>3786.0</td>\n",
              "    </tr>\n",
              "    <tr>\n",
              "      <th>2017</th>\n",
              "      <td>NaN</td>\n",
              "      <td>5766</td>\n",
              "      <td>5570</td>\n",
              "      <td>9228</td>\n",
              "      <td>6667.0</td>\n",
              "    </tr>\n",
              "  </tbody>\n",
              "</table>\n",
              "</div>"
            ],
            "text/plain": [
              "     동해선 KTX  전라선 KTX  경전선 KTX  호남선 KTX  경부선 KTX\n",
              "2011     NaN      309     3627     7313      NaN\n",
              "2012     NaN     1771     4168     6967      NaN\n",
              "2013     NaN     1954     4088     6873      NaN\n",
              "2014     NaN     2244     4424     6626      NaN\n",
              "2015     NaN     3146     4606     8675   2395.0\n",
              "2016     NaN     3945     4984    10622   3786.0\n",
              "2017     NaN     5766     5570     9228   6667.0"
            ]
          },
          "metadata": {
            "tags": []
          },
          "execution_count": 131
        }
      ]
    },
    {
      "cell_type": "markdown",
      "metadata": {
        "id": "ZuOmOW8HCoqk"
      },
      "source": [
        "# 데이터 통합하기\n",
        "## 데이터 통합하기\n",
        "- 두 개의 데이터를 하나로 통합하는 방법\n",
        "- 통합 방법에는 세로로 증가하는 방향으로 통합하기\n",
        "- 가로로 증가하는 방향으로 통합하기\n",
        "- 특정 열을 기준으로 통합하는 방법\n",
        "\n",
        "## 세로 방향으로 통합하기\n",
        "- DataFrame에서 columns가 같은 두 데이터를 세로 방향(index 증가 방향)으로 합하려면\n",
        "- 'append()'를 이용\n",
        "- DataFrame_data1.append(DataFrame_data2[ignore_index=true])\n",
        "- 세로 방향으로 DataFrame_data1 다음에 DataFrame_data2가 추가돼서 DataFrame 데이터로 반환\n",
        "-'ignore_index = true'를 입력하지 않으면 생성된 DataFrame 데이터에는 기존의 데이터의 index가 그대로 유지되고\n",
        "- 'ignore_index = true'를 입력하면 생성된 DataFrame 데이터에는 데이터 순서대로 새로운 index값을 할당 \n",
        "\n",
        "- 두 학급의 시험 점수가 담긴 DataFrame 데이터 df1을 다음과 같이 생\n"
      ]
    },
    {
      "cell_type": "code",
      "metadata": {
        "colab": {
          "base_uri": "https://localhost:8080/",
          "height": 173
        },
        "id": "JSu05sDuIXA7",
        "outputId": "aa77e15f-a0f4-4298-9100-b5111bf802ed"
      },
      "source": [
        "import pandas as pd\n",
        "import numpy as np\n",
        "\n",
        "df1 = pd.DataFrame({'class1': [95,92,98,100],\n",
        "                    'class2': [91,93,97,99]})\n",
        "df1"
      ],
      "execution_count": 4,
      "outputs": [
        {
          "output_type": "execute_result",
          "data": {
            "text/html": [
              "<div>\n",
              "<style scoped>\n",
              "    .dataframe tbody tr th:only-of-type {\n",
              "        vertical-align: middle;\n",
              "    }\n",
              "\n",
              "    .dataframe tbody tr th {\n",
              "        vertical-align: top;\n",
              "    }\n",
              "\n",
              "    .dataframe thead th {\n",
              "        text-align: right;\n",
              "    }\n",
              "</style>\n",
              "<table border=\"1\" class=\"dataframe\">\n",
              "  <thead>\n",
              "    <tr style=\"text-align: right;\">\n",
              "      <th></th>\n",
              "      <th>class1</th>\n",
              "      <th>class2</th>\n",
              "    </tr>\n",
              "  </thead>\n",
              "  <tbody>\n",
              "    <tr>\n",
              "      <th>0</th>\n",
              "      <td>95</td>\n",
              "      <td>91</td>\n",
              "    </tr>\n",
              "    <tr>\n",
              "      <th>1</th>\n",
              "      <td>92</td>\n",
              "      <td>93</td>\n",
              "    </tr>\n",
              "    <tr>\n",
              "      <th>2</th>\n",
              "      <td>98</td>\n",
              "      <td>97</td>\n",
              "    </tr>\n",
              "    <tr>\n",
              "      <th>3</th>\n",
              "      <td>100</td>\n",
              "      <td>99</td>\n",
              "    </tr>\n",
              "  </tbody>\n",
              "</table>\n",
              "</div>"
            ],
            "text/plain": [
              "   class1  class2\n",
              "0      95      91\n",
              "1      92      93\n",
              "2      98      97\n",
              "3     100      99"
            ]
          },
          "metadata": {
            "tags": []
          },
          "execution_count": 4
        }
      ]
    },
    {
      "cell_type": "markdown",
      "metadata": {
        "id": "N8JVLrDFJTrE"
      },
      "source": [
        "- 각각 두명의 학생이 전학을 와서 다음과 같이 DataFrame 데이터 df2를 추가로 생성"
      ]
    },
    {
      "cell_type": "code",
      "metadata": {
        "colab": {
          "base_uri": "https://localhost:8080/",
          "height": 111
        },
        "id": "3akeiXDNJSN0",
        "outputId": "dc675fdb-6697-4611-db62-d2ddb415ae9b"
      },
      "source": [
        "df2 = pd.DataFrame({'class1' : [87,89],\n",
        "                    'class2' : [85,90]})\n",
        "df2"
      ],
      "execution_count": 6,
      "outputs": [
        {
          "output_type": "execute_result",
          "data": {
            "text/html": [
              "<div>\n",
              "<style scoped>\n",
              "    .dataframe tbody tr th:only-of-type {\n",
              "        vertical-align: middle;\n",
              "    }\n",
              "\n",
              "    .dataframe tbody tr th {\n",
              "        vertical-align: top;\n",
              "    }\n",
              "\n",
              "    .dataframe thead th {\n",
              "        text-align: right;\n",
              "    }\n",
              "</style>\n",
              "<table border=\"1\" class=\"dataframe\">\n",
              "  <thead>\n",
              "    <tr style=\"text-align: right;\">\n",
              "      <th></th>\n",
              "      <th>class1</th>\n",
              "      <th>class2</th>\n",
              "    </tr>\n",
              "  </thead>\n",
              "  <tbody>\n",
              "    <tr>\n",
              "      <th>0</th>\n",
              "      <td>87</td>\n",
              "      <td>85</td>\n",
              "    </tr>\n",
              "    <tr>\n",
              "      <th>1</th>\n",
              "      <td>89</td>\n",
              "      <td>90</td>\n",
              "    </tr>\n",
              "  </tbody>\n",
              "</table>\n",
              "</div>"
            ],
            "text/plain": [
              "   class1  class2\n",
              "0      87      85\n",
              "1      89      90"
            ]
          },
          "metadata": {
            "tags": []
          },
          "execution_count": 6
        }
      ]
    },
    {
      "cell_type": "markdown",
      "metadata": {
        "id": "cTm8IMZdJkZV"
      },
      "source": [
        "- append() 이용하여 df1에 df2를 추가해서 데이터를 하나로 만들기"
      ]
    },
    {
      "cell_type": "code",
      "metadata": {
        "colab": {
          "base_uri": "https://localhost:8080/",
          "height": 235
        },
        "id": "1kPl0u8yCnAs",
        "outputId": "01bec29a-3bc5-4b07-f514-5a290df4dbea"
      },
      "source": [
        "df1.append(df2)"
      ],
      "execution_count": 7,
      "outputs": [
        {
          "output_type": "execute_result",
          "data": {
            "text/html": [
              "<div>\n",
              "<style scoped>\n",
              "    .dataframe tbody tr th:only-of-type {\n",
              "        vertical-align: middle;\n",
              "    }\n",
              "\n",
              "    .dataframe tbody tr th {\n",
              "        vertical-align: top;\n",
              "    }\n",
              "\n",
              "    .dataframe thead th {\n",
              "        text-align: right;\n",
              "    }\n",
              "</style>\n",
              "<table border=\"1\" class=\"dataframe\">\n",
              "  <thead>\n",
              "    <tr style=\"text-align: right;\">\n",
              "      <th></th>\n",
              "      <th>class1</th>\n",
              "      <th>class2</th>\n",
              "    </tr>\n",
              "  </thead>\n",
              "  <tbody>\n",
              "    <tr>\n",
              "      <th>0</th>\n",
              "      <td>95</td>\n",
              "      <td>91</td>\n",
              "    </tr>\n",
              "    <tr>\n",
              "      <th>1</th>\n",
              "      <td>92</td>\n",
              "      <td>93</td>\n",
              "    </tr>\n",
              "    <tr>\n",
              "      <th>2</th>\n",
              "      <td>98</td>\n",
              "      <td>97</td>\n",
              "    </tr>\n",
              "    <tr>\n",
              "      <th>3</th>\n",
              "      <td>100</td>\n",
              "      <td>99</td>\n",
              "    </tr>\n",
              "    <tr>\n",
              "      <th>0</th>\n",
              "      <td>87</td>\n",
              "      <td>85</td>\n",
              "    </tr>\n",
              "    <tr>\n",
              "      <th>1</th>\n",
              "      <td>89</td>\n",
              "      <td>90</td>\n",
              "    </tr>\n",
              "  </tbody>\n",
              "</table>\n",
              "</div>"
            ],
            "text/plain": [
              "   class1  class2\n",
              "0      95      91\n",
              "1      92      93\n",
              "2      98      97\n",
              "3     100      99\n",
              "0      87      85\n",
              "1      89      90"
            ]
          },
          "metadata": {
            "tags": []
          },
          "execution_count": 7
        }
      ]
    },
    {
      "cell_type": "markdown",
      "metadata": {
        "id": "LDee6MTOKP5s"
      },
      "source": [
        "- 기존 데이터 df1에 세로 방향으로 df2가 추가됐는데 생성된 데이터의 index()가 기존의 index와 같은 것을 볼 수 잇음\n",
        "- 생성된 데이터에서 순차적으로 index가 증가하게 하려면 옵션으로 'ignore, index=ture'를 입력"
      ]
    },
    {
      "cell_type": "code",
      "metadata": {
        "colab": {
          "base_uri": "https://localhost:8080/",
          "height": 235
        },
        "id": "_dxYeMKeJp1x",
        "outputId": "3630e35a-77da-45ea-b23b-6757fbde85e0"
      },
      "source": [
        "df1.append (df2, ignore_index = True)"
      ],
      "execution_count": 8,
      "outputs": [
        {
          "output_type": "execute_result",
          "data": {
            "text/html": [
              "<div>\n",
              "<style scoped>\n",
              "    .dataframe tbody tr th:only-of-type {\n",
              "        vertical-align: middle;\n",
              "    }\n",
              "\n",
              "    .dataframe tbody tr th {\n",
              "        vertical-align: top;\n",
              "    }\n",
              "\n",
              "    .dataframe thead th {\n",
              "        text-align: right;\n",
              "    }\n",
              "</style>\n",
              "<table border=\"1\" class=\"dataframe\">\n",
              "  <thead>\n",
              "    <tr style=\"text-align: right;\">\n",
              "      <th></th>\n",
              "      <th>class1</th>\n",
              "      <th>class2</th>\n",
              "    </tr>\n",
              "  </thead>\n",
              "  <tbody>\n",
              "    <tr>\n",
              "      <th>0</th>\n",
              "      <td>95</td>\n",
              "      <td>91</td>\n",
              "    </tr>\n",
              "    <tr>\n",
              "      <th>1</th>\n",
              "      <td>92</td>\n",
              "      <td>93</td>\n",
              "    </tr>\n",
              "    <tr>\n",
              "      <th>2</th>\n",
              "      <td>98</td>\n",
              "      <td>97</td>\n",
              "    </tr>\n",
              "    <tr>\n",
              "      <th>3</th>\n",
              "      <td>100</td>\n",
              "      <td>99</td>\n",
              "    </tr>\n",
              "    <tr>\n",
              "      <th>4</th>\n",
              "      <td>87</td>\n",
              "      <td>85</td>\n",
              "    </tr>\n",
              "    <tr>\n",
              "      <th>5</th>\n",
              "      <td>89</td>\n",
              "      <td>90</td>\n",
              "    </tr>\n",
              "  </tbody>\n",
              "</table>\n",
              "</div>"
            ],
            "text/plain": [
              "   class1  class2\n",
              "0      95      91\n",
              "1      92      93\n",
              "2      98      97\n",
              "3     100      99\n",
              "4      87      85\n",
              "5      89      90"
            ]
          },
          "metadata": {
            "tags": []
          },
          "execution_count": 8
        }
      ]
    },
    {
      "cell_type": "markdown",
      "metadata": {
        "id": "-DPVETBoxMCH"
      },
      "source": [
        "- columns가 같지 않은 DataFrame 데이터를 'append()'를 이용해 추가한다면 데이터가 없는 부분은 NaN으로 채워짐"
      ]
    },
    {
      "cell_type": "code",
      "metadata": {
        "id": "P_w1jgukPnpb",
        "colab": {
          "base_uri": "https://localhost:8080/",
          "height": 111
        },
        "outputId": "0c2ab139-e372-412d-a37b-cc94f4504ec7"
      },
      "source": [
        "df3 = pd.DataFrame({'class1':[96, 83]})\n",
        "df3"
      ],
      "execution_count": 10,
      "outputs": [
        {
          "output_type": "execute_result",
          "data": {
            "text/html": [
              "<div>\n",
              "<style scoped>\n",
              "    .dataframe tbody tr th:only-of-type {\n",
              "        vertical-align: middle;\n",
              "    }\n",
              "\n",
              "    .dataframe tbody tr th {\n",
              "        vertical-align: top;\n",
              "    }\n",
              "\n",
              "    .dataframe thead th {\n",
              "        text-align: right;\n",
              "    }\n",
              "</style>\n",
              "<table border=\"1\" class=\"dataframe\">\n",
              "  <thead>\n",
              "    <tr style=\"text-align: right;\">\n",
              "      <th></th>\n",
              "      <th>class1</th>\n",
              "    </tr>\n",
              "  </thead>\n",
              "  <tbody>\n",
              "    <tr>\n",
              "      <th>0</th>\n",
              "      <td>96</td>\n",
              "    </tr>\n",
              "    <tr>\n",
              "      <th>1</th>\n",
              "      <td>83</td>\n",
              "    </tr>\n",
              "  </tbody>\n",
              "</table>\n",
              "</div>"
            ],
            "text/plain": [
              "   class1\n",
              "0      96\n",
              "1      83"
            ]
          },
          "metadata": {
            "tags": []
          },
          "execution_count": 10
        }
      ]
    },
    {
      "cell_type": "markdown",
      "metadata": {
        "id": "0cay_PlRxuLj"
      },
      "source": [
        "- 열이 두개인 DataFrame 데이터(df2)에 열이 하나인 DataFrame 데이터(df3)를 추가"
      ]
    },
    {
      "cell_type": "code",
      "metadata": {
        "colab": {
          "base_uri": "https://localhost:8080/",
          "height": 173
        },
        "id": "6oTbUIuUxtnY",
        "outputId": "2118264e-9c59-46fd-825b-46ea4810ff04"
      },
      "source": [
        "df2.append(df3, ignore_index=True)"
      ],
      "execution_count": 13,
      "outputs": [
        {
          "output_type": "execute_result",
          "data": {
            "text/html": [
              "<div>\n",
              "<style scoped>\n",
              "    .dataframe tbody tr th:only-of-type {\n",
              "        vertical-align: middle;\n",
              "    }\n",
              "\n",
              "    .dataframe tbody tr th {\n",
              "        vertical-align: top;\n",
              "    }\n",
              "\n",
              "    .dataframe thead th {\n",
              "        text-align: right;\n",
              "    }\n",
              "</style>\n",
              "<table border=\"1\" class=\"dataframe\">\n",
              "  <thead>\n",
              "    <tr style=\"text-align: right;\">\n",
              "      <th></th>\n",
              "      <th>class1</th>\n",
              "      <th>class2</th>\n",
              "    </tr>\n",
              "  </thead>\n",
              "  <tbody>\n",
              "    <tr>\n",
              "      <th>0</th>\n",
              "      <td>87</td>\n",
              "      <td>85.0</td>\n",
              "    </tr>\n",
              "    <tr>\n",
              "      <th>1</th>\n",
              "      <td>89</td>\n",
              "      <td>90.0</td>\n",
              "    </tr>\n",
              "    <tr>\n",
              "      <th>2</th>\n",
              "      <td>96</td>\n",
              "      <td>NaN</td>\n",
              "    </tr>\n",
              "    <tr>\n",
              "      <th>3</th>\n",
              "      <td>83</td>\n",
              "      <td>NaN</td>\n",
              "    </tr>\n",
              "  </tbody>\n",
              "</table>\n",
              "</div>"
            ],
            "text/plain": [
              "   class1  class2\n",
              "0      87    85.0\n",
              "1      89    90.0\n",
              "2      96     NaN\n",
              "3      83     NaN"
            ]
          },
          "metadata": {
            "tags": []
          },
          "execution_count": 13
        }
      ]
    },
    {
      "cell_type": "markdown",
      "metadata": {
        "id": "AwlZLmdayVTB"
      },
      "source": [
        "## 가로 방향으로 통합하기\n",
        "- columns가 같은 두 DataFrame 데이터에 대해 세로 방향(index 증가방향)으로 데이터를 추가하는 방법\n",
        "- index가 같은 두 DataFrame 데이터에 대해 가로 방향(columns 증가 방향)에 새로운 데이터를 추가하는 방법\n",
        "- 두 개의 DataFrame 데이터를 가로 방향으로 합치려면 다음과 같이 'join()'을 이용\n",
        "- DataFrame_data1.join(DAtaFrame_data2)\n",
        "- DataFrame_data1 다음에 가로 방향으로 DataFrame_data2가 추가돼서 DataFrame 데이터로 반환\n",
        "\n",
        "- 'join()'을 이용\n",
        "- df1과 index 방향으로 크기가 같은 DataFrame 데이터 하나를 생성"
      ]
    },
    {
      "cell_type": "code",
      "metadata": {
        "id": "SRKu8gIoKz1I",
        "colab": {
          "base_uri": "https://localhost:8080/",
          "height": 173
        },
        "outputId": "846f0644-e2db-4a13-b732-fd17ee4b4ed3"
      },
      "source": [
        "df4 = pd.DataFrame({'class3':[93,91,95,98]})\n",
        "df4"
      ],
      "execution_count": 14,
      "outputs": [
        {
          "output_type": "execute_result",
          "data": {
            "text/html": [
              "<div>\n",
              "<style scoped>\n",
              "    .dataframe tbody tr th:only-of-type {\n",
              "        vertical-align: middle;\n",
              "    }\n",
              "\n",
              "    .dataframe tbody tr th {\n",
              "        vertical-align: top;\n",
              "    }\n",
              "\n",
              "    .dataframe thead th {\n",
              "        text-align: right;\n",
              "    }\n",
              "</style>\n",
              "<table border=\"1\" class=\"dataframe\">\n",
              "  <thead>\n",
              "    <tr style=\"text-align: right;\">\n",
              "      <th></th>\n",
              "      <th>class3</th>\n",
              "    </tr>\n",
              "  </thead>\n",
              "  <tbody>\n",
              "    <tr>\n",
              "      <th>0</th>\n",
              "      <td>93</td>\n",
              "    </tr>\n",
              "    <tr>\n",
              "      <th>1</th>\n",
              "      <td>91</td>\n",
              "    </tr>\n",
              "    <tr>\n",
              "      <th>2</th>\n",
              "      <td>95</td>\n",
              "    </tr>\n",
              "    <tr>\n",
              "      <th>3</th>\n",
              "      <td>98</td>\n",
              "    </tr>\n",
              "  </tbody>\n",
              "</table>\n",
              "</div>"
            ],
            "text/plain": [
              "   class3\n",
              "0      93\n",
              "1      91\n",
              "2      95\n",
              "3      98"
            ]
          },
          "metadata": {
            "tags": []
          },
          "execution_count": 14
        }
      ]
    },
    {
      "cell_type": "markdown",
      "metadata": {
        "id": "UGO-te0G2K2X"
      },
      "source": [
        "- join()을 이용해 df1에 df4를 가로방향으로 추가"
      ]
    },
    {
      "cell_type": "code",
      "metadata": {
        "colab": {
          "base_uri": "https://localhost:8080/",
          "height": 172
        },
        "id": "llIuVJPI2KKH",
        "outputId": "26635594-0547-4430-94c3-2196a9bf6d0e"
      },
      "source": [
        "df1.join(df4)"
      ],
      "execution_count": 2,
      "outputs": [
        {
          "output_type": "error",
          "ename": "NameError",
          "evalue": "ignored",
          "traceback": [
            "\u001b[0;31m---------------------------------------------------------------------------\u001b[0m",
            "\u001b[0;31mNameError\u001b[0m                                 Traceback (most recent call last)",
            "\u001b[0;32m<ipython-input-2-b5fde2936303>\u001b[0m in \u001b[0;36m<module>\u001b[0;34m()\u001b[0m\n\u001b[0;32m----> 1\u001b[0;31m \u001b[0mdf1\u001b[0m\u001b[0;34m.\u001b[0m\u001b[0mjoin\u001b[0m\u001b[0;34m(\u001b[0m\u001b[0mdf4\u001b[0m\u001b[0;34m)\u001b[0m\u001b[0;34m\u001b[0m\u001b[0;34m\u001b[0m\u001b[0m\n\u001b[0m",
            "\u001b[0;31mNameError\u001b[0m: name 'df1' is not defined"
          ]
        }
      ]
    },
    {
      "cell_type": "markdown",
      "metadata": {
        "id": "SqrzWVss2ShE"
      },
      "source": [
        "- index 라벨을 지정한 DataFrame의 데이터의 경우에도 index가 같으면 'join()'을 이용해 가로방향으로 데이터를 추가할 수 있음"
      ]
    },
    {
      "cell_type": "code",
      "metadata": {
        "id": "TIToJYJHKfrf",
        "colab": {
          "base_uri": "https://localhost:8080/",
          "height": 173
        },
        "outputId": "00d5ae8e-14a6-4f2a-fb20-4f6210533e7e"
      },
      "source": [
        "index_label = ['a','b','c','d']\n",
        "df1a = pd.DataFrame({'class1': [95,92,98,100],\n",
        "                     'class2': [91,93,97,99]}, index = index_label)\n",
        "df4a = pd.DataFrame({'class3':[93,91,95,98]}, index= index_label)\n",
        "\n",
        "df1a.join(df4a)"
      ],
      "execution_count": 5,
      "outputs": [
        {
          "output_type": "execute_result",
          "data": {
            "text/html": [
              "<div>\n",
              "<style scoped>\n",
              "    .dataframe tbody tr th:only-of-type {\n",
              "        vertical-align: middle;\n",
              "    }\n",
              "\n",
              "    .dataframe tbody tr th {\n",
              "        vertical-align: top;\n",
              "    }\n",
              "\n",
              "    .dataframe thead th {\n",
              "        text-align: right;\n",
              "    }\n",
              "</style>\n",
              "<table border=\"1\" class=\"dataframe\">\n",
              "  <thead>\n",
              "    <tr style=\"text-align: right;\">\n",
              "      <th></th>\n",
              "      <th>class1</th>\n",
              "      <th>class2</th>\n",
              "      <th>class3</th>\n",
              "    </tr>\n",
              "  </thead>\n",
              "  <tbody>\n",
              "    <tr>\n",
              "      <th>a</th>\n",
              "      <td>95</td>\n",
              "      <td>91</td>\n",
              "      <td>93</td>\n",
              "    </tr>\n",
              "    <tr>\n",
              "      <th>b</th>\n",
              "      <td>92</td>\n",
              "      <td>93</td>\n",
              "      <td>91</td>\n",
              "    </tr>\n",
              "    <tr>\n",
              "      <th>c</th>\n",
              "      <td>98</td>\n",
              "      <td>97</td>\n",
              "      <td>95</td>\n",
              "    </tr>\n",
              "    <tr>\n",
              "      <th>d</th>\n",
              "      <td>100</td>\n",
              "      <td>99</td>\n",
              "      <td>98</td>\n",
              "    </tr>\n",
              "  </tbody>\n",
              "</table>\n",
              "</div>"
            ],
            "text/plain": [
              "   class1  class2  class3\n",
              "a      95      91      93\n",
              "b      92      93      91\n",
              "c      98      97      95\n",
              "d     100      99      98"
            ]
          },
          "metadata": {
            "tags": []
          },
          "execution_count": 5
        }
      ]
    },
    {
      "cell_type": "markdown",
      "metadata": {
        "id": "_zw43uwq3FlB"
      },
      "source": [
        "- index의 크기가 다른 DataFrame 데이터를 'join()'을 이용해 추가한다면 데이터가 없는 부분은 NaN으로 채워짐"
      ]
    },
    {
      "cell_type": "code",
      "metadata": {
        "colab": {
          "base_uri": "https://localhost:8080/",
          "height": 111
        },
        "id": "D8Q4i3-23Dx4",
        "outputId": "1dbfeb7d-7603-4a29-be43-5adaf8a40af2"
      },
      "source": [
        "df5 = pd.DataFrame({'class4':[82,92]})\n",
        "df5"
      ],
      "execution_count": 17,
      "outputs": [
        {
          "output_type": "execute_result",
          "data": {
            "text/html": [
              "<div>\n",
              "<style scoped>\n",
              "    .dataframe tbody tr th:only-of-type {\n",
              "        vertical-align: middle;\n",
              "    }\n",
              "\n",
              "    .dataframe tbody tr th {\n",
              "        vertical-align: top;\n",
              "    }\n",
              "\n",
              "    .dataframe thead th {\n",
              "        text-align: right;\n",
              "    }\n",
              "</style>\n",
              "<table border=\"1\" class=\"dataframe\">\n",
              "  <thead>\n",
              "    <tr style=\"text-align: right;\">\n",
              "      <th></th>\n",
              "      <th>class4</th>\n",
              "    </tr>\n",
              "  </thead>\n",
              "  <tbody>\n",
              "    <tr>\n",
              "      <th>0</th>\n",
              "      <td>82</td>\n",
              "    </tr>\n",
              "    <tr>\n",
              "      <th>1</th>\n",
              "      <td>92</td>\n",
              "    </tr>\n",
              "  </tbody>\n",
              "</table>\n",
              "</div>"
            ],
            "text/plain": [
              "   class4\n",
              "0      82\n",
              "1      92"
            ]
          },
          "metadata": {
            "tags": []
          },
          "execution_count": 17
        }
      ]
    },
    {
      "cell_type": "markdown",
      "metadata": {
        "id": "26gpeREd4Qas"
      },
      "source": [
        "- index의 크기가 2인 DataFrame 데이터(df5)를 'join()'을 이용해 index 크기가 4인 DataFrame 데이터(df1)에 추가"
      ]
    },
    {
      "cell_type": "code",
      "metadata": {
        "colab": {
          "base_uri": "https://localhost:8080/",
          "height": 173
        },
        "id": "dbevX7x_4P0H",
        "outputId": "70c5294c-95ad-4e82-84d2-defe4ef24450"
      },
      "source": [
        "df1.join(df5)"
      ],
      "execution_count": 18,
      "outputs": [
        {
          "output_type": "execute_result",
          "data": {
            "text/html": [
              "<div>\n",
              "<style scoped>\n",
              "    .dataframe tbody tr th:only-of-type {\n",
              "        vertical-align: middle;\n",
              "    }\n",
              "\n",
              "    .dataframe tbody tr th {\n",
              "        vertical-align: top;\n",
              "    }\n",
              "\n",
              "    .dataframe thead th {\n",
              "        text-align: right;\n",
              "    }\n",
              "</style>\n",
              "<table border=\"1\" class=\"dataframe\">\n",
              "  <thead>\n",
              "    <tr style=\"text-align: right;\">\n",
              "      <th></th>\n",
              "      <th>class1</th>\n",
              "      <th>class2</th>\n",
              "      <th>class4</th>\n",
              "    </tr>\n",
              "  </thead>\n",
              "  <tbody>\n",
              "    <tr>\n",
              "      <th>0</th>\n",
              "      <td>95</td>\n",
              "      <td>91</td>\n",
              "      <td>82.0</td>\n",
              "    </tr>\n",
              "    <tr>\n",
              "      <th>1</th>\n",
              "      <td>92</td>\n",
              "      <td>93</td>\n",
              "      <td>92.0</td>\n",
              "    </tr>\n",
              "    <tr>\n",
              "      <th>2</th>\n",
              "      <td>98</td>\n",
              "      <td>97</td>\n",
              "      <td>NaN</td>\n",
              "    </tr>\n",
              "    <tr>\n",
              "      <th>3</th>\n",
              "      <td>100</td>\n",
              "      <td>99</td>\n",
              "      <td>NaN</td>\n",
              "    </tr>\n",
              "  </tbody>\n",
              "</table>\n",
              "</div>"
            ],
            "text/plain": [
              "   class1  class2  class4\n",
              "0      95      91    82.0\n",
              "1      92      93    92.0\n",
              "2      98      97     NaN\n",
              "3     100      99     NaN"
            ]
          },
          "metadata": {
            "tags": []
          },
          "execution_count": 18
        }
      ]
    },
    {
      "cell_type": "markdown",
      "metadata": {
        "id": "7E2rsd2A4cmm"
      },
      "source": [
        "- index의 크기가 작은 DataFrame 데이터에서 원소가 없는 부분은 NaN으로 채워짐\n",
        "\n",
        "## 특정 열을 기준으로 통합하기\n",
        "- 두 개의 DataFrame 데이터를 특정 열을 기준으로 통합\n",
        "- 특정 열을 키(key)라고 함\n",
        "- 두개의 DataFrame 데이터에 공통된 열이 있다면 이 열을 기준으로 두 데이터를 다음과 같은 방법으로 통합\n",
        "- DataFrame_left_data.merge(DataFrame_right_data)\n",
        "- 왼쪽 데이터(DataFrame_left_data)와 오른쪽 데이터(DataFrame_right_data)가 공통된 열(key)을 중심으로 좌우로 통합\n",
        "\n",
        "- 우선 두 개의 DataFrame 데이터를 생성\n"
      ]
    },
    {
      "cell_type": "code",
      "metadata": {
        "colab": {
          "base_uri": "https://localhost:8080/",
          "height": 173
        },
        "id": "Oh1pJTx24cDB",
        "outputId": "940133cd-68c4-4cfa-d965-d942d1fb3542"
      },
      "source": [
        "df_A_B = pd.DataFrame({'판매월': ['1월','2월','3월','4월'],\n",
        "                       '제품A': [100, 150, 200, 130],\n",
        "                       '제품B': [90,110,140,170]})\n",
        "df_A_B"
      ],
      "execution_count": 6,
      "outputs": [
        {
          "output_type": "execute_result",
          "data": {
            "text/html": [
              "<div>\n",
              "<style scoped>\n",
              "    .dataframe tbody tr th:only-of-type {\n",
              "        vertical-align: middle;\n",
              "    }\n",
              "\n",
              "    .dataframe tbody tr th {\n",
              "        vertical-align: top;\n",
              "    }\n",
              "\n",
              "    .dataframe thead th {\n",
              "        text-align: right;\n",
              "    }\n",
              "</style>\n",
              "<table border=\"1\" class=\"dataframe\">\n",
              "  <thead>\n",
              "    <tr style=\"text-align: right;\">\n",
              "      <th></th>\n",
              "      <th>판매월</th>\n",
              "      <th>제품A</th>\n",
              "      <th>제품B</th>\n",
              "    </tr>\n",
              "  </thead>\n",
              "  <tbody>\n",
              "    <tr>\n",
              "      <th>0</th>\n",
              "      <td>1월</td>\n",
              "      <td>100</td>\n",
              "      <td>90</td>\n",
              "    </tr>\n",
              "    <tr>\n",
              "      <th>1</th>\n",
              "      <td>2월</td>\n",
              "      <td>150</td>\n",
              "      <td>110</td>\n",
              "    </tr>\n",
              "    <tr>\n",
              "      <th>2</th>\n",
              "      <td>3월</td>\n",
              "      <td>200</td>\n",
              "      <td>140</td>\n",
              "    </tr>\n",
              "    <tr>\n",
              "      <th>3</th>\n",
              "      <td>4월</td>\n",
              "      <td>130</td>\n",
              "      <td>170</td>\n",
              "    </tr>\n",
              "  </tbody>\n",
              "</table>\n",
              "</div>"
            ],
            "text/plain": [
              "  판매월  제품A  제품B\n",
              "0  1월  100   90\n",
              "1  2월  150  110\n",
              "2  3월  200  140\n",
              "3  4월  130  170"
            ]
          },
          "metadata": {
            "tags": []
          },
          "execution_count": 6
        }
      ]
    },
    {
      "cell_type": "code",
      "metadata": {
        "colab": {
          "base_uri": "https://localhost:8080/",
          "height": 173
        },
        "id": "-H2oCFe83dfo",
        "outputId": "817c9c23-2e0e-4cbd-be16-295db0c2dd44"
      },
      "source": [
        "df_C_D = pd.DataFrame({'판매월': ['1월','2월','3월','4월'],\n",
        "                       '제품C': [112, 151, 203, 134],\n",
        "                       '제품D': [90,110,140,170]})\n",
        "df_C_D"
      ],
      "execution_count": 7,
      "outputs": [
        {
          "output_type": "execute_result",
          "data": {
            "text/html": [
              "<div>\n",
              "<style scoped>\n",
              "    .dataframe tbody tr th:only-of-type {\n",
              "        vertical-align: middle;\n",
              "    }\n",
              "\n",
              "    .dataframe tbody tr th {\n",
              "        vertical-align: top;\n",
              "    }\n",
              "\n",
              "    .dataframe thead th {\n",
              "        text-align: right;\n",
              "    }\n",
              "</style>\n",
              "<table border=\"1\" class=\"dataframe\">\n",
              "  <thead>\n",
              "    <tr style=\"text-align: right;\">\n",
              "      <th></th>\n",
              "      <th>판매월</th>\n",
              "      <th>제품C</th>\n",
              "      <th>제품D</th>\n",
              "    </tr>\n",
              "  </thead>\n",
              "  <tbody>\n",
              "    <tr>\n",
              "      <th>0</th>\n",
              "      <td>1월</td>\n",
              "      <td>112</td>\n",
              "      <td>90</td>\n",
              "    </tr>\n",
              "    <tr>\n",
              "      <th>1</th>\n",
              "      <td>2월</td>\n",
              "      <td>151</td>\n",
              "      <td>110</td>\n",
              "    </tr>\n",
              "    <tr>\n",
              "      <th>2</th>\n",
              "      <td>3월</td>\n",
              "      <td>203</td>\n",
              "      <td>140</td>\n",
              "    </tr>\n",
              "    <tr>\n",
              "      <th>3</th>\n",
              "      <td>4월</td>\n",
              "      <td>134</td>\n",
              "      <td>170</td>\n",
              "    </tr>\n",
              "  </tbody>\n",
              "</table>\n",
              "</div>"
            ],
            "text/plain": [
              "  판매월  제품C  제품D\n",
              "0  1월  112   90\n",
              "1  2월  151  110\n",
              "2  3월  203  140\n",
              "3  4월  134  170"
            ]
          },
          "metadata": {
            "tags": []
          },
          "execution_count": 7
        }
      ]
    },
    {
      "cell_type": "markdown",
      "metadata": {
        "id": "mZW0dpd45yvf"
      },
      "source": [
        "- DataFrame 데이터 df_A_B와 Df_C_D에 모두 있는 것이 '판매월'인 열 데이터 이므로 이를 중심으로 두 DataFrame 데이터를 통합"
      ]
    },
    {
      "cell_type": "code",
      "metadata": {
        "colab": {
          "base_uri": "https://localhost:8080/",
          "height": 173
        },
        "id": "GULwoU3q57hf",
        "outputId": "3809b753-d353-467f-83ec-9c3bf8920055"
      },
      "source": [
        "df_A_B.merge(df_C_D)"
      ],
      "execution_count": 8,
      "outputs": [
        {
          "output_type": "execute_result",
          "data": {
            "text/html": [
              "<div>\n",
              "<style scoped>\n",
              "    .dataframe tbody tr th:only-of-type {\n",
              "        vertical-align: middle;\n",
              "    }\n",
              "\n",
              "    .dataframe tbody tr th {\n",
              "        vertical-align: top;\n",
              "    }\n",
              "\n",
              "    .dataframe thead th {\n",
              "        text-align: right;\n",
              "    }\n",
              "</style>\n",
              "<table border=\"1\" class=\"dataframe\">\n",
              "  <thead>\n",
              "    <tr style=\"text-align: right;\">\n",
              "      <th></th>\n",
              "      <th>판매월</th>\n",
              "      <th>제품A</th>\n",
              "      <th>제품B</th>\n",
              "      <th>제품C</th>\n",
              "      <th>제품D</th>\n",
              "    </tr>\n",
              "  </thead>\n",
              "  <tbody>\n",
              "    <tr>\n",
              "      <th>0</th>\n",
              "      <td>1월</td>\n",
              "      <td>100</td>\n",
              "      <td>90</td>\n",
              "      <td>112</td>\n",
              "      <td>90</td>\n",
              "    </tr>\n",
              "    <tr>\n",
              "      <th>1</th>\n",
              "      <td>2월</td>\n",
              "      <td>150</td>\n",
              "      <td>110</td>\n",
              "      <td>151</td>\n",
              "      <td>110</td>\n",
              "    </tr>\n",
              "    <tr>\n",
              "      <th>2</th>\n",
              "      <td>3월</td>\n",
              "      <td>200</td>\n",
              "      <td>140</td>\n",
              "      <td>203</td>\n",
              "      <td>140</td>\n",
              "    </tr>\n",
              "    <tr>\n",
              "      <th>3</th>\n",
              "      <td>4월</td>\n",
              "      <td>130</td>\n",
              "      <td>170</td>\n",
              "      <td>134</td>\n",
              "      <td>170</td>\n",
              "    </tr>\n",
              "  </tbody>\n",
              "</table>\n",
              "</div>"
            ],
            "text/plain": [
              "  판매월  제품A  제품B  제품C  제품D\n",
              "0  1월  100   90  112   90\n",
              "1  2월  150  110  151  110\n",
              "2  3월  200  140  203  140\n",
              "3  4월  130  170  134  170"
            ]
          },
          "metadata": {
            "tags": []
          },
          "execution_count": 8
        }
      ]
    },
    {
      "cell_type": "markdown",
      "metadata": {
        "id": "aPKyNc4C6CeT"
      },
      "source": [
        "- 두 데이터가 '판매월'을 기준으로 통합\n",
        "- 특정 열을 기준으로 두 DataFrame 데이터가 모두 값을 갖고 있을 때 특정 열을 기준으로 통합\n",
        "\n",
        "- 두 개의 DataFrame 데이터가 특정 열을 기준으로 일부만 공통된 값을 갖는 경우에 통합\n",
        "- 'merge()'에 선택 인자를 지정\n",
        "- DataFrame_left_data.merge(DateFrame_right_data, how=merge_method, on=key_label)\n",
        "- on 인자에는 통합하려는 기준이 되는 특정 열(key)의 라벨 이름(key_label)을 입력\n",
        "- on 인자를 입력하지 않으면 자동으로 두 데이터에서 공통적으로 포함된 열이 선택\n",
        "- how 인자에는 지정된 특정 열(key)를 기준으로 통합 방법(mergemethod)을 지정\n",
        "\n",
        "- 두개의 DataFrame 데이터를 생성"
      ]
    },
    {
      "cell_type": "code",
      "metadata": {
        "colab": {
          "base_uri": "https://localhost:8080/",
          "height": 142
        },
        "id": "lL8lP4Q06tcc",
        "outputId": "96461a2c-d7fc-4721-b642-fb2a2820ed8e"
      },
      "source": [
        "df_left = pd.DataFrame({'key': ['A','B','C'], 'left': [1,2,3]})\n",
        "df_left"
      ],
      "execution_count": 9,
      "outputs": [
        {
          "output_type": "execute_result",
          "data": {
            "text/html": [
              "<div>\n",
              "<style scoped>\n",
              "    .dataframe tbody tr th:only-of-type {\n",
              "        vertical-align: middle;\n",
              "    }\n",
              "\n",
              "    .dataframe tbody tr th {\n",
              "        vertical-align: top;\n",
              "    }\n",
              "\n",
              "    .dataframe thead th {\n",
              "        text-align: right;\n",
              "    }\n",
              "</style>\n",
              "<table border=\"1\" class=\"dataframe\">\n",
              "  <thead>\n",
              "    <tr style=\"text-align: right;\">\n",
              "      <th></th>\n",
              "      <th>key</th>\n",
              "      <th>left</th>\n",
              "    </tr>\n",
              "  </thead>\n",
              "  <tbody>\n",
              "    <tr>\n",
              "      <th>0</th>\n",
              "      <td>A</td>\n",
              "      <td>1</td>\n",
              "    </tr>\n",
              "    <tr>\n",
              "      <th>1</th>\n",
              "      <td>B</td>\n",
              "      <td>2</td>\n",
              "    </tr>\n",
              "    <tr>\n",
              "      <th>2</th>\n",
              "      <td>C</td>\n",
              "      <td>3</td>\n",
              "    </tr>\n",
              "  </tbody>\n",
              "</table>\n",
              "</div>"
            ],
            "text/plain": [
              "  key  left\n",
              "0   A     1\n",
              "1   B     2\n",
              "2   C     3"
            ]
          },
          "metadata": {
            "tags": []
          },
          "execution_count": 9
        }
      ]
    },
    {
      "cell_type": "code",
      "metadata": {
        "colab": {
          "base_uri": "https://localhost:8080/",
          "height": 142
        },
        "id": "z6e_XC1T6-8e",
        "outputId": "2ddd659b-abb9-486e-ec6c-7ac6eb4fb6eb"
      },
      "source": [
        "df_right = pd.DataFrame({'key': ['A','B','D'], 'right': [4,5,6]})\n",
        "df_right"
      ],
      "execution_count": 10,
      "outputs": [
        {
          "output_type": "execute_result",
          "data": {
            "text/html": [
              "<div>\n",
              "<style scoped>\n",
              "    .dataframe tbody tr th:only-of-type {\n",
              "        vertical-align: middle;\n",
              "    }\n",
              "\n",
              "    .dataframe tbody tr th {\n",
              "        vertical-align: top;\n",
              "    }\n",
              "\n",
              "    .dataframe thead th {\n",
              "        text-align: right;\n",
              "    }\n",
              "</style>\n",
              "<table border=\"1\" class=\"dataframe\">\n",
              "  <thead>\n",
              "    <tr style=\"text-align: right;\">\n",
              "      <th></th>\n",
              "      <th>key</th>\n",
              "      <th>right</th>\n",
              "    </tr>\n",
              "  </thead>\n",
              "  <tbody>\n",
              "    <tr>\n",
              "      <th>0</th>\n",
              "      <td>A</td>\n",
              "      <td>4</td>\n",
              "    </tr>\n",
              "    <tr>\n",
              "      <th>1</th>\n",
              "      <td>B</td>\n",
              "      <td>5</td>\n",
              "    </tr>\n",
              "    <tr>\n",
              "      <th>2</th>\n",
              "      <td>D</td>\n",
              "      <td>6</td>\n",
              "    </tr>\n",
              "  </tbody>\n",
              "</table>\n",
              "</div>"
            ],
            "text/plain": [
              "  key  right\n",
              "0   A      4\n",
              "1   B      5\n",
              "2   D      6"
            ]
          },
          "metadata": {
            "tags": []
          },
          "execution_count": 10
        }
      ]
    },
    {
      "cell_type": "markdown",
      "metadata": {
        "id": "E2SipxKf7bsY"
      },
      "source": [
        "- 두개의 데이터 (df_left와 df_right)에서 특정 열(key)의 일부(A,B) 데이터는 공통으로 있고 나머지 (C와 D는 각각 한쪽에만 있음"
      ]
    },
    {
      "cell_type": "code",
      "metadata": {
        "colab": {
          "base_uri": "https://localhost:8080/",
          "height": 142
        },
        "id": "AfpUSU4s7bCX",
        "outputId": "ee1d3e5f-c523-4140-9263-bb3e2edec6bc"
      },
      "source": [
        "df_left.merge(df_right, how = 'left', on ='key')"
      ],
      "execution_count": 11,
      "outputs": [
        {
          "output_type": "execute_result",
          "data": {
            "text/html": [
              "<div>\n",
              "<style scoped>\n",
              "    .dataframe tbody tr th:only-of-type {\n",
              "        vertical-align: middle;\n",
              "    }\n",
              "\n",
              "    .dataframe tbody tr th {\n",
              "        vertical-align: top;\n",
              "    }\n",
              "\n",
              "    .dataframe thead th {\n",
              "        text-align: right;\n",
              "    }\n",
              "</style>\n",
              "<table border=\"1\" class=\"dataframe\">\n",
              "  <thead>\n",
              "    <tr style=\"text-align: right;\">\n",
              "      <th></th>\n",
              "      <th>key</th>\n",
              "      <th>left</th>\n",
              "      <th>right</th>\n",
              "    </tr>\n",
              "  </thead>\n",
              "  <tbody>\n",
              "    <tr>\n",
              "      <th>0</th>\n",
              "      <td>A</td>\n",
              "      <td>1</td>\n",
              "      <td>4.0</td>\n",
              "    </tr>\n",
              "    <tr>\n",
              "      <th>1</th>\n",
              "      <td>B</td>\n",
              "      <td>2</td>\n",
              "      <td>5.0</td>\n",
              "    </tr>\n",
              "    <tr>\n",
              "      <th>2</th>\n",
              "      <td>C</td>\n",
              "      <td>3</td>\n",
              "      <td>NaN</td>\n",
              "    </tr>\n",
              "  </tbody>\n",
              "</table>\n",
              "</div>"
            ],
            "text/plain": [
              "  key  left  right\n",
              "0   A     1    4.0\n",
              "1   B     2    5.0\n",
              "2   C     3    NaN"
            ]
          },
          "metadata": {
            "tags": []
          },
          "execution_count": 11
        }
      ]
    },
    {
      "cell_type": "code",
      "metadata": {
        "colab": {
          "base_uri": "https://localhost:8080/",
          "height": 142
        },
        "id": "TAXY32mR8glD",
        "outputId": "2d44efed-3b53-4763-cafd-5a6243a954ff"
      },
      "source": [
        "df_left.merge(df_right, how = 'right', on ='key')"
      ],
      "execution_count": 12,
      "outputs": [
        {
          "output_type": "execute_result",
          "data": {
            "text/html": [
              "<div>\n",
              "<style scoped>\n",
              "    .dataframe tbody tr th:only-of-type {\n",
              "        vertical-align: middle;\n",
              "    }\n",
              "\n",
              "    .dataframe tbody tr th {\n",
              "        vertical-align: top;\n",
              "    }\n",
              "\n",
              "    .dataframe thead th {\n",
              "        text-align: right;\n",
              "    }\n",
              "</style>\n",
              "<table border=\"1\" class=\"dataframe\">\n",
              "  <thead>\n",
              "    <tr style=\"text-align: right;\">\n",
              "      <th></th>\n",
              "      <th>key</th>\n",
              "      <th>left</th>\n",
              "      <th>right</th>\n",
              "    </tr>\n",
              "  </thead>\n",
              "  <tbody>\n",
              "    <tr>\n",
              "      <th>0</th>\n",
              "      <td>A</td>\n",
              "      <td>1.0</td>\n",
              "      <td>4</td>\n",
              "    </tr>\n",
              "    <tr>\n",
              "      <th>1</th>\n",
              "      <td>B</td>\n",
              "      <td>2.0</td>\n",
              "      <td>5</td>\n",
              "    </tr>\n",
              "    <tr>\n",
              "      <th>2</th>\n",
              "      <td>D</td>\n",
              "      <td>NaN</td>\n",
              "      <td>6</td>\n",
              "    </tr>\n",
              "  </tbody>\n",
              "</table>\n",
              "</div>"
            ],
            "text/plain": [
              "  key  left  right\n",
              "0   A   1.0      4\n",
              "1   B   2.0      5\n",
              "2   D   NaN      6"
            ]
          },
          "metadata": {
            "tags": []
          },
          "execution_count": 12
        }
      ]
    },
    {
      "cell_type": "code",
      "metadata": {
        "colab": {
          "base_uri": "https://localhost:8080/",
          "height": 173
        },
        "id": "RG1MlFnH8kHH",
        "outputId": "fa527e45-ffb3-4774-fc64-9d15a997978c"
      },
      "source": [
        "df_left.merge(df_right, how = 'outer', on ='key')"
      ],
      "execution_count": 14,
      "outputs": [
        {
          "output_type": "execute_result",
          "data": {
            "text/html": [
              "<div>\n",
              "<style scoped>\n",
              "    .dataframe tbody tr th:only-of-type {\n",
              "        vertical-align: middle;\n",
              "    }\n",
              "\n",
              "    .dataframe tbody tr th {\n",
              "        vertical-align: top;\n",
              "    }\n",
              "\n",
              "    .dataframe thead th {\n",
              "        text-align: right;\n",
              "    }\n",
              "</style>\n",
              "<table border=\"1\" class=\"dataframe\">\n",
              "  <thead>\n",
              "    <tr style=\"text-align: right;\">\n",
              "      <th></th>\n",
              "      <th>key</th>\n",
              "      <th>left</th>\n",
              "      <th>right</th>\n",
              "    </tr>\n",
              "  </thead>\n",
              "  <tbody>\n",
              "    <tr>\n",
              "      <th>0</th>\n",
              "      <td>A</td>\n",
              "      <td>1.0</td>\n",
              "      <td>4.0</td>\n",
              "    </tr>\n",
              "    <tr>\n",
              "      <th>1</th>\n",
              "      <td>B</td>\n",
              "      <td>2.0</td>\n",
              "      <td>5.0</td>\n",
              "    </tr>\n",
              "    <tr>\n",
              "      <th>2</th>\n",
              "      <td>C</td>\n",
              "      <td>3.0</td>\n",
              "      <td>NaN</td>\n",
              "    </tr>\n",
              "    <tr>\n",
              "      <th>3</th>\n",
              "      <td>D</td>\n",
              "      <td>NaN</td>\n",
              "      <td>6.0</td>\n",
              "    </tr>\n",
              "  </tbody>\n",
              "</table>\n",
              "</div>"
            ],
            "text/plain": [
              "  key  left  right\n",
              "0   A   1.0    4.0\n",
              "1   B   2.0    5.0\n",
              "2   C   3.0    NaN\n",
              "3   D   NaN    6.0"
            ]
          },
          "metadata": {
            "tags": []
          },
          "execution_count": 14
        }
      ]
    },
    {
      "cell_type": "code",
      "metadata": {
        "colab": {
          "base_uri": "https://localhost:8080/",
          "height": 111
        },
        "id": "4WDlKXoR8l-x",
        "outputId": "4052a2b6-c226-4b4d-bfd7-e6a05d1fd111"
      },
      "source": [
        "df_left.merge(df_right, how = 'inner', on ='key')"
      ],
      "execution_count": 15,
      "outputs": [
        {
          "output_type": "execute_result",
          "data": {
            "text/html": [
              "<div>\n",
              "<style scoped>\n",
              "    .dataframe tbody tr th:only-of-type {\n",
              "        vertical-align: middle;\n",
              "    }\n",
              "\n",
              "    .dataframe tbody tr th {\n",
              "        vertical-align: top;\n",
              "    }\n",
              "\n",
              "    .dataframe thead th {\n",
              "        text-align: right;\n",
              "    }\n",
              "</style>\n",
              "<table border=\"1\" class=\"dataframe\">\n",
              "  <thead>\n",
              "    <tr style=\"text-align: right;\">\n",
              "      <th></th>\n",
              "      <th>key</th>\n",
              "      <th>left</th>\n",
              "      <th>right</th>\n",
              "    </tr>\n",
              "  </thead>\n",
              "  <tbody>\n",
              "    <tr>\n",
              "      <th>0</th>\n",
              "      <td>A</td>\n",
              "      <td>1</td>\n",
              "      <td>4</td>\n",
              "    </tr>\n",
              "    <tr>\n",
              "      <th>1</th>\n",
              "      <td>B</td>\n",
              "      <td>2</td>\n",
              "      <td>5</td>\n",
              "    </tr>\n",
              "  </tbody>\n",
              "</table>\n",
              "</div>"
            ],
            "text/plain": [
              "  key  left  right\n",
              "0   A     1      4\n",
              "1   B     2      5"
            ]
          },
          "metadata": {
            "tags": []
          },
          "execution_count": 15
        }
      ]
    },
    {
      "cell_type": "markdown",
      "metadata": {
        "id": "D_0_RqT586CO"
      },
      "source": [
        "- on 인자의 값은 key로 지정하고 how 인자의 값을 각각 left, right, outer, inner로 변경\n",
        "- how 인자의 값에 따라 통합 결과가 달라지는 것을 볼 수 있음\n",
        "- 해당 항목에 데이터가 없는 경우는 NaN이 자동으로 입력\n",
        "\n",
        "## 데이터 파일을 읽고 쓰기\n",
        "- pandas는 표 형식의 데이터 파일을 DataFrame 형식의 데이터로 읽어오는 방법과\n",
        "- DataFrame 형식의 데이터를 표 형식으로 파일로 저장하는 편리한 방법을 제공\n",
        "\n",
        "## 표 형식의 데이터 파일을 읽기\n",
        "- read_csv()를 이용해 표 형식의 텍스트 데이터 파일을 읽는 방법\n",
        "- read_csv()는 기본적으로 각 데이터 필드가 콤마(,)로 구분된 csv 파일을 읽는데 이용\n",
        "- 옵션을 지정하면 각 데이터 필드가 콤마 외의 다른 구분자로 구분돼 있어도 데이터를 읽어올 수 있음\n",
        "\n",
        "- read_csv() 이용하는 방법\n",
        "- DataFrame_data = pd.read_csv(file_name[.options)\n",
        "- filename은 텍스트 파일의 이름으로 경로를 포함\n",
        "- options는 선택 사항\n",
        "- [11장 276P]\n"
      ]
    },
    {
      "cell_type": "code",
      "metadata": {
        "colab": {
          "base_uri": "https://localhost:8080/"
        },
        "id": "cn3Vh_3eWt9k",
        "outputId": "d3e88766-7146-4742-9da2-0a58aef6d498"
      },
      "source": [
        "%%writefile sea_rain1.csv\n",
        "\n",
        "연도, 동해, 남해, 서해, 전체\n",
        "1996, 17.4629, 17.2288, 14.436, 15.9067\n",
        "1997, 17.4116, 17.4092, 14.8248, 16.1526\n",
        "1998, 17.5944, 18.011, 15.2512, 16.6044\n",
        "1999, 18.1495, 18.3175, 14.8979, 16.6284\n",
        "2000, 17.9288, 18.1766, 15.0504, 16.6178"
      ],
      "execution_count": 17,
      "outputs": [
        {
          "output_type": "stream",
          "text": [
            "Overwriting sea_rain1.csv\n"
          ],
          "name": "stdout"
        }
      ]
    },
    {
      "cell_type": "markdown",
      "metadata": {
        "id": "iPnZpRimXYbn"
      },
      "source": [
        "- pandas의 read_csv() 위로 csv 파일을 읽어옴"
      ]
    },
    {
      "cell_type": "code",
      "metadata": {
        "colab": {
          "base_uri": "https://localhost:8080/",
          "height": 204
        },
        "id": "zCbTrhXdXWf0",
        "outputId": "92898a84-00cf-40e9-f013-f4adf281ecc7"
      },
      "source": [
        "import pandas as pd\n",
        "\n",
        "pd.read_csv('sea_rain1.csv')"
      ],
      "execution_count": 18,
      "outputs": [
        {
          "output_type": "execute_result",
          "data": {
            "text/html": [
              "<div>\n",
              "<style scoped>\n",
              "    .dataframe tbody tr th:only-of-type {\n",
              "        vertical-align: middle;\n",
              "    }\n",
              "\n",
              "    .dataframe tbody tr th {\n",
              "        vertical-align: top;\n",
              "    }\n",
              "\n",
              "    .dataframe thead th {\n",
              "        text-align: right;\n",
              "    }\n",
              "</style>\n",
              "<table border=\"1\" class=\"dataframe\">\n",
              "  <thead>\n",
              "    <tr style=\"text-align: right;\">\n",
              "      <th></th>\n",
              "      <th>연도</th>\n",
              "      <th>동해</th>\n",
              "      <th>남해</th>\n",
              "      <th>서해</th>\n",
              "      <th>전체</th>\n",
              "    </tr>\n",
              "  </thead>\n",
              "  <tbody>\n",
              "    <tr>\n",
              "      <th>0</th>\n",
              "      <td>1996</td>\n",
              "      <td>17.4629</td>\n",
              "      <td>17.2288</td>\n",
              "      <td>14.4360</td>\n",
              "      <td>15.9067</td>\n",
              "    </tr>\n",
              "    <tr>\n",
              "      <th>1</th>\n",
              "      <td>1997</td>\n",
              "      <td>17.4116</td>\n",
              "      <td>17.4092</td>\n",
              "      <td>14.8248</td>\n",
              "      <td>16.1526</td>\n",
              "    </tr>\n",
              "    <tr>\n",
              "      <th>2</th>\n",
              "      <td>1998</td>\n",
              "      <td>17.5944</td>\n",
              "      <td>18.0110</td>\n",
              "      <td>15.2512</td>\n",
              "      <td>16.6044</td>\n",
              "    </tr>\n",
              "    <tr>\n",
              "      <th>3</th>\n",
              "      <td>1999</td>\n",
              "      <td>18.1495</td>\n",
              "      <td>18.3175</td>\n",
              "      <td>14.8979</td>\n",
              "      <td>16.6284</td>\n",
              "    </tr>\n",
              "    <tr>\n",
              "      <th>4</th>\n",
              "      <td>2000</td>\n",
              "      <td>17.9288</td>\n",
              "      <td>18.1766</td>\n",
              "      <td>15.0504</td>\n",
              "      <td>16.6178</td>\n",
              "    </tr>\n",
              "  </tbody>\n",
              "</table>\n",
              "</div>"
            ],
            "text/plain": [
              "     연도       동해       남해       서해       전체\n",
              "0  1996  17.4629  17.2288  14.4360  15.9067\n",
              "1  1997  17.4116  17.4092  14.8248  16.1526\n",
              "2  1998  17.5944  18.0110  15.2512  16.6044\n",
              "3  1999  18.1495  18.3175  14.8979  16.6284\n",
              "4  2000  17.9288  18.1766  15.0504  16.6178"
            ]
          },
          "metadata": {
            "tags": []
          },
          "execution_count": 18
        }
      ]
    },
    {
      "cell_type": "code",
      "metadata": {
        "colab": {
          "base_uri": "https://localhost:8080/",
          "height": 204
        },
        "id": "Yy6QB4PJXiMd",
        "outputId": "a7110a6f-fe72-4508-991a-9b872a24e4ac"
      },
      "source": [
        "pd.read_csv('sea_rain1_from_notepad.csv', encoding = \"cp949\")"
      ],
      "execution_count": 20,
      "outputs": [
        {
          "output_type": "execute_result",
          "data": {
            "text/html": [
              "<div>\n",
              "<style scoped>\n",
              "    .dataframe tbody tr th:only-of-type {\n",
              "        vertical-align: middle;\n",
              "    }\n",
              "\n",
              "    .dataframe tbody tr th {\n",
              "        vertical-align: top;\n",
              "    }\n",
              "\n",
              "    .dataframe thead th {\n",
              "        text-align: right;\n",
              "    }\n",
              "</style>\n",
              "<table border=\"1\" class=\"dataframe\">\n",
              "  <thead>\n",
              "    <tr style=\"text-align: right;\">\n",
              "      <th></th>\n",
              "      <th>연도</th>\n",
              "      <th>동해</th>\n",
              "      <th>남해</th>\n",
              "      <th>서해</th>\n",
              "      <th>전체</th>\n",
              "    </tr>\n",
              "  </thead>\n",
              "  <tbody>\n",
              "    <tr>\n",
              "      <th>0</th>\n",
              "      <td>1996</td>\n",
              "      <td>17.4629</td>\n",
              "      <td>17.2288</td>\n",
              "      <td>14.4360</td>\n",
              "      <td>15.9067</td>\n",
              "    </tr>\n",
              "    <tr>\n",
              "      <th>1</th>\n",
              "      <td>1997</td>\n",
              "      <td>17.4116</td>\n",
              "      <td>17.4092</td>\n",
              "      <td>14.8248</td>\n",
              "      <td>16.1526</td>\n",
              "    </tr>\n",
              "    <tr>\n",
              "      <th>2</th>\n",
              "      <td>1998</td>\n",
              "      <td>17.5944</td>\n",
              "      <td>18.0110</td>\n",
              "      <td>15.2512</td>\n",
              "      <td>16.6044</td>\n",
              "    </tr>\n",
              "    <tr>\n",
              "      <th>3</th>\n",
              "      <td>1999</td>\n",
              "      <td>18.1495</td>\n",
              "      <td>18.3175</td>\n",
              "      <td>14.8979</td>\n",
              "      <td>16.6284</td>\n",
              "    </tr>\n",
              "    <tr>\n",
              "      <th>4</th>\n",
              "      <td>2000</td>\n",
              "      <td>17.9288</td>\n",
              "      <td>18.1766</td>\n",
              "      <td>15.0504</td>\n",
              "      <td>16.6178</td>\n",
              "    </tr>\n",
              "  </tbody>\n",
              "</table>\n",
              "</div>"
            ],
            "text/plain": [
              "     연도       동해       남해       서해       전체\n",
              "0  1996  17.4629  17.2288  14.4360  15.9067\n",
              "1  1997  17.4116  17.4092  14.8248  16.1526\n",
              "2  1998  17.5944  18.0110  15.2512  16.6044\n",
              "3  1999  18.1495  18.3175  14.8979  16.6284\n",
              "4  2000  17.9288  18.1766  15.0504  16.6178"
            ]
          },
          "metadata": {
            "tags": []
          },
          "execution_count": 20
        }
      ]
    },
    {
      "cell_type": "markdown",
      "metadata": {
        "id": "IOHXqJsrX30C"
      },
      "source": [
        "- 데이터 파일처럼 공백(빈칸)으로 구분"
      ]
    },
    {
      "cell_type": "code",
      "metadata": {
        "colab": {
          "base_uri": "https://localhost:8080/"
        },
        "id": "0wWNcWUeXpJZ",
        "outputId": "7129b2f1-316b-40d4-f179-79493e3c0262"
      },
      "source": [
        "%%writefile sea_rain1_space.txt\n",
        "연도 동해 남해 서해 전체\n",
        "1996 17.4629 17.2288 14.436 15.9067\n",
        "1997 17.4116 17.4092 14.8248 16.1526\n",
        "1998 17.5944 18.011 15.2512 16.6044\n",
        "1999 18.1495 18.3175 14.8979 16.6284\n",
        "2000 17.9288 18.1766 15.0504 16.6178"
      ],
      "execution_count": 22,
      "outputs": [
        {
          "output_type": "stream",
          "text": [
            "Overwriting sea_rain1_space.txt\n"
          ],
          "name": "stdout"
        }
      ]
    },
    {
      "cell_type": "markdown",
      "metadata": {
        "id": "8GyA1Tg4anzY"
      },
      "source": [
        "- read_csv()에서 읽고자 하는 데이터 파일의 구분자가 콤마가 아닌 경우에는\n",
        "- 'sep=구분자'옵션을 추가해야 텍스트 파일에서 pandas의 DataFrame 형식으로 데이터를 제대로 읽어올 수 있음\n",
        "- 텍스트 파일에서 각 데이터 필드가 공백으로 구분돼 있으면 read_csv()에 sep = \"\" 옵션을 추가해서 구분자가 공백임을 지정\n"
      ]
    },
    {
      "cell_type": "code",
      "metadata": {
        "colab": {
          "base_uri": "https://localhost:8080/",
          "height": 204
        },
        "id": "67lgDG8BbHft",
        "outputId": "36e7fd98-aec0-4f06-ab54-d468f3f9777c"
      },
      "source": [
        "pd.read_csv('sea_rain1_space.txt', sep=\" \")"
      ],
      "execution_count": 23,
      "outputs": [
        {
          "output_type": "execute_result",
          "data": {
            "text/html": [
              "<div>\n",
              "<style scoped>\n",
              "    .dataframe tbody tr th:only-of-type {\n",
              "        vertical-align: middle;\n",
              "    }\n",
              "\n",
              "    .dataframe tbody tr th {\n",
              "        vertical-align: top;\n",
              "    }\n",
              "\n",
              "    .dataframe thead th {\n",
              "        text-align: right;\n",
              "    }\n",
              "</style>\n",
              "<table border=\"1\" class=\"dataframe\">\n",
              "  <thead>\n",
              "    <tr style=\"text-align: right;\">\n",
              "      <th></th>\n",
              "      <th>연도</th>\n",
              "      <th>동해</th>\n",
              "      <th>남해</th>\n",
              "      <th>서해</th>\n",
              "      <th>전체</th>\n",
              "    </tr>\n",
              "  </thead>\n",
              "  <tbody>\n",
              "    <tr>\n",
              "      <th>0</th>\n",
              "      <td>1996</td>\n",
              "      <td>17.4629</td>\n",
              "      <td>17.2288</td>\n",
              "      <td>14.4360</td>\n",
              "      <td>15.9067</td>\n",
              "    </tr>\n",
              "    <tr>\n",
              "      <th>1</th>\n",
              "      <td>1997</td>\n",
              "      <td>17.4116</td>\n",
              "      <td>17.4092</td>\n",
              "      <td>14.8248</td>\n",
              "      <td>16.1526</td>\n",
              "    </tr>\n",
              "    <tr>\n",
              "      <th>2</th>\n",
              "      <td>1998</td>\n",
              "      <td>17.5944</td>\n",
              "      <td>18.0110</td>\n",
              "      <td>15.2512</td>\n",
              "      <td>16.6044</td>\n",
              "    </tr>\n",
              "    <tr>\n",
              "      <th>3</th>\n",
              "      <td>1999</td>\n",
              "      <td>18.1495</td>\n",
              "      <td>18.3175</td>\n",
              "      <td>14.8979</td>\n",
              "      <td>16.6284</td>\n",
              "    </tr>\n",
              "    <tr>\n",
              "      <th>4</th>\n",
              "      <td>2000</td>\n",
              "      <td>17.9288</td>\n",
              "      <td>18.1766</td>\n",
              "      <td>15.0504</td>\n",
              "      <td>16.6178</td>\n",
              "    </tr>\n",
              "  </tbody>\n",
              "</table>\n",
              "</div>"
            ],
            "text/plain": [
              "     연도       동해       남해       서해       전체\n",
              "0  1996  17.4629  17.2288  14.4360  15.9067\n",
              "1  1997  17.4116  17.4092  14.8248  16.1526\n",
              "2  1998  17.5944  18.0110  15.2512  16.6044\n",
              "3  1999  18.1495  18.3175  14.8979  16.6284\n",
              "4  2000  17.9288  18.1766  15.0504  16.6178"
            ]
          },
          "metadata": {
            "tags": []
          },
          "execution_count": 23
        }
      ]
    },
    {
      "cell_type": "markdown",
      "metadata": {
        "id": "3ZVX2a7LbN8C"
      },
      "source": [
        "- 텍스트 파일의 확장자가 csv가 아니더라도 read_csv()를 이용해 텍스트 데이터를 DataFrame 데이터로 읽어올 수 있음\n",
        "- pandas에서 제공하는 read_csv()로 텍스트 파일을 읽어오면 index가 자동으로 지정\n",
        "- 자동으로 생성된 index 말고 데이터 파일에서 특정 열(column)을 index로 선택하려면 옵션에 'index_col = 열 이름'을 추가\n",
        "\n",
        "- csv 데이터 파일.sea_rain.scv에서 '연도'열을 index로 선택해 DataFrame 형식으로 데이터를 불러온 예"
      ]
    },
    {
      "cell_type": "code",
      "metadata": {
        "colab": {
          "base_uri": "https://localhost:8080/",
          "height": 235
        },
        "id": "huDh6UnSbNLW",
        "outputId": "7cdb2413-4d5d-4ce3-d3d5-f2e37f80961e"
      },
      "source": [
        "pd.read_csv('sea_rain1.csv', index_col=\"연도\")"
      ],
      "execution_count": 24,
      "outputs": [
        {
          "output_type": "execute_result",
          "data": {
            "text/html": [
              "<div>\n",
              "<style scoped>\n",
              "    .dataframe tbody tr th:only-of-type {\n",
              "        vertical-align: middle;\n",
              "    }\n",
              "\n",
              "    .dataframe tbody tr th {\n",
              "        vertical-align: top;\n",
              "    }\n",
              "\n",
              "    .dataframe thead th {\n",
              "        text-align: right;\n",
              "    }\n",
              "</style>\n",
              "<table border=\"1\" class=\"dataframe\">\n",
              "  <thead>\n",
              "    <tr style=\"text-align: right;\">\n",
              "      <th></th>\n",
              "      <th>동해</th>\n",
              "      <th>남해</th>\n",
              "      <th>서해</th>\n",
              "      <th>전체</th>\n",
              "    </tr>\n",
              "    <tr>\n",
              "      <th>연도</th>\n",
              "      <th></th>\n",
              "      <th></th>\n",
              "      <th></th>\n",
              "      <th></th>\n",
              "    </tr>\n",
              "  </thead>\n",
              "  <tbody>\n",
              "    <tr>\n",
              "      <th>1996</th>\n",
              "      <td>17.4629</td>\n",
              "      <td>17.2288</td>\n",
              "      <td>14.4360</td>\n",
              "      <td>15.9067</td>\n",
              "    </tr>\n",
              "    <tr>\n",
              "      <th>1997</th>\n",
              "      <td>17.4116</td>\n",
              "      <td>17.4092</td>\n",
              "      <td>14.8248</td>\n",
              "      <td>16.1526</td>\n",
              "    </tr>\n",
              "    <tr>\n",
              "      <th>1998</th>\n",
              "      <td>17.5944</td>\n",
              "      <td>18.0110</td>\n",
              "      <td>15.2512</td>\n",
              "      <td>16.6044</td>\n",
              "    </tr>\n",
              "    <tr>\n",
              "      <th>1999</th>\n",
              "      <td>18.1495</td>\n",
              "      <td>18.3175</td>\n",
              "      <td>14.8979</td>\n",
              "      <td>16.6284</td>\n",
              "    </tr>\n",
              "    <tr>\n",
              "      <th>2000</th>\n",
              "      <td>17.9288</td>\n",
              "      <td>18.1766</td>\n",
              "      <td>15.0504</td>\n",
              "      <td>16.6178</td>\n",
              "    </tr>\n",
              "  </tbody>\n",
              "</table>\n",
              "</div>"
            ],
            "text/plain": [
              "           동해       남해       서해       전체\n",
              "연도                                      \n",
              "1996  17.4629  17.2288  14.4360  15.9067\n",
              "1997  17.4116  17.4092  14.8248  16.1526\n",
              "1998  17.5944  18.0110  15.2512  16.6044\n",
              "1999  18.1495  18.3175  14.8979  16.6284\n",
              "2000  17.9288  18.1766  15.0504  16.6178"
            ]
          },
          "metadata": {
            "tags": []
          },
          "execution_count": 24
        }
      ]
    },
    {
      "cell_type": "markdown",
      "metadata": {
        "id": "sllRoImOdH0d"
      },
      "source": [
        "- 출력된 결과를 보면 DataFrame 데이터에는 자동으로 생성된 index 대신 index_col에 지정한 '연도'의 열 데이터가 index로 설정\n",
        "\n",
        "## 표 형식의 데이터를 파일로 쓰기\n",
        "- pandas에서 제공하는 to_csv()를 이용해 DataFrame 형식의 데이터를 텍스트 파일로 저장하는 방법\n",
        "- DataFrame_data.to_csv(file_name [,options])\n",
        "- file_name은 텍스트 파일 이름으로 경로를 포함\n",
        "- 선택사항인 options에는 구분자와 문자의 인코딩 방식 등을 지정할 수 있는데 지정하지 않으면 구분자는 콤마가 되고 문자의 인코딩 방식은 'utf-8'\n",
        "\n",
        "- DataFrame 데이터를 파일로 저장하기 위해\n",
        "- 네 명의 몸무게(Weight, 단위:kg)와 키(Height, 단위:cm) 데이터를 DataFrame 형식으로 생성\n",
        "- DataFrame 데이터에서 index에 이름을 추가하고 싶으면, 'df.index.name = 문자열'과 같이 작성 "
      ]
    },
    {
      "cell_type": "code",
      "metadata": {
        "colab": {
          "base_uri": "https://localhost:8080/",
          "height": 204
        },
        "id": "TXWfkxAfeA-d",
        "outputId": "2ece7296-ffbc-4b4b-fa1d-beeb2c49b9f9"
      },
      "source": [
        "df_WH = pd.DataFrame({'weight': [62,67,55,74],\n",
        "                      'Height': [165, 177, 160, 180]},\n",
        "                     index = ['ID_1','ID_2','ID_3','ID_4'])\n",
        "df_WH.index.name ='User'\n",
        "df_WH"
      ],
      "execution_count": 25,
      "outputs": [
        {
          "output_type": "execute_result",
          "data": {
            "text/html": [
              "<div>\n",
              "<style scoped>\n",
              "    .dataframe tbody tr th:only-of-type {\n",
              "        vertical-align: middle;\n",
              "    }\n",
              "\n",
              "    .dataframe tbody tr th {\n",
              "        vertical-align: top;\n",
              "    }\n",
              "\n",
              "    .dataframe thead th {\n",
              "        text-align: right;\n",
              "    }\n",
              "</style>\n",
              "<table border=\"1\" class=\"dataframe\">\n",
              "  <thead>\n",
              "    <tr style=\"text-align: right;\">\n",
              "      <th></th>\n",
              "      <th>weight</th>\n",
              "      <th>Height</th>\n",
              "    </tr>\n",
              "    <tr>\n",
              "      <th>User</th>\n",
              "      <th></th>\n",
              "      <th></th>\n",
              "    </tr>\n",
              "  </thead>\n",
              "  <tbody>\n",
              "    <tr>\n",
              "      <th>ID_1</th>\n",
              "      <td>62</td>\n",
              "      <td>165</td>\n",
              "    </tr>\n",
              "    <tr>\n",
              "      <th>ID_2</th>\n",
              "      <td>67</td>\n",
              "      <td>177</td>\n",
              "    </tr>\n",
              "    <tr>\n",
              "      <th>ID_3</th>\n",
              "      <td>55</td>\n",
              "      <td>160</td>\n",
              "    </tr>\n",
              "    <tr>\n",
              "      <th>ID_4</th>\n",
              "      <td>74</td>\n",
              "      <td>180</td>\n",
              "    </tr>\n",
              "  </tbody>\n",
              "</table>\n",
              "</div>"
            ],
            "text/plain": [
              "      weight  Height\n",
              "User                \n",
              "ID_1      62     165\n",
              "ID_2      67     177\n",
              "ID_3      55     160\n",
              "ID_4      74     180"
            ]
          },
          "metadata": {
            "tags": []
          },
          "execution_count": 25
        }
      ]
    },
    {
      "cell_type": "markdown",
      "metadata": {
        "id": "vjWo0SHFecM5"
      },
      "source": [
        "- 파일로 저장하기 전에 몸무게와 키를 이용해 체질량 지수(BMI)를 구해서 dtWH에 추가\n",
        "- df_WH의 몸무게와 키 데이터를 잉ㅇ해 체질량 지수(BMI)를 구함\n",
        "- 키의 경우 입력한 데이터는 cm 단위여서 m 단위로 변경하기 위해 100으로 나"
      ]
    },
    {
      "cell_type": "code",
      "metadata": {
        "colab": {
          "base_uri": "https://localhost:8080/"
        },
        "id": "JSj8l32zet7e",
        "outputId": "ea8c9575-63c0-4cbc-9513-484ca4b0e9f5"
      },
      "source": [
        "bmi = df_WH['weight']/(df_WH['Height']/100)**2\n",
        "bmi"
      ],
      "execution_count": 26,
      "outputs": [
        {
          "output_type": "execute_result",
          "data": {
            "text/plain": [
              "User\n",
              "ID_1    22.773186\n",
              "ID_2    21.385936\n",
              "ID_3    21.484375\n",
              "ID_4    22.839506\n",
              "dtype: float64"
            ]
          },
          "metadata": {
            "tags": []
          },
          "execution_count": 26
        }
      ]
    },
    {
      "cell_type": "markdown",
      "metadata": {
        "id": "hfzPTfzCe8Br"
      },
      "source": [
        "- DataFrame 데이터(df)에 'df['column_name']=column_data'로 새로운 열 데이터를 추가\n",
        "- 체질량 지수(BMI)를 df_WH에 추가"
      ]
    },
    {
      "cell_type": "code",
      "metadata": {
        "colab": {
          "base_uri": "https://localhost:8080/",
          "height": 204
        },
        "id": "0pKze6aKe6jm",
        "outputId": "b7baab4b-2cf1-4469-bf56-148e066ad1ec"
      },
      "source": [
        "df_WH['BMI'] = bmi\n",
        "df_WH"
      ],
      "execution_count": 27,
      "outputs": [
        {
          "output_type": "execute_result",
          "data": {
            "text/html": [
              "<div>\n",
              "<style scoped>\n",
              "    .dataframe tbody tr th:only-of-type {\n",
              "        vertical-align: middle;\n",
              "    }\n",
              "\n",
              "    .dataframe tbody tr th {\n",
              "        vertical-align: top;\n",
              "    }\n",
              "\n",
              "    .dataframe thead th {\n",
              "        text-align: right;\n",
              "    }\n",
              "</style>\n",
              "<table border=\"1\" class=\"dataframe\">\n",
              "  <thead>\n",
              "    <tr style=\"text-align: right;\">\n",
              "      <th></th>\n",
              "      <th>weight</th>\n",
              "      <th>Height</th>\n",
              "      <th>BMI</th>\n",
              "    </tr>\n",
              "    <tr>\n",
              "      <th>User</th>\n",
              "      <th></th>\n",
              "      <th></th>\n",
              "      <th></th>\n",
              "    </tr>\n",
              "  </thead>\n",
              "  <tbody>\n",
              "    <tr>\n",
              "      <th>ID_1</th>\n",
              "      <td>62</td>\n",
              "      <td>165</td>\n",
              "      <td>22.773186</td>\n",
              "    </tr>\n",
              "    <tr>\n",
              "      <th>ID_2</th>\n",
              "      <td>67</td>\n",
              "      <td>177</td>\n",
              "      <td>21.385936</td>\n",
              "    </tr>\n",
              "    <tr>\n",
              "      <th>ID_3</th>\n",
              "      <td>55</td>\n",
              "      <td>160</td>\n",
              "      <td>21.484375</td>\n",
              "    </tr>\n",
              "    <tr>\n",
              "      <th>ID_4</th>\n",
              "      <td>74</td>\n",
              "      <td>180</td>\n",
              "      <td>22.839506</td>\n",
              "    </tr>\n",
              "  </tbody>\n",
              "</table>\n",
              "</div>"
            ],
            "text/plain": [
              "      weight  Height        BMI\n",
              "User                           \n",
              "ID_1      62     165  22.773186\n",
              "ID_2      67     177  21.385936\n",
              "ID_3      55     160  21.484375\n",
              "ID_4      74     180  22.839506"
            ]
          },
          "metadata": {
            "tags": []
          },
          "execution_count": 27
        }
      ]
    },
    {
      "cell_type": "markdown",
      "metadata": {
        "id": "o2jay-DCfaVN"
      },
      "source": [
        "- DataFrame  데이터 df_WH를 csv 파일로 저장"
      ]
    },
    {
      "cell_type": "code",
      "metadata": {
        "id": "kEYKudFCfZsm"
      },
      "source": [
        "df_WH.to_csv('save_DataFrame.csv')"
      ],
      "execution_count": 28,
      "outputs": []
    },
    {
      "cell_type": "markdown",
      "metadata": {
        "id": "y4VrL3eLfl44"
      },
      "source": [
        "- DataFrame 데이터가 csv 파일로 저장됐는지 확인"
      ]
    },
    {
      "cell_type": "code",
      "metadata": {
        "colab": {
          "base_uri": "https://localhost:8080/"
        },
        "id": "NLeXJWmeflMF",
        "outputId": "e627f82a-8809-419e-eb9f-3464f9654ce4"
      },
      "source": [
        "!cat save_DataFrame.csv"
      ],
      "execution_count": 29,
      "outputs": [
        {
          "output_type": "stream",
          "text": [
            "User,weight,Height,BMI\n",
            "ID_1,62,165,22.77318640955005\n",
            "ID_2,67,177,21.38593635289987\n",
            "ID_3,55,160,21.484374999999996\n",
            "ID_4,74,180,22.839506172839506\n"
          ],
          "name": "stdout"
        }
      ]
    },
    {
      "cell_type": "markdown",
      "metadata": {
        "id": "Tso3DEtWfuOc"
      },
      "source": [
        "- DataFrame 데이터를 파일로 저장할 떄 옵션을 지정하는 예제\n",
        "\n",
        "- 한 회사의 제품별 판매가격과 판매량 정보가 있는 DataFrame 데이터를 생성"
      ]
    },
    {
      "cell_type": "code",
      "metadata": {
        "colab": {
          "base_uri": "https://localhost:8080/",
          "height": 204
        },
        "id": "tSJ2j8bfftY0",
        "outputId": "5e42f0a0-08bd-4a7f-e736-6882bc32b4ee"
      },
      "source": [
        "df_pr = pd.DataFrame({'판매가격': [2000, 3000, 5000, 10000],\n",
        "                      '판매량': [32, 53, 40, 25]},\n",
        "                     index = ['p1001','p1002','p1003','p1004'])\n",
        "df_pr.index.name = '제품번호'\n",
        "df_pr"
      ],
      "execution_count": 30,
      "outputs": [
        {
          "output_type": "execute_result",
          "data": {
            "text/html": [
              "<div>\n",
              "<style scoped>\n",
              "    .dataframe tbody tr th:only-of-type {\n",
              "        vertical-align: middle;\n",
              "    }\n",
              "\n",
              "    .dataframe tbody tr th {\n",
              "        vertical-align: top;\n",
              "    }\n",
              "\n",
              "    .dataframe thead th {\n",
              "        text-align: right;\n",
              "    }\n",
              "</style>\n",
              "<table border=\"1\" class=\"dataframe\">\n",
              "  <thead>\n",
              "    <tr style=\"text-align: right;\">\n",
              "      <th></th>\n",
              "      <th>판매가격</th>\n",
              "      <th>판매량</th>\n",
              "    </tr>\n",
              "    <tr>\n",
              "      <th>제품번호</th>\n",
              "      <th></th>\n",
              "      <th></th>\n",
              "    </tr>\n",
              "  </thead>\n",
              "  <tbody>\n",
              "    <tr>\n",
              "      <th>p1001</th>\n",
              "      <td>2000</td>\n",
              "      <td>32</td>\n",
              "    </tr>\n",
              "    <tr>\n",
              "      <th>p1002</th>\n",
              "      <td>3000</td>\n",
              "      <td>53</td>\n",
              "    </tr>\n",
              "    <tr>\n",
              "      <th>p1003</th>\n",
              "      <td>5000</td>\n",
              "      <td>40</td>\n",
              "    </tr>\n",
              "    <tr>\n",
              "      <th>p1004</th>\n",
              "      <td>10000</td>\n",
              "      <td>25</td>\n",
              "    </tr>\n",
              "  </tbody>\n",
              "</table>\n",
              "</div>"
            ],
            "text/plain": [
              "        판매가격  판매량\n",
              "제품번호             \n",
              "p1001   2000   32\n",
              "p1002   3000   53\n",
              "p1003   5000   40\n",
              "p1004  10000   25"
            ]
          },
          "metadata": {
            "tags": []
          },
          "execution_count": 30
        }
      ]
    },
    {
      "cell_type": "markdown",
      "metadata": {
        "id": "axBNBtbughrY"
      },
      "source": [
        "- DataFrame 데이터 df_pr를 텍스트 파일로 저장"
      ]
    },
    {
      "cell_type": "code",
      "metadata": {
        "id": "WRZHQ5nSguAu"
      },
      "source": [
        "file_name = 'save_DataFrame_cp949.txt'\n",
        "df_pr.to_csv(file_name, sep=\" \", encoding = \"cp949\")"
      ],
      "execution_count": 31,
      "outputs": []
    },
    {
      "cell_type": "markdown",
      "metadata": {
        "id": "_qyEIQOcg4-7"
      },
      "source": [
        "- 저장된 파이을 확인"
      ]
    },
    {
      "cell_type": "code",
      "metadata": {
        "colab": {
          "base_uri": "https://localhost:8080/"
        },
        "id": "sxpg3EFFg3wO",
        "outputId": "42269479-6e63-470e-b0af-902c90f462e5"
      },
      "source": [
        "!cat save_DataFrame_cp949.txt"
      ],
      "execution_count": 32,
      "outputs": [
        {
          "output_type": "stream",
          "text": [
            "��ǰ��ȣ �ǸŰ��� �Ǹŷ�\n",
            "p1001 2000 32\n",
            "p1002 3000 53\n",
            "p1003 5000 40\n",
            "p1004 10000 25\n"
          ],
          "name": "stdout"
        }
      ]
    },
    {
      "cell_type": "markdown",
      "metadata": {
        "id": "SzsFEer5hE18"
      },
      "source": [
        "- 파이썬 프로그램을 작성할 떄는 파이썬의 기본 기능과 외부 패키지나 라이브러리를 함께 사용\n",
        "\n",
        "- Python Package Index 홈페이지 (https://pypi.org)"
      ]
    }
  ]
}