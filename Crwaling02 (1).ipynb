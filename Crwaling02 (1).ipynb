{
 "cells": [
  {
   "cell_type": "markdown",
   "id": "5f7e2500",
   "metadata": {},
   "source": [
    "# 자바스크립트 기본 문법\n",
    "## 01 자바스크립트 기본 용어와 출력방법\n",
    "### 자바스크립트 기본 용어\n",
    "- 표현식 : 값을 만들어 내는 간단한 코드\n",
    "- 문장 : 프로그래밍 언어에 실행할 수 있는 코드의 최소 단위\n",
    "- 종결 : 문장 마지막에 세미콜론(;) 또는 줄 바꿈"
   ]
  },
  {
   "cell_type": "code",
   "execution_count": 1,
   "id": "cbf5894f",
   "metadata": {},
   "outputs": [
    {
     "ename": "SyntaxError",
     "evalue": "invalid syntax (<ipython-input-1-4b6920caa6c5>, line 3)",
     "output_type": "error",
     "traceback": [
      "\u001b[1;36m  File \u001b[1;32m\"<ipython-input-1-4b6920caa6c5>\"\u001b[1;36m, line \u001b[1;32m3\u001b[0m\n\u001b[1;33m    var name = '홍'+'길'+'동';\u001b[0m\n\u001b[1;37m        ^\u001b[0m\n\u001b[1;31mSyntaxError\u001b[0m\u001b[1;31m:\u001b[0m invalid syntax\n"
     ]
    }
   ],
   "source": [
    "273;\n",
    "10 + 20 + 30*2;\n",
    "var name = '홍'+'길'+'동';\n",
    "alert('hello javascript')\n",
    "/표현식 예/\n",
    "\n",
    "273\n",
    "10 + 20 + 30 *2\n",
    "'javascript'\n",
    "/문장 예/"
   ]
  },
  {
   "cell_type": "markdown",
   "id": "e6674f0c",
   "metadata": {},
   "source": [
    "### 자바스크립트 기본 용어\n",
    "- 키워드 : 자바스크립트를 처음 만들 때 정해진 특별한 의미가 부여된 단어\n",
    "- 식별자 : 자바스크립트에서 변수나 함수 등에 이름을 붙일 떄 사용하는 단어\n",
    "    - 식별자 생성 규칙\n",
    "        - 키워드를 사용하면 안됩니다.\n",
    "        - 특수문자는 _와 ＄만 허용됩니다.\n",
    "        - 숫자로 시작하면 안됩니다.\n",
    "        - 공백은 입력하면 안됩니다.\n",
    "        * 생성자 함수 이름은 항상 대문자로 시작합니다.\n",
    "        * 변수, 인스턴스, 함수, 매서드의 이름은 항상 소문자로 시작합니다.\n",
    "        * 여러 단어로 된 식별자는 각 단어의 첫글자를 대문자로 합니다.\n",
    "- 주석 : 프로그램 진행에 전혀 영향을 주지 않는 코드로, 프로그램을 설명하는데 사용\n",
    "    - 형태\n",
    "        - 한 행 주석 처리 // 주석문\n",
    "        - 여러 행 주석 처리 /* 주석문 */\n",
    "        \n",
    "### 자바스크립트 출력\n",
    "- 가장 기본적인 출력 방법 : alert() 함수를 사용해 사용해 웹 브라우저 경고 창을 띄우기\n",
    "- 자바스크립트를 이용한 메시지 출력"
   ]
  },
  {
   "cell_type": "code",
   "execution_count": 4,
   "id": "0c32bffa",
   "metadata": {},
   "outputs": [
    {
     "ename": "SyntaxError",
     "evalue": "invalid syntax (<ipython-input-4-800ca601b6f7>, line 1)",
     "output_type": "error",
     "traceback": [
      "\u001b[1;36m  File \u001b[1;32m\"<ipython-input-4-800ca601b6f7>\"\u001b[1;36m, line \u001b[1;32m1\u001b[0m\n\u001b[1;33m    <!DCOTYPE html>\u001b[0m\n\u001b[1;37m    ^\u001b[0m\n\u001b[1;31mSyntaxError\u001b[0m\u001b[1;31m:\u001b[0m invalid syntax\n"
     ]
    }
   ],
   "source": [
    "<!DCOTYPE html>\n",
    "<html>\n",
    "<head>\n",
    "    <title>javaScript Basic</title>\n",
    "    <script>\n",
    "        alert('hello JavaScript..!');\n",
    "    </script>\n",
    "</head>\n",
    "<body>\n",
    "</body>\n",
    "</html>\n",
    "// 메모장 사용"
   ]
  },
  {
   "cell_type": "markdown",
   "id": "46945788",
   "metadata": {},
   "source": [
    "## 02 자료형과 변수\n",
    "### 자료형\n",
    "- 숫자\n",
    "    - 가장 기본적인 자료형\n",
    "    - 정수와 실수 구분하지 않음\n",
    "- 문자열\n",
    "    - 문자 집합\n",
    "    - 'abcdefg','Hello World', '안녕하세요'\n",
    "- 불(bool)\n",
    "    - 참과 거짓을 표현할 때 사용하는 자료\n",
    "- 비교 연산자\n",
    "    - 두 대상을 비교할 수 있는 연산자\n",
    "- 논리 연산자\n",
    "    - !: 논리 부정(참이면 거짓, 거짓이면 참)\n",
    "    - && : 논리 곱(둘 다 참이어야 함)\n",
    "    - || : 논리 합 (둘 중 하나만 참이여도 참)\n",
    "    \n",
    "### 변수\n",
    "- 값을 저장할 때 사용하는 식별자\n",
    "    - 1. 변수 선언\n",
    "    - 2. 변수 초기화\n",
    "    \n",
    "### 자바스크립트를 이용한 메시지 출력(1)\n",
    "- 1. HTML 페이지 만들기"
   ]
  },
  {
   "cell_type": "code",
   "execution_count": 5,
   "id": "68305891",
   "metadata": {},
   "outputs": [
    {
     "ename": "SyntaxError",
     "evalue": "invalid syntax (<ipython-input-5-e2e00f9abbcf>, line 1)",
     "output_type": "error",
     "traceback": [
      "\u001b[1;36m  File \u001b[1;32m\"<ipython-input-5-e2e00f9abbcf>\"\u001b[1;36m, line \u001b[1;32m1\u001b[0m\n\u001b[1;33m    <!DCOTYPE html>\u001b[0m\n\u001b[1;37m    ^\u001b[0m\n\u001b[1;31mSyntaxError\u001b[0m\u001b[1;31m:\u001b[0m invalid syntax\n"
     ]
    }
   ],
   "source": [
    "<!DCOTYPE html>\n",
    "<html>\n",
    "<head>\n",
    "    <title>javaScript Basic</title>\n",
    "    <script>\n",
    "    </script>\n",
    "</head>\n",
    "<body>\n",
    "</body>\n",
    "</html>\n",
    "// 메모장 사용"
   ]
  },
  {
   "cell_type": "markdown",
   "id": "31b23228",
   "metadata": {},
   "source": [
    "### 자바스크립트를 이용한 메시지 출력(2)\n",
    "- 2. 변수 사용하기"
   ]
  },
  {
   "cell_type": "code",
   "execution_count": 6,
   "id": "1dc43d26",
   "metadata": {},
   "outputs": [
    {
     "ename": "SyntaxError",
     "evalue": "invalid syntax (<ipython-input-6-bb410a302cc8>, line 1)",
     "output_type": "error",
     "traceback": [
      "\u001b[1;36m  File \u001b[1;32m\"<ipython-input-6-bb410a302cc8>\"\u001b[1;36m, line \u001b[1;32m1\u001b[0m\n\u001b[1;33m    <!DCOTYPE html>\u001b[0m\n\u001b[1;37m    ^\u001b[0m\n\u001b[1;31mSyntaxError\u001b[0m\u001b[1;31m:\u001b[0m invalid syntax\n"
     ]
    }
   ],
   "source": [
    "<!DCOTYPE html>\n",
    "<html>\n",
    "<head>\n",
    "    <title>javaScript Basic</title>\n",
    "<script>\n",
    "    // 변수를 선언 및 초기화합니다.\n",
    "    var radius = 10;\n",
    "    var pi = 3.14159265;\n",
    "    \n",
    "    // 출력합니다.\n",
    "    alert(2*radius*pi);\n",
    "</script>\n",
    "</head>\n",
    "<body>\n",
    "</body>\n",
    "</html>\n",
    "// 메모장 사용"
   ]
  },
  {
   "cell_type": "markdown",
   "id": "09843135",
   "metadata": {},
   "source": [
    "## 03 조건문과 반복문\n",
    "### 조건문\n",
    "- if 조건문\n",
    "    - 조건이 true 이면 문장을 실행하고 false이면 문장 무시\n",
    "    - 실행 문장이 한행이면 중괄호 생략 가능\n",
    "    - 실행 문장이 여러행이라면 중괄호 필요\n",
    "        - if (조건) {\n",
    "              문장\n",
    "        \n",
    "          }\n",
    "- if 조건문으로 참과 거짓 판별"
   ]
  },
  {
   "cell_type": "code",
   "execution_count": 7,
   "id": "d8068c73",
   "metadata": {},
   "outputs": [
    {
     "ename": "SyntaxError",
     "evalue": "invalid syntax (<ipython-input-7-d798c67cd120>, line 1)",
     "output_type": "error",
     "traceback": [
      "\u001b[1;36m  File \u001b[1;32m\"<ipython-input-7-d798c67cd120>\"\u001b[1;36m, line \u001b[1;32m1\u001b[0m\n\u001b[1;33m    <script>\u001b[0m\n\u001b[1;37m    ^\u001b[0m\n\u001b[1;31mSyntaxError\u001b[0m\u001b[1;31m:\u001b[0m invalid syntax\n"
     ]
    }
   ],
   "source": [
    "<script>\n",
    "    // 조건문\n",
    "    if (273<52) {\n",
    "        // 표현식 \"273<52\"가 참일떄 실행\n",
    "        alert('273<52=>true');        \n",
    "    }\n",
    "    // 프로그램 종료\n",
    "    arlet('프로그램 종료');\n",
    "</script>"
   ]
  },
  {
   "cell_type": "markdown",
   "id": "7828231c",
   "metadata": {},
   "source": [
    "### if 조건문으로 오전과 오후 판별\n",
    "- 1. 현재 시간 구하기"
   ]
  },
  {
   "cell_type": "code",
   "execution_count": 8,
   "id": "912a41a9",
   "metadata": {},
   "outputs": [
    {
     "ename": "SyntaxError",
     "evalue": "invalid syntax (<ipython-input-8-fd9d4cf908ee>, line 1)",
     "output_type": "error",
     "traceback": [
      "\u001b[1;36m  File \u001b[1;32m\"<ipython-input-8-fd9d4cf908ee>\"\u001b[1;36m, line \u001b[1;32m1\u001b[0m\n\u001b[1;33m    <script>\u001b[0m\n\u001b[1;37m    ^\u001b[0m\n\u001b[1;31mSyntaxError\u001b[0m\u001b[1;31m:\u001b[0m invalid syntax\n"
     ]
    }
   ],
   "source": [
    "<script>\n",
    "    // Date 객체를 선언합니다. : 현재시간 측정\n",
    "    var date = new Date();\n",
    "    \n",
    "    // 요소를 추출합니다.\n",
    "    var year = date.getFullYear();\n",
    "    var month = date.getMonth() +1;\n",
    "    var day = date.getDay();\n",
    "    var hours = date.hetHours();\n",
    "    var minutes = date.getMinutes();\n",
    "    var seconds = date.getSeconds();\n",
    "</script>"
   ]
  },
  {
   "cell_type": "markdown",
   "id": "63492e90",
   "metadata": {},
   "source": [
    "### if 조건문으로 오전과 오후 판별\n",
    "- 2. 오전과 오후 구분하기\n"
   ]
  },
  {
   "cell_type": "code",
   "execution_count": 9,
   "id": "81344c43",
   "metadata": {},
   "outputs": [
    {
     "ename": "SyntaxError",
     "evalue": "invalid syntax (<ipython-input-9-acbcdda219c8>, line 1)",
     "output_type": "error",
     "traceback": [
      "\u001b[1;36m  File \u001b[1;32m\"<ipython-input-9-acbcdda219c8>\"\u001b[1;36m, line \u001b[1;32m1\u001b[0m\n\u001b[1;33m    <script>\u001b[0m\n\u001b[1;37m    ^\u001b[0m\n\u001b[1;31mSyntaxError\u001b[0m\u001b[1;31m:\u001b[0m invalid syntax\n"
     ]
    }
   ],
   "source": [
    "<script>\n",
    "    // 변수선언\n",
    "    var date = new Date();\n",
    "    var hours = date.getHours();\n",
    "    \n",
    "    // 조건문\n",
    "    if (hours < 12) {\n",
    "        // 표현식 \"hors <12\"가 참일 때 실행\n",
    "        alert('오전입니다.');\n",
    "    }\n",
    "    \n",
    "    if(12<= hours) {\n",
    "        // 표현식 \"12<= hours\"가 참일떄 실행\n",
    "        alert('오후입니다.');\n",
    "    }\n",
    "</script>"
   ]
  },
  {
   "cell_type": "markdown",
   "id": "25b204e2",
   "metadata": {},
   "source": [
    "### 조건문\n",
    "- if else 조건문\n",
    "    - 두 가지로 분명하게 나뉘는 상황에서 편리하게 사용 가능\n",
    "    - 실행 문장이 한 행이면 중괄호 생략 가능함\n",
    "    - 실행 문장이 여러 행이라면 중괄호 필요함\n",
    "    \n",
    "        - if (조건 {\n",
    "              문장 1\n",
    "        } else {\n",
    "              문장 2\n",
    "        }\n",
    "        \n",
    "### if else 조건문으로 오전과 오후 판별"
   ]
  },
  {
   "cell_type": "code",
   "execution_count": 10,
   "id": "9a297de3",
   "metadata": {},
   "outputs": [
    {
     "ename": "SyntaxError",
     "evalue": "invalid syntax (<ipython-input-10-02ec8a6b58b6>, line 1)",
     "output_type": "error",
     "traceback": [
      "\u001b[1;36m  File \u001b[1;32m\"<ipython-input-10-02ec8a6b58b6>\"\u001b[1;36m, line \u001b[1;32m1\u001b[0m\n\u001b[1;33m    <script>\u001b[0m\n\u001b[1;37m    ^\u001b[0m\n\u001b[1;31mSyntaxError\u001b[0m\u001b[1;31m:\u001b[0m invalid syntax\n"
     ]
    }
   ],
   "source": [
    "<script>\n",
    "    // 변수 선언\n",
    "    var date = new Date();\n",
    "    var hours = date.getHours();\n",
    "    \n",
    "    // 조건문\n",
    "    if (hours < 12) {\n",
    "        // 표현식 \"hours <12\" 가  참일때 실행\n",
    "        alert('오전입니다.');\n",
    "    } else {\n",
    "        // 표현식 \"hours <12\" 가 거짓일때 실행\n",
    "        alert('오후입니다.');\n",
    "    }\n",
    "</script>\n",
    "    "
   ]
  },
  {
   "cell_type": "markdown",
   "id": "1a43d2db",
   "metadata": {},
   "source": [
    "### 조건문\n",
    "- 중첩 조건문과 if else if 조건문\n",
    "    - if (조건){\n",
    "        if (조건){\n",
    "            문장\n",
    "        } else {\n",
    "            문장\n",
    "        }\n",
    "    } else {\n",
    "        if (조건) {\n",
    "            문장\n",
    "        } else {\n",
    "            문장\n",
    "        }\n",
    "    }\n",
    "    \n",
    "### 중첩 조건문으로 하루 일정 표현"
   ]
  },
  {
   "cell_type": "code",
   "execution_count": 11,
   "id": "24bbbfad",
   "metadata": {},
   "outputs": [
    {
     "ename": "SyntaxError",
     "evalue": "invalid syntax (<ipython-input-11-5cdb21d23fbb>, line 1)",
     "output_type": "error",
     "traceback": [
      "\u001b[1;36m  File \u001b[1;32m\"<ipython-input-11-5cdb21d23fbb>\"\u001b[1;36m, line \u001b[1;32m1\u001b[0m\n\u001b[1;33m    <script>\u001b[0m\n\u001b[1;37m    ^\u001b[0m\n\u001b[1;31mSyntaxError\u001b[0m\u001b[1;31m:\u001b[0m invalid syntax\n"
     ]
    }
   ],
   "source": [
    "<script>\n",
    "    // Date 객체를 선언 : 현재 시간 측정\n",
    "    var date = new Date();\n",
    "    var hours = date.getHours();\n",
    "    \n",
    "    // 조건문\n",
    "    if (hours<5) {\n",
    "        alert('잠을자렴...');\n",
    "    } else if (hours <7){\n",
    "        alert('준비');\n",
    "    } else if (hours <9){\n",
    "        alert('출근');\n",
    "    } else if (hours <12){\n",
    "        alert('빈둥빈둥');\n",
    "    } else if (hours <14){\n",
    "        alert('식사');\n",
    "    } else{\n",
    "        // 여러가지 업무 수행\n",
    "    }    \n",
    "</script>"
   ]
  },
  {
   "cell_type": "markdown",
   "id": "969504a4",
   "metadata": {},
   "source": [
    "## 조건문\n",
    "### 중첩 조건문의 중괄호를 생략했을 때 만드는 조건문\n",
    "- if else if 조건문\n",
    "    if (조건) {\n",
    "        문장\n",
    "    } else if (조건) {\n",
    "        문장\n",
    "    } else if (조건) {\n",
    "        문장\n",
    "    } else {\n",
    "        문장\n",
    "    }\n",
    "### if else if 조건문으로 하루 일정 표현"
   ]
  },
  {
   "cell_type": "code",
   "execution_count": 12,
   "id": "6033c43e",
   "metadata": {},
   "outputs": [
    {
     "ename": "SyntaxError",
     "evalue": "invalid syntax (<ipython-input-12-5194be5075e7>, line 1)",
     "output_type": "error",
     "traceback": [
      "\u001b[1;36m  File \u001b[1;32m\"<ipython-input-12-5194be5075e7>\"\u001b[1;36m, line \u001b[1;32m1\u001b[0m\n\u001b[1;33m    <script>\u001b[0m\n\u001b[1;37m    ^\u001b[0m\n\u001b[1;31mSyntaxError\u001b[0m\u001b[1;31m:\u001b[0m invalid syntax\n"
     ]
    }
   ],
   "source": [
    "<script>\n",
    "    // Date 객체 선억: 현재 시간 측정\n",
    "    var date = new Date();\n",
    "    var hours = date.getHours();\n",
    "    \n",
    "    // 조건문\n",
    "    if (hours < 5) {\n",
    "        alert('잠을 자렴...');\n",
    "    } else {\n",
    "        if (hours < 7){\n",
    "            alert('준비');\n",
    "        } else {\n",
    "        if (hours < 9){\n",
    "            alert('출근');\n",
    "        } else {\n",
    "        if (hours < 12){\n",
    "            alert('빈둥빈둥');\n",
    "        } else {\n",
    "        if (hours < 14){\n",
    "            alert('식사준비');\n",
    "        } else{\n",
    "            // 여러가지 업무 수행\n",
    "        }\n",
    "    }\n",
    "    }\n",
    "    }\n",
    "    }\n",
    "</script>"
   ]
  },
  {
   "cell_type": "markdown",
   "id": "2b7d4629",
   "metadata": {},
   "source": [
    "### 반복문\n",
    "- 배열\n",
    "    - 변수 여러개를 한번에 다룰 수 있는 자료형\n",
    "    - 요소 : 배열 내부에 입력된 자료 하나하나\n",
    "    - 배열 내부에 다양한 자료형을 입력 가능\n",
    "    - 배열 전체를 출력하면 요소가 순서대로 표시"
   ]
  },
  {
   "cell_type": "code",
   "execution_count": 13,
   "id": "af7785cf",
   "metadata": {},
   "outputs": [
    {
     "ename": "SyntaxError",
     "evalue": "invalid syntax (<ipython-input-13-26097807d042>, line 1)",
     "output_type": "error",
     "traceback": [
      "\u001b[1;36m  File \u001b[1;32m\"<ipython-input-13-26097807d042>\"\u001b[1;36m, line \u001b[1;32m1\u001b[0m\n\u001b[1;33m    <script>\u001b[0m\n\u001b[1;37m    ^\u001b[0m\n\u001b[1;31mSyntaxError\u001b[0m\u001b[1;31m:\u001b[0m invalid syntax\n"
     ]
    }
   ],
   "source": [
    "<script>\n",
    "    // 변수 선언\n",
    "    var array = [273, '문자열', true, function(){},{},[32.103]];\n",
    "    alert(array);\n",
    "</script>"
   ]
  },
  {
   "cell_type": "markdown",
   "id": "4547b6b0",
   "metadata": {},
   "source": [
    "### 배열 생성과 배열 요소 접근"
   ]
  },
  {
   "cell_type": "code",
   "execution_count": 14,
   "id": "dd46c380",
   "metadata": {},
   "outputs": [
    {
     "ename": "SyntaxError",
     "evalue": "invalid syntax (<ipython-input-14-4515cf2189fd>, line 1)",
     "output_type": "error",
     "traceback": [
      "\u001b[1;36m  File \u001b[1;32m\"<ipython-input-14-4515cf2189fd>\"\u001b[1;36m, line \u001b[1;32m1\u001b[0m\n\u001b[1;33m    <script>\u001b[0m\n\u001b[1;37m    ^\u001b[0m\n\u001b[1;31mSyntaxError\u001b[0m\u001b[1;31m:\u001b[0m invalid syntax\n"
     ]
    }
   ],
   "source": [
    "<script>\n",
    "// 변수 선언\n",
    "    var array = ['가','나','다','라'];\n",
    "    \n",
    "    // 배열 요소 변경\n",
    "    array[0] = '윤';\n",
    "    // 요소 출력\n",
    "    alert(array[0]);\n",
    "    alert(array[1]);\n",
    "    alert(array[2]);\n",
    "    alert(array[3]);\n",
    "</script>"
   ]
  },
  {
   "cell_type": "markdown",
   "id": "0b5ec0a5",
   "metadata": {},
   "source": [
    "### 반복문\n",
    "- while 반복문\n",
    "    - 가장 기본적인 반복문\n",
    "    - if 조건문과 형식이 비슷하지만\n",
    "    - if 조건문과 달리 bool 표현식이 참이면 중괄호 안 문장을 계속 실행\n",
    "        - while (조건) {\n",
    "                문장\n",
    "            }"
   ]
  },
  {
   "cell_type": "code",
   "execution_count": 15,
   "id": "fbca2c65",
   "metadata": {},
   "outputs": [
    {
     "ename": "SyntaxError",
     "evalue": "invalid syntax (<ipython-input-15-71111b13c6ef>, line 1)",
     "output_type": "error",
     "traceback": [
      "\u001b[1;36m  File \u001b[1;32m\"<ipython-input-15-71111b13c6ef>\"\u001b[1;36m, line \u001b[1;32m1\u001b[0m\n\u001b[1;33m    <script>\u001b[0m\n\u001b[1;37m    ^\u001b[0m\n\u001b[1;31mSyntaxError\u001b[0m\u001b[1;31m:\u001b[0m invalid syntax\n"
     ]
    }
   ],
   "source": [
    "<script>\n",
    "    // 변수 선언\n",
    "    var i = 0;\n",
    "    var array = ['가','나','다'];\n",
    "    \n",
    "    // 반복 수행, i가 배열 원소 개수인 3보다 작을때 반복\n",
    "    while (i<array.length){\n",
    "        //출력\n",
    "        alert(i+'번째 출력:'+ array[i]);\n",
    "        \n",
    "        // 탈출하려고 변수를 더합니다.\n",
    "        i++;\n",
    "    }\n",
    "</script>"
   ]
  },
  {
   "cell_type": "markdown",
   "id": "e633f746",
   "metadata": {},
   "source": [
    "### 반복문\n",
    "- for 반복문\n",
    "    - for 반복문은 원하는 횟수만큼 반복하고 싶을 때 사용\n",
    "    - 1. 초기식을 비교\n",
    "    - 2. 조건식을 비교, 조건이 거짓이면 반복문을 종료\n",
    "    - 3. 문장 실행\n",
    "    - 4. 종결식 실행\n",
    "    - 5. 앞의 2단계로 이동\n",
    "    \n",
    "        - for (초기식;조건식;종결식) {\n",
    "            문장\n",
    "        }\n",
    "        \n",
    "        \n",
    "### for 반복문"
   ]
  },
  {
   "cell_type": "code",
   "execution_count": 16,
   "id": "a7833b35",
   "metadata": {},
   "outputs": [
    {
     "ename": "SyntaxError",
     "evalue": "invalid syntax (<ipython-input-16-5358da49d8cd>, line 1)",
     "output_type": "error",
     "traceback": [
      "\u001b[1;36m  File \u001b[1;32m\"<ipython-input-16-5358da49d8cd>\"\u001b[1;36m, line \u001b[1;32m1\u001b[0m\n\u001b[1;33m    <script>\u001b[0m\n\u001b[1;37m    ^\u001b[0m\n\u001b[1;31mSyntaxError\u001b[0m\u001b[1;31m:\u001b[0m invalid syntax\n"
     ]
    }
   ],
   "source": [
    "<script>\n",
    "    // 변수 선언\n",
    "    var array = ['가','나','다'];\n",
    "    \n",
    "    // 반복 수행\n",
    "    for (var i = 0; i<3; i++){\n",
    "        // 출력\n",
    "        alert(i + '번째 출력:'+ array[i])\n",
    "    }\n",
    "</script>"
   ]
  },
  {
   "cell_type": "markdown",
   "id": "c3fc7b91",
   "metadata": {},
   "source": [
    "### for 반복문을 사용한 0부터 100까지 합 계산"
   ]
  },
  {
   "cell_type": "code",
   "execution_count": 17,
   "id": "f0ea4ec5",
   "metadata": {},
   "outputs": [
    {
     "ename": "SyntaxError",
     "evalue": "invalid syntax (<ipython-input-17-5b0b53d298d1>, line 1)",
     "output_type": "error",
     "traceback": [
      "\u001b[1;36m  File \u001b[1;32m\"<ipython-input-17-5b0b53d298d1>\"\u001b[1;36m, line \u001b[1;32m1\u001b[0m\n\u001b[1;33m    <script>\u001b[0m\n\u001b[1;37m    ^\u001b[0m\n\u001b[1;31mSyntaxError\u001b[0m\u001b[1;31m:\u001b[0m invalid syntax\n"
     ]
    }
   ],
   "source": [
    "<script>\n",
    "    // 변수 선언\n",
    "    var output = 0;\n",
    "    \n",
    "    // 반복 수행\n",
    "    for (var i =0; i<= 100; i++){\n",
    "        output += i;\n",
    "    }\n",
    "    \n",
    "    // 출력\n",
    "    alert(output);\n",
    "</script>"
   ]
  },
  {
   "cell_type": "markdown",
   "id": "bdb33202",
   "metadata": {},
   "source": [
    "## 함수\n",
    "### 선언과 호출, 실행 우선순위\n",
    "- 선언과 호출\n",
    "    - 함수 : 코드 집합을 나타내는 자료형\n",
    "    - 익명 함수 생성 : 함수 이름을 입력하지 않고 만들기\n",
    "    - 선언적 함수 생성 : 함수 이름을 입력해서 만들기\n",
    "\n",
    "### 함수 선언\n",
    "- 익명 함수 선언하기"
   ]
  },
  {
   "cell_type": "code",
   "execution_count": 18,
   "id": "7bf3743f",
   "metadata": {},
   "outputs": [
    {
     "ename": "SyntaxError",
     "evalue": "invalid syntax (<ipython-input-18-7e3b98ad7f4a>, line 1)",
     "output_type": "error",
     "traceback": [
      "\u001b[1;36m  File \u001b[1;32m\"<ipython-input-18-7e3b98ad7f4a>\"\u001b[1;36m, line \u001b[1;32m1\u001b[0m\n\u001b[1;33m    <script>\u001b[0m\n\u001b[1;37m    ^\u001b[0m\n\u001b[1;31mSyntaxError\u001b[0m\u001b[1;31m:\u001b[0m invalid syntax\n"
     ]
    }
   ],
   "source": [
    "<script>\n",
    "    // 함수 선언\n",
    "    var 함수 = function (){\n",
    "        alert('함수_01');\n",
    "        alert('함수_02');\n",
    "    };\n",
    "    // 출력\n",
    "    alert(typeof(함수)+':'+함수);\n",
    "</script>"
   ]
  },
  {
   "cell_type": "markdown",
   "id": "0ce87179",
   "metadata": {},
   "source": [
    "- 선언적 함수 선언하기"
   ]
  },
  {
   "cell_type": "code",
   "execution_count": 19,
   "id": "5ea5a55e",
   "metadata": {},
   "outputs": [
    {
     "ename": "SyntaxError",
     "evalue": "invalid syntax (<ipython-input-19-9ba2d2b5dd8a>, line 1)",
     "output_type": "error",
     "traceback": [
      "\u001b[1;36m  File \u001b[1;32m\"<ipython-input-19-9ba2d2b5dd8a>\"\u001b[1;36m, line \u001b[1;32m1\u001b[0m\n\u001b[1;33m    <script>\u001b[0m\n\u001b[1;37m    ^\u001b[0m\n\u001b[1;31mSyntaxError\u001b[0m\u001b[1;31m:\u001b[0m invalid syntax\n"
     ]
    }
   ],
   "source": [
    "<script>\n",
    "    // 함수 선언\n",
    "    function 함수() {\n",
    "        alert('함수_01');\n",
    "        alert('함수_02');\n",
    "    };\n",
    "    \n",
    "    // 출력\n",
    "    alert(typeof(함수)+':'+함수);\n",
    "</script>"
   ]
  },
  {
   "cell_type": "markdown",
   "id": "a0c133e9",
   "metadata": {},
   "source": [
    "## 함수\n",
    "### 선언과 호출, 실행 우선순위\n",
    "- 실행 우선순위\n",
    "    - 가장 마지막에 입력된 값이 저장"
   ]
  },
  {
   "cell_type": "code",
   "execution_count": 20,
   "id": "74ae8fa1",
   "metadata": {},
   "outputs": [
    {
     "ename": "SyntaxError",
     "evalue": "invalid syntax (<ipython-input-20-7ae6245e801c>, line 1)",
     "output_type": "error",
     "traceback": [
      "\u001b[1;36m  File \u001b[1;32m\"<ipython-input-20-7ae6245e801c>\"\u001b[1;36m, line \u001b[1;32m1\u001b[0m\n\u001b[1;33m    <script>\u001b[0m\n\u001b[1;37m    ^\u001b[0m\n\u001b[1;31mSyntaxError\u001b[0m\u001b[1;31m:\u001b[0m invalid syntax\n"
     ]
    }
   ],
   "source": [
    "<script>\n",
    "    // 함수 선언\n",
    "    var 함수 = function(){alert('함수_A');};\n",
    "    var 함수 = function(){alert('함수_B');};\n",
    "    \n",
    "    // 함수 호출\n",
    "    함수();\n",
    "</script>"
   ]
  },
  {
   "cell_type": "code",
   "execution_count": 21,
   "id": "2233c6da",
   "metadata": {},
   "outputs": [
    {
     "ename": "SyntaxError",
     "evalue": "invalid syntax (<ipython-input-21-49f736488dda>, line 2)",
     "output_type": "error",
     "traceback": [
      "\u001b[1;36m  File \u001b[1;32m\"<ipython-input-21-49f736488dda>\"\u001b[1;36m, line \u001b[1;32m2\u001b[0m\n\u001b[1;33m    <script>\u001b[0m\n\u001b[1;37m    ^\u001b[0m\n\u001b[1;31mSyntaxError\u001b[0m\u001b[1;31m:\u001b[0m invalid syntax\n"
     ]
    }
   ],
   "source": [
    "## ※ 주의 ※ 선언적 함수와 익명 함수를 함께 사용할 때 모든 코드를 읽기 전에 선언적 함수를 먼저 읽음\n",
    "<script>\n",
    "    // 함수 선언\n",
    "    var 함수 = function(){alert('함수_A');};\n",
    "    function 함수() {alert('함수_B');};\n",
    "    \n",
    "    // 함수 호출\n",
    "    함수();\n",
    "    \n",
    "</script>"
   ]
  },
  {
   "cell_type": "markdown",
   "id": "a31ec86b",
   "metadata": {},
   "source": [
    "### 매개변수와 반환 값\n",
    "- 매개변수\n",
    "    - 함수의 괄호 안에 집어넣어 함수 쪽에 추가적인 정보를 전달하는 것\n",
    "- 리턴 값\n",
    "    - 함수를 실행한 결과를 반환 값\n",
    "    \n",
    "        - function 함수 이름(매개변수, 매개변수, 매개변수){\n",
    "        // 함수코드\n",
    "        // 함수코드\n",
    "        // 함수코드\n",
    "        return 반환 값;\n",
    "        }"
   ]
  },
  {
   "cell_type": "code",
   "execution_count": 22,
   "id": "f09a3d7c",
   "metadata": {},
   "outputs": [
    {
     "ename": "SyntaxError",
     "evalue": "invalid syntax (<ipython-input-22-f999196e2472>, line 1)",
     "output_type": "error",
     "traceback": [
      "\u001b[1;36m  File \u001b[1;32m\"<ipython-input-22-f999196e2472>\"\u001b[1;36m, line \u001b[1;32m1\u001b[0m\n\u001b[1;33m    <script>\u001b[0m\n\u001b[1;37m    ^\u001b[0m\n\u001b[1;31mSyntaxError\u001b[0m\u001b[1;31m:\u001b[0m invalid syntax\n"
     ]
    }
   ],
   "source": [
    "<script>\n",
    "    // 함수 선언\n",
    "    function f(x) {\n",
    "        return x * x;\n",
    "    }\n",
    "    // 함수 호출\n",
    "    alert(f(3));\n",
    "</script>"
   ]
  },
  {
   "cell_type": "markdown",
   "id": "08738816",
   "metadata": {},
   "source": [
    "### 콜백 함수\n",
    "- 매개 변수로 전달되는 함수"
   ]
  },
  {
   "cell_type": "code",
   "execution_count": 23,
   "id": "96946b54",
   "metadata": {},
   "outputs": [
    {
     "ename": "SyntaxError",
     "evalue": "invalid syntax (<ipython-input-23-6d12ff0c204c>, line 1)",
     "output_type": "error",
     "traceback": [
      "\u001b[1;36m  File \u001b[1;32m\"<ipython-input-23-6d12ff0c204c>\"\u001b[1;36m, line \u001b[1;32m1\u001b[0m\n\u001b[1;33m    <script>\u001b[0m\n\u001b[1;37m    ^\u001b[0m\n\u001b[1;31mSyntaxError\u001b[0m\u001b[1;31m:\u001b[0m invalid syntax\n"
     ]
    }
   ],
   "source": [
    "<script>\n",
    "    // 함수 선언\n",
    "    function callTenTimes(callback){\n",
    "        // 10회 반복\n",
    "        for (var i = 0; i<10; i++){\n",
    "            callback();\n",
    "        }\n",
    "    }\n",
    "    \n",
    "    // 변수 선언\n",
    "    var callback = function(){\n",
    "        alert('함수 호출');\n",
    "    };\n",
    "    callTenTimes(callback); // 함수 호출\n",
    "</script>"
   ]
  },
  {
   "cell_type": "code",
   "execution_count": 24,
   "id": "2fea0dd9",
   "metadata": {},
   "outputs": [
    {
     "ename": "SyntaxError",
     "evalue": "invalid syntax (<ipython-input-24-b33b6abda0f6>, line 2)",
     "output_type": "error",
     "traceback": [
      "\u001b[1;36m  File \u001b[1;32m\"<ipython-input-24-b33b6abda0f6>\"\u001b[1;36m, line \u001b[1;32m2\u001b[0m\n\u001b[1;33m    <script>\u001b[0m\n\u001b[1;37m    ^\u001b[0m\n\u001b[1;31mSyntaxError\u001b[0m\u001b[1;31m:\u001b[0m invalid syntax\n"
     ]
    }
   ],
   "source": [
    "## 익명 함수로 실행하기\n",
    "<script>\n",
    "    // 함수 선언\n",
    "    function callTenTimes(callback){\n",
    "        // 10회 반복\n",
    "        for (var i = 0; i<10; i++){\n",
    "            callback();\n",
    "        }\n",
    "    }\n",
    "    \n",
    "    // 함수 호출\n",
    "    callTenTimes(function(){\n",
    "        alert('함수 호출');\n",
    "    };\n",
    "</script>"
   ]
  },
  {
   "cell_type": "markdown",
   "id": "98308b18",
   "metadata": {},
   "source": [
    "## 객체\n",
    "### 객체 개요\n",
    "- 객체는 자료형 여려개를 한 번에 저장\n",
    "- 배열은 요소에 접근할 때 인덱스를 사용하지만, 객체는 키를 사용"
   ]
  },
  {
   "cell_type": "code",
   "execution_count": 25,
   "id": "716bd2f4",
   "metadata": {},
   "outputs": [
    {
     "ename": "SyntaxError",
     "evalue": "invalid syntax (<ipython-input-25-0af04c94e44e>, line 1)",
     "output_type": "error",
     "traceback": [
      "\u001b[1;36m  File \u001b[1;32m\"<ipython-input-25-0af04c94e44e>\"\u001b[1;36m, line \u001b[1;32m1\u001b[0m\n\u001b[1;33m    <script>\u001b[0m\n\u001b[1;37m    ^\u001b[0m\n\u001b[1;31mSyntaxError\u001b[0m\u001b[1;31m:\u001b[0m invalid syntax\n"
     ]
    }
   ],
   "source": [
    "<script>\n",
    "    // 객체 선언\n",
    "    var product = {\n",
    "        제품명: '7D 건조 망고',\n",
    "        유형: '당절임',\n",
    "        성분: '망고, 설탕, 메타중아황산나트륨, 치자황색소',\n",
    "        원산지: '필리핀'\n",
    "    };\n",
    "</script>"
   ]
  },
  {
   "cell_type": "markdown",
   "id": "30af92a1",
   "metadata": {},
   "source": [
    "- 객체 뒤의 대괄호를 사용해 키를 입력하면 객체 소석에 접근"
   ]
  },
  {
   "cell_type": "code",
   "execution_count": 26,
   "id": "a9be8983",
   "metadata": {},
   "outputs": [
    {
     "ename": "SyntaxError",
     "evalue": "invalid syntax (<ipython-input-26-b9577c112b16>, line 1)",
     "output_type": "error",
     "traceback": [
      "\u001b[1;36m  File \u001b[1;32m\"<ipython-input-26-b9577c112b16>\"\u001b[1;36m, line \u001b[1;32m1\u001b[0m\n\u001b[1;33m    product['제품명'] -> '7D 건조 망고'\u001b[0m\n\u001b[1;37m                   ^\u001b[0m\n\u001b[1;31mSyntaxError\u001b[0m\u001b[1;31m:\u001b[0m invalid syntax\n"
     ]
    }
   ],
   "source": [
    "product['제품명'] -> '7D 건조 망고'\n",
    "product['유형'] -> '당절임'\n",
    "product['성분'] -> '망고, 설탕, 메타중아황산나트륨, 치자황색소'\n",
    "product['원산지'] -> '필리핀'"
   ]
  },
  {
   "cell_type": "markdown",
   "id": "587e7216",
   "metadata": {},
   "source": [
    "- 객체 뒤의 점(.)을 찍어 객체 속성에 접근"
   ]
  },
  {
   "cell_type": "code",
   "execution_count": 27,
   "id": "d378a147",
   "metadata": {},
   "outputs": [
    {
     "ename": "SyntaxError",
     "evalue": "invalid syntax (<ipython-input-27-3a13090e4fca>, line 1)",
     "output_type": "error",
     "traceback": [
      "\u001b[1;36m  File \u001b[1;32m\"<ipython-input-27-3a13090e4fca>\"\u001b[1;36m, line \u001b[1;32m1\u001b[0m\n\u001b[1;33m    product.제품명 -> '7D 건조 망고'\u001b[0m\n\u001b[1;37m                ^\u001b[0m\n\u001b[1;31mSyntaxError\u001b[0m\u001b[1;31m:\u001b[0m invalid syntax\n"
     ]
    }
   ],
   "source": [
    "product.제품명 -> '7D 건조 망고'\n",
    "product.유형 -> '당절임'\n",
    "product.성분 -> '망고, 설탕, 메타중아황산나트륨, 치자황색소'\n",
    "product.원산지 -> '필리핀'"
   ]
  },
  {
   "cell_type": "markdown",
   "id": "b4afbfe9",
   "metadata": {},
   "source": [
    "- for in 반복문\n",
    "    - 객체 요소를 하나씩 살펴볼 수 있음\n",
    "        - for(var 키 in 객체) {\n",
    "            문장\n",
    "          }"
   ]
  },
  {
   "cell_type": "code",
   "execution_count": 28,
   "id": "f2ebad9e",
   "metadata": {},
   "outputs": [
    {
     "ename": "SyntaxError",
     "evalue": "invalid syntax (<ipython-input-28-01429ec89065>, line 1)",
     "output_type": "error",
     "traceback": [
      "\u001b[1;36m  File \u001b[1;32m\"<ipython-input-28-01429ec89065>\"\u001b[1;36m, line \u001b[1;32m1\u001b[0m\n\u001b[1;33m    <script>\u001b[0m\n\u001b[1;37m    ^\u001b[0m\n\u001b[1;31mSyntaxError\u001b[0m\u001b[1;31m:\u001b[0m invalid syntax\n"
     ]
    }
   ],
   "source": [
    "<script>\n",
    "    // 객체 선언\n",
    "    var product = {\n",
    "        제품명: '7D 건조 망고',\n",
    "        유형: '당절임',\n",
    "        성분: '망고, 설탕, 메타중아황산나트륨, 치자황색소',\n",
    "        원산지: '필리핀'\n",
    "    };\n",
    "    \n",
    "    // 출력\n",
    "    for (var i in product){\n",
    "        alert(i + ':' + product[i]);\n",
    "    }\n",
    "</script>"
   ]
  },
  {
   "cell_type": "markdown",
   "id": "91115a85",
   "metadata": {},
   "source": [
    "### 속성과 매서드\n",
    "- 요소(element)\n",
    "    - 배열에 있는 값 하나하나\n",
    "- 속성(property)\n",
    "    - 객체에 잇는 값 하나하나"
   ]
  },
  {
   "cell_type": "code",
   "execution_count": 29,
   "id": "76b83763",
   "metadata": {},
   "outputs": [
    {
     "ename": "SyntaxError",
     "evalue": "invalid syntax (<ipython-input-29-248b53625e3a>, line 1)",
     "output_type": "error",
     "traceback": [
      "\u001b[1;36m  File \u001b[1;32m\"<ipython-input-29-248b53625e3a>\"\u001b[1;36m, line \u001b[1;32m1\u001b[0m\n\u001b[1;33m    // 객체 선언\u001b[0m\n\u001b[1;37m    ^\u001b[0m\n\u001b[1;31mSyntaxError\u001b[0m\u001b[1;31m:\u001b[0m invalid syntax\n"
     ]
    }
   ],
   "source": [
    "// 객체 선언\n",
    "var object = {\n",
    "    number: 273,\n",
    "    string: ;'rintiantta',\n",
    "    boolean: true,\n",
    "    array: [52, 273, 103, 32],\n",
    "    method: function(){\n",
    "    }\n",
    "};"
   ]
  },
  {
   "cell_type": "markdown",
   "id": "de12445d",
   "metadata": {},
   "source": [
    "- this  키워드\n",
    "    - 객체에 있는 속성을 매서드에서 사용하고 싶을 때는 자신이 가진 속성임을 분명하게 표시해야 함"
   ]
  },
  {
   "cell_type": "code",
   "execution_count": 30,
   "id": "84dbbddd",
   "metadata": {},
   "outputs": [
    {
     "ename": "SyntaxError",
     "evalue": "invalid syntax (<ipython-input-30-554c4df95f4c>, line 1)",
     "output_type": "error",
     "traceback": [
      "\u001b[1;36m  File \u001b[1;32m\"<ipython-input-30-554c4df95f4c>\"\u001b[1;36m, line \u001b[1;32m1\u001b[0m\n\u001b[1;33m    <script>\u001b[0m\n\u001b[1;37m    ^\u001b[0m\n\u001b[1;31mSyntaxError\u001b[0m\u001b[1;31m:\u001b[0m invalid syntax\n"
     ]
    }
   ],
   "source": [
    "<script>\n",
    "    // 객체 선언\n",
    "    var person = {\n",
    "        name: '윤인성',\n",
    "        eat: function(food){\n",
    "            alert(this.name + '이' + food + '을/를 먹습니다.');\n",
    "        }\n",
    "    }\n",
    "    \n",
    "    // 매서드 호출\n",
    "    person.eat('밥');\n",
    "</script>"
   ]
  },
  {
   "cell_type": "code",
   "execution_count": null,
   "id": "6623f792",
   "metadata": {},
   "outputs": [],
   "source": []
  }
 ],
 "metadata": {
  "kernelspec": {
   "display_name": "Python 3",
   "language": "python",
   "name": "python3"
  },
  "language_info": {
   "codemirror_mode": {
    "name": "ipython",
    "version": 3
   },
   "file_extension": ".py",
   "mimetype": "text/x-python",
   "name": "python",
   "nbconvert_exporter": "python",
   "pygments_lexer": "ipython3",
   "version": "3.8.8"
  }
 },
 "nbformat": 4,
 "nbformat_minor": 5
}
