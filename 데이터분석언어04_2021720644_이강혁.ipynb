{
  "nbformat": 4,
  "nbformat_minor": 0,
  "metadata": {
    "colab": {
      "name": "데이터분석언어04_2021720644_이강혁.ipynb",
      "provenance": [],
      "collapsed_sections": [],
      "authorship_tag": "ABX9TyNRMWDw1MJ4QgvCqW9O/87e",
      "include_colab_link": true
    },
    "kernelspec": {
      "name": "python3",
      "display_name": "Python 3"
    },
    "language_info": {
      "name": "python"
    }
  },
  "cells": [
    {
      "cell_type": "markdown",
      "metadata": {
        "id": "view-in-github",
        "colab_type": "text"
      },
      "source": [
        "<a href=\"https://colab.research.google.com/github/hyuk-k/hyuk-k/blob/main/%EB%8D%B0%EC%9D%B4%ED%84%B0%EB%B6%84%EC%84%9D%EC%96%B8%EC%96%B404_2021720644_%EC%9D%B4%EA%B0%95%ED%98%81.ipynb\" target=\"_parent\"><img src=\"https://colab.research.google.com/assets/colab-badge.svg\" alt=\"Open In Colab\"/></a>"
      ]
    },
    {
      "cell_type": "markdown",
      "metadata": {
        "id": "0HrPDdXm6K1X"
      },
      "source": [
        "# 데이터분석언어_ 5주차(2021.09.27)\n",
        "# 2021720644 이강혁\n",
        "# 반복문\n",
        "### while 반복문\n",
        "- 조건이 만족하는 동안 명령을 계속 실행\n",
        "- 루프\n",
        "  - 반복적으로 처리하는 명령\n",
        "- 반복문은 코드 변경이 쉬움\n",
        "  - 조건식이나 출력문 등 변경 통해 수정\n",
        "\n",
        "### for 반복문\n",
        "- 컬렉션 요소 순서대로 반복하면서 루프 명령 실행\n",
        "- range 명령\n",
        "  - 일정 범위 리스트 만들고 그 요소를 반복\n",
        "\n",
        "### 제어 변수의 활용\n",
        "- 루프의 반복 횟수와 끝낼 시점을 결정\n",
        "- % 연산자 : 배수를 판별\n",
        "  - x % 10 ==0\n",
        "    - 10의 배수 좌표\n",
        "  - x가 10으로 나누어 떨어지는 자리에 +를, 나머지 자리에는 - 를 출력\n",
        "\n",
        "### break\n",
        "- 반복문을 끝내는 명령\n",
        "- 특정한 조건에 따라 루프 끝내고 다음 명령으로 이동\n",
        "\n",
        "### continue\n",
        "- 현재 루프만 건너뛰고 나머지는 계속 반복 수행하는 명령\n",
        "- 현재 반복을 중지하고 루프 선두의 조건 점검한 후 반복 재개\n",
        "\n",
        "## 루프의 활용\n",
        "### 이중 루프\n",
        "- 루프 안 명령 자리에 또다른 루프가 들어가 중첩된 것\n",
        "  - 이중 루프를 작성하는 경우에도 들여쓰기에 중의\n",
        "\n",
        "### 범위의 원칙\n",
        "- 컴퓨터에서 범위 설정할 떄에는 끝 요소를 제외하고 직전까지만 포함\n",
        "- range(1, 10) = 1에서 9까지의 범위\n",
        "  - 범위 구간 나누어 반복 처리할 때의 편의 위함\n",
        "- 오프셋\n",
        "  - 기준에서의 상대적인 거리\n",
        "  - 0부터 시작"
      ]
    },
    {
      "cell_type": "code",
      "metadata": {
        "colab": {
          "base_uri": "https://localhost:8080/"
        },
        "id": "QJnSLhsF6FFl",
        "outputId": "35bf26e2-da9b-42e8-f1e7-67b4acfa9fb3"
      },
      "source": [
        "num = 50\n",
        "sum = 0\n",
        "while num <= 100:\n",
        "  sum += num\n",
        "  num += 1\n",
        "  print(\"num=\", num -1)\n",
        "print(\"sum=\", sum)"
      ],
      "execution_count": 1,
      "outputs": [
        {
          "output_type": "stream",
          "name": "stdout",
          "text": [
            "num= 50\n",
            "num= 51\n",
            "num= 52\n",
            "num= 53\n",
            "num= 54\n",
            "num= 55\n",
            "num= 56\n",
            "num= 57\n",
            "num= 58\n",
            "num= 59\n",
            "num= 60\n",
            "num= 61\n",
            "num= 62\n",
            "num= 63\n",
            "num= 64\n",
            "num= 65\n",
            "num= 66\n",
            "num= 67\n",
            "num= 68\n",
            "num= 69\n",
            "num= 70\n",
            "num= 71\n",
            "num= 72\n",
            "num= 73\n",
            "num= 74\n",
            "num= 75\n",
            "num= 76\n",
            "num= 77\n",
            "num= 78\n",
            "num= 79\n",
            "num= 80\n",
            "num= 81\n",
            "num= 82\n",
            "num= 83\n",
            "num= 84\n",
            "num= 85\n",
            "num= 86\n",
            "num= 87\n",
            "num= 88\n",
            "num= 89\n",
            "num= 90\n",
            "num= 91\n",
            "num= 92\n",
            "num= 93\n",
            "num= 94\n",
            "num= 95\n",
            "num= 96\n",
            "num= 97\n",
            "num= 98\n",
            "num= 99\n",
            "num= 100\n",
            "sum= 3825\n"
          ]
        }
      ]
    },
    {
      "cell_type": "code",
      "metadata": {
        "colab": {
          "base_uri": "https://localhost:8080/"
        },
        "id": "ijg2eib9QhpC",
        "outputId": "859fb4c3-c58e-492f-e142-db40e94a7c8d"
      },
      "source": [
        "num = 151\n",
        "sum = 0\n",
        "while num <= 300:\n",
        "  sum += num\n",
        "  num += 2\n",
        "print(\"num=\", num-2)\n",
        "print(\"sum=\", sum)"
      ],
      "execution_count": 2,
      "outputs": [
        {
          "output_type": "stream",
          "name": "stdout",
          "text": [
            "num= 299\n",
            "sum= 16875\n"
          ]
        }
      ]
    },
    {
      "cell_type": "code",
      "metadata": {
        "colab": {
          "base_uri": "https://localhost:8080/"
        },
        "id": "pcgjTBJgUnGd",
        "outputId": "0f22a375-5e4d-4798-abbe-ed4699bb57d4"
      },
      "source": [
        "for student in [10, 20, 30, 40, 50]:\n",
        "  print(student, \"번 학생의 성적을 처리한다.\")"
      ],
      "execution_count": 3,
      "outputs": [
        {
          "output_type": "stream",
          "name": "stdout",
          "text": [
            "10 번 학생의 성적을 처리한다.\n",
            "20 번 학생의 성적을 처리한다.\n",
            "30 번 학생의 성적을 처리한다.\n",
            "40 번 학생의 성적을 처리한다.\n",
            "50 번 학생의 성적을 처리한다.\n"
          ]
        }
      ]
    },
    {
      "cell_type": "code",
      "metadata": {
        "colab": {
          "base_uri": "https://localhost:8080/"
        },
        "id": "LVwzC8jsUvsM",
        "outputId": "cd4249b5-db6c-4796-d3b4-c6fc1240065f"
      },
      "source": [
        "sum = 0\n",
        "for num in range(1,101):\n",
        "    sum += num\n",
        "print(\"sum=\",sum)"
      ],
      "execution_count": 4,
      "outputs": [
        {
          "output_type": "stream",
          "name": "stdout",
          "text": [
            "sum= 5050\n"
          ]
        }
      ]
    },
    {
      "cell_type": "code",
      "metadata": {
        "colab": {
          "base_uri": "https://localhost:8080/"
        },
        "id": "R3v_gv6xVCwk",
        "outputId": "34aef938-0c95-40d9-e6f9-f73eae3c50cb"
      },
      "source": [
        "sum = 0\n",
        "for num in range(2, 101, 2):\n",
        "  sum += num\n",
        "print(\"sum=\",sum)"
      ],
      "execution_count": 5,
      "outputs": [
        {
          "output_type": "stream",
          "name": "stdout",
          "text": [
            "sum= 2550\n"
          ]
        }
      ]
    },
    {
      "cell_type": "code",
      "metadata": {
        "colab": {
          "base_uri": "https://localhost:8080/"
        },
        "id": "AqAGsjMiVU-D",
        "outputId": "14045b3a-5608-4f56-abaf-9c9c91b2d8db"
      },
      "source": [
        "for x in range(1, 51):\n",
        "  if(x % 10 == 0):\n",
        "    print('*',end='')\n",
        "  else:\n",
        "    print('-',end='')"
      ],
      "execution_count": 7,
      "outputs": [
        {
          "output_type": "stream",
          "name": "stdout",
          "text": [
            "---------*---------*---------*---------*---------*"
          ]
        }
      ]
    },
    {
      "cell_type": "code",
      "metadata": {
        "colab": {
          "base_uri": "https://localhost:8080/"
        },
        "id": "lu3K_2KSZOkH",
        "outputId": "3a9acbcb-c669-41a0-d7d6-baf28434939b"
      },
      "source": [
        "x = 1\n",
        "while x <= 50:\n",
        "  if(x%10):\n",
        "    print('-', end= '')\n",
        "  else:\n",
        "    print('+', end= '')\n",
        "  x += 1"
      ],
      "execution_count": 8,
      "outputs": [
        {
          "output_type": "stream",
          "name": "stdout",
          "text": [
            "---------+---------+---------+---------+---------+"
          ]
        }
      ]
    },
    {
      "cell_type": "code",
      "metadata": {
        "colab": {
          "base_uri": "https://localhost:8080/"
        },
        "id": "zJOUdVRqZzuQ",
        "outputId": "732a9805-674d-47d9-b23a-9f724f800b5a"
      },
      "source": [
        "for x in range(1, 51):\n",
        "  if (x % 10 == 5):\n",
        "    print('+', end = '')\n",
        "  else:\n",
        "    print('-', end = '')"
      ],
      "execution_count": 9,
      "outputs": [
        {
          "output_type": "stream",
          "name": "stdout",
          "text": [
            "----+---------+---------+---------+---------+-----"
          ]
        }
      ]
    },
    {
      "cell_type": "code",
      "metadata": {
        "colab": {
          "base_uri": "https://localhost:8080/"
        },
        "id": "J3FwM1n2cSix",
        "outputId": "dbb5f7c2-6868-4bf6-d746-f7b2c4efa48f"
      },
      "source": [
        "score = [95, 85, 78, 150]\n",
        "for s in score:\n",
        "  if (s<0 or s>100):\n",
        "    break\n",
        "  print(s)\n",
        "print(\"성적 처리 끝\")"
      ],
      "execution_count": 10,
      "outputs": [
        {
          "output_type": "stream",
          "name": "stdout",
          "text": [
            "95\n",
            "85\n",
            "78\n",
            "성적 처리 끝\n"
          ]
        }
      ]
    },
    {
      "cell_type": "code",
      "metadata": {
        "colab": {
          "base_uri": "https://localhost:8080/"
        },
        "id": "N03n-WHOdhnn",
        "outputId": "4bfbbd9d-234d-4294-fd9d-613ce8bfc6ee"
      },
      "source": [
        "for i in range(0, 3, 1):\n",
        "  for k in range(0, 2, 1):\n",
        "    print(\"컴퓨터프로그래밍 (i값 : %d, k값: %d)\" % (i,k))"
      ],
      "execution_count": 14,
      "outputs": [
        {
          "output_type": "stream",
          "name": "stdout",
          "text": [
            "컴퓨터프로그래밍 (i값 : 0, k값: 0)\n",
            "컴퓨터프로그래밍 (i값 : 0, k값: 1)\n",
            "컴퓨터프로그래밍 (i값 : 1, k값: 0)\n",
            "컴퓨터프로그래밍 (i값 : 1, k값: 1)\n",
            "컴퓨터프로그래밍 (i값 : 2, k값: 0)\n",
            "컴퓨터프로그래밍 (i값 : 2, k값: 1)\n"
          ]
        }
      ]
    },
    {
      "cell_type": "code",
      "metadata": {
        "colab": {
          "base_uri": "https://localhost:8080/"
        },
        "id": "j_GborORe8K2",
        "outputId": "a2f3ad40-ddf8-4a56-cd5d-d5cdb36ecf8b"
      },
      "source": [
        "for dan in range(2, 10):\n",
        "  print(dan, \"단\")\n",
        "  for hang in range(2,10):\n",
        "    print(dan, \"*\", hang, \"=\", dan*hang)\n",
        "  print()"
      ],
      "execution_count": 15,
      "outputs": [
        {
          "output_type": "stream",
          "name": "stdout",
          "text": [
            "2 단\n",
            "2 * 2 = 4\n",
            "2 * 3 = 6\n",
            "2 * 4 = 8\n",
            "2 * 5 = 10\n",
            "2 * 6 = 12\n",
            "2 * 7 = 14\n",
            "2 * 8 = 16\n",
            "2 * 9 = 18\n",
            "\n",
            "3 단\n",
            "3 * 2 = 6\n",
            "3 * 3 = 9\n",
            "3 * 4 = 12\n",
            "3 * 5 = 15\n",
            "3 * 6 = 18\n",
            "3 * 7 = 21\n",
            "3 * 8 = 24\n",
            "3 * 9 = 27\n",
            "\n",
            "4 단\n",
            "4 * 2 = 8\n",
            "4 * 3 = 12\n",
            "4 * 4 = 16\n",
            "4 * 5 = 20\n",
            "4 * 6 = 24\n",
            "4 * 7 = 28\n",
            "4 * 8 = 32\n",
            "4 * 9 = 36\n",
            "\n",
            "5 단\n",
            "5 * 2 = 10\n",
            "5 * 3 = 15\n",
            "5 * 4 = 20\n",
            "5 * 5 = 25\n",
            "5 * 6 = 30\n",
            "5 * 7 = 35\n",
            "5 * 8 = 40\n",
            "5 * 9 = 45\n",
            "\n",
            "6 단\n",
            "6 * 2 = 12\n",
            "6 * 3 = 18\n",
            "6 * 4 = 24\n",
            "6 * 5 = 30\n",
            "6 * 6 = 36\n",
            "6 * 7 = 42\n",
            "6 * 8 = 48\n",
            "6 * 9 = 54\n",
            "\n",
            "7 단\n",
            "7 * 2 = 14\n",
            "7 * 3 = 21\n",
            "7 * 4 = 28\n",
            "7 * 5 = 35\n",
            "7 * 6 = 42\n",
            "7 * 7 = 49\n",
            "7 * 8 = 56\n",
            "7 * 9 = 63\n",
            "\n",
            "8 단\n",
            "8 * 2 = 16\n",
            "8 * 3 = 24\n",
            "8 * 4 = 32\n",
            "8 * 5 = 40\n",
            "8 * 6 = 48\n",
            "8 * 7 = 56\n",
            "8 * 8 = 64\n",
            "8 * 9 = 72\n",
            "\n",
            "9 단\n",
            "9 * 2 = 18\n",
            "9 * 3 = 27\n",
            "9 * 4 = 36\n",
            "9 * 5 = 45\n",
            "9 * 6 = 54\n",
            "9 * 7 = 63\n",
            "9 * 8 = 72\n",
            "9 * 9 = 81\n",
            "\n"
          ]
        }
      ]
    },
    {
      "cell_type": "code",
      "metadata": {
        "colab": {
          "base_uri": "https://localhost:8080/"
        },
        "id": "O5iu6_TIfyoh",
        "outputId": "1f14e898-3f81-4609-e1e5-bcc630337e78"
      },
      "source": [
        "dan = 2\n",
        "while dan <= 9:\n",
        "  hang = 2\n",
        "  print(dan, \"단\")\n",
        "  while hang <= 9:\n",
        "    print(dan, \"*\", hang, \"=\", dan * hang)\n",
        "    hang += 1\n",
        "  dan += 1\n",
        "  print()"
      ],
      "execution_count": 19,
      "outputs": [
        {
          "output_type": "stream",
          "name": "stdout",
          "text": [
            "2 단\n",
            "2 * 2 = 4\n",
            "2 * 3 = 6\n",
            "2 * 4 = 8\n",
            "2 * 5 = 10\n",
            "2 * 6 = 12\n",
            "2 * 7 = 14\n",
            "2 * 8 = 16\n",
            "2 * 9 = 18\n",
            "\n",
            "3 단\n",
            "3 * 2 = 6\n",
            "3 * 3 = 9\n",
            "3 * 4 = 12\n",
            "3 * 5 = 15\n",
            "3 * 6 = 18\n",
            "3 * 7 = 21\n",
            "3 * 8 = 24\n",
            "3 * 9 = 27\n",
            "\n",
            "4 단\n",
            "4 * 2 = 8\n",
            "4 * 3 = 12\n",
            "4 * 4 = 16\n",
            "4 * 5 = 20\n",
            "4 * 6 = 24\n",
            "4 * 7 = 28\n",
            "4 * 8 = 32\n",
            "4 * 9 = 36\n",
            "\n",
            "5 단\n",
            "5 * 2 = 10\n",
            "5 * 3 = 15\n",
            "5 * 4 = 20\n",
            "5 * 5 = 25\n",
            "5 * 6 = 30\n",
            "5 * 7 = 35\n",
            "5 * 8 = 40\n",
            "5 * 9 = 45\n",
            "\n",
            "6 단\n",
            "6 * 2 = 12\n",
            "6 * 3 = 18\n",
            "6 * 4 = 24\n",
            "6 * 5 = 30\n",
            "6 * 6 = 36\n",
            "6 * 7 = 42\n",
            "6 * 8 = 48\n",
            "6 * 9 = 54\n",
            "\n",
            "7 단\n",
            "7 * 2 = 14\n",
            "7 * 3 = 21\n",
            "7 * 4 = 28\n",
            "7 * 5 = 35\n",
            "7 * 6 = 42\n",
            "7 * 7 = 49\n",
            "7 * 8 = 56\n",
            "7 * 9 = 63\n",
            "\n",
            "8 단\n",
            "8 * 2 = 16\n",
            "8 * 3 = 24\n",
            "8 * 4 = 32\n",
            "8 * 5 = 40\n",
            "8 * 6 = 48\n",
            "8 * 7 = 56\n",
            "8 * 8 = 64\n",
            "8 * 9 = 72\n",
            "\n",
            "9 단\n",
            "9 * 2 = 18\n",
            "9 * 3 = 27\n",
            "9 * 4 = 36\n",
            "9 * 5 = 45\n",
            "9 * 6 = 54\n",
            "9 * 7 = 63\n",
            "9 * 8 = 72\n",
            "9 * 9 = 81\n",
            "\n"
          ]
        }
      ]
    },
    {
      "cell_type": "code",
      "metadata": {
        "colab": {
          "base_uri": "https://localhost:8080/"
        },
        "id": "y2_L-wEEhBZH",
        "outputId": "7b658362-d130-45c7-8b74-e0ebcaf30002"
      },
      "source": [
        "i, hap = 0,0\n",
        "num = 0\n",
        "init_num = int(input(\"초기 값 입력 : \"))\n",
        "num = int(input(\"값 입력 : \"))\n",
        "for i in range(init_num, num + 1, 1):\n",
        "  hap = hap + i\n",
        "print(\"1에서 %d까지 합 : %d\" % (num, hap))"
      ],
      "execution_count": 26,
      "outputs": [
        {
          "output_type": "stream",
          "name": "stdout",
          "text": [
            "초기 값 입력 : 3\n",
            "값 입력 : 5\n",
            "1에서 5까지 합 : 12\n"
          ]
        }
      ]
    },
    {
      "cell_type": "code",
      "metadata": {
        "colab": {
          "base_uri": "https://localhost:8080/"
        },
        "id": "EmXIvRcqebMI",
        "outputId": "571b3f2d-0198-48dc-abe0-ee9e72483167"
      },
      "source": [
        "i, hqp = 0,0\n",
        "num = 0\n",
        "int_num = int(input(\"초기 값 입력:\"))\n",
        "close_num = int(input(\"종료 값 입력:\"))\n",
        "\n",
        "for i in range(int_num, close_num+1, 1):\n",
        "  hap = hap+i\n",
        "print(\"%d에서 %d까지 합: %d\" % (int_num, close_num, hap))"
      ],
      "execution_count": 23,
      "outputs": [
        {
          "output_type": "stream",
          "name": "stdout",
          "text": [
            "초기 값 입력:3\n",
            "종료 값 입력:5\n",
            "3에서 5까지 합: 12\n"
          ]
        }
      ]
    }
  ]
}