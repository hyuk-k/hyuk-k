{
  "nbformat": 4,
  "nbformat_minor": 0,
  "metadata": {
    "colab": {
      "name": "데이터분석언어01_2021720644_이강혁.ipynb",
      "provenance": [],
      "collapsed_sections": [],
      "authorship_tag": "ABX9TyOWNeNk8kXVUdkSUPVvsN5s",
      "include_colab_link": true
    },
    "kernelspec": {
      "name": "python3",
      "display_name": "Python 3"
    },
    "language_info": {
      "name": "python"
    }
  },
  "cells": [
    {
      "cell_type": "markdown",
      "metadata": {
        "id": "view-in-github",
        "colab_type": "text"
      },
      "source": [
        "<a href=\"https://colab.research.google.com/github/hyuk-k/hyuk-k/blob/main/%EB%8D%B0%EC%9D%B4%ED%84%B0%EB%B6%84%EC%84%9D%EC%96%B8%EC%96%B401_2021720644_%EC%9D%B4%EA%B0%95%ED%98%81.ipynb\" target=\"_parent\"><img src=\"https://colab.research.google.com/assets/colab-badge.svg\" alt=\"Open In Colab\"/></a>"
      ]
    },
    {
      "cell_type": "markdown",
      "metadata": {
        "id": "Y1xfC7LZ6PWE"
      },
      "source": [
        "# 데이터분석언어_ 2주차(2021.09.07)\n",
        "# 2021720644 이강혁\n",
        "## 파이썬\n",
        "### 기본 문법 진행\n",
        "- 기본 연산"
      ]
    },
    {
      "cell_type": "code",
      "metadata": {
        "colab": {
          "base_uri": "https://localhost:8080/"
        },
        "id": "uLlkd9pQ6Ei_",
        "outputId": "a45ce72a-b30c-4a0a-b6a8-a96d54b3e59d"
      },
      "source": [
        "(1+2)*3"
      ],
      "execution_count": 1,
      "outputs": [
        {
          "output_type": "execute_result",
          "data": {
            "text/plain": [
              "9"
            ]
          },
          "metadata": {},
          "execution_count": 1
        }
      ]
    },
    {
      "cell_type": "code",
      "metadata": {
        "colab": {
          "base_uri": "https://localhost:8080/"
        },
        "id": "Mt-C3Clo9f3R",
        "outputId": "eab3be45-c851-47e3-8d84-a2b327fd4cde"
      },
      "source": [
        "(1+2)*3/4"
      ],
      "execution_count": 2,
      "outputs": [
        {
          "output_type": "execute_result",
          "data": {
            "text/plain": [
              "2.25"
            ]
          },
          "metadata": {},
          "execution_count": 2
        }
      ]
    },
    {
      "cell_type": "code",
      "metadata": {
        "colab": {
          "base_uri": "https://localhost:8080/"
        },
        "id": "oRKaiTbZ9iRA",
        "outputId": "95e42855-ff78-477f-cc69-7bc2f777089f"
      },
      "source": [
        "a= 12\n",
        "b= 34\n",
        "print(a,b,sep = \",\")"
      ],
      "execution_count": 4,
      "outputs": [
        {
          "output_type": "stream",
          "name": "stdout",
          "text": [
            "12,34\n"
          ]
        }
      ]
    },
    {
      "cell_type": "markdown",
      "metadata": {
        "id": "3PR9IL5I93Fz"
      },
      "source": [
        "### 파이참 진행시 \n",
        "- 파일 세팅 -> Setting -> font -> 사이즈 및 폰트 조절 가능\n",
        "- 주석처리 (Ctrl+/)"
      ]
    },
    {
      "cell_type": "code",
      "metadata": {
        "colab": {
          "base_uri": "https://localhost:8080/"
        },
        "id": "vMyTgTDb9wcp",
        "outputId": "8ce77821-a06a-4ffd-df19-403aafdabe68"
      },
      "source": [
        "## 반복문  range(범위) n-1까지 반복, :을 넣으면 한줄로 코드를 쓸 수 있음\n",
        "for a in range(2,8):print(a, a**2)"
      ],
      "execution_count": 5,
      "outputs": [
        {
          "output_type": "stream",
          "name": "stdout",
          "text": [
            "2 4\n",
            "3 9\n",
            "4 16\n",
            "5 25\n",
            "6 36\n",
            "7 49\n"
          ]
        }
      ]
    },
    {
      "cell_type": "code",
      "metadata": {
        "colab": {
          "base_uri": "https://localhost:8080/"
        },
        "id": "psDkAcy--t8R",
        "outputId": "29493cdf-4c0c-491f-c939-9053f12ad374"
      },
      "source": [
        "2*3\n",
        "print(2*3)"
      ],
      "execution_count": 7,
      "outputs": [
        {
          "output_type": "stream",
          "name": "stdout",
          "text": [
            "6\n"
          ]
        }
      ]
    },
    {
      "cell_type": "code",
      "metadata": {
        "colab": {
          "base_uri": "https://localhost:8080/"
        },
        "id": "y0E3im7t-xaA",
        "outputId": "f9b082b3-5d8a-4651-f5c0-06e35e1831aa"
      },
      "source": [
        "# 대문자와 소문자는 별개의 변수\n",
        "A = 10*3\n",
        "a = 5*3\n",
        "\n",
        "print(A)"
      ],
      "execution_count": 14,
      "outputs": [
        {
          "output_type": "stream",
          "name": "stdout",
          "text": [
            "30\n"
          ]
        }
      ]
    },
    {
      "cell_type": "code",
      "metadata": {
        "colab": {
          "base_uri": "https://localhost:8080/"
        },
        "id": "VJB635Yy-3mY",
        "outputId": "cef47222-32fc-475c-ae39-0ecf7665a464"
      },
      "source": [
        "# 대문자와 소문자는 별개의 변수\n",
        "print(A)\n",
        "print(a)\n",
        "print(A+a)"
      ],
      "execution_count": 15,
      "outputs": [
        {
          "output_type": "stream",
          "name": "stdout",
          "text": [
            "30\n",
            "15\n",
            "45\n"
          ]
        }
      ]
    },
    {
      "cell_type": "code",
      "metadata": {
        "colab": {
          "base_uri": "https://localhost:8080/"
        },
        "id": "wXqAPzCm9qoI",
        "outputId": "fe795d6f-d74e-4234-abdb-fd0722296832"
      },
      "source": [
        "A"
      ],
      "execution_count": 10,
      "outputs": [
        {
          "output_type": "execute_result",
          "data": {
            "text/plain": [
              "30"
            ]
          },
          "metadata": {},
          "execution_count": 10
        }
      ]
    },
    {
      "cell_type": "code",
      "metadata": {
        "colab": {
          "base_uri": "https://localhost:8080/"
        },
        "id": "fWRWqGNu_Cy_",
        "outputId": "c8a583fe-9c7e-4827-fbc7-a2a13543a566"
      },
      "source": [
        "a"
      ],
      "execution_count": 11,
      "outputs": [
        {
          "output_type": "execute_result",
          "data": {
            "text/plain": [
              "15"
            ]
          },
          "metadata": {},
          "execution_count": 11
        }
      ]
    },
    {
      "cell_type": "code",
      "metadata": {
        "colab": {
          "base_uri": "https://localhost:8080/"
        },
        "id": "NVYqajq8_DaH",
        "outputId": "5f2dde23-bbd7-412b-c4d3-158def43b906"
      },
      "source": [
        "A,a"
      ],
      "execution_count": 12,
      "outputs": [
        {
          "output_type": "execute_result",
          "data": {
            "text/plain": [
              "(30, 15)"
            ]
          },
          "metadata": {},
          "execution_count": 12
        }
      ]
    },
    {
      "cell_type": "code",
      "metadata": {
        "colab": {
          "base_uri": "https://localhost:8080/"
        },
        "id": "RRvCfEeq_Eko",
        "outputId": "e625a7aa-135a-4d79-b9ea-13eb533ec5d6"
      },
      "source": [
        "1+2+3\n",
        "4+5+6"
      ],
      "execution_count": 16,
      "outputs": [
        {
          "output_type": "execute_result",
          "data": {
            "text/plain": [
              "15"
            ]
          },
          "metadata": {},
          "execution_count": 16
        }
      ]
    },
    {
      "cell_type": "code",
      "metadata": {
        "colab": {
          "base_uri": "https://localhost:8080/"
        },
        "id": "E70HfB3nAu8Q",
        "outputId": "1f074c6c-1ae2-4814-d04c-9853305586ce"
      },
      "source": [
        "2*3"
      ],
      "execution_count": 17,
      "outputs": [
        {
          "output_type": "execute_result",
          "data": {
            "text/plain": [
              "6"
            ]
          },
          "metadata": {},
          "execution_count": 17
        }
      ]
    },
    {
      "cell_type": "code",
      "metadata": {
        "colab": {
          "base_uri": "https://localhost:8080/"
        },
        "id": "S847aJVvAwOP",
        "outputId": "0f6f4b9a-67ce-40d2-8f9b-ed8668b3cc5f"
      },
      "source": [
        "a = 3\n",
        "b = 4\n",
        "\n",
        "print(3+4)"
      ],
      "execution_count": 19,
      "outputs": [
        {
          "output_type": "stream",
          "name": "stdout",
          "text": [
            "7\n"
          ]
        }
      ]
    },
    {
      "cell_type": "code",
      "metadata": {
        "id": "SbWEbLZJBIho"
      },
      "source": [
        "## 대소문자 처리\n",
        "## Print(3+4)  ## 오류\n",
        "## PRINT(3+4)  ## 오류"
      ],
      "execution_count": 22,
      "outputs": []
    },
    {
      "cell_type": "code",
      "metadata": {
        "colab": {
          "base_uri": "https://localhost:8080/"
        },
        "id": "orJDbY8xBPTw",
        "outputId": "69efe857-a75b-4692-aff3-095ab92f846b"
      },
      "source": [
        "value = 1234\n",
        "print(value)\n",
        "print(value * 2)"
      ],
      "execution_count": 23,
      "outputs": [
        {
          "output_type": "stream",
          "name": "stdout",
          "text": [
            "1234\n",
            "2468\n"
          ]
        }
      ]
    },
    {
      "cell_type": "code",
      "metadata": {
        "colab": {
          "base_uri": "https://localhost:8080/"
        },
        "id": "7CKs6Al3BXpI",
        "outputId": "c031d0e8-1744-42a3-b182-1b4192f3f087"
      },
      "source": [
        "4*5   # 무시된다  ## why? 무시되지?\n",
        "a = 1\n",
        "b = 2\n",
        "print (a+b)"
      ],
      "execution_count": 24,
      "outputs": [
        {
          "output_type": "stream",
          "name": "stdout",
          "text": [
            "3\n"
          ]
        }
      ]
    },
    {
      "cell_type": "code",
      "metadata": {
        "colab": {
          "base_uri": "https://localhost:8080/"
        },
        "id": "pyFo1AaNBk_w",
        "outputId": "815763ef-a519-4ec8-c44c-6e10704af3ab"
      },
      "source": [
        "print(a*b)"
      ],
      "execution_count": 26,
      "outputs": [
        {
          "output_type": "stream",
          "name": "stdout",
          "text": [
            "2\n"
          ]
        }
      ]
    },
    {
      "cell_type": "code",
      "metadata": {
        "colab": {
          "base_uri": "https://localhost:8080/"
        },
        "id": "2dfjDzhWB5_h",
        "outputId": "5bf1d941-3ddc-408d-e7c1-65c29bfabde9"
      },
      "source": [
        "print(a-b)"
      ],
      "execution_count": 27,
      "outputs": [
        {
          "output_type": "stream",
          "name": "stdout",
          "text": [
            "-1\n"
          ]
        }
      ]
    },
    {
      "cell_type": "code",
      "metadata": {
        "colab": {
          "base_uri": "https://localhost:8080/"
        },
        "id": "9IiGN3JlB7r4",
        "outputId": "db97d6f3-718e-47a0-8c52-0ff1fc7e6248"
      },
      "source": [
        "## printsep\n",
        "s= \"서울\"\n",
        "d= \"대전\"\n",
        "g= '대구'\n",
        "b= '부산'\n",
        "print(s, d, g, b, sep =' 찍고 ')"
      ],
      "execution_count": 30,
      "outputs": [
        {
          "output_type": "stream",
          "name": "stdout",
          "text": [
            "서울 찍고 대전 찍고 대구 찍고 부산\n"
          ]
        }
      ]
    },
    {
      "cell_type": "code",
      "metadata": {
        "colab": {
          "base_uri": "https://localhost:8080/"
        },
        "id": "TY5zEAyKCS7P",
        "outputId": "47ba2b87-1f46-4ada-ad24-be946b161cb4"
      },
      "source": [
        "## printtwo ## 줄개행\n",
        "a ='강아지'\n",
        "b ='고양이'\n",
        "print(a)\n",
        "print(b)\n",
        "print(a+b)"
      ],
      "execution_count": 35,
      "outputs": [
        {
          "output_type": "stream",
          "name": "stdout",
          "text": [
            "강아지\n",
            "고양이\n",
            "강아지고양이\n"
          ]
        }
      ]
    },
    {
      "cell_type": "code",
      "metadata": {
        "colab": {
          "base_uri": "https://localhost:8080/"
        },
        "id": "frufxaaMCkHg",
        "outputId": "a4fb9052-4f60-4e4d-8334-a1609936d968"
      },
      "source": [
        "## printend ## end를 넣으면 위에와 밑에가 이어서 출력\n",
        "a = '강아지'\n",
        "b = '고양이'\n",
        "print(a, end= ' ')\n",
        "print(b)"
      ],
      "execution_count": 38,
      "outputs": [
        {
          "output_type": "stream",
          "name": "stdout",
          "text": [
            "강아지 고양이\n"
          ]
        }
      ]
    },
    {
      "cell_type": "code",
      "metadata": {
        "colab": {
          "base_uri": "https://localhost:8080/"
        },
        "id": "alHaHaMgDNtn",
        "outputId": "a0ade792-53c1-4c1a-80e4-2446c10dc5f5"
      },
      "source": [
        "print(12, 34, 56, sep = '^^', end = '-->')\n",
        "print(78)"
      ],
      "execution_count": 37,
      "outputs": [
        {
          "output_type": "stream",
          "name": "stdout",
          "text": [
            "12^^34^^56-->78\n"
          ]
        }
      ]
    },
    {
      "cell_type": "code",
      "metadata": {
        "colab": {
          "base_uri": "https://localhost:8080/"
        },
        "id": "PLvrgKOjDZjv",
        "outputId": "86b41235-7e27-404c-8163-96971d8c52ab"
      },
      "source": [
        "# input 함수\n",
        "age = input('몇 살이세요?')\n",
        "print(age)"
      ],
      "execution_count": 39,
      "outputs": [
        {
          "output_type": "stream",
          "name": "stdout",
          "text": [
            "몇 살이세요?30살\n",
            "30살\n"
          ]
        }
      ]
    },
    {
      "cell_type": "code",
      "metadata": {
        "colab": {
          "base_uri": "https://localhost:8080/"
        },
        "id": "oJDaNJKiCaKb",
        "outputId": "3834b70a-0fa7-4794-cc6c-67844d8294c4"
      },
      "source": [
        "# intinput  ## int로 형변환\n",
        "price = input('가격을 입력하세요 : ')\n",
        "num = input('개수를 입력하세요 :')\n",
        "\n",
        "sum = int(price) * int(num)\n",
        "print('총액은', sum, '원입니다.')"
      ],
      "execution_count": 42,
      "outputs": [
        {
          "output_type": "stream",
          "name": "stdout",
          "text": [
            "가격을 입력하세요 : 100\n",
            "개수를 입력하세요 :100\n",
            "총액은 10000 원입니다.\n"
          ]
        }
      ]
    },
    {
      "cell_type": "code",
      "metadata": {
        "colab": {
          "base_uri": "https://localhost:8080/"
        },
        "id": "IvSU_IbeEW3_",
        "outputId": "183bdc4d-e040-4235-f009-ff85854e8b70"
      },
      "source": [
        "# intinput2 ## 기본 int로 감싸서 진행\n",
        "price = int(input('가격을 입력하세요:'))\n",
        "num = int(input('개수를 입력하세요:'))\n",
        "sum = price * num\n",
        "print('총액은', sum, '원입니다.')"
      ],
      "execution_count": 43,
      "outputs": [
        {
          "output_type": "stream",
          "name": "stdout",
          "text": [
            "가격을 입력하세요:100\n",
            "개수를 입력하세요:100\n",
            "총액은 10000 원입니다.\n"
          ]
        }
      ]
    },
    {
      "cell_type": "code",
      "metadata": {
        "colab": {
          "base_uri": "https://localhost:8080/"
        },
        "id": "FfTj2SnSEv5_",
        "outputId": "3409cf75-b186-46de-a20c-9095e596e999"
      },
      "source": [
        "# 변수 사용 => 변수란? 변하는 수\n",
        "score = 98\n",
        "print(score)\n",
        "\n",
        "score = 'high'\n",
        "print(score)"
      ],
      "execution_count": 45,
      "outputs": [
        {
          "output_type": "stream",
          "name": "stdout",
          "text": [
            "98\n",
            "high\n"
          ]
        }
      ]
    },
    {
      "cell_type": "code",
      "metadata": {
        "colab": {
          "base_uri": "https://localhost:8080/"
        },
        "id": "RY_ou3PJFHPP",
        "outputId": "5bcb5fc2-7a3c-46f0-b914-943db7d7cceb"
      },
      "source": [
        "# inputname\n",
        "name = input('이름을 입력하세요: ')\n",
        "print('안녕하세요', name ,\"님\")"
      ],
      "execution_count": 49,
      "outputs": [
        {
          "output_type": "stream",
          "name": "stdout",
          "text": [
            "이름을 입력하세요: 이강혁\n",
            "안녕하세요 이강혁 님\n"
          ]
        }
      ]
    },
    {
      "cell_type": "markdown",
      "metadata": {
        "id": "977fFzeCGKue"
      },
      "source": [
        "# 변수\n",
        "## 기본구조\n",
        "### 소스의 형식\n",
        "- 일정한 규칙에 따라 스크립트 파일 코드를 작성\n",
        "- 들여쓰기(indent)\n",
        "  - tab 혹은 4개 공백\n",
        "  - 일반적으로>>> 프롬포트의 첫 칸부터 명령을 입력\n",
        "  - 텍스트 파일에 스크립트 작성 시 역시 첫 칸부터 입력\n",
        "  - 조건문, 반복문 등 여러개 문장이 블록 구성하는 경우\n",
        "    - 들여쓰기를 통해 아래쪽 문장이 조건, 반복 대상임을 표시\n",
        "  - 파이썬은 개행과\n",
        "  - 문자로 주석 달 수 있음\n",
        "    - 명령어가 아닌, 사용자를 위한 설명 문장\n",
        "    - 해석기는 주석 부분을 무시\n",
        "\n",
        "- 출력\n",
        "  - print 명령\n",
        "    -\n",
        "\n",
        "- 입력\n",
        "  - 사용자에게 질문하여 값 입력받기\n",
        "  - input 명령\n",
        "    - 변수 = input('질문 내용')\n",
        "    - 괄호 안에 질문 내용 입력\n",
        "    - 사용자가 질문에 대해 입력한 값 돌려줌\n",
        "\n",
        "### 변수명\n",
        "- 변수\n",
        "  - 메모리에 이름 붙이고 값을 저장하는 것\n",
        "- 명칭\n",
        "  - 변수가 다른 것과 구분되도록 이름 붙인 것\n",
        "- 규칙\n",
        "  - 키워드나 내장 함수, 표준 모듈명은 사용할 수 없음\n",
        "  - 모든 명칭은 대소문자를 구분함\n",
        "  - 알파벳, 밑줄 문자, 숫자 등으로 구성\n",
        "    - 공백, +, - 등은 사용 불가\n",
        "  - 첫 글자로 숫자 사용 불가\n",
        "  - 한글이나 한자 사용 불가\n",
        "\n",
        "### 변수 사용\n",
        "- 파이썬 변수는 별도 타입 지정하지 않음\n",
        "  - 최초 대입하는 값에 의해 결정\n",
        "\n",
        "\n",
        "## 연습 문제\n",
        "\n"
      ]
    },
    {
      "cell_type": "code",
      "metadata": {
        "colab": {
          "base_uri": "https://localhost:8080/"
        },
        "id": "ydhYAGOrIJ_2",
        "outputId": "aaf163a6-0a21-42fb-b1e3-b425a3553a00"
      },
      "source": [
        "## 변수이기 때문에 result 값이 계속 변함\n",
        "a = int(input(\"첫번째 숫자를 입력하세요:\"))\n",
        "b = int(input(\"두번째 숫자를 입력하세요:\"))\n",
        "result = a+b\n",
        "print(a ,\"+\", b, \"=\", result)\n",
        "result = a-b\n",
        "print(a ,\"-\", b, \"=\", result)\n",
        "result = a*b\n",
        "print(a ,\"*\", b, \"=\", result)\n",
        "result = a/b\n",
        "print(a ,\"/\", b, \"=\", result)"
      ],
      "execution_count": 50,
      "outputs": [
        {
          "output_type": "stream",
          "name": "stdout",
          "text": [
            "첫번째 숫자를 입력하세요:10\n",
            "두번째 숫자를 입력하세요:2\n",
            "10 + 2 = 12\n",
            "10 - 2 = 8\n",
            "10 * 2 = 20\n",
            "10 / 2 = 5.0\n"
          ]
        }
      ]
    },
    {
      "cell_type": "code",
      "metadata": {
        "colab": {
          "base_uri": "https://localhost:8080/"
        },
        "id": "_nvUOHQ-IowJ",
        "outputId": "6e48ba03-1daf-4496-be3b-d91e40030ed6"
      },
      "source": [
        "print(\"안녕하세요?\")"
      ],
      "execution_count": 51,
      "outputs": [
        {
          "output_type": "stream",
          "name": "stdout",
          "text": [
            "안녕하세요?\n"
          ]
        }
      ]
    },
    {
      "cell_type": "code",
      "metadata": {
        "colab": {
          "base_uri": "https://localhost:8080/"
        },
        "id": "2C4t5KNFJN5P",
        "outputId": "41dc924b-f89d-4fc9-8f5f-17c14ecbb59b"
      },
      "source": [
        "print(\"100\")"
      ],
      "execution_count": 52,
      "outputs": [
        {
          "output_type": "stream",
          "name": "stdout",
          "text": [
            "100\n"
          ]
        }
      ]
    },
    {
      "cell_type": "code",
      "metadata": {
        "colab": {
          "base_uri": "https://localhost:8080/"
        },
        "id": "68xJBz7eJPKn",
        "outputId": "9d14a02c-9232-452f-9ba6-253edc28aa4e"
      },
      "source": [
        "# %d 는 정수(Decimal)를 의미\n",
        "print(\"%d\"%100)"
      ],
      "execution_count": 53,
      "outputs": [
        {
          "output_type": "stream",
          "name": "stdout",
          "text": [
            "100\n"
          ]
        }
      ]
    },
    {
      "cell_type": "code",
      "metadata": {
        "colab": {
          "base_uri": "https://localhost:8080/"
        },
        "id": "Wixkaf07JSaH",
        "outputId": "45eeacf4-be47-4c0e-8880-ee63049cefd9"
      },
      "source": [
        "print(\"100+100\")"
      ],
      "execution_count": 54,
      "outputs": [
        {
          "output_type": "stream",
          "name": "stdout",
          "text": [
            "100+100\n"
          ]
        }
      ]
    },
    {
      "cell_type": "code",
      "metadata": {
        "colab": {
          "base_uri": "https://localhost:8080/"
        },
        "id": "VtvtLlFOJa_n",
        "outputId": "851b3f6b-3b4a-4646-c5ff-80eb98ea1de9"
      },
      "source": [
        "print(\"%d\"%(100+100))"
      ],
      "execution_count": 55,
      "outputs": [
        {
          "output_type": "stream",
          "name": "stdout",
          "text": [
            "200\n"
          ]
        }
      ]
    },
    {
      "cell_type": "markdown",
      "metadata": {
        "id": "jExOyay4J6BC"
      },
      "source": [
        "- 숫자가 두개라면, 맞춰서 실행해야 함"
      ]
    },
    {
      "cell_type": "code",
      "metadata": {
        "id": "elQ96S3MJ9--"
      },
      "source": [
        "## print(\"%d\" % (100,200)) -> 실행 안됨"
      ],
      "execution_count": 60,
      "outputs": []
    },
    {
      "cell_type": "code",
      "metadata": {
        "id": "M4HGy1mzKLN3"
      },
      "source": [
        "## print(\"%d %d\" % (100)) -> 실행 안됨"
      ],
      "execution_count": 61,
      "outputs": []
    },
    {
      "cell_type": "code",
      "metadata": {
        "colab": {
          "base_uri": "https://localhost:8080/"
        },
        "id": "aFhgTv95KHZP",
        "outputId": "933e26fd-acba-4fd0-b7b8-0e692b5c53b2"
      },
      "source": [
        "print(\"%d %d\" % (100,200))"
      ],
      "execution_count": 57,
      "outputs": [
        {
          "output_type": "stream",
          "name": "stdout",
          "text": [
            "100 200\n"
          ]
        }
      ]
    },
    {
      "cell_type": "code",
      "metadata": {
        "colab": {
          "base_uri": "https://localhost:8080/"
        },
        "id": "py8Up3cXK1yH",
        "outputId": "a6f19ef5-c5fd-4078-f639-6cb724d0b628"
      },
      "source": [
        "## 모두 정수로 표시 (형식을 정수로 정해놨기 때문에 -> float으로 변경)\n",
        "print(\"%d / %d = %d\" % (100, 200, 0.5))"
      ],
      "execution_count": 64,
      "outputs": [
        {
          "output_type": "stream",
          "name": "stdout",
          "text": [
            "100 / 200 = 0\n"
          ]
        }
      ]
    },
    {
      "cell_type": "code",
      "metadata": {
        "id": "ocOl6wTdLCGo"
      },
      "source": [
        "## 5.1f 는 전체 데이터를 다섯자리수만큼 소수 첫째자리 까지만\n",
        "print(\"%d / %d = %5.1f\" % (100, 200, 0.5))"
      ],
      "execution_count": null,
      "outputs": []
    },
    {
      "cell_type": "code",
      "metadata": {
        "colab": {
          "base_uri": "https://localhost:8080/"
        },
        "id": "qybLaGaxKJj_",
        "outputId": "583f8588-078b-44a0-9fa3-825e9199d0dd"
      },
      "source": [
        "print(\"%d\" % 123)"
      ],
      "execution_count": 62,
      "outputs": [
        {
          "output_type": "stream",
          "name": "stdout",
          "text": [
            "123\n"
          ]
        }
      ]
    },
    {
      "cell_type": "code",
      "metadata": {
        "colab": {
          "base_uri": "https://localhost:8080/"
        },
        "id": "_7YxJFsoKbo3",
        "outputId": "71f8b6b6-5151-4a32-cc50-dcf1b566b235"
      },
      "source": [
        "print(\"%5d\" % 123)"
      ],
      "execution_count": 63,
      "outputs": [
        {
          "output_type": "stream",
          "name": "stdout",
          "text": [
            "  123\n"
          ]
        }
      ]
    },
    {
      "cell_type": "code",
      "metadata": {
        "colab": {
          "base_uri": "https://localhost:8080/"
        },
        "id": "pyrvOcoEKeKG",
        "outputId": "d686e9ba-e718-4f17-d4c4-ff695ee48c88"
      },
      "source": [
        "print(\"%05d\" % 123)"
      ],
      "execution_count": 65,
      "outputs": [
        {
          "output_type": "stream",
          "name": "stdout",
          "text": [
            "00123\n"
          ]
        }
      ]
    },
    {
      "cell_type": "code",
      "metadata": {
        "colab": {
          "base_uri": "https://localhost:8080/"
        },
        "id": "bwnbdXP6LhZn",
        "outputId": "e9e2ece8-9e9b-49ea-e05a-a74ac4e41d92"
      },
      "source": [
        "print(\"%f\" %123.45)"
      ],
      "execution_count": 66,
      "outputs": [
        {
          "output_type": "stream",
          "name": "stdout",
          "text": [
            "123.450000\n"
          ]
        }
      ]
    },
    {
      "cell_type": "code",
      "metadata": {
        "colab": {
          "base_uri": "https://localhost:8080/"
        },
        "id": "5KEZD3UtLsQI",
        "outputId": "4dae1388-4771-4bb6-ea4b-7d02b7f65108"
      },
      "source": [
        "print(\"%7.1f\" %123.45)"
      ],
      "execution_count": 67,
      "outputs": [
        {
          "output_type": "stream",
          "name": "stdout",
          "text": [
            "  123.5\n"
          ]
        }
      ]
    },
    {
      "cell_type": "code",
      "metadata": {
        "colab": {
          "base_uri": "https://localhost:8080/"
        },
        "id": "WEtIpZ4qLvnf",
        "outputId": "009e86c0-0538-44dc-a7d6-1fb5a79696a2"
      },
      "source": [
        "## 소수점 포함\n",
        "print(\"%7.3f\" %123.45)"
      ],
      "execution_count": 68,
      "outputs": [
        {
          "output_type": "stream",
          "name": "stdout",
          "text": [
            "123.450\n"
          ]
        }
      ]
    }
  ]
}