{
 "cells": [
  {
   "cell_type": "markdown",
   "id": "59cc3004",
   "metadata": {},
   "source": [
    "# 자바스크립트 기본 문법\n",
    "## 01 자바스크립트 기본 용어와 출력방법\n",
    "### 자바스크립트 기본 용어\n",
    "- 표현식 : 값을 만들어 내는 간단한 코드\n",
    "- 문장 : 프로그래밍 언어에 실행할 수 있는 코드의 최소 단위\n",
    "- 종결 : 문장 마지막에 세미콜론(;) 또는 줄 바꿈"
   ]
  },
  {
   "cell_type": "code",
   "execution_count": 1,
   "id": "586d14af",
   "metadata": {},
   "outputs": [
    {
     "ename": "SyntaxError",
     "evalue": "invalid syntax (<ipython-input-1-4b6920caa6c5>, line 3)",
     "output_type": "error",
     "traceback": [
      "\u001b[1;36m  File \u001b[1;32m\"<ipython-input-1-4b6920caa6c5>\"\u001b[1;36m, line \u001b[1;32m3\u001b[0m\n\u001b[1;33m    var name = '홍'+'길'+'동';\u001b[0m\n\u001b[1;37m        ^\u001b[0m\n\u001b[1;31mSyntaxError\u001b[0m\u001b[1;31m:\u001b[0m invalid syntax\n"
     ]
    }
   ],
   "source": [
    "273;\n",
    "10 + 20 + 30*2;\n",
    "var name = '홍'+'길'+'동';\n",
    "alert('hello javascript')\n",
    "/표현식 예/\n",
    "\n",
    "273\n",
    "10 + 20 + 30 *2\n",
    "'javascript'\n",
    "/문장 예/"
   ]
  },
  {
   "cell_type": "markdown",
   "id": "0570d9d8",
   "metadata": {},
   "source": [
    "### 자바스크립트 기본 용어\n",
    "- 키워드 : 자바스크립트를 처음 만들 때 정해진 특별한 의미가 부여된 단어\n",
    "- 식별자 : 자바스크립트에서 변수나 함수 등에 이름을 붙일 떄 사용하는 단어\n",
    "    - 식별자 생성 규칙\n",
    "        - 키워드를 사용하면 안됩니다.\n",
    "        - 특수문자는 _와 ＄만 허용됩니다.\n",
    "        - 숫자로 시작하면 안됩니다.\n",
    "        - 공백은 입력하면 안됩니다.\n",
    "        * 생성자 함수 이름은 항상 대문자로 시작합니다.\n",
    "        * 변수, 인스턴스, 함수, 매서드의 이름은 항상 소문자로 시작합니다.\n",
    "        * 여러 단어로 된 식별자는 각 단어의 첫글자를 대문자로 합니다.\n",
    "- 주석 : 프로그램 진행에 전혀 영향을 주지 않는 코드로, 프로그램을 설명하는데 사용\n",
    "    - 형태\n",
    "        - 한 행 주석 처리 // 주석문\n",
    "        - 여러 행 주석 처리 /* 주석문 */\n",
    "        \n",
    "### 자바스크립트 출력\n",
    "- 가장 기본적인 출력 방법 : alert() 함수를 사용해 사용해 웹 브라우저 경고 창을 띄우기\n",
    "- 자바스크립트를 이용한 메시지 출력"
   ]
  },
  {
   "cell_type": "code",
   "execution_count": 4,
   "id": "a770d356",
   "metadata": {},
   "outputs": [
    {
     "ename": "SyntaxError",
     "evalue": "invalid syntax (<ipython-input-4-800ca601b6f7>, line 1)",
     "output_type": "error",
     "traceback": [
      "\u001b[1;36m  File \u001b[1;32m\"<ipython-input-4-800ca601b6f7>\"\u001b[1;36m, line \u001b[1;32m1\u001b[0m\n\u001b[1;33m    <!DCOTYPE html>\u001b[0m\n\u001b[1;37m    ^\u001b[0m\n\u001b[1;31mSyntaxError\u001b[0m\u001b[1;31m:\u001b[0m invalid syntax\n"
     ]
    }
   ],
   "source": [
    "<!DCOTYPE html>\n",
    "<html>\n",
    "<head>\n",
    "    <title>javaScript Basic</title>\n",
    "    <script>\n",
    "        alert('hello JavaScript..!');\n",
    "    </script>\n",
    "</head>\n",
    "<body>\n",
    "</body>\n",
    "</html>\n",
    "// 메모장 사용"
   ]
  },
  {
   "cell_type": "markdown",
   "id": "89631d70",
   "metadata": {},
   "source": [
    "## 02 자료형과 변수\n",
    "### 자료형\n",
    "- 숫자\n",
    "    - 가장 기본적인 자료형\n",
    "    - 정수와 실수 구분하지 않음\n",
    "- 문자열\n",
    "    - 문자 집합\n",
    "    - 'abcdefg','Hello World', '안녕하세요'\n",
    "- 불(bool)\n",
    "    - 참과 거짓을 표현할 때 사용하는 자료\n",
    "- 비교 연산자\n",
    "    - 두 대상을 비교할 수 있는 연산자\n",
    "- 논리 연산자\n",
    "    - !: 논리 부정(참이면 거짓, 거짓이면 참)\n",
    "    - && : 논리 곱(둘 다 참이어야 함)\n",
    "    - || : 논리 합 (둘 중 하나만 참이여도 참)\n",
    "    \n",
    "### 변수\n",
    "- 값을 저장할 때 사용하는 식별자\n",
    "    - 1. 변수 선언\n",
    "    - 2. 변수 초기화\n",
    "    \n",
    "### 자바스크립트를 이용한 메시지 출력(1)\n",
    "- 1. HTML 페이지 만들기"
   ]
  },
  {
   "cell_type": "code",
   "execution_count": 5,
   "id": "d26c5c1d",
   "metadata": {},
   "outputs": [
    {
     "ename": "SyntaxError",
     "evalue": "invalid syntax (<ipython-input-5-e2e00f9abbcf>, line 1)",
     "output_type": "error",
     "traceback": [
      "\u001b[1;36m  File \u001b[1;32m\"<ipython-input-5-e2e00f9abbcf>\"\u001b[1;36m, line \u001b[1;32m1\u001b[0m\n\u001b[1;33m    <!DCOTYPE html>\u001b[0m\n\u001b[1;37m    ^\u001b[0m\n\u001b[1;31mSyntaxError\u001b[0m\u001b[1;31m:\u001b[0m invalid syntax\n"
     ]
    }
   ],
   "source": [
    "<!DCOTYPE html>\n",
    "<html>\n",
    "<head>\n",
    "    <title>javaScript Basic</title>\n",
    "    <script>\n",
    "    </script>\n",
    "</head>\n",
    "<body>\n",
    "</body>\n",
    "</html>\n",
    "// 메모장 사용"
   ]
  },
  {
   "cell_type": "markdown",
   "id": "959eb65c",
   "metadata": {},
   "source": [
    "### 자바스크립트를 이용한 메시지 출력(2)\n",
    "- 2. 변수 사용하기"
   ]
  },
  {
   "cell_type": "code",
   "execution_count": 6,
   "id": "feaf052d",
   "metadata": {},
   "outputs": [
    {
     "ename": "SyntaxError",
     "evalue": "invalid syntax (<ipython-input-6-bb410a302cc8>, line 1)",
     "output_type": "error",
     "traceback": [
      "\u001b[1;36m  File \u001b[1;32m\"<ipython-input-6-bb410a302cc8>\"\u001b[1;36m, line \u001b[1;32m1\u001b[0m\n\u001b[1;33m    <!DCOTYPE html>\u001b[0m\n\u001b[1;37m    ^\u001b[0m\n\u001b[1;31mSyntaxError\u001b[0m\u001b[1;31m:\u001b[0m invalid syntax\n"
     ]
    }
   ],
   "source": [
    "<!DCOTYPE html>\n",
    "<html>\n",
    "<head>\n",
    "    <title>javaScript Basic</title>\n",
    "<script>\n",
    "    // 변수를 선언 및 초기화합니다.\n",
    "    var radius = 10;\n",
    "    var pi = 3.14159265;\n",
    "    \n",
    "    // 출력합니다.\n",
    "    alert(2*radius*pi);\n",
    "</script>\n",
    "</head>\n",
    "<body>\n",
    "</body>\n",
    "</html>\n",
    "// 메모장 사용"
   ]
  },
  {
   "cell_type": "markdown",
   "id": "9e52a9d1",
   "metadata": {},
   "source": [
    "## 03 조건문과 반복문\n",
    "### 조건문\n",
    "- if 조건문\n",
    "    - 조건이 true 이면 문장을 실행하고 false이면 문장 무시\n",
    "    - 실행 문장이 한행이면 중괄호 생략 가능\n",
    "    - 실행 문장이 여러행이라면 중괄호 필요\n",
    "        - if (조건) {\n",
    "              문장\n",
    "        \n",
    "          }\n",
    "- if 조건문으로 참과 거짓 판별"
   ]
  },
  {
   "cell_type": "code",
   "execution_count": 7,
   "id": "c0e329d2",
   "metadata": {},
   "outputs": [
    {
     "ename": "SyntaxError",
     "evalue": "invalid syntax (<ipython-input-7-d798c67cd120>, line 1)",
     "output_type": "error",
     "traceback": [
      "\u001b[1;36m  File \u001b[1;32m\"<ipython-input-7-d798c67cd120>\"\u001b[1;36m, line \u001b[1;32m1\u001b[0m\n\u001b[1;33m    <script>\u001b[0m\n\u001b[1;37m    ^\u001b[0m\n\u001b[1;31mSyntaxError\u001b[0m\u001b[1;31m:\u001b[0m invalid syntax\n"
     ]
    }
   ],
   "source": [
    "<script>\n",
    "    // 조건문\n",
    "    if (273<52) {\n",
    "        // 표현식 \"273<52\"가 참일떄 실행\n",
    "        alert('273<52=>true');        \n",
    "    }\n",
    "    // 프로그램 종료\n",
    "    arlet('프로그램 종료');\n",
    "</script>"
   ]
  },
  {
   "cell_type": "markdown",
   "id": "1cd95267",
   "metadata": {},
   "source": [
    "### if 조건문으로 오전과 오후 판별\n",
    "- 1. 현재 시간 구하기"
   ]
  },
  {
   "cell_type": "code",
   "execution_count": 8,
   "id": "bd813a20",
   "metadata": {},
   "outputs": [
    {
     "ename": "SyntaxError",
     "evalue": "invalid syntax (<ipython-input-8-fd9d4cf908ee>, line 1)",
     "output_type": "error",
     "traceback": [
      "\u001b[1;36m  File \u001b[1;32m\"<ipython-input-8-fd9d4cf908ee>\"\u001b[1;36m, line \u001b[1;32m1\u001b[0m\n\u001b[1;33m    <script>\u001b[0m\n\u001b[1;37m    ^\u001b[0m\n\u001b[1;31mSyntaxError\u001b[0m\u001b[1;31m:\u001b[0m invalid syntax\n"
     ]
    }
   ],
   "source": [
    "<script>\n",
    "    // Date 객체를 선언합니다. : 현재시간 측정\n",
    "    var date = new Date();\n",
    "    \n",
    "    // 요소를 추출합니다.\n",
    "    var year = date.getFullYear();\n",
    "    var month = date.getMonth() +1;\n",
    "    var day = date.getDay();\n",
    "    var hours = date.hetHours();\n",
    "    var minutes = date.getMinutes();\n",
    "    var seconds = date.getSeconds();\n",
    "</script>"
   ]
  },
  {
   "cell_type": "markdown",
   "id": "c414563c",
   "metadata": {},
   "source": [
    "### if 조건문으로 오전과 오후 판별\n",
    "- 2. 오전과 오후 구분하기\n"
   ]
  },
  {
   "cell_type": "code",
   "execution_count": 9,
   "id": "62e43b98",
   "metadata": {},
   "outputs": [
    {
     "ename": "SyntaxError",
     "evalue": "invalid syntax (<ipython-input-9-acbcdda219c8>, line 1)",
     "output_type": "error",
     "traceback": [
      "\u001b[1;36m  File \u001b[1;32m\"<ipython-input-9-acbcdda219c8>\"\u001b[1;36m, line \u001b[1;32m1\u001b[0m\n\u001b[1;33m    <script>\u001b[0m\n\u001b[1;37m    ^\u001b[0m\n\u001b[1;31mSyntaxError\u001b[0m\u001b[1;31m:\u001b[0m invalid syntax\n"
     ]
    }
   ],
   "source": [
    "<script>\n",
    "    // 변수선언\n",
    "    var date = new Date();\n",
    "    var hours = date.getHours();\n",
    "    \n",
    "    // 조건문\n",
    "    if (hours < 12) {\n",
    "        // 표현식 \"hors <12\"가 참일 때 실행\n",
    "        alert('오전입니다.');\n",
    "    }\n",
    "    \n",
    "    if(12<= hours) {\n",
    "        // 표현식 \"12<= hours\"가 참일떄 실행\n",
    "        alert('오후입니다.');\n",
    "    }\n",
    "</script>"
   ]
  },
  {
   "cell_type": "markdown",
   "id": "67666295",
   "metadata": {},
   "source": [
    "### 조건문\n",
    "- if else 조건문\n",
    "    - 두 가지로 분명하게 나뉘는 상황에서 편리하게 사용 가능\n",
    "    - 실행 문장이 한 행이면 중괄호 생략 가능함\n",
    "    - 실행 문장이 여러 행이라면 중괄호 필요함\n",
    "    \n",
    "        - if (조건 {\n",
    "              문장 1\n",
    "        } else {\n",
    "              문장 2\n",
    "        }\n",
    "        \n",
    "### if else 조건문으로 오전과 오후 판별"
   ]
  },
  {
   "cell_type": "code",
   "execution_count": 10,
   "id": "38bc1944",
   "metadata": {},
   "outputs": [
    {
     "ename": "SyntaxError",
     "evalue": "invalid syntax (<ipython-input-10-02ec8a6b58b6>, line 1)",
     "output_type": "error",
     "traceback": [
      "\u001b[1;36m  File \u001b[1;32m\"<ipython-input-10-02ec8a6b58b6>\"\u001b[1;36m, line \u001b[1;32m1\u001b[0m\n\u001b[1;33m    <script>\u001b[0m\n\u001b[1;37m    ^\u001b[0m\n\u001b[1;31mSyntaxError\u001b[0m\u001b[1;31m:\u001b[0m invalid syntax\n"
     ]
    }
   ],
   "source": [
    "<script>\n",
    "    // 변수 선언\n",
    "    var date = new Date();\n",
    "    var hours = date.getHours();\n",
    "    \n",
    "    // 조건문\n",
    "    if (hours < 12) {\n",
    "        // 표현식 \"hours <12\" 가  참일때 실행\n",
    "        alert('오전입니다.');\n",
    "    } else {\n",
    "        // 표현식 \"hours <12\" 가 거짓일때 실행\n",
    "        alert('오후입니다.');\n",
    "    }\n",
    "</script>\n",
    "    "
   ]
  },
  {
   "cell_type": "markdown",
   "id": "824bda62",
   "metadata": {},
   "source": [
    "### 조건문\n",
    "- 중첩 조건문과 if else if 조건문\n",
    "    - if (조건){\n",
    "        if (조건){\n",
    "            문장\n",
    "        } else {\n",
    "            문장\n",
    "        }\n",
    "    } else {\n",
    "        if (조건) {\n",
    "            문장\n",
    "        } else {\n",
    "            문장\n",
    "        }\n",
    "    }\n",
    "    \n",
    "### 중첩 조건문으로 하루 일정 표현"
   ]
  },
  {
   "cell_type": "code",
   "execution_count": 11,
   "id": "a4ca7e75",
   "metadata": {},
   "outputs": [
    {
     "ename": "SyntaxError",
     "evalue": "invalid syntax (<ipython-input-11-5cdb21d23fbb>, line 1)",
     "output_type": "error",
     "traceback": [
      "\u001b[1;36m  File \u001b[1;32m\"<ipython-input-11-5cdb21d23fbb>\"\u001b[1;36m, line \u001b[1;32m1\u001b[0m\n\u001b[1;33m    <script>\u001b[0m\n\u001b[1;37m    ^\u001b[0m\n\u001b[1;31mSyntaxError\u001b[0m\u001b[1;31m:\u001b[0m invalid syntax\n"
     ]
    }
   ],
   "source": [
    "<script>\n",
    "    // Date 객체를 선언 : 현재 시간 측정\n",
    "    var date = new Date();\n",
    "    var hours = date.getHours();\n",
    "    \n",
    "    // 조건문\n",
    "    if (hours<5) {\n",
    "        alert('잠을자렴...');\n",
    "    } else if (hours <7){\n",
    "        alert('준비');\n",
    "    } else if (hours <9){\n",
    "        alert('출근');\n",
    "    } else if (hours <12){\n",
    "        alert('빈둥빈둥');\n",
    "    } else if (hours <14){\n",
    "        alert('식사');\n",
    "    } else{\n",
    "        // 여러가지 업무 수행\n",
    "    }    \n",
    "</script>"
   ]
  },
  {
   "cell_type": "markdown",
   "id": "05003185",
   "metadata": {},
   "source": [
    "## 조건문\n",
    "### 중첩 조건문의 중괄호를 생략했을 때 만드는 조건문\n",
    "- if else if 조건문\n",
    "    if (조건) {\n",
    "        문장\n",
    "    } else if (조건) {\n",
    "        문장\n",
    "    } else if (조건) {\n",
    "        문장\n",
    "    } else {\n",
    "        문장\n",
    "    }\n",
    "### if else if 조건문으로 하루 일정 표현"
   ]
  },
  {
   "cell_type": "code",
   "execution_count": 12,
   "id": "8cdde79f",
   "metadata": {},
   "outputs": [
    {
     "ename": "SyntaxError",
     "evalue": "invalid syntax (<ipython-input-12-5194be5075e7>, line 1)",
     "output_type": "error",
     "traceback": [
      "\u001b[1;36m  File \u001b[1;32m\"<ipython-input-12-5194be5075e7>\"\u001b[1;36m, line \u001b[1;32m1\u001b[0m\n\u001b[1;33m    <script>\u001b[0m\n\u001b[1;37m    ^\u001b[0m\n\u001b[1;31mSyntaxError\u001b[0m\u001b[1;31m:\u001b[0m invalid syntax\n"
     ]
    }
   ],
   "source": [
    "<script>\n",
    "    // Date 객체 선억: 현재 시간 측정\n",
    "    var date = new Date();\n",
    "    var hours = date.getHours();\n",
    "    \n",
    "    // 조건문\n",
    "    if (hours < 5) {\n",
    "        alert('잠을 자렴...');\n",
    "    } else {\n",
    "        if (hours < 7){\n",
    "            alert('준비');\n",
    "        } else {\n",
    "        if (hours < 9){\n",
    "            alert('출근');\n",
    "        } else {\n",
    "        if (hours < 12){\n",
    "            alert('빈둥빈둥');\n",
    "        } else {\n",
    "        if (hours < 14){\n",
    "            alert('식사준비');\n",
    "        } else{\n",
    "            // 여러가지 업무 수행\n",
    "        }\n",
    "    }\n",
    "    }\n",
    "    }\n",
    "    }\n",
    "</script>"
   ]
  },
  {
   "cell_type": "markdown",
   "id": "42f429b8",
   "metadata": {},
   "source": [
    "### 반복문\n",
    "- 배열\n",
    "    - 변수 여러개를 한번에 다룰 수 있는 자료형\n",
    "    - 요소 : 배열 내부에 입력된 자료 하나하나\n",
    "    - 배열 내부에 다양한 자료형을 입력 가능\n",
    "    - 배열 전체를 출력하면 요소가 순서대로 표시"
   ]
  },
  {
   "cell_type": "code",
   "execution_count": 13,
   "id": "0afe8f84",
   "metadata": {},
   "outputs": [
    {
     "ename": "SyntaxError",
     "evalue": "invalid syntax (<ipython-input-13-26097807d042>, line 1)",
     "output_type": "error",
     "traceback": [
      "\u001b[1;36m  File \u001b[1;32m\"<ipython-input-13-26097807d042>\"\u001b[1;36m, line \u001b[1;32m1\u001b[0m\n\u001b[1;33m    <script>\u001b[0m\n\u001b[1;37m    ^\u001b[0m\n\u001b[1;31mSyntaxError\u001b[0m\u001b[1;31m:\u001b[0m invalid syntax\n"
     ]
    }
   ],
   "source": [
    "<script>\n",
    "    // 변수 선언\n",
    "    var array = [273, '문자열', true, function(){},{},[32.103]];\n",
    "    alert(array);\n",
    "</script>"
   ]
  },
  {
   "cell_type": "markdown",
   "id": "e0602bcc",
   "metadata": {},
   "source": [
    "### 배열 생성과 배열 요소 접근"
   ]
  },
  {
   "cell_type": "code",
   "execution_count": 14,
   "id": "a241deb2",
   "metadata": {},
   "outputs": [
    {
     "ename": "SyntaxError",
     "evalue": "invalid syntax (<ipython-input-14-4515cf2189fd>, line 1)",
     "output_type": "error",
     "traceback": [
      "\u001b[1;36m  File \u001b[1;32m\"<ipython-input-14-4515cf2189fd>\"\u001b[1;36m, line \u001b[1;32m1\u001b[0m\n\u001b[1;33m    <script>\u001b[0m\n\u001b[1;37m    ^\u001b[0m\n\u001b[1;31mSyntaxError\u001b[0m\u001b[1;31m:\u001b[0m invalid syntax\n"
     ]
    }
   ],
   "source": [
    "<script>\n",
    "// 변수 선언\n",
    "    var array = ['가','나','다','라'];\n",
    "    \n",
    "    // 배열 요소 변경\n",
    "    array[0] = '윤';\n",
    "    // 요소 출력\n",
    "    alert(array[0]);\n",
    "    alert(array[1]);\n",
    "    alert(array[2]);\n",
    "    alert(array[3]);\n",
    "</script>"
   ]
  },
  {
   "cell_type": "markdown",
   "id": "bdfacdad",
   "metadata": {},
   "source": [
    "### 반복문\n",
    "- while 반복문\n",
    "    - 가장 기본적인 반복문\n",
    "    - if 조건문과 형식이 비슷하지만\n",
    "    - if 조건문과 달리 bool 표현식이 참이면 중괄호 안 문장을 계속 실행\n",
    "        - while (조건) {\n",
    "                문장\n",
    "            }"
   ]
  },
  {
   "cell_type": "code",
   "execution_count": 15,
   "id": "6dfff6f9",
   "metadata": {},
   "outputs": [
    {
     "ename": "SyntaxError",
     "evalue": "invalid syntax (<ipython-input-15-71111b13c6ef>, line 1)",
     "output_type": "error",
     "traceback": [
      "\u001b[1;36m  File \u001b[1;32m\"<ipython-input-15-71111b13c6ef>\"\u001b[1;36m, line \u001b[1;32m1\u001b[0m\n\u001b[1;33m    <script>\u001b[0m\n\u001b[1;37m    ^\u001b[0m\n\u001b[1;31mSyntaxError\u001b[0m\u001b[1;31m:\u001b[0m invalid syntax\n"
     ]
    }
   ],
   "source": [
    "<script>\n",
    "    // 변수 선언\n",
    "    var i = 0;\n",
    "    var array = ['가','나','다'];\n",
    "    \n",
    "    // 반복 수행, i가 배열 원소 개수인 3보다 작을때 반복\n",
    "    while (i<array.length){\n",
    "        //출력\n",
    "        alert(i+'번째 출력:'+ array[i]);\n",
    "        \n",
    "        // 탈출하려고 변수를 더합니다.\n",
    "        i++;\n",
    "    }\n",
    "</script>"
   ]
  },
  {
   "cell_type": "markdown",
   "id": "86baea9c",
   "metadata": {},
   "source": [
    "### 반복문\n",
    "- for 반복문\n",
    "    - for 반복문은 원하는 횟수만큼 반복하고 싶을 때 사용\n",
    "    - 1. 초기식을 비교\n",
    "    - 2. 조건식을 비교, 조건이 거짓이면 반복문을 종료\n",
    "    - 3. 문장 실행\n",
    "    - 4. 종결식 실행\n",
    "    - 5. 앞의 2단계로 이동\n",
    "    \n",
    "        - for (초기식;조건식;종결식) {\n",
    "            문장\n",
    "        }\n",
    "        \n",
    "        \n",
    "### for 반복문"
   ]
  },
  {
   "cell_type": "code",
   "execution_count": 16,
   "id": "35041840",
   "metadata": {},
   "outputs": [
    {
     "ename": "SyntaxError",
     "evalue": "invalid syntax (<ipython-input-16-5358da49d8cd>, line 1)",
     "output_type": "error",
     "traceback": [
      "\u001b[1;36m  File \u001b[1;32m\"<ipython-input-16-5358da49d8cd>\"\u001b[1;36m, line \u001b[1;32m1\u001b[0m\n\u001b[1;33m    <script>\u001b[0m\n\u001b[1;37m    ^\u001b[0m\n\u001b[1;31mSyntaxError\u001b[0m\u001b[1;31m:\u001b[0m invalid syntax\n"
     ]
    }
   ],
   "source": [
    "<script>\n",
    "    // 변수 선언\n",
    "    var array = ['가','나','다'];\n",
    "    \n",
    "    // 반복 수행\n",
    "    for (var i = 0; i<3; i++){\n",
    "        // 출력\n",
    "        alert(i + '번째 출력:'+ array[i])\n",
    "    }\n",
    "</script>"
   ]
  },
  {
   "cell_type": "markdown",
   "id": "796872a8",
   "metadata": {},
   "source": [
    "### for 반복문을 사용한 0부터 100까지 합 계산"
   ]
  },
  {
   "cell_type": "code",
   "execution_count": 17,
   "id": "0d07f99a",
   "metadata": {},
   "outputs": [
    {
     "ename": "SyntaxError",
     "evalue": "invalid syntax (<ipython-input-17-5b0b53d298d1>, line 1)",
     "output_type": "error",
     "traceback": [
      "\u001b[1;36m  File \u001b[1;32m\"<ipython-input-17-5b0b53d298d1>\"\u001b[1;36m, line \u001b[1;32m1\u001b[0m\n\u001b[1;33m    <script>\u001b[0m\n\u001b[1;37m    ^\u001b[0m\n\u001b[1;31mSyntaxError\u001b[0m\u001b[1;31m:\u001b[0m invalid syntax\n"
     ]
    }
   ],
   "source": [
    "<script>\n",
    "    // 변수 선언\n",
    "    var output = 0;\n",
    "    \n",
    "    // 반복 수행\n",
    "    for (var i =0; i<= 100; i++){\n",
    "        output += i;\n",
    "    }\n",
    "    \n",
    "    // 출력\n",
    "    alert(output);\n",
    "</script>"
   ]
  },
  {
   "cell_type": "markdown",
   "id": "13708634",
   "metadata": {},
   "source": [
    "## 함수\n",
    "### 선언과 호출, 실행 우선순위"
   ]
  }
 ],
 "metadata": {
  "kernelspec": {
   "display_name": "Python 3",
   "language": "python",
   "name": "python3"
  },
  "language_info": {
   "codemirror_mode": {
    "name": "ipython",
    "version": 3
   },
   "file_extension": ".py",
   "mimetype": "text/x-python",
   "name": "python",
   "nbconvert_exporter": "python",
   "pygments_lexer": "ipython3",
   "version": "3.8.8"
  }
 },
 "nbformat": 4,
 "nbformat_minor": 5
}
