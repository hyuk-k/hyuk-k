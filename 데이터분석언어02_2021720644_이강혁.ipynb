{
  "nbformat": 4,
  "nbformat_minor": 0,
  "metadata": {
    "colab": {
      "name": "데이터분석언어02_2021720644_이강혁.ipynb",
      "provenance": [],
      "collapsed_sections": [],
      "authorship_tag": "ABX9TyOkWj/yV9WBD+L8b2DKsGUQ",
      "include_colab_link": true
    },
    "kernelspec": {
      "name": "python3",
      "display_name": "Python 3"
    },
    "language_info": {
      "name": "python"
    }
  },
  "cells": [
    {
      "cell_type": "markdown",
      "metadata": {
        "id": "view-in-github",
        "colab_type": "text"
      },
      "source": [
        "<a href=\"https://colab.research.google.com/github/hyuk-k/hyuk-k/blob/main/%EB%8D%B0%EC%9D%B4%ED%84%B0%EB%B6%84%EC%84%9D%EC%96%B8%EC%96%B402_2021720644_%EC%9D%B4%EA%B0%95%ED%98%81.ipynb\" target=\"_parent\"><img src=\"https://colab.research.google.com/assets/colab-badge.svg\" alt=\"Open In Colab\"/></a>"
      ]
    },
    {
      "cell_type": "markdown",
      "metadata": {
        "id": "aI4jX4qSjCzG"
      },
      "source": [
        "# 데이터분석언어_ 3주차(2021.09.14)\n",
        "# 2021720644 이강혁\n",
        "## 타입\n",
        "### 수치형"
      ]
    },
    {
      "cell_type": "code",
      "metadata": {
        "colab": {
          "base_uri": "https://localhost:8080/"
        },
        "id": "8dnn8ksiBcKg",
        "outputId": "630daa8f-3ccc-4a7e-bc66-1cc618b1b398"
      },
      "source": [
        "a = 123456789\n",
        "print(a)\n",
        "print(2**100)"
      ],
      "execution_count": 2,
      "outputs": [
        {
          "output_type": "stream",
          "name": "stdout",
          "text": [
            "123456789\n",
            "1267650600228229401496703205376\n"
          ]
        }
      ]
    },
    {
      "cell_type": "code",
      "metadata": {
        "colab": {
          "base_uri": "https://localhost:8080/"
        },
        "id": "6T-SYRR8BmgI",
        "outputId": "5ad749f4-6d5e-4baf-952a-437879524da9"
      },
      "source": [
        "a = 0x1a # 16진수\n",
        "print(a) "
      ],
      "execution_count": 3,
      "outputs": [
        {
          "output_type": "stream",
          "name": "stdout",
          "text": [
            "26\n"
          ]
        }
      ]
    },
    {
      "cell_type": "code",
      "metadata": {
        "colab": {
          "base_uri": "https://localhost:8080/"
        },
        "id": "FGdRGAiUBqEA",
        "outputId": "392e9097-7b33-4898-fe8e-f95e364fdc2d"
      },
      "source": [
        "a = 0b1101 # 2진수\n",
        "print(a)"
      ],
      "execution_count": 4,
      "outputs": [
        {
          "output_type": "stream",
          "name": "stdout",
          "text": [
            "13\n"
          ]
        }
      ]
    },
    {
      "cell_type": "code",
      "metadata": {
        "colab": {
          "base_uri": "https://localhost:8080/"
        },
        "id": "zs4tKdsLBt5A",
        "outputId": "72fbf15d-ab99-4016-a027-d1babe3a1619"
      },
      "source": [
        "print(hex(26)) # 형변환 (16진수)"
      ],
      "execution_count": 5,
      "outputs": [
        {
          "output_type": "stream",
          "name": "stdout",
          "text": [
            "0x1a\n"
          ]
        }
      ]
    },
    {
      "cell_type": "code",
      "metadata": {
        "colab": {
          "base_uri": "https://localhost:8080/"
        },
        "id": "MVZSW48iCZbg",
        "outputId": "5d1f5d87-7019-443e-f4f1-e52af1cee4c8"
      },
      "source": [
        "print(oct(26)) # 형변환 (8진수)"
      ],
      "execution_count": 6,
      "outputs": [
        {
          "output_type": "stream",
          "name": "stdout",
          "text": [
            "0o32\n"
          ]
        }
      ]
    },
    {
      "cell_type": "code",
      "metadata": {
        "colab": {
          "base_uri": "https://localhost:8080/"
        },
        "id": "AlCboYWhCa_Q",
        "outputId": "abe2f44c-1311-4fb8-f327-f12468d020e9"
      },
      "source": [
        "print(bin(13)) # 형변환 (2진수)"
      ],
      "execution_count": 7,
      "outputs": [
        {
          "output_type": "stream",
          "name": "stdout",
          "text": [
            "0b1101\n"
          ]
        }
      ]
    },
    {
      "cell_type": "markdown",
      "metadata": {
        "id": "mrhB6wQCEFeb"
      },
      "source": [
        "### 수치형\n",
        "- 정수형\n",
        "  - 가장 간단한 수치형\n",
        "  - 소수점 이하 값은 표현할 수 없음\n",
        "  - 10진수 아닌 정수는 앞에 접두 붙여 진법 지정, 표시\n",
        "- 실수형\n",
        "  - 소수점 이하 정밀한 값 표현\n",
        "  - 아주 크거나 작은 값은 부동 소수점 방식으로 표기\n",
        "    - 가수E지수\n",
        "      - 9조 4600억 = 9.46e12\n",
        "    - 숫자 짧아지고 비교에도 용이함\n",
        "- 복소수형\n",
        "  - 실수부+허수부j\n",
        "    - 알파벳j 접미가 복소수임을 나타냄\n",
        "      - a = 1+2j\n",
        "      - b = 3+4j\n",
        "      - print(a+b)\n",
        "      - (4+6j)"
      ]
    },
    {
      "cell_type": "code",
      "metadata": {
        "colab": {
          "base_uri": "https://localhost:8080/"
        },
        "id": "mssH2Uy9DPun",
        "outputId": "991b3051-592b-4930-8e7a-6503b1c0a0a9"
      },
      "source": [
        "67.5\n",
        "89.75\n",
        "a = 9.46e12\n",
        "print(a)"
      ],
      "execution_count": 9,
      "outputs": [
        {
          "output_type": "stream",
          "name": "stdout",
          "text": [
            "9460000000000.0\n"
          ]
        }
      ]
    },
    {
      "cell_type": "code",
      "metadata": {
        "colab": {
          "base_uri": "https://localhost:8080/"
        },
        "id": "2gEURR4GBjHx",
        "outputId": "c30c080a-6434-460b-9194-edbc51b6d76f"
      },
      "source": [
        "a = 1+2j\n",
        "b = 3+4j\n",
        "print(a+b)"
      ],
      "execution_count": 11,
      "outputs": [
        {
          "output_type": "stream",
          "name": "stdout",
          "text": [
            "(4+6j)\n"
          ]
        }
      ]
    },
    {
      "cell_type": "markdown",
      "metadata": {
        "id": "kIdNnnI2GCeY"
      },
      "source": [
        "### 문자열\n",
        "- 일련의 문자를 따옴표로 감싸 나열한 것\n",
        "- 각종 문자, 기호, 숫자 등 포함 가능\n",
        "- 따옴표는 따옴표 안에 적을 수 없음\n",
        "- 한 문자열에 두 따옴표 섞어 사용할 수 없음"
      ]
    },
    {
      "cell_type": "code",
      "metadata": {
        "colab": {
          "base_uri": "https://localhost:8080/"
        },
        "id": "roKfBLU3FIGW",
        "outputId": "529cff5b-159a-4583-f4a3-e0ecf4f7af88"
      },
      "source": [
        "a = \"Korea 서울 1234\"\n",
        "print(a)"
      ],
      "execution_count": 12,
      "outputs": [
        {
          "output_type": "stream",
          "name": "stdout",
          "text": [
            "Korea 서울 1234\n"
          ]
        }
      ]
    },
    {
      "cell_type": "code",
      "metadata": {
        "colab": {
          "base_uri": "https://localhost:8080/"
        },
        "id": "vwTRmIN7FM3G",
        "outputId": "dcccc868-b570-4626-a388-f252fc7129f0"
      },
      "source": [
        "a = 'I Say \"Help\" to you'\n",
        "print(a)"
      ],
      "execution_count": 16,
      "outputs": [
        {
          "output_type": "stream",
          "name": "stdout",
          "text": [
            "I Say \"Help\" to you\n"
          ]
        }
      ]
    },
    {
      "cell_type": "code",
      "metadata": {
        "id": "QEEKr7mPHWT1"
      },
      "source": [
        "# a = \"I Say \"Help\" to you\"  ## 오류 발생\n",
        "# print(a)"
      ],
      "execution_count": 18,
      "outputs": []
    },
    {
      "cell_type": "code",
      "metadata": {
        "id": "zbwu0msnivKf",
        "colab": {
          "base_uri": "https://localhost:8080/"
        },
        "outputId": "cdf79c73-d737-4bb2-ab8e-e0bc5dd85c17"
      },
      "source": [
        "a = \"I Say \\\"help\\\" to you\"\n",
        "print(a)"
      ],
      "execution_count": 15,
      "outputs": [
        {
          "output_type": "stream",
          "name": "stdout",
          "text": [
            "I Say \"help\" to you\n"
          ]
        }
      ]
    },
    {
      "cell_type": "markdown",
      "metadata": {
        "id": "cGE5vKn2IPqg"
      },
      "source": [
        "### 확장열"
      ]
    },
    {
      "cell_type": "code",
      "metadata": {
        "colab": {
          "base_uri": "https://localhost:8080/"
        },
        "id": "qoyMRAO7H2rv",
        "outputId": "7b91c15b-9153-492f-c1bd-6bb6240e17aa"
      },
      "source": [
        "a = \"first\\nsecond\"\n",
        "print(a)"
      ],
      "execution_count": 22,
      "outputs": [
        {
          "output_type": "stream",
          "name": "stdout",
          "text": [
            "first\n",
            "second\n"
          ]
        }
      ]
    },
    {
      "cell_type": "code",
      "metadata": {
        "colab": {
          "base_uri": "https://localhost:8080/"
        },
        "id": "_j17RMQ0GmCZ",
        "outputId": "4c107f6e-09ae-42e5-eae7-f2a6835a71ed"
      },
      "source": [
        "a = \"first\\tsecond\"\n",
        "print(a)"
      ],
      "execution_count": 20,
      "outputs": [
        {
          "output_type": "stream",
          "name": "stdout",
          "text": [
            "first\tsecond\n"
          ]
        }
      ]
    },
    {
      "cell_type": "code",
      "metadata": {
        "colab": {
          "base_uri": "https://localhost:8080/"
        },
        "id": "NyHeZ5NlHxH9",
        "outputId": "60a162f4-c06a-4c5d-f493-1a6e7d50f780"
      },
      "source": [
        "a = \"first\\\"second\"\n",
        "print(a)"
      ],
      "execution_count": 21,
      "outputs": [
        {
          "output_type": "stream",
          "name": "stdout",
          "text": [
            "first\"second\n"
          ]
        }
      ]
    },
    {
      "cell_type": "code",
      "metadata": {
        "colab": {
          "base_uri": "https://localhost:8080/"
        },
        "id": "VJVI2VlAH0U9",
        "outputId": "f6fdfcdf-270b-4e65-a539-8eea374c0585"
      },
      "source": [
        "a = \"first\\\\second\"\n",
        "print(a)"
      ],
      "execution_count": 23,
      "outputs": [
        {
          "output_type": "stream",
          "name": "stdout",
          "text": [
            "first\\second\n"
          ]
        }
      ]
    },
    {
      "cell_type": "code",
      "metadata": {
        "colab": {
          "base_uri": "https://localhost:8080/"
        },
        "id": "zVYlAFYEH73W",
        "outputId": "94c297b0-5655-4e60-a816-504a3e841290"
      },
      "source": [
        "a = \"old\\nnew\"\n",
        "print(a)"
      ],
      "execution_count": 24,
      "outputs": [
        {
          "output_type": "stream",
          "name": "stdout",
          "text": [
            "old\n",
            "new\n"
          ]
        }
      ]
    },
    {
      "cell_type": "code",
      "metadata": {
        "colab": {
          "base_uri": "https://localhost:8080/"
        },
        "id": "-Lmvj3f9IYp-",
        "outputId": "ad5aea8b-6a07-4b14-eaf4-9e58015b9a39"
      },
      "source": [
        "a = \"old\\new\"\n",
        "print(a)"
      ],
      "execution_count": 25,
      "outputs": [
        {
          "output_type": "stream",
          "name": "stdout",
          "text": [
            "old\n",
            "ew\n"
          ]
        }
      ]
    },
    {
      "cell_type": "code",
      "metadata": {
        "colab": {
          "base_uri": "https://localhost:8080/"
        },
        "id": "Xtx2GV27Ib3m",
        "outputId": "705c08a3-8f98-49ae-ede9-1e9f765102af"
      },
      "source": [
        "a = \"old\\nnew\"\n",
        "print(a)"
      ],
      "execution_count": 26,
      "outputs": [
        {
          "output_type": "stream",
          "name": "stdout",
          "text": [
            "old\n",
            "new\n"
          ]
        }
      ]
    },
    {
      "cell_type": "markdown",
      "metadata": {
        "id": "McUvQkt7ITcR"
      },
      "source": [
        "### 긴 문자열\n",
        "- 따옴표 3개 연속으로 사용하여 긴 문자열"
      ]
    },
    {
      "cell_type": "code",
      "metadata": {
        "colab": {
          "base_uri": "https://localhost:8080/"
        },
        "id": "AFPCqfQsIqHs",
        "outputId": "fdeef55c-0afc-4e29-dd36-4ebd86c2bb47"
      },
      "source": [
        "s = '''강나루 건너서 밀밭 길을 구름에 달 가듯이 가는 나그네\n",
        "길은 외줄기 남도 삼백리 술 익는 마을마다 타는 저녘놀\n",
        "구름에 달 가듯이 가는 나그네'''\n",
        "print(s)"
      ],
      "execution_count": 27,
      "outputs": [
        {
          "output_type": "stream",
          "name": "stdout",
          "text": [
            "강나루 건너서 밀밭 길을 구름에 달 가듯이 가는 나그네\n",
            "길은 외줄기 남도 삼백리 술 익는 마을마다 타는 저녘놀\n",
            "구름에 달 가듯이 가는 나그네\n"
          ]
        }
      ]
    },
    {
      "cell_type": "code",
      "metadata": {
        "colab": {
          "base_uri": "https://localhost:8080/"
        },
        "id": "RcgzN7vbI6Yl",
        "outputId": "017f0b99-7b60-43b5-b7f1-e41f88014873"
      },
      "source": [
        "s = \"강나루 건너서 밀밭 길을 구름에 달 가듯이 가는 나그네 \\\n",
        "길은 외줄기 남도 삼백리 술 익는 마을마다 타는 저녘놀 \\\n",
        "구름에 달 가듯이 가는 나그네\"\n",
        "print(s)"
      ],
      "execution_count": 28,
      "outputs": [
        {
          "output_type": "stream",
          "name": "stdout",
          "text": [
            "강나루 건너서 밀밭 길을 구름에 달 가듯이 가는 나그네길은 외줄기 남도 삼백리 술 익는 마을마다 타는 저녘놀구름에 달 가듯이 가는 나그네\n"
          ]
        }
      ]
    },
    {
      "cell_type": "code",
      "metadata": {
        "colab": {
          "base_uri": "https://localhost:8080/"
        },
        "id": "IMKnD3mSJAf1",
        "outputId": "c3323c79-464c-414a-c576-afcdc8027f64"
      },
      "source": [
        "totalsec = 365 *24 * \\\n",
        "           60 * 60\n",
        "print(totalsec)"
      ],
      "execution_count": 33,
      "outputs": [
        {
          "output_type": "stream",
          "name": "stdout",
          "text": [
            "31536000\n"
          ]
        }
      ]
    },
    {
      "cell_type": "code",
      "metadata": {
        "colab": {
          "base_uri": "https://localhost:8080/"
        },
        "id": "DcjpbtQdJgZM",
        "outputId": "7f9e0813-4f80-4608-87d0-14236124bf0b"
      },
      "source": [
        "s = \"korea \" \"japan \" \"2002\"\n",
        "print(s)"
      ],
      "execution_count": 34,
      "outputs": [
        {
          "output_type": "stream",
          "name": "stdout",
          "text": [
            "korea japan 2002\n"
          ]
        }
      ]
    },
    {
      "cell_type": "code",
      "metadata": {
        "colab": {
          "base_uri": "https://localhost:8080/"
        },
        "id": "GCPAKOfJJnOE",
        "outputId": "1c8553d7-2d85-4cd0-fe67-5f1aaff0c389"
      },
      "source": [
        "s = \"korea japan 2002\" \n",
        "print(s)"
      ],
      "execution_count": 36,
      "outputs": [
        {
          "output_type": "stream",
          "name": "stdout",
          "text": [
            "korea japan 2002\n"
          ]
        }
      ]
    },
    {
      "cell_type": "code",
      "metadata": {
        "colab": {
          "base_uri": "https://localhost:8080/"
        },
        "id": "59GbrLXGJx6t",
        "outputId": "51f4fffa-00fd-4af2-b8f9-021938f4477d"
      },
      "source": [
        "s = (\"korea \"\n",
        "     \"japan \"\n",
        "     \"2002\")\n",
        "print(s)"
      ],
      "execution_count": 38,
      "outputs": [
        {
          "output_type": "stream",
          "name": "stdout",
          "text": [
            "korea japan 2002\n"
          ]
        }
      ]
    },
    {
      "cell_type": "code",
      "metadata": {
        "colab": {
          "base_uri": "https://localhost:8080/"
        },
        "id": "_mqY1bvAJ8Nd",
        "outputId": "a48224f0-dcf3-4c10-fa08-d50bb87f45b2"
      },
      "source": [
        "print(ord('A')) ## 아스키 코드 값\n",
        "print((98))\n",
        "print(98)"
      ],
      "execution_count": 40,
      "outputs": [
        {
          "output_type": "stream",
          "name": "stdout",
          "text": [
            "65\n",
            "98\n",
            "98\n"
          ]
        }
      ]
    },
    {
      "cell_type": "code",
      "metadata": {
        "colab": {
          "base_uri": "https://localhost:8080/"
        },
        "id": "tLJPLEjpKHNN",
        "outputId": "f8a4c88b-4818-4f88-9e0f-043b862ba475"
      },
      "source": [
        "for c in range(ord('A'), ord('Z') + 1): # 초기값 65, 종료값 90 +1 (+1을 해주지 않으면 n-1이기에 89까지 인식)\n",
        "  print(chr(c), end = ' ') # chr 문자로 변경, end 옵션 , 프린트는 개행되는 속성이지만 end를 넣어서 이어서 출력"
      ],
      "execution_count": 45,
      "outputs": [
        {
          "output_type": "stream",
          "name": "stdout",
          "text": [
            "A B C D E F G H I J K L M N O P Q R S T U V W X Y Z "
          ]
        }
      ]
    },
    {
      "cell_type": "code",
      "metadata": {
        "colab": {
          "base_uri": "https://localhost:8080/"
        },
        "id": "_wYxV3oOHwX1",
        "outputId": "da06fc2b-473c-4c62-dc8b-f6a3ffab4f30"
      },
      "source": [
        "a = 5\n",
        "b = a == 5\n",
        "print(b)"
      ],
      "execution_count": 46,
      "outputs": [
        {
          "output_type": "stream",
          "name": "stdout",
          "text": [
            "True\n"
          ]
        }
      ]
    },
    {
      "cell_type": "code",
      "metadata": {
        "colab": {
          "base_uri": "https://localhost:8080/"
        },
        "id": "8lw9_nqnMCtb",
        "outputId": "9567ae2c-eaf8-45c2-cdcd-d5900d506a31"
      },
      "source": [
        "a = 5\n",
        "if a ==5:\n",
        "  print(\"a는 5입니다.\")"
      ],
      "execution_count": 48,
      "outputs": [
        {
          "output_type": "stream",
          "name": "stdout",
          "text": [
            "a는 5입니다.\n"
          ]
        }
      ]
    },
    {
      "cell_type": "code",
      "metadata": {
        "colab": {
          "base_uri": "https://localhost:8080/"
        },
        "id": "BNo-audiMcSj",
        "outputId": "cf5dcc5f-1826-4225-ece8-a4893bee380f"
      },
      "source": [
        "a = None\n",
        "print(a)"
      ],
      "execution_count": 49,
      "outputs": [
        {
          "output_type": "stream",
          "name": "stdout",
          "text": [
            "None\n"
          ]
        }
      ]
    },
    {
      "cell_type": "code",
      "metadata": {
        "colab": {
          "base_uri": "https://localhost:8080/"
        },
        "id": "eXzRqF-IMyvr",
        "outputId": "45381753-9729-4227-a6e1-cc14b6bcd79c"
      },
      "source": [
        "member = ['손오공','저팔계','사오정','삼장법사']\n",
        "print(member)"
      ],
      "execution_count": 50,
      "outputs": [
        {
          "output_type": "stream",
          "name": "stdout",
          "text": [
            "['손오공', '저팔계', '사오정', '삼장법사']\n"
          ]
        }
      ]
    },
    {
      "cell_type": "code",
      "metadata": {
        "colab": {
          "base_uri": "https://localhost:8080/"
        },
        "id": "sdnyX6MHM5kz",
        "outputId": "0631f810-0e6a-4250-ea6f-55f3f328032f"
      },
      "source": [
        "member = ['손오공','저팔계','사오정','삼장법사']\n",
        "for m in member:\n",
        "  print(m, \" 출동\")"
      ],
      "execution_count": 51,
      "outputs": [
        {
          "output_type": "stream",
          "name": "stdout",
          "text": [
            "손오공  출동\n",
            "저팔계  출동\n",
            "사오정  출동\n",
            "삼장법사  출동\n"
          ]
        }
      ]
    }
  ]
}